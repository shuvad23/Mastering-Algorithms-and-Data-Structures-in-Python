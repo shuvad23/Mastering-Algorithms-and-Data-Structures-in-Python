{
  "nbformat": 4,
  "nbformat_minor": 0,
  "metadata": {
    "colab": {
      "provenance": [],
      "authorship_tag": "ABX9TyMSmG0+NO+7GsRpxqC93ZFE",
      "include_colab_link": true
    },
    "kernelspec": {
      "name": "python3",
      "display_name": "Python 3"
    },
    "language_info": {
      "name": "python"
    }
  },
  "cells": [
    {
      "cell_type": "markdown",
      "metadata": {
        "id": "view-in-github",
        "colab_type": "text"
      },
      "source": [
        "<a href=\"https://colab.research.google.com/github/shuvad23/Mastering-Algorithms-and-Data-Structures-in-Python/blob/main/Leetcode_150.ipynb\" target=\"_parent\"><img src=\"https://colab.research.google.com/assets/colab-badge.svg\" alt=\"Open In Colab\"/></a>"
      ]
    },
    {
      "cell_type": "markdown",
      "source": [
        "### Kadane's Algorithm"
      ],
      "metadata": {
        "id": "bbgn6v-dTn4w"
      }
    },
    {
      "cell_type": "code",
      "execution_count": null,
      "metadata": {
        "colab": {
          "base_uri": "https://localhost:8080/"
        },
        "id": "-p9aYm1tTiUt",
        "outputId": "1dbb7666-b848-4cb5-98e3-11a6614830fb"
      },
      "outputs": [
        {
          "output_type": "stream",
          "name": "stdout",
          "text": [
            "(6, (2, 8))\n",
            "6\n"
          ]
        }
      ],
      "source": [
        "# 53. Maximum Subarray\n",
        "def maximum_subarray(nums):\n",
        "  current_sum=0\n",
        "  max_sum=float('-inf')\n",
        "  start=0\n",
        "  end=0\n",
        "  for i in range (len(nums)):\n",
        "    current_sum+=nums[i]\n",
        "    max_sum=max(current_sum,max_sum)\n",
        "    end=i\n",
        "    if(current_sum<0):\n",
        "      current_sum=0\n",
        "      start=i\n",
        "  return max_sum,(start,end)\n",
        "arr=[-2,1,-3,4,-1,2,1,-5,4]\n",
        "print(maximum_subarray(arr))\n",
        "\n",
        "\n",
        "\n",
        "def maximum_subarray(nums):\n",
        "  current_sum=0\n",
        "  max_sum=float('-inf')\n",
        "  for i in range (len(nums)):\n",
        "    current_sum+=nums[i]\n",
        "    max_sum=max(current_sum,max_sum)\n",
        "    if(current_sum<0):\n",
        "      current_sum=0\n",
        "  return max_sum\n",
        "arr=[-2,1,-3,4,-1,2,1,-5,4]\n",
        "print(maximum_subarray(arr))"
      ]
    },
    {
      "cell_type": "markdown",
      "source": [
        ">Note:\n",
        "\n",
        "1. Circular_max_subarray=total_sum_of_array - min_subarray(Kadane's Algorithm)\n",
        "2. max_subarray=Kadane's Algorithm"
      ],
      "metadata": {
        "id": "TQXJKQH2OKmf"
      }
    },
    {
      "cell_type": "code",
      "source": [
        "# 918. Maximum Sum Circular Subarray\n",
        "def maximum_subarr(nums):\n",
        "  current_sum=0\n",
        "  max_sum=float('-inf')\n",
        "  for i in range (len(nums)):\n",
        "    current_sum+=nums[i]\n",
        "    max_sum=max(current_sum,max_sum)\n",
        "    if(current_sum<0):\n",
        "      current_sum=0\n",
        "  return max_sum\n",
        "def minimum_subarr(nums):\n",
        "  current_sum=0\n",
        "  min_sum=float('inf')\n",
        "  for i in range (len(nums)):\n",
        "    current_sum+=nums[i]\n",
        "    min_sum=min(current_sum,min_sum)\n",
        "    if(current_sum>0):\n",
        "      current_sum=0\n",
        "  return min_sum\n",
        "def maximum_circular_subarray(nums):\n",
        "  max_sum=maximum_subarr(nums)\n",
        "  min_sum=minimum_subarr(nums)\n",
        "  total_sum=sum(nums)\n",
        "  if(min_sum==total_sum):\n",
        "    return max_sum\n",
        "  return max(max_sum,total_sum-min_sum)\n",
        "arr=[-3,-2,-3]\n",
        "print(maximum_circular_subarray(arr))"
      ],
      "metadata": {
        "colab": {
          "base_uri": "https://localhost:8080/"
        },
        "id": "bYh8JfBmXvi5",
        "outputId": "d4c25a0e-97ab-4933-887e-489419861739"
      },
      "execution_count": null,
      "outputs": [
        {
          "output_type": "stream",
          "name": "stdout",
          "text": [
            "-2\n"
          ]
        }
      ]
    },
    {
      "cell_type": "markdown",
      "source": [
        "## Other's Problems in Leetcode"
      ],
      "metadata": {
        "id": "RYsgCAp6XLes"
      }
    },
    {
      "cell_type": "code",
      "source": [
        "# 509. Fibonacci Number\n",
        "def fibonacci(n,memo={0:0,1:1}):\n",
        "  if n in memo:\n",
        "    return memo[n]\n",
        "  else:\n",
        "    memo[n]=fibonacci(n-1,memo)+fibonacci(n-2,memo)\n",
        "    return memo[n]\n",
        "print(fibonacci(5))\n",
        "\n",
        "\n",
        "def fibonacci_01(n,memo={0:0,1:1}):\n",
        "  if n not in memo:\n",
        "    memo[n]=fibonacci_01(n-1,memo)+fibonacci_01(n-2,memo)\n",
        "  return memo[n]\n",
        "print(fibonacci_01(5))"
      ],
      "metadata": {
        "colab": {
          "base_uri": "https://localhost:8080/"
        },
        "id": "L-OHRD2OpIiJ",
        "outputId": "8d3416f2-6d51-4466-9e5d-57cc1542f3e0"
      },
      "execution_count": null,
      "outputs": [
        {
          "output_type": "stream",
          "name": "stdout",
          "text": [
            "5\n",
            "5\n"
          ]
        }
      ]
    },
    {
      "cell_type": "code",
      "source": [
        "# 1752. Check if Array Is Sorted and Rotated\n",
        "def issorted_orRotated(arr):\n",
        "  count=0\n",
        "  n=len(arr)\n",
        "  for i in range(n):\n",
        "    if(arr[i]>arr[(i+1)%n]):\n",
        "      count+=1\n",
        "      if(count>1):\n",
        "        return False\n",
        "  return True\n",
        "arr=[5,5,6,6,6,9,1,2]\n",
        "print(issorted_orRotated(arr))"
      ],
      "metadata": {
        "colab": {
          "base_uri": "https://localhost:8080/"
        },
        "id": "DlgPtOGOh59K",
        "outputId": "85c5794d-f9e0-4f7e-91a0-f2f20789eeb1"
      },
      "execution_count": null,
      "outputs": [
        {
          "output_type": "stream",
          "name": "stdout",
          "text": [
            "True\n"
          ]
        }
      ]
    },
    {
      "cell_type": "code",
      "source": [
        "# 704. Binary Search\n",
        "def binary_search(arr,target):\n",
        "  low=0\n",
        "  high=len(arr)\n",
        "  while(high-low)>1:\n",
        "    mid=low+(high-low)//2\n",
        "    if(target==arr[mid]):\n",
        "      return mid\n",
        "    elif(target<arr[mid]):\n",
        "      high=mid\n",
        "    else:\n",
        "      low=mid\n",
        "  return low if arr[low]==target else -1\n",
        "\n",
        "\n",
        "def binary_search_recursive(arr,target,low,high):\n",
        "  if(low<high):\n",
        "    mid=low+(high-low)//2\n",
        "    if(arr[mid]==target):\n",
        "      return mid\n",
        "    elif(target<arr[mid]):\n",
        "      return binary_search_recursive(arr,target,low,mid)\n",
        "    else:\n",
        "      return binary_search_recursive(arr,target,mid,high)\n",
        "  return -1\n",
        "arr=[1,2,3,4,5,6,7]\n",
        "print(binary_search(arr,4))\n",
        "print(binary_search_recursive(arr,4,0,len(arr)))"
      ],
      "metadata": {
        "colab": {
          "base_uri": "https://localhost:8080/"
        },
        "id": "09T91qyonKYo",
        "outputId": "0dd3bf0e-6310-4642-98bb-8e73e4ba933e"
      },
      "execution_count": null,
      "outputs": [
        {
          "output_type": "stream",
          "name": "stdout",
          "text": [
            "3\n",
            "3\n"
          ]
        }
      ]
    },
    {
      "cell_type": "code",
      "source": [
        "# 78. Subsets\n",
        "def subset(set_list,ans,low,result):\n",
        "  if(low==len(set_list)):\n",
        "    return result.append(ans[:])\n",
        "\n",
        "  ans.append(set_list[low])\n",
        "  subset(set_list,ans,low+1,result)\n",
        "  ans.pop()\n",
        "  subset(set_list,ans,low+1,result)\n",
        "  return result\n",
        "\n",
        "set_list=[1,2,3]\n",
        "result=[]\n",
        "ans=[]\n",
        "print(subset(set_list,ans,0,result))"
      ],
      "metadata": {
        "colab": {
          "base_uri": "https://localhost:8080/"
        },
        "id": "_Xw6Phyg8Xf-",
        "outputId": "0ad15874-8070-42ef-bea3-866c16b2394b"
      },
      "execution_count": null,
      "outputs": [
        {
          "output_type": "stream",
          "name": "stdout",
          "text": [
            "[[1, 2, 3], [1, 2], [1, 3], [1], [2, 3], [2], [3], []]\n"
          ]
        }
      ]
    },
    {
      "cell_type": "code",
      "source": [
        "# 90. Subsets II\n",
        "def subset_2(set_list,ans,low,result):\n",
        "  if(low==len(set_list)):\n",
        "    return result.append(ans[:])\n",
        "  ans.append(set_list[low])\n",
        "  subset_2(set_list,ans,low+1,result)\n",
        "  ans.pop()\n",
        "  temp_idx=low+1\n",
        "  while(temp_idx<len(set_list) and set_list[temp_idx-1]==set_list[temp_idx]):\n",
        "    temp_idx+=1\n",
        "  subset_2(set_list,ans,temp_idx,result)\n",
        "  return result\n",
        "\n",
        "set_list=[1,2,2]\n",
        "result=[]\n",
        "ans=[]\n",
        "print(subset_2(sorted(set_list),ans,0,result))"
      ],
      "metadata": {
        "colab": {
          "base_uri": "https://localhost:8080/"
        },
        "id": "xeFITfwFQbWB",
        "outputId": "70b0fd9b-a807-4e16-c35b-13d005510d8e"
      },
      "execution_count": null,
      "outputs": [
        {
          "output_type": "stream",
          "name": "stdout",
          "text": [
            "[[1, 2, 2], [1, 2], [1], [2, 2], [2], []]\n"
          ]
        }
      ]
    },
    {
      "cell_type": "code",
      "source": [
        "# 46. Permutations\n",
        "def permutations(arr,i,ans):\n",
        "  if(i==len(arr)):\n",
        "    return ans.append(arr[:])\n",
        "  for j in range(i,len(arr)):\n",
        "    arr[i],arr[j]=arr[j],arr[i]\n",
        "    permutations(arr,i+1,ans)\n",
        "    arr[i],arr[j]=arr[j],arr[i]\n",
        "  return ans\n",
        "\n",
        "arr=[1,2,3,4]\n",
        "permutations(arr,0,[])"
      ],
      "metadata": {
        "colab": {
          "base_uri": "https://localhost:8080/"
        },
        "id": "qvOFzIBeFGjr",
        "outputId": "be8622d5-cd2c-4b51-e235-881e645cedae"
      },
      "execution_count": null,
      "outputs": [
        {
          "output_type": "execute_result",
          "data": {
            "text/plain": [
              "[[1, 2, 3, 4],\n",
              " [1, 2, 4, 3],\n",
              " [1, 3, 2, 4],\n",
              " [1, 3, 4, 2],\n",
              " [1, 4, 3, 2],\n",
              " [1, 4, 2, 3],\n",
              " [2, 1, 3, 4],\n",
              " [2, 1, 4, 3],\n",
              " [2, 3, 1, 4],\n",
              " [2, 3, 4, 1],\n",
              " [2, 4, 3, 1],\n",
              " [2, 4, 1, 3],\n",
              " [3, 2, 1, 4],\n",
              " [3, 2, 4, 1],\n",
              " [3, 1, 2, 4],\n",
              " [3, 1, 4, 2],\n",
              " [3, 4, 1, 2],\n",
              " [3, 4, 2, 1],\n",
              " [4, 2, 3, 1],\n",
              " [4, 2, 1, 3],\n",
              " [4, 3, 2, 1],\n",
              " [4, 3, 1, 2],\n",
              " [4, 1, 3, 2],\n",
              " [4, 1, 2, 3]]"
            ]
          },
          "metadata": {},
          "execution_count": 38
        }
      ]
    },
    {
      "cell_type": "code",
      "source": [
        "def string_permutation(string_value,i,ans):\n",
        "  if(i==len(string_value)):\n",
        "    return ans.append(''.join(string_value))\n",
        "  for j in range(i,len(string_value)):\n",
        "    string_value[i],string_value[j]=string_value[j],string_value[i]\n",
        "    string_permutation(string_value,i+1,ans)\n",
        "    string_value[i],string_value[j]=string_value[j],string_value[i]\n",
        "  return ans\n",
        "string_value='abc'\n",
        "print(string_permutation(list(string_value),0,[]))"
      ],
      "metadata": {
        "colab": {
          "base_uri": "https://localhost:8080/"
        },
        "id": "ednxfyAk6Fp4",
        "outputId": "5d82ab39-08b4-4981-e07b-9e79043f524e"
      },
      "execution_count": null,
      "outputs": [
        {
          "output_type": "stream",
          "name": "stdout",
          "text": [
            "['abc', 'acb', 'bac', 'bca', 'cba', 'cab']\n"
          ]
        }
      ]
    },
    {
      "cell_type": "code",
      "source": [
        "# 51. N-Queens\n",
        "def isSafe(arr,row,col,n):\n",
        "  for i in range(n):\n",
        "    if(arr[row][i]=='Q'):\n",
        "      return False\n",
        "    if(arr[i][col]=='Q'):\n",
        "      return False\n",
        "    if(row-i>=0 and col-i>=0 and arr[row-i][col-i]=='Q'):\n",
        "      return False\n",
        "    if(row-i>=0 and col+i<len(arr) and arr[row-i][col+i]=='Q'):\n",
        "      return False\n",
        "  return True\n",
        "\n",
        "def n_queens(arr,row,n,ans):\n",
        "  if(row==n):\n",
        "    return ans.append([\"\".join(r[:]) for r in arr])\n",
        "  for col in range(n):\n",
        "    if isSafe(arr,row,col,n):\n",
        "      arr[row][col]='Q'\n",
        "      n_queens(arr,row+1,n,ans)\n",
        "      arr[row][col]='.'\n",
        "  return ans\n",
        "n=4\n",
        "board=[['.']*n for i in range(n)]\n",
        "ans=[]\n",
        "print(n_queens(board,0,n,ans))\n"
      ],
      "metadata": {
        "colab": {
          "base_uri": "https://localhost:8080/"
        },
        "id": "PmRXyI5k6eNs",
        "outputId": "d816bdaa-8d14-424d-d40e-0b45bf4b8388"
      },
      "execution_count": null,
      "outputs": [
        {
          "output_type": "stream",
          "name": "stdout",
          "text": [
            "[['.Q..', '...Q', 'Q...', '..Q.'], ['..Q.', 'Q...', '...Q', '.Q..']]\n"
          ]
        }
      ]
    },
    {
      "cell_type": "code",
      "source": [
        "# 51. N-Queens (optimized)\n",
        "def N_queens_solve(row,cols,left_diag,right_diag,board,ans):\n",
        "  if(row==n):\n",
        "    return ans.append([''.join(r) for r in board])\n",
        "  for col in range(n):\n",
        "    if (col in cols or (row-col) in left_diag or (row+col) in right_diag):\n",
        "      continue\n",
        "    # Place Queen\n",
        "    board[row][col]='Q'\n",
        "    cols.add(col)\n",
        "    left_diag.add(row-col)\n",
        "    right_diag.add(row+col)\n",
        "    # Recurse to next row\n",
        "    N_queens_solve(row+1,cols,left_diag,right_diag,board,ans)\n",
        "    # Remove Queen (Backtrack)\n",
        "    board[row][col]='.'\n",
        "    cols.remove(col)\n",
        "    left_diag.remove(row-col)\n",
        "    right_diag.remove(row+col)\n",
        "  return ans\n",
        "n=4\n",
        "board=[['.']*n for _ in range(n)]\n",
        "ans=[]\n",
        "print(N_queens_solve(0,set(),set(),set(),board,ans))"
      ],
      "metadata": {
        "colab": {
          "base_uri": "https://localhost:8080/"
        },
        "id": "TCY9ZUK2zRI6",
        "outputId": "cbf97075-46bc-4d3d-e398-af5675b63330"
      },
      "execution_count": null,
      "outputs": [
        {
          "output_type": "stream",
          "name": "stdout",
          "text": [
            "[['.Q..', '...Q', 'Q...', '..Q.'], ['..Q.', 'Q...', '...Q', '.Q..']]\n"
          ]
        }
      ]
    },
    {
      "cell_type": "code",
      "source": [
        "# 52. N-Queens - ||\n",
        "def N_queens_solve(row,cols,left_diag,right_diag,board):\n",
        "  if(row==n):\n",
        "    return ans.append([''.join(r) for r in board])\n",
        "  for col in range(n):\n",
        "    if (col in cols or (row-col) in left_diag or (row+col) in right_diag):\n",
        "      continue\n",
        "    # Place Queen\n",
        "    board[row][col]='Q'\n",
        "    cols.add(col)\n",
        "    left_diag.add(row-col)\n",
        "    right_diag.add(row+col)\n",
        "    # Recurse to next row\n",
        "    N_queens_solve(row+1,cols,left_diag,right_diag,board)\n",
        "    # Remove Queen (Backtrack)\n",
        "    board[row][col]='.'\n",
        "    cols.remove(col)\n",
        "    left_diag.remove(row-col)\n",
        "    right_diag.remove(row+col)\n",
        "  return ans\n",
        "n=4\n",
        "board=[['.']*n for _ in range(n)]\n",
        "ans=[]\n",
        "print(len(N_queens_solve(0,set(),set(),set(),board)))"
      ],
      "metadata": {
        "colab": {
          "base_uri": "https://localhost:8080/"
        },
        "id": "ceWK5T3H1r_2",
        "outputId": "8d04db61-1d49-4ccd-a588-02045a0302f9"
      },
      "execution_count": null,
      "outputs": [
        {
          "output_type": "stream",
          "name": "stdout",
          "text": [
            "2\n"
          ]
        }
      ]
    },
    {
      "cell_type": "markdown",
      "source": [
        "### 37. Sudoku Solver"
      ],
      "metadata": {
        "id": "KIJ_07QF_NPn"
      }
    },
    {
      "cell_type": "code",
      "source": [
        "from collections import defaultdict\n",
        "\n",
        "def sudoku_solver(row,col,row_set,col_set,count_value,board):\n",
        "  if(row==9):\n",
        "    return True\n",
        "  next_row,next_col=(row,col+1) if col<8 else (row+1,0)\n",
        "  if(board[row][col]!='.'):\n",
        "    return sudoku_solver(next_row,next_col,row_set,col_set,count_value,board)\n",
        "\n",
        "  for value in map(str,range(1,10)):\n",
        "    grid_num=((row//3)*3)+(col//3)\n",
        "    if(value in row_set[row] or value in col_set[col] or value in count_value[grid_num]):\n",
        "      continue\n",
        "    board[row][col]=value\n",
        "    row_set[row].add(value)\n",
        "    col_set[col].add(value)\n",
        "    count_value[grid_num].add(value)\n",
        "    if(sudoku_solver(next_row,next_col,row_set,col_set,count_value,board)):\n",
        "      return True\n",
        "    board[row][col]='.'\n",
        "    row_set[row].remove(value)\n",
        "    col_set[col].remove(value)\n",
        "    count_value[grid_num].remove(value)\n",
        "  return False\n",
        "\n",
        "count_value=defaultdict(set)\n",
        "row_set = [set() for _ in range(9)]\n",
        "col_set = [set() for _ in range(9)]\n",
        "board=[[\".\",\".\",\".\",\".\",\".\",\".\",\".\",\".\",\".\"],[\".\",\"9\",\".\",\".\",\"1\",\".\",\".\",\"3\",\".\"],[\".\",\".\",\"6\",\".\",\"2\",\".\",\"7\",\".\",\".\"],[\".\",\".\",\".\",\"3\",\".\",\"4\",\".\",\".\",\".\"],[\"2\",\"1\",\".\",\".\",\".\",\".\",\".\",\"9\",\"8\"],[\".\",\".\",\".\",\".\",\".\",\".\",\".\",\".\",\".\"],[\".\",\".\",\"2\",\"5\",\".\",\"6\",\"4\",\".\",\".\"],[\".\",\"8\",\".\",\".\",\".\",\".\",\".\",\"1\",\".\"],[\".\",\".\",\".\",\".\",\".\",\".\",\".\",\".\",\".\"]]\n",
        "\n",
        "\n",
        "for row in range(9):\n",
        "  for col in range(9):\n",
        "    value=board[row][col]\n",
        "    if(value!='.'):\n",
        "      row_set[row].add(value)\n",
        "      col_set[col].add(value)\n",
        "      grid_number=((row//3)*3)+(col//3)\n",
        "      count_value[grid_number].add(value)\n",
        "\n",
        "if (sudoku_solver(0,0,row_set,col_set,count_value,board)):\n",
        "  for i in board:\n",
        "    print(i)"
      ],
      "metadata": {
        "colab": {
          "base_uri": "https://localhost:8080/"
        },
        "id": "Vq1poH_3Ib_V",
        "outputId": "3cba4d12-dba4-4e47-f80e-c70b62c9dbb9"
      },
      "execution_count": null,
      "outputs": [
        {
          "output_type": "stream",
          "name": "stdout",
          "text": [
            "[set(), {'9', '1', '3'}, {'7', '6', '2'}, {'4', '3'}, {'1', '9', '8', '2'}, set(), {'4', '5', '6', '2'}, {'1', '8'}, set()]\n",
            "['7', '2', '1', '8', '5', '3', '9', '4', '6']\n",
            "['4', '9', '5', '6', '1', '7', '8', '3', '2']\n",
            "['8', '3', '6', '4', '2', '9', '7', '5', '1']\n",
            "['9', '6', '7', '3', '8', '4', '1', '2', '5']\n",
            "['2', '1', '4', '7', '6', '5', '3', '9', '8']\n",
            "['3', '5', '8', '2', '9', '1', '6', '7', '4']\n",
            "['1', '7', '2', '5', '3', '6', '4', '8', '9']\n",
            "['6', '8', '3', '9', '4', '2', '5', '1', '7']\n",
            "['5', '4', '9', '1', '7', '8', '2', '6', '3']\n"
          ]
        }
      ]
    },
    {
      "cell_type": "code",
      "source": [
        "# 37. Sudoku Solver (optimized code)\n",
        "def find_best_cell(board, row_set, col_set, grid_set):\n",
        "    min_options = 10\n",
        "    best_cell = None\n",
        "    for row in range(9):\n",
        "        for col in range(9):\n",
        "            if board[row][col] == '.':\n",
        "                grid_id = (row // 3) * 3 + (col // 3)\n",
        "                used = row_set[row] | col_set[col] | grid_set[grid_id]\n",
        "                options = [str(i) for i in range(1, 10) if str(i) not in used]\n",
        "\n",
        "                if len(options) < min_options:\n",
        "                    min_options = len(options)\n",
        "                    best_cell = (row, col, options)\n",
        "                if min_options == 1:\n",
        "                    return best_cell\n",
        "\n",
        "    return best_cell\n",
        "\n",
        "def sudoku_solver(board, row_set, col_set, grid_set):\n",
        "    best = find_best_cell(board, row_set, col_set, grid_set)\n",
        "    if not best:\n",
        "        return True  # solved\n",
        "\n",
        "    row, col, options = best\n",
        "    grid_id = (row // 3) * 3 + (col // 3)\n",
        "\n",
        "    for num in options:\n",
        "        board[row][col] = num\n",
        "        row_set[row].add(num)\n",
        "        col_set[col].add(num)\n",
        "        grid_set[grid_id].add(num)\n",
        "\n",
        "        if sudoku_solver(board, row_set, col_set, grid_set):\n",
        "            return True\n",
        "\n",
        "        # Backtrack\n",
        "        board[row][col] = '.'\n",
        "        row_set[row].remove(num)\n",
        "        col_set[col].remove(num)\n",
        "        grid_set[grid_id].remove(num)\n",
        "\n",
        "    return False\n",
        "\n",
        "# Input board\n",
        "board = [[\".\",\".\",\".\",\".\",\".\",\".\",\".\",\".\",\".\"],\n",
        "         [\".\",\"9\",\".\",\".\",\"1\",\".\",\".\",\"3\",\".\"],\n",
        "         [\".\",\".\",\"6\",\".\",\"2\",\".\",\"7\",\".\",\".\"],\n",
        "         [\".\",\".\",\".\",\"3\",\".\",\"4\",\".\",\".\",\".\"],\n",
        "         [\"2\",\"1\",\".\",\".\",\".\",\".\",\".\",\"9\",\"8\"],\n",
        "         [\".\",\".\",\".\",\".\",\".\",\".\",\".\",\".\",\".\"],\n",
        "         [\".\",\".\",\"2\",\"5\",\".\",\"6\",\"4\",\".\",\".\"],\n",
        "         [\".\",\"8\",\".\",\".\",\".\",\".\",\".\",\"1\",\".\"],\n",
        "         [\".\",\".\",\".\",\".\",\".\",\".\",\".\",\".\",\".\"]]\n",
        "\n",
        "# Initialize sets\n",
        "row_set = [set() for _ in range(9)]\n",
        "col_set = [set() for _ in range(9)]\n",
        "grid_set = [set() for _ in range(9)]\n",
        "\n",
        "# Fill initial values\n",
        "for r in range(9):\n",
        "    for c in range(9):\n",
        "        val = board[r][c]\n",
        "        if val != '.':\n",
        "            row_set[r].add(val)\n",
        "            col_set[c].add(val)\n",
        "            grid_set[(r // 3) * 3 + (c // 3)].add(val)\n",
        "\n",
        "\n",
        "# Solve and print\n",
        "if sudoku_solver(board, row_set, col_set, grid_set):\n",
        "    for row in board:\n",
        "        print(row)\n",
        "else:\n",
        "    print(\"No solution found\")"
      ],
      "metadata": {
        "colab": {
          "base_uri": "https://localhost:8080/"
        },
        "id": "KJnDr0Xb2X44",
        "outputId": "df035e38-ac96-4cf3-dd38-73640125eea3"
      },
      "execution_count": null,
      "outputs": [
        {
          "output_type": "stream",
          "name": "stdout",
          "text": [
            "['7', '2', '1', '8', '5', '3', '9', '4', '6']\n",
            "['4', '9', '5', '6', '1', '7', '8', '3', '2']\n",
            "['8', '3', '6', '4', '2', '9', '7', '5', '1']\n",
            "['9', '6', '7', '3', '8', '4', '1', '2', '5']\n",
            "['2', '1', '4', '7', '6', '5', '3', '9', '8']\n",
            "['3', '5', '8', '2', '9', '1', '6', '7', '4']\n",
            "['1', '7', '2', '5', '3', '6', '4', '8', '9']\n",
            "['6', '8', '3', '9', '4', '2', '5', '1', '7']\n",
            "['5', '4', '9', '1', '7', '8', '2', '6', '3']\n"
          ]
        }
      ]
    },
    {
      "cell_type": "code",
      "source": [
        "def isSafe(board,row,col,value):\n",
        "  for i in range(9):\n",
        "    if(board[row][i]==value):\n",
        "      return False\n",
        "    if(board[i][col]==value):\n",
        "      return False\n",
        "  for i in range(3):\n",
        "    for j in range(3):\n",
        "      if(board[row-row%3+i][col-col%3+j]==value):\n",
        "        return False\n",
        "  return True\n",
        "def helper(board,row,col):\n",
        "  if(row==9):\n",
        "    return True\n",
        "  next_row,next_col=(row,col+1) if col<8 else (row+1,0)\n",
        "  if(board[row][col]!='.'):\n",
        "    return helper(board,next_row,next_col)\n",
        "  for value in map(str,range(1,10)):\n",
        "    if(isSafe(board,row,col,value)):\n",
        "      board[row][col]=value\n",
        "      if(helper(board,next_row,next_col)):\n",
        "        return True\n",
        "      board[row][col]='.'\n",
        "  return False\n",
        "# Input board\n",
        "board = [[\".\",\".\",\".\",\".\",\".\",\".\",\".\",\".\",\".\"],\n",
        "         [\".\",\"9\",\".\",\".\",\"1\",\".\",\".\",\"3\",\".\"],\n",
        "         [\".\",\".\",\"6\",\".\",\"2\",\".\",\"7\",\".\",\".\"],\n",
        "         [\".\",\".\",\".\",\"3\",\".\",\"4\",\".\",\".\",\".\"],\n",
        "         [\"2\",\"1\",\".\",\".\",\".\",\".\",\".\",\"9\",\"8\"],\n",
        "         [\".\",\".\",\".\",\".\",\".\",\".\",\".\",\".\",\".\"],\n",
        "         [\".\",\".\",\"2\",\"5\",\".\",\"6\",\"4\",\".\",\".\"],\n",
        "         [\".\",\"8\",\".\",\".\",\".\",\".\",\".\",\"1\",\".\"],\n",
        "         [\".\",\".\",\".\",\".\",\".\",\".\",\".\",\".\",\".\"]]\n",
        "# Solve and print\n",
        "if(helper(board,0,0)):\n",
        "  for row in board:\n",
        "    print(row)"
      ],
      "metadata": {
        "id": "BNOdG6em57Oi"
      },
      "execution_count": null,
      "outputs": []
    },
    {
      "cell_type": "markdown",
      "source": [
        "### Rat in a Maze Problem | Backtracking\n"
      ],
      "metadata": {
        "id": "KxpVze2d_Ueb"
      }
    },
    {
      "cell_type": "code",
      "source": [
        "# Rat in a Maze Problem | Backtracking\n",
        "def rat_of_maze(mat,row,col,path,ans):\n",
        "  n=len(mat)\n",
        "\n",
        "  #Base case for not continue forward or also return the final process\n",
        "  if(row<0 or col<0 or row>=n or col>=n or mat[row][col]==0 or mat[row][col]==-1):\n",
        "    return\n",
        "\n",
        "  #Final Base case\n",
        "  if(row==n-1 and col==n-1):\n",
        "    ans.append(path[:])\n",
        "    return\n",
        "\n",
        "  #Visited Cell\n",
        "  mat[row][col]=-1\n",
        "\n",
        "  #Recursive Function\n",
        "  rat_of_maze(mat,row+1,col,path+'D',ans)# for Down move\n",
        "  rat_of_maze(mat,row-1,col,path+'U',ans)# for Upper move\n",
        "  rat_of_maze(mat,row,col+1,path+'R',ans)# for Right move\n",
        "  rat_of_maze(mat,row,col-1,path+'L',ans)# for Left move\n",
        "\n",
        "  #Backtrack process\n",
        "  mat[row][col]=1\n",
        "\n",
        "matrix_of_maze=[[1,0,0,0],[1,1,0,1],[1,1,0,0],[0,1,1,1]]\n",
        "ans=[]\n",
        "rat_of_maze(matrix_of_maze,0,0,'',ans)\n",
        "print(ans)"
      ],
      "metadata": {
        "id": "f8b07_Ya_ZWu",
        "colab": {
          "base_uri": "https://localhost:8080/"
        },
        "outputId": "4ec15512-dc78-43ba-9251-5db0c4b2113b"
      },
      "execution_count": null,
      "outputs": [
        {
          "output_type": "stream",
          "name": "stdout",
          "text": [
            "['DDRDRR', 'DRDDRR']\n"
          ]
        }
      ]
    },
    {
      "cell_type": "markdown",
      "source": [
        "### 1219. Path with Maximum Gold"
      ],
      "metadata": {
        "id": "NIqDpyBNRTe_"
      }
    },
    {
      "cell_type": "markdown",
      "source": [
        "![graphviz (1).png](data:image/png;base64,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)"
      ],
      "metadata": {
        "id": "5R0-Ff6RKZeb"
      }
    },
    {
      "cell_type": "code",
      "source": [
        "# 1219. Path with Maximum Gold\n",
        "def gold_mine_dfs(grid,row,col,current_gold,ans):\n",
        "  n,m=len(grid),len(grid[0])\n",
        "\n",
        "  # Base case\n",
        "  if(row<0 or col<0 or row>=n or col>=m or grid[row][col]==0):\n",
        "    return\n",
        "\n",
        "  # Collect gold\n",
        "  gold=grid[row][col]\n",
        "  current_gold+=gold\n",
        "  ans[0]=max(ans[0],current_gold)\n",
        "  # Mark as visited\n",
        "  grid[row][col]=0\n",
        "\n",
        "  #Recursive case( Explore 4 directions)\n",
        "  gold_mine_dfs(grid,row+1,col,current_gold,ans)\n",
        "  gold_mine_dfs(grid,row-1,col,current_gold,ans)\n",
        "  gold_mine_dfs(grid,row,col+1,current_gold,ans)\n",
        "  gold_mine_dfs(grid,row,col-1,current_gold,ans)\n",
        "\n",
        "  grid[row][col]=gold\n",
        "\n",
        "def maximum_gold(grid):\n",
        "  n,m=len(grid),len(grid[0])\n",
        "  ans= [0]# using list to allow updates inside dfs\n",
        "\n",
        "  for i in range(n):\n",
        "    for j in range(m):\n",
        "      if(grid[i][j]>0):\n",
        "        gold_mine_dfs(grid,i,j,0,ans)\n",
        "\n",
        "  return ans[0]\n",
        "# Test case\n",
        "grid = [[0, 6, 0],\n",
        "        [5, 8, 7],\n",
        "        [0, 9, 0]]\n",
        "\n",
        "print(maximum_gold(grid))"
      ],
      "metadata": {
        "colab": {
          "base_uri": "https://localhost:8080/"
        },
        "id": "-7ZH3GASzzj1",
        "outputId": "43d240d0-71a5-42f7-fdde-05576d07a93b"
      },
      "execution_count": null,
      "outputs": [
        {
          "output_type": "stream",
          "name": "stdout",
          "text": [
            "24\n"
          ]
        }
      ]
    },
    {
      "cell_type": "markdown",
      "source": [
        "### 1219 - combination sum"
      ],
      "metadata": {
        "id": "4cW5eXU6JmOx"
      }
    },
    {
      "cell_type": "code",
      "source": [
        "duplicate_verify=set()\n",
        "def combination_sum(candidates,i, target,ans,result):\n",
        "  n=len(candidates)\n",
        "  if(i==n or target<0):\n",
        "    return\n",
        "  if(target==0):\n",
        "    result.append(ans[:])\n",
        "    return\n",
        "  ans.append(candidates[i])\n",
        "  combination_sum(candidates,i,target-candidates[i],ans,result)\n",
        "  ans.pop()\n",
        "  combination_sum(candidates,i+1,target,ans,result)\n",
        "\n",
        "\n",
        "candidates=[2,3,5]\n",
        "target=8\n",
        "result=[]\n",
        "combination_sum(candidates,0,target,[],result)\n",
        "print(result)"
      ],
      "metadata": {
        "colab": {
          "base_uri": "https://localhost:8080/"
        },
        "id": "qj0rU-DYZiyP",
        "outputId": "77653d4f-ecb5-49d3-94ae-6625838f0db8"
      },
      "execution_count": null,
      "outputs": [
        {
          "output_type": "stream",
          "name": "stdout",
          "text": [
            "[[2, 2, 2, 2], [2, 3, 3], [3, 5]]\n"
          ]
        }
      ]
    },
    {
      "cell_type": "markdown",
      "source": [
        "![graphviz.svg](data:image/svg+xml;base64,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)"
      ],
      "metadata": {
        "id": "33gvaafOHs3r"
      }
    },
    {
      "cell_type": "code",
      "source": [
        "#1219 - combination sum\n",
        "\n",
        "def combination_sum2(candidates,target):\n",
        "  result=[]\n",
        "  candidates.sort()\n",
        "  def backtrack(start,target,path):\n",
        "    if(target==0):\n",
        "      result.append(path[:])\n",
        "      return\n",
        "    for i in range(start,len(candidates)):\n",
        "      if(candidates[i]>target):\n",
        "        break\n",
        "      path.append(candidates[i])\n",
        "      backtrack(i,target-candidates[i],path)\n",
        "      path.pop()\n",
        "  backtrack(0,target,[])\n",
        "  return result\n",
        "candidates=[2,3,5]\n",
        "target=8\n",
        "print(combination_sum2(candidates,target))"
      ],
      "metadata": {
        "colab": {
          "base_uri": "https://localhost:8080/"
        },
        "id": "ojrbClRohwDZ",
        "outputId": "64c2e4ed-2e1b-4fea-9cfb-78470e883eee"
      },
      "execution_count": null,
      "outputs": [
        {
          "output_type": "stream",
          "name": "stdout",
          "text": [
            "[[2, 2, 2, 2], [2, 3, 3], [3, 5]]\n"
          ]
        }
      ]
    },
    {
      "cell_type": "markdown",
      "source": [
        "### Palindrome Partitioning"
      ],
      "metadata": {
        "id": "ixf1vpgPPjcK"
      }
    },
    {
      "cell_type": "code",
      "source": [
        "# 131. Palindrome Partitioning\n",
        "def palindrome(string_val,partition,ans):\n",
        "  if(len(string_val)==0):\n",
        "    ans.append(partition[:])\n",
        "    return\n",
        "  for i in range(1,len(string_val)+1):\n",
        "    path_str=string_val[:i]\n",
        "\n",
        "    if(path_str==path_str[::-1]):\n",
        "      partition.append(path_str)\n",
        "      palindrome(string_val[i:],partition,ans)\n",
        "      partition.pop()\n",
        "ans=[]\n",
        "palindrome(\"ab\",[],ans)\n",
        "print(ans)"
      ],
      "metadata": {
        "colab": {
          "base_uri": "https://localhost:8080/"
        },
        "id": "bbYvOJD0IV87",
        "outputId": "7c23d2ee-82ce-4f27-91c1-3cbf7bb5cb7c"
      },
      "execution_count": null,
      "outputs": [
        {
          "output_type": "stream",
          "name": "stdout",
          "text": [
            "[['a', 'b']]\n"
          ]
        }
      ]
    },
    {
      "cell_type": "code",
      "source": [
        "# 132. Palindrome Partitioning II --------hard problem\n",
        "def is_palindrome(s):\n",
        "    return s == s[::-1]\n",
        "\n",
        "def min_cut(s):\n",
        "    n = len(s)\n",
        "    dp = [0] * n\n",
        "\n",
        "    for i in range(n):\n",
        "        min_cut = i\n",
        "        for j in range(i + 1):\n",
        "            if is_palindrome(s[j:i + 1]):\n",
        "                min_cut = 0 if j == 0 else min(min_cut, dp[j - 1] + 1)\n",
        "        dp[i] = min_cut\n",
        "    print(dp)\n",
        "    return dp[-1]\n",
        "print(min_cut('aab'))"
      ],
      "metadata": {
        "colab": {
          "base_uri": "https://localhost:8080/"
        },
        "id": "tL1gVIldKGjO",
        "outputId": "b228a759-7c25-4a6d-e522-f1023a53c323"
      },
      "execution_count": null,
      "outputs": [
        {
          "output_type": "stream",
          "name": "stdout",
          "text": [
            "[0, 0, 1]\n",
            "1\n"
          ]
        }
      ]
    },
    {
      "cell_type": "code",
      "source": [
        "# optimized code------------------\n",
        "def min_cut2(s):\n",
        "    n = len(s)\n",
        "    # dp[i] = min cuts for s[0:i+1]\n",
        "    dp = [0] * n\n",
        "    # is_palindrome[i][j] = whether s[i:j+1] is a palindrome\n",
        "    is_palindrome = [[False] * n for _ in range(n)]\n",
        "    print(is_palindrome)\n",
        "    for end in range(n):\n",
        "        min_cut = end  # Max cuts possible\n",
        "        for start in range(end + 1):\n",
        "            if s[start] == s[end] and (end - start <= 2 or is_palindrome[start + 1][end - 1]):\n",
        "                is_palindrome[start][end] = True\n",
        "                # If the whole substring is palindrome, no cut needed\n",
        "                if start == 0:\n",
        "                    min_cut = 0\n",
        "                else:\n",
        "                    min_cut = min(min_cut, dp[start - 1] + 1)\n",
        "        dp[end] = min_cut\n",
        "\n",
        "    return dp[-1]\n",
        "print(min_cut2('aab'))"
      ],
      "metadata": {
        "colab": {
          "base_uri": "https://localhost:8080/"
        },
        "id": "diKQatUz3tsR",
        "outputId": "e6ea1e94-bff9-4ed0-a601-859ff84ab82b"
      },
      "execution_count": null,
      "outputs": [
        {
          "output_type": "stream",
          "name": "stdout",
          "text": [
            "[[False, False, False], [False, False, False], [False, False, False]]\n",
            "1\n"
          ]
        }
      ]
    },
    {
      "cell_type": "markdown",
      "source": [
        "### 2596. Check Knight Tour Configuration"
      ],
      "metadata": {
        "id": "zRYjTPMEZVCy"
      }
    },
    {
      "cell_type": "code",
      "source": [
        "# 2596. Check Knight Tour Configuration\n",
        "def knight_tour(grid,row,col,exp):\n",
        "  if(row<0 or col<0 or row>=len(grid) or col>=len(grid)):\n",
        "    return False\n",
        "  if (grid[row][col]!=exp):\n",
        "    return False\n",
        "  if(exp==(len(grid)**2)-1):\n",
        "    return True\n",
        "\n",
        "  temp=grid[row][col]\n",
        "  grid[row][col]=-1\n",
        "  if( knight_tour(grid,row-2,col+1,exp+1) or\n",
        "      knight_tour(grid,row-1,col+2,exp+1) or\n",
        "      knight_tour(grid,row+1,col+2,exp+1) or\n",
        "      knight_tour(grid,row+2,col+1,exp+1) or\n",
        "      knight_tour(grid,row+2,col-1,exp+1) or\n",
        "      knight_tour(grid,row+1,col-2,exp+1) or\n",
        "      knight_tour(grid,row-1,col-2,exp+1) or\n",
        "      knight_tour(grid,row-2,col-1,exp+1)):\n",
        "      return True\n",
        "  grid[row][col]=temp\n",
        "  return False\n",
        "grid=[[0,11,16,5,20],[17,4,19,10,15],[12,1,8,21,6],[3,18,23,14,9],[24,13,2,7,22]]\n",
        "print(knight_tour(grid,0,0,0))"
      ],
      "metadata": {
        "colab": {
          "base_uri": "https://localhost:8080/"
        },
        "id": "gtrC3gdyb0SW",
        "outputId": "9f962bd3-c8da-4a94-d16f-9d74d6d76a4d"
      },
      "execution_count": null,
      "outputs": [
        {
          "output_type": "stream",
          "name": "stdout",
          "text": [
            "True\n"
          ]
        }
      ]
    },
    {
      "cell_type": "code",
      "source": [
        "#optimized code\n",
        "\n",
        "def knight_tour(grid,row,col,exp):\n",
        "  # Boundary + check correct number at this position\n",
        "  if(row<0 or col<0 or row>=len(grid) or col>=len(grid)):\n",
        "    return False\n",
        "  if (grid[row][col]!=exp):\n",
        "    return False\n",
        "  if(exp==(len(grid)**2)-1):\n",
        "    return True\n",
        "\n",
        "  # Mark current cell as visited temporarily\n",
        "  temp=grid[row][col]\n",
        "  grid[row][col]=-1\n",
        "\n",
        "  # All 8 knight moves\n",
        "  moves=[(-2, 1), (-1, 2), (1, 2), (2, 1),\n",
        "             (2, -1), (1, -2), (-1, -2), (-2, -1)]\n",
        "  for dir_r,dir_c in moves:\n",
        "    if(knight_tour(grid,row+dir_r,col+dir_c,exp+1)):\n",
        "      return True\n",
        "\n",
        "  # Backtrack\n",
        "  grid[row][col]=temp\n",
        "  return False\n",
        "grid=[[0,11,16,5,20],[17,4,19,10,15],[12,1,8,21,6],[3,18,23,14,9],[24,13,2,7,22]]\n",
        "print(knight_tour(grid,0,0,0))"
      ],
      "metadata": {
        "colab": {
          "base_uri": "https://localhost:8080/"
        },
        "id": "a27lTfdsXW4g",
        "outputId": "3ada91b1-2c93-48d4-8d9c-2401158b9388"
      },
      "execution_count": null,
      "outputs": [
        {
          "output_type": "stream",
          "name": "stdout",
          "text": [
            "True\n"
          ]
        }
      ]
    },
    {
      "cell_type": "code",
      "source": [
        "# 17. Letter Combinations of a Phone Number\n",
        "def letterCombinations(digits):\n",
        "    if not digits:\n",
        "        return []\n",
        "    digits_char={2:'abc',3:'def',4:'ghi',5:'jkl',6:'mno',7:'pqrs',8:'tuv',9:'wxyz'}\n",
        "    result=[]\n",
        "    def backtrack(i,path):\n",
        "        if len(path)==len(digits):\n",
        "            result.append(''.join(path[:]))\n",
        "            return\n",
        "        for j in range(i,len(digits)):\n",
        "            for char in digits_char[int(digits[j])]:\n",
        "                path.append(char)\n",
        "                backtrack(j+1,path)\n",
        "                path.pop()\n",
        "        return result\n",
        "    backtrack(0,[])\n",
        "    return result\n",
        "print(letterCombinations('23'))"
      ],
      "metadata": {
        "colab": {
          "base_uri": "https://localhost:8080/"
        },
        "id": "wqqI6uho5U-V",
        "outputId": "76ba81cb-8b34-48e0-d207-6b91919a1a9a"
      },
      "execution_count": null,
      "outputs": [
        {
          "output_type": "stream",
          "name": "stdout",
          "text": [
            "['ad', 'ae', 'af', 'bd', 'be', 'bf', 'cd', 'ce', 'cf']\n"
          ]
        }
      ]
    },
    {
      "cell_type": "code",
      "source": [
        "from collections import Counter\n",
        "# 79. Word Search\n",
        "def wordSearch(board,word):\n",
        "    row_limit=len(board)\n",
        "    col_limit=len(board[0])\n",
        "\n",
        "    word_char_count = Counter(word)\n",
        "    board_char_count = Counter()\n",
        "    for r in range(row_limit):\n",
        "        for c in range(col_limit):\n",
        "            board_char_count[board[r][c]] += 1\n",
        "\n",
        "    for char, count in word_char_count.items():\n",
        "        if board_char_count[char] < count:\n",
        "            return False\n",
        "    def backtrack(row,col,i):\n",
        "        if i==len(word):\n",
        "            return True\n",
        "        if row<0 or row>=row_limit or col<0 or col>=col_limit or board[row][col]==-1 or board[row][col]!=word[i]:\n",
        "            return False\n",
        "\n",
        "        temp=board[row][col]\n",
        "        board[row][col]=-1\n",
        "        found= (backtrack(row+1,col,i+1) or\n",
        "        backtrack(row-1,col,i+1) or\n",
        "        backtrack(row,col+1,i+1) or\n",
        "        backtrack(row,col-1,i+1))\n",
        "        board[row][col]=temp\n",
        "        return found\n",
        "\n",
        "    for row in range(row_limit):\n",
        "      for col in range(col_limit):\n",
        "        if board[row][col]==word[0]:\n",
        "          if backtrack(row,col,0):\n",
        "            return True\n",
        "    return False\n",
        "\n",
        "board = [[\"A\",\"B\",\"C\",\"E\"],[\"S\",\"F\",\"C\",\"S\"],[\"A\",\"D\",\"E\",\"E\"]]\n",
        "word = \"SEE\"\n",
        "print(wordSearch(board,word))"
      ],
      "metadata": {
        "id": "1K__1hhTFEi3"
      },
      "execution_count": null,
      "outputs": []
    },
    {
      "cell_type": "markdown",
      "source": [
        "### 643. Maximum Average Subarray I"
      ],
      "metadata": {
        "id": "COz2Or_Be6jm"
      }
    },
    {
      "cell_type": "code",
      "source": [
        "# 643. Maximum Average Subarray I\n",
        "\n",
        "def maximum_average(arr,k):\n",
        "  current_sum=0\n",
        "  max_average=float('-inf')\n",
        "  for i in range(len(arr)):\n",
        "    current_sum+=arr[i]\n",
        "    if(i>=(k-1)):\n",
        "      average=current_sum/k\n",
        "      max_average=max(max_average,average)\n",
        "      current_sum = current_sum - arr[i-(k-1)]\n",
        "  return max_average\n",
        "arr=[5]\n",
        "k=1\n",
        "print(maximum_average(arr,k))"
      ],
      "metadata": {
        "colab": {
          "base_uri": "https://localhost:8080/"
        },
        "id": "tU-QOraQe2PB",
        "outputId": "d55d950f-cdbf-46e7-ca13-3861db1733ce"
      },
      "execution_count": null,
      "outputs": [
        {
          "output_type": "stream",
          "name": "stdout",
          "text": [
            "5\n",
            "5.0\n"
          ]
        }
      ]
    },
    {
      "cell_type": "code",
      "source": [
        "# optimized code\n",
        "def maximum_average(arr,k):\n",
        "    current_sum=sum(arr[:k])\n",
        "    max_sum=current_sum\n",
        "    for i in range(k,len(arr)):\n",
        "        current_sum += arr[i] - arr[i-k]\n",
        "        max_sum=max(max_sum,current_sum)\n",
        "    return max_sum/float(k)\n",
        "\n",
        "nums=[1,12,-5,-6,50,3]\n",
        "k=4\n",
        "print(maximum_average(nums,k))"
      ],
      "metadata": {
        "colab": {
          "base_uri": "https://localhost:8080/"
        },
        "id": "vFjkHfy58pL2",
        "outputId": "0df92f4f-3057-4fab-9b7d-27f35664d903"
      },
      "execution_count": null,
      "outputs": [
        {
          "output_type": "stream",
          "name": "stdout",
          "text": [
            "12.75\n"
          ]
        }
      ]
    },
    {
      "cell_type": "markdown",
      "source": [
        "### Count Inversions Problem"
      ],
      "metadata": {
        "id": "7LnlMbEI9YSU"
      }
    },
    {
      "cell_type": "code",
      "source": [
        "# Count Inversions Problem\n",
        "def count_split_inversion(arr,start,mid,end):\n",
        "  left_arr=arr[start:mid+1]\n",
        "  right_arr=arr[mid+1:end+1]\n",
        "  temp=[]\n",
        "  i=0\n",
        "  j=0\n",
        "  count=0\n",
        "  while(i<len(left_arr) and j<len(right_arr)):\n",
        "    if(left_arr[i]<=right_arr[j]):\n",
        "      temp.append(left_arr[i])\n",
        "      i+=1\n",
        "    else:\n",
        "      temp.append(right_arr[j])\n",
        "      j+=1\n",
        "      count+=len(left_arr)-i\n",
        "\n",
        "  temp.extend(left_arr[i:])\n",
        "  temp.extend(right_arr[j:])\n",
        "  arr[start:end+1]=temp\n",
        "  return count\n",
        "def count_inversion(arr,start,end):\n",
        "  if(start<end):\n",
        "    mid=(start+end)//2\n",
        "    left_count=count_inversion(arr,start,mid)\n",
        "    right_count=count_inversion(arr,mid+1,end)\n",
        "    split_count=count_split_inversion(arr,start,mid,end)\n",
        "    return left_count+right_count+split_count\n",
        "  return 0\n",
        "arr=[1,2,3,5,4]\n",
        "print(count_inversion(arr,0,len(arr)-1))"
      ],
      "metadata": {
        "id": "X9k7KDlyS2Ag",
        "colab": {
          "base_uri": "https://localhost:8080/"
        },
        "outputId": "76f00adb-38ec-43ba-86d6-5c7a2aa68059"
      },
      "execution_count": null,
      "outputs": [
        {
          "output_type": "stream",
          "name": "stdout",
          "text": [
            "1\n"
          ]
        }
      ]
    },
    {
      "cell_type": "code",
      "source": [
        "def count_inversions(arr):\n",
        "    def merge_sort(arr):\n",
        "        if len(arr) <= 1:\n",
        "            return arr, 0\n",
        "        mid = len(arr) // 2\n",
        "        left, inv_left = merge_sort(arr[:mid])\n",
        "        right, inv_right = merge_sort(arr[mid:])\n",
        "        merged, inv_merge = merge(left, right)\n",
        "        return merged, inv_left + inv_right + inv_merge\n",
        "\n",
        "    def merge(left, right):\n",
        "        i = j = inv_count = 0\n",
        "        merged = []\n",
        "        while i < len(left) and j < len(right):\n",
        "            if left[i] <= right[j]:\n",
        "                merged.append(left[i])\n",
        "                i += 1\n",
        "            else:\n",
        "                merged.append(right[j])\n",
        "                inv_count += len(left) - i  # All remaining elements in left are greater\n",
        "                j += 1\n",
        "        merged += left[i:]\n",
        "        merged += right[j:]\n",
        "        return merged, inv_count\n",
        "\n",
        "    _, total_inversions = merge_sort(arr)\n",
        "    return total_inversions\n",
        "arr=[1,2,3,5,4]\n",
        "print(count_inversions(arr))"
      ],
      "metadata": {
        "colab": {
          "base_uri": "https://localhost:8080/"
        },
        "id": "buJX5gYt4q0S",
        "outputId": "f38aab21-5a68-4cd9-c32a-65750311e8f5"
      },
      "execution_count": null,
      "outputs": [
        {
          "output_type": "stream",
          "name": "stdout",
          "text": [
            "1\n"
          ]
        }
      ]
    },
    {
      "cell_type": "code",
      "source": [
        "# 77. Combinations\n",
        "def combinations(n,k):\n",
        "  ans=[]\n",
        "  def backtrack(i,path):\n",
        "      if len(path)==k:\n",
        "        ans.append(path[:])\n",
        "        return\n",
        "      for j in range(i,n+1):\n",
        "        path.append(j)\n",
        "        backtrack(j+1,path)\n",
        "        path.pop()\n",
        "      return ans\n",
        "  backtrack(1,[])\n",
        "  return ans\n",
        "print(combinations(4,2))\n",
        "\n",
        "\n",
        "\n",
        "# def combinations(arr,i,k,ans,path):\n",
        "#     if len(path)==k:\n",
        "#         ans.append(path[:])\n",
        "#         return\n",
        "#     for j in range(i,len(arr)):\n",
        "#         path.append(arr[j])\n",
        "#         combinations(arr,j+1,k,ans,path)\n",
        "#         path.pop()\n",
        "#     return ans\n",
        "# arr=[i for i in range(1,n+1)]\n",
        "# return combinations(arr,0,k,[],[])"
      ],
      "metadata": {
        "id": "eoL6GpfAt3bd"
      },
      "execution_count": null,
      "outputs": []
    },
    {
      "cell_type": "markdown",
      "source": [
        "# Super Easy Problem"
      ],
      "metadata": {
        "id": "V9xNp0yQt6pq"
      }
    },
    {
      "cell_type": "code",
      "source": [
        "# 387. First Unique Character in a String\n",
        "s=\"leetcode\"\n",
        "dict_count={}\n",
        "for i in s:\n",
        "    if i in dict_count:\n",
        "        dict_count[i]+=1\n",
        "    else:\n",
        "        dict_count[i]=1\n",
        "char,value=sorted(dict_count.items(),key=lambda x:x[1])[0]\n",
        "if value ==1:\n",
        "    print(s.index(char))\n",
        "else:\n",
        "    print(-1)\n",
        "\n",
        "\n",
        "# another way to solve -----------\n",
        "def firstUniqChar(s: str) -> int:\n",
        "    dict_count={}\n",
        "    for i in s:\n",
        "        if i in dict_count:\n",
        "            dict_count[i]+=1\n",
        "        else:\n",
        "            dict_count[i]=1\n",
        "    for idx,char in enumerate(s):\n",
        "        if dict_count[char]==1:\n",
        "            return idx\n",
        "    return -1\n",
        "print(firstUniqChar('leetcode'))"
      ],
      "metadata": {
        "colab": {
          "base_uri": "https://localhost:8080/"
        },
        "id": "03FZI4Ef_WZN",
        "outputId": "f54f9307-e911-4417-f4ee-0ab0eba20d1e"
      },
      "execution_count": null,
      "outputs": [
        {
          "output_type": "stream",
          "name": "stdout",
          "text": [
            "0\n",
            "0\n"
          ]
        }
      ]
    },
    {
      "cell_type": "code",
      "source": [
        "# 2974. Minimum Number Game\n",
        "num=sorted([5,4,2,3],reverse=True)\n",
        "result=[]\n",
        "while num:\n",
        "  alice=num.pop()\n",
        "  if num:\n",
        "    bob=num.pop()\n",
        "    result.append(bob)\n",
        "    result.append(alice)\n",
        "print(result)\n"
      ],
      "metadata": {
        "colab": {
          "base_uri": "https://localhost:8080/"
        },
        "id": "n87adWJcGODZ",
        "outputId": "e8c64a7e-4746-40c7-e65b-7b577990cc57"
      },
      "execution_count": null,
      "outputs": [
        {
          "output_type": "stream",
          "name": "stdout",
          "text": [
            "[3, 2, 5, 4]\n"
          ]
        }
      ]
    },
    {
      "cell_type": "code",
      "source": [
        "# 1832. Check if the Sentence Is Pangram\n",
        "sentence = \"thequickbrownfoxjumpsoverthelazydog\"\n",
        "sentence_char=set(sentence)\n",
        "if len(sentence_char)==26:\n",
        "  print(True)\n",
        "else:\n",
        "  print(False)"
      ],
      "metadata": {
        "colab": {
          "base_uri": "https://localhost:8080/"
        },
        "id": "DGPYiWFnIIWh",
        "outputId": "21bff002-aa9a-4591-ab12-4da71cbda44d"
      },
      "execution_count": null,
      "outputs": [
        {
          "output_type": "stream",
          "name": "stdout",
          "text": [
            "False\n"
          ]
        }
      ]
    },
    {
      "cell_type": "code",
      "source": [
        "# 2114. Maximum Number of Words Found in Sentences\n",
        "sentences = [\"alice and bob love leetcode\", \"i think so too\", \"this is great thanks very much\"]\n",
        "max=0\n",
        "for sentence in sentences:\n",
        "  max_value=len(sentence.split())\n",
        "  if max<max_value:\n",
        "    max=max_value\n",
        "print(max)"
      ],
      "metadata": {
        "colab": {
          "base_uri": "https://localhost:8080/"
        },
        "id": "gy6HfLhoJ0wi",
        "outputId": "1424c733-0d7e-45ff-9174-b9deb46b3e65"
      },
      "execution_count": null,
      "outputs": [
        {
          "output_type": "stream",
          "name": "stdout",
          "text": [
            "6\n"
          ]
        }
      ]
    },
    {
      "cell_type": "code",
      "source": [
        "# 2520. Count the Digits That Divide a Number\n",
        "num = 7\n",
        "temp=num\n",
        "count=0\n",
        "while num:\n",
        "  if temp%(num%10)==0:\n",
        "    count+=1\n",
        "  num=num//10\n",
        "print(count)"
      ],
      "metadata": {
        "colab": {
          "base_uri": "https://localhost:8080/"
        },
        "id": "RO36hpBgPErh",
        "outputId": "a689fc11-23f2-4aae-eae5-0bd4f0891e92"
      },
      "execution_count": null,
      "outputs": [
        {
          "output_type": "stream",
          "name": "stdout",
          "text": [
            "1\n"
          ]
        }
      ]
    },
    {
      "cell_type": "code",
      "source": [
        "# 2108. Find First Palindromic String in the Array\n",
        "def firstPalindrome(words):\n",
        "  for word in words:\n",
        "    if(word==word[::-1]):\n",
        "      return word\n",
        "  return \"\"\n",
        "words = [\"notapalindrome\",\"racecar\"]\n",
        "print(firstPalindrome(words))"
      ],
      "metadata": {
        "colab": {
          "base_uri": "https://localhost:8080/"
        },
        "id": "PD7b4SlKjVG1",
        "outputId": "47471665-1aac-4bbf-c39f-ece255553108"
      },
      "execution_count": null,
      "outputs": [
        {
          "output_type": "stream",
          "name": "stdout",
          "text": [
            "racecar\n"
          ]
        }
      ]
    },
    {
      "cell_type": "code",
      "source": [
        "# 2798. Number of Employees Who Met the Target\n",
        "def metTarget(hours,target):\n",
        "  # count=0\n",
        "  # for hour in hours:\n",
        "  #     if(target<=hour):\n",
        "  #         count+=1\n",
        "  # return count\n",
        "\n",
        "  # second way to solve this problem\n",
        "  return sum(1 for hour in hours if hour>=target)\n",
        "hours=[0,1,2,3,4]\n",
        "target=2\n",
        "print(metTarget(hours,target))"
      ],
      "metadata": {
        "colab": {
          "base_uri": "https://localhost:8080/"
        },
        "id": "aYRETbDPmHuX",
        "outputId": "91d7caa9-55b0-4343-dc36-614bb8300b58"
      },
      "execution_count": null,
      "outputs": [
        {
          "output_type": "stream",
          "name": "stdout",
          "text": [
            "3\n"
          ]
        }
      ]
    },
    {
      "cell_type": "code",
      "source": [
        "# 2535. Difference Between Element Sum and Digit Sum of an Array\n",
        "def difference_between(nums):\n",
        "  element_sum=sum(nums)\n",
        "  digit_sum=0\n",
        "  for i in nums:\n",
        "    if (i//10==0):\n",
        "      digit_sum+=i\n",
        "    else:\n",
        "      while i:\n",
        "        digit_sum+=i%10\n",
        "        i=i//10\n",
        "      # digit_sum+=sum(int(c) for c in str(i))\n",
        "  difference=element_sum-digit_sum\n",
        "  return difference\n",
        "nums = [1,15,6,3]\n",
        "print(difference_between(nums))\n"
      ],
      "metadata": {
        "colab": {
          "base_uri": "https://localhost:8080/"
        },
        "id": "lZE7l0wWpcJv",
        "outputId": "546d7d34-c8a1-4a2b-f80c-239c320c08a8"
      },
      "execution_count": null,
      "outputs": [
        {
          "output_type": "stream",
          "name": "stdout",
          "text": [
            "9\n"
          ]
        }
      ]
    },
    {
      "cell_type": "code",
      "source": [
        "# 2652. Sum Multiples\n",
        "count=0\n",
        "for i in range(1,11):\n",
        "  if(i%3==0 or i%5==0 or i%7==0):\n",
        "    count+=i\n",
        "print(count)\n",
        "\n",
        "# another way to solve ----------------\n",
        "count=(sum(i for i in range(1,11) if i%3==0 or i%5==0 or i%7==0))\n",
        "print(count)\n"
      ],
      "metadata": {
        "colab": {
          "base_uri": "https://localhost:8080/"
        },
        "id": "VBZvPGiSrh6s",
        "outputId": "4046ea46-a3d4-4e50-903a-25022fbb2e77"
      },
      "execution_count": null,
      "outputs": [
        {
          "output_type": "stream",
          "name": "stdout",
          "text": [
            "40\n",
            "40\n"
          ]
        }
      ]
    },
    {
      "cell_type": "code",
      "source": [
        "# 1486. XOR Operation in an Array\n",
        "from functools import reduce\n",
        "def xorOperation(n,start):\n",
        "  # xor_count=[]\n",
        "  # for i in range(n):\n",
        "  #     if not in xor_count:\n",
        "  #         xor_count.append(start+2*i)\n",
        "  # return reduce(lambda x,y:x^y,xor_count)\n",
        "\n",
        "  xor_count=[]\n",
        "  for i in range(n):\n",
        "    if not xor_count:\n",
        "      xor_count.append(start+2*i)\n",
        "    else:\n",
        "      a=xor_count.pop()\n",
        "      xor_count.append(a^(start+2*i))\n",
        "  return xor_count[0]\n",
        "print(xorOperation(5,0))"
      ],
      "metadata": {
        "colab": {
          "base_uri": "https://localhost:8080/"
        },
        "id": "VtXjx01exH57",
        "outputId": "e23aaefa-3a17-4677-e6fc-35992f7a83f4"
      },
      "execution_count": null,
      "outputs": [
        {
          "output_type": "stream",
          "name": "stdout",
          "text": [
            "8\n"
          ]
        }
      ]
    },
    {
      "cell_type": "code",
      "source": [
        "# 2894. Divisible and Non-divisible Sums Difference\n",
        "n = 10\n",
        "m = 3\n",
        "first=[]\n",
        "second=[]\n",
        "for i in range(1,n+1):\n",
        "  if i%m!=0:\n",
        "    first.append(i)\n",
        "  if(i%m==0):\n",
        "    second.append(i)\n",
        "print((sum(first)-sum(second)))\n",
        "\n",
        "# another way to solve ----------------\n",
        "first=0\n",
        "second=0\n",
        "for i in range(1,n+1):\n",
        "    if i%m!=0:\n",
        "        first+=i\n",
        "    if(i%m==0):\n",
        "        second+=i\n",
        "print(first-second)"
      ],
      "metadata": {
        "colab": {
          "base_uri": "https://localhost:8080/"
        },
        "id": "NLu_Pytl2ljb",
        "outputId": "91e593d6-7e1f-4010-b6a5-9b41ad379582"
      },
      "execution_count": null,
      "outputs": [
        {
          "output_type": "stream",
          "name": "stdout",
          "text": [
            "19\n"
          ]
        }
      ]
    },
    {
      "cell_type": "code",
      "source": [
        "# 3019. Number of Changing Keys\n",
        "string=\"aAbBcC\"\n",
        "string=string.lower()\n",
        "count=0\n",
        "for i in range(len(string)-1):\n",
        "  if string[i]!=string[i+1]:\n",
        "    count+=1\n",
        "print(count)\n"
      ],
      "metadata": {
        "colab": {
          "base_uri": "https://localhost:8080/"
        },
        "id": "3qal_5HW9Uwv",
        "outputId": "b843f6e7-a90f-4b0d-d653-be55ac47d06e"
      },
      "execution_count": null,
      "outputs": [
        {
          "output_type": "stream",
          "name": "stdout",
          "text": [
            "hello\n",
            "2\n"
          ]
        }
      ]
    },
    {
      "cell_type": "code",
      "source": [
        "# 3024. Type of Triangle\n",
        "def TypeOfTriangle(nums):\n",
        "    numbers = set(nums)\n",
        "    if len(numbers)==1:\n",
        "        return \"equilateral\"\n",
        "    elif len(numbers)==2:\n",
        "        if (nums[0]+nums[1]>nums[2] and nums[0]+nums[2]>nums[1] and nums[1]+nums[2]>nums[0]):\n",
        "            return \"isosceles\"\n",
        "        else:\n",
        "            return \"none\"\n",
        "    elif len(numbers)==3:\n",
        "        if (nums[0]+nums[1]>nums[2] and nums[0]+nums[2]>nums[1] and nums[1]+nums[2]>nums[0]):\n",
        "            return \"scalene\"\n",
        "        else:\n",
        "            return 'none'\n",
        "print(TypeOfTriangle([5,4,5]))"
      ],
      "metadata": {
        "colab": {
          "base_uri": "https://localhost:8080/"
        },
        "id": "3JhrmPcLCVdz",
        "outputId": "29a03a16-1eb6-421f-e36f-2d544d4f1f9d"
      },
      "execution_count": null,
      "outputs": [
        {
          "output_type": "stream",
          "name": "stdout",
          "text": [
            "isosceles\n"
          ]
        }
      ]
    },
    {
      "cell_type": "code",
      "source": [
        "words = [\"leet\",\"code\"]\n",
        "x='e'\n",
        "count=list(idx for idx,word in enumerate(words) if x in set(word))\n",
        "print(count)"
      ],
      "metadata": {
        "colab": {
          "base_uri": "https://localhost:8080/"
        },
        "id": "WFAcb598MHaD",
        "outputId": "2c92da00-b60a-4606-d683-51971d779ead"
      },
      "execution_count": null,
      "outputs": [
        {
          "output_type": "stream",
          "name": "stdout",
          "text": [
            "[0, 1]\n"
          ]
        }
      ]
    },
    {
      "cell_type": "markdown",
      "source": [
        "# Array & Strings"
      ],
      "metadata": {
        "id": "Wryedt5EznWI"
      }
    },
    {
      "cell_type": "code",
      "source": [
        "# 2239. Find Closest Number to Zero\n",
        "def closest_zero(nums):\n",
        "    closest=nums[0]\n",
        "    for num in nums:\n",
        "      if abs(num)<=abs(closest):\n",
        "        if abs(num)==abs(closest):\n",
        "          closest=max(closest,num)\n",
        "        else:\n",
        "          closest=num\n",
        "      else:\n",
        "        continue\n",
        "    return closest\n",
        "print(closest_zero([2,1,1,-1,100000]))"
      ],
      "metadata": {
        "colab": {
          "base_uri": "https://localhost:8080/"
        },
        "id": "3mzot5SZ1lMB",
        "outputId": "1a7aeda7-3b91-4aec-c1f6-85fc68f2d3c4"
      },
      "execution_count": null,
      "outputs": [
        {
          "output_type": "stream",
          "name": "stdout",
          "text": [
            "1\n"
          ]
        }
      ]
    },
    {
      "cell_type": "code",
      "source": [
        "# 1768. Merge Strings Alternately\n",
        "from collections import deque\n",
        "def function(word1,word2):\n",
        "    word1=deque(word1)\n",
        "    word2=deque(word2)\n",
        "    result=\"\"\n",
        "    while word1 or word2:\n",
        "      if word1:\n",
        "          result +=word1.popleft()\n",
        "      if word2:\n",
        "          result +=word2.popleft()\n",
        "    return result\n",
        "word1 = \"ab\"\n",
        "word2 = \"pqrs\"\n",
        "print(function(word1,word2))\n"
      ],
      "metadata": {
        "colab": {
          "base_uri": "https://localhost:8080/"
        },
        "id": "XpCmX_Nj6ihh",
        "outputId": "fe4f4899-aef0-4fba-c157-73537da04635"
      },
      "execution_count": null,
      "outputs": [
        {
          "output_type": "stream",
          "name": "stdout",
          "text": [
            "apbqrs\n"
          ]
        }
      ]
    },
    {
      "cell_type": "code",
      "source": [
        "# 13. Roman to Integer\n",
        "def romanToInt(string):\n",
        "    map_str={'I':1,'V':5,'X':10,'L':50,'C':100,'D':500,'M':1000}\n",
        "    count=0\n",
        "    for i in range(len(string)):\n",
        "        if i!=0 and string[i-1]=='I' and (string[i]=='V' or string[i]=='X'):\n",
        "            count +=(map_str[string[i]]-map_str['I'])-map_str['I']\n",
        "        elif i!=0 and string[i-1]=='X' and (string[i]=='L' or string[i]=='C'):\n",
        "            count +=(map_str[string[i]]-map_str['X'])-map_str['X']\n",
        "        elif i!=0 and string[i-1] == 'C' and (string[i] == 'D' or string[i] == 'M'):\n",
        "            count += (map_str[string[i]] - map_str['C']) - map_str['C']\n",
        "        else:\n",
        "            count +=map_str[string[i]]\n",
        "    return count\n",
        "print(romanToInt('MCMXCIV'))"
      ],
      "metadata": {
        "colab": {
          "base_uri": "https://localhost:8080/"
        },
        "id": "Hz4zCAnK8C_4",
        "outputId": "b0a58d25-3f27-4835-9774-248ca29a4792"
      },
      "execution_count": null,
      "outputs": [
        {
          "output_type": "stream",
          "name": "stdout",
          "text": [
            "1994\n"
          ]
        }
      ]
    },
    {
      "cell_type": "code",
      "source": [
        "# 392. Is Subsequence\n",
        "def isSubsequence(s,t):\n",
        "\n",
        "  if s==\"\": return True\n",
        "  j=0\n",
        "  for i in range(len(t)):\n",
        "      if s[j]==t[i]:\n",
        "          if j==len(s)-1:\n",
        "            return True\n",
        "          j+=1\n",
        "      else:\n",
        "          continue\n",
        "  return False\n",
        "\n",
        "s = \"aza\"\n",
        "t = \"abzba\"\n",
        "print(isSubsequence(s,t))"
      ],
      "metadata": {
        "id": "ynv5Q1Of3TVH",
        "colab": {
          "base_uri": "https://localhost:8080/"
        },
        "outputId": "18679732-606f-48f5-d96a-772844014d79"
      },
      "execution_count": null,
      "outputs": [
        {
          "output_type": "stream",
          "name": "stdout",
          "text": [
            "True\n"
          ]
        }
      ]
    },
    {
      "cell_type": "code",
      "source": [
        "# 14. Longest Common Prefix\n",
        "def longestCommonPrefix(strs):\n",
        "    if not strs:\n",
        "        return \"\"\n",
        "    n=len(strs)\n",
        "    min_len=len((min(strs,key=len)))\n",
        "    common_prefix=\"\"\n",
        "    for i in range(min_len):\n",
        "        char=strs[0][i]\n",
        "        j=1\n",
        "        while j<n:\n",
        "            if strs[j][i]==char:\n",
        "                j+=1\n",
        "            else:\n",
        "                return common_prefix\n",
        "        common_prefix +=char\n",
        "    return common_prefix\n",
        "\n",
        "strs = [\"dog\",\"racecar\",\"car\"]\n",
        "print(longestCommonPrefix(strs))"
      ],
      "metadata": {
        "id": "pQR9fJEbEzhh",
        "colab": {
          "base_uri": "https://localhost:8080/"
        },
        "outputId": "59b7ea48-db5d-4a5e-fdea-b1a34c8c1745"
      },
      "execution_count": null,
      "outputs": [
        {
          "output_type": "stream",
          "name": "stdout",
          "text": [
            "\n"
          ]
        }
      ]
    },
    {
      "cell_type": "markdown",
      "source": [
        "# Two Pointer (Problems)"
      ],
      "metadata": {
        "id": "JokPJntEesO0"
      }
    },
    {
      "cell_type": "code",
      "source": [
        "# 167 Two Sum-|| -input n sorted array\n",
        "def twoSum(nums,target):\n",
        "    left=0\n",
        "    right=len(nums)-1\n",
        "    while left<right:\n",
        "        sum=nums[left]+nums[right]\n",
        "        if sum==target:\n",
        "            return [left+1,right+1]\n",
        "        if sum<target:\n",
        "            left +=1\n",
        "        if sum>target:\n",
        "            right -=1\n",
        "nums=[2,7,11,15]\n",
        "target=9\n",
        "print(twoSum(nums,target))"
      ],
      "metadata": {
        "id": "CAgt3DkQEQYX",
        "colab": {
          "base_uri": "https://localhost:8080/"
        },
        "outputId": "6ff3fec2-96d4-4f86-9ec6-c3575e65a0aa"
      },
      "execution_count": null,
      "outputs": [
        {
          "output_type": "stream",
          "name": "stdout",
          "text": [
            "[1, 2]\n"
          ]
        }
      ]
    },
    {
      "cell_type": "code",
      "source": [
        "# 15. 3Sum\n",
        "def threeSum(nums):\n",
        "    nums.sort()\n",
        "    n=len(nums)\n",
        "    result=[]\n",
        "\n",
        "    for i in range(n):\n",
        "        if nums[i]>0:\n",
        "            break\n",
        "        if i>0 and nums[i]==nums[i-1]:\n",
        "            continue\n",
        "\n",
        "        low,high=i+1,n-1\n",
        "\n",
        "        while low<high:\n",
        "            sum=nums[i]+nums[low]+nums[high]\n",
        "            if sum == 0:\n",
        "                result.append([nums[i],nums[low],nums[high]])\n",
        "                low +=1\n",
        "                high -=1\n",
        "                while low<high and nums[low]==nums[low-1]:\n",
        "                    low +=1\n",
        "                while low<high and nums[high]==nums[high+1]:\n",
        "                    high -=1\n",
        "            elif sum<0:\n",
        "                low +=1\n",
        "            else:\n",
        "                high -=1\n",
        "    return result\n",
        "\n",
        "nums=[0,0,0,0]\n",
        "print(threeSum(nums))"
      ],
      "metadata": {
        "colab": {
          "base_uri": "https://localhost:8080/"
        },
        "id": "EkbyF-i1OAsY",
        "outputId": "b1c2be01-33fd-4c7e-9ed9-1acc0faaf038"
      },
      "execution_count": null,
      "outputs": [
        {
          "output_type": "stream",
          "name": "stdout",
          "text": [
            "[[0, 0, 0]]\n"
          ]
        }
      ]
    },
    {
      "cell_type": "code",
      "source": [
        "# 125. Valid Palindrome\n",
        "def validPalindrome(s):\n",
        "    # native solution -------------------------------\n",
        "    # char_list=[]\n",
        "    # for char in s:\n",
        "    #     if char.isalnum():\n",
        "    #         char_list.append(char.lower())\n",
        "    # i=0\n",
        "    # j=len(char_list)-1\n",
        "    # while i<j:\n",
        "    #     if char_list[i]==char_list[j]:\n",
        "    #         i +=1\n",
        "    #         j -=1\n",
        "    #     else:\n",
        "    #         return False\n",
        "    # return True\n",
        "\n",
        "\n",
        "    # more optimize solution-----------------------\n",
        "    i=0\n",
        "    j=len(s)-1\n",
        "    while i<j:\n",
        "        if s[i].isalnum() != True:i +=1\n",
        "        elif s[j].isalnum() != True:j -=1\n",
        "        else:\n",
        "            if s[i].lower() == s[j].lower():\n",
        "                i +=1\n",
        "                j -=1\n",
        "            else:\n",
        "                return False\n",
        "    return True\n",
        "s = \"A man, a plan, a canal: Panama\"\n",
        "print(validPalindrome(s))"
      ],
      "metadata": {
        "colab": {
          "base_uri": "https://localhost:8080/"
        },
        "id": "wBrm9w-OQghP",
        "outputId": "64586508-4a70-4239-f440-f191ad0d689b"
      },
      "execution_count": null,
      "outputs": [
        {
          "output_type": "stream",
          "name": "stdout",
          "text": [
            "True\n"
          ]
        }
      ]
    },
    {
      "cell_type": "code",
      "source": [
        "# 11. Container with Most Water\n",
        "def Container(nums):\n",
        "    max_value=0\n",
        "    i=0\n",
        "    j=len(nums)-1\n",
        "    while i<j:\n",
        "        count=min(nums[i],nums[j])*(j-i)\n",
        "        max_value=max(max_value,count)\n",
        "        if nums[i]<nums[j]:\n",
        "            i +=1\n",
        "        else:\n",
        "            j -=1\n",
        "    return max_value\n",
        "\n",
        "nums=[1,8,6,2,5,4,8,3,7]\n",
        "print(Container(nums))"
      ],
      "metadata": {
        "colab": {
          "base_uri": "https://localhost:8080/"
        },
        "id": "jRHm8Cc55f7O",
        "outputId": "1dbcb493-fac8-4a6e-cbba-a672ff6362e4"
      },
      "execution_count": null,
      "outputs": [
        {
          "output_type": "stream",
          "name": "stdout",
          "text": [
            "1\n"
          ]
        }
      ]
    },
    {
      "cell_type": "code",
      "source": [
        "# 18. 4Sum\n",
        "def fourSum(nums,k):\n",
        "    nums.sort()\n",
        "    n=len(nums)\n",
        "    result=[]\n",
        "\n",
        "    for i in range(n):\n",
        "        if i>0 and nums[i]==nums[i-1]:\n",
        "            continue\n",
        "        for j in range(i+1,n):\n",
        "            if j>i+1 and nums[j]==nums[j-1]:\n",
        "              continue\n",
        "            low=j+1\n",
        "            high=n-1\n",
        "            while low<high:\n",
        "                sum=nums[i]+nums[j]+nums[low]+nums[high]\n",
        "                if sum == k:\n",
        "                    result.append([nums[i],nums[j],nums[low],nums[high]])\n",
        "                    low +=1\n",
        "                    high -=1\n",
        "                    while low<high and nums[low]==nums[low-1]:\n",
        "                        low +=1\n",
        "                    while low<high and nums[high]==nums[high+1]:\n",
        "                        high -=1\n",
        "                elif sum<k:\n",
        "                    low +=1\n",
        "                else:\n",
        "                    high -=1\n",
        "    return result\n",
        "nums = [1,0,-1,0,-2,2]\n",
        "target = 0\n",
        "\n",
        "print(fourSum(nums,target))"
      ],
      "metadata": {
        "colab": {
          "base_uri": "https://localhost:8080/"
        },
        "id": "qMdQChxl-3d4",
        "outputId": "e6085696-7e61-4c87-f0d9-e5bfbfe515bf"
      },
      "execution_count": null,
      "outputs": [
        {
          "output_type": "stream",
          "name": "stdout",
          "text": [
            "[[-2, -1, 1, 2], [-2, 0, 0, 2], [-1, 0, 0, 1]]\n"
          ]
        }
      ]
    },
    {
      "cell_type": "code",
      "source": [
        "# 16. 3Sum Closest\n",
        "def threeSum_Closest(nums,k):\n",
        "    nums.sort()\n",
        "    n=len(nums)\n",
        "\n",
        "    closest=float('inf')\n",
        "    distance=float('inf')\n",
        "\n",
        "    for i in range(n):\n",
        "        if i>0 and nums[i]==nums[i-1]:\n",
        "            continue\n",
        "        low=i+1\n",
        "        high=n-1\n",
        "\n",
        "        while low<high:\n",
        "            sum=nums[i]+nums[low]+nums[high]\n",
        "            temp=abs(sum-k)\n",
        "            if temp<distance:\n",
        "                distance=temp\n",
        "                closest=sum\n",
        "            elif sum<k:\n",
        "                low +=1\n",
        "            else:\n",
        "                high -=1\n",
        "    return closest\n",
        "nums = [1,2,1,-2]\n",
        "target = 3\n",
        "\n",
        "print(threeSum_Closest(nums,target))"
      ],
      "metadata": {
        "id": "kKIijxDpOW7m",
        "colab": {
          "base_uri": "https://localhost:8080/"
        },
        "outputId": "019539f1-9102-48f4-b56e-031824106575"
      },
      "execution_count": null,
      "outputs": [
        {
          "output_type": "stream",
          "name": "stdout",
          "text": [
            "4\n"
          ]
        }
      ]
    },
    {
      "cell_type": "code",
      "source": [
        "# 27. Remove Element\n",
        "def remove_element(nums,val):\n",
        "    i=0\n",
        "    j=len(nums)\n",
        "    while(i<j):\n",
        "        if(nums[i]==val):\n",
        "            nums[i]=nums[j-1]\n",
        "            j-=1\n",
        "        else:\n",
        "            i+=1\n",
        "    return i\n",
        "nums=[0,1,2,2,3,0,4,2]\n",
        "val=2\n",
        "print(remove_element(nums,val))"
      ],
      "metadata": {
        "colab": {
          "base_uri": "https://localhost:8080/"
        },
        "id": "dQzFVrtVZt_k",
        "outputId": "54d74e73-cafd-43f7-e9a0-b31513810120"
      },
      "execution_count": null,
      "outputs": [
        {
          "output_type": "stream",
          "name": "stdout",
          "text": [
            "5\n"
          ]
        }
      ]
    },
    {
      "cell_type": "markdown",
      "source": [
        "# Sliding Windows (problems)"
      ],
      "metadata": {
        "id": "K-qxt5CFFKh-"
      }
    },
    {
      "cell_type": "code",
      "source": [
        "# 1004. Max Consecutive Ones III\n",
        "def longestOnes(nums,k):\n",
        "    left=0\n",
        "    max_consecutive=0\n",
        "    n=len(nums)\n",
        "    zero_count=0\n",
        "\n",
        "    for right in range(n):\n",
        "        if nums[right]==0:\n",
        "            zero_count +=1\n",
        "        while zero_count>k:\n",
        "            if nums[left]==0:\n",
        "                zero_count-=1\n",
        "            left +=1\n",
        "        max_consecutive=max(max_consecutive,right-left+1)\n",
        "\n",
        "\n",
        "    return max_consecutive\n",
        "\n",
        "nums = [0,0,1,1,0,0,1,1,1,0,1,1,0,0,0,1,1,1,1]\n",
        "k = 3\n",
        "print(longestOnes(nums,k))"
      ],
      "metadata": {
        "id": "gzPsa95ibAeF",
        "colab": {
          "base_uri": "https://localhost:8080/"
        },
        "outputId": "a78a1166-a61b-42cc-a1e7-f01bee164adf"
      },
      "execution_count": null,
      "outputs": [
        {
          "output_type": "stream",
          "name": "stdout",
          "text": [
            "10\n"
          ]
        }
      ]
    },
    {
      "cell_type": "code",
      "source": [
        "# 3. Longest Substring Without Repeating Characters\n",
        "def lengthOfLongestSubstring(s):\n",
        "    temp_set=set()\n",
        "    max_substr=0\n",
        "    n=len(s)\n",
        "    # this is my native approach to solve this problem-----------------\n",
        "\n",
        "    # for i in range(n):\n",
        "    #     j=i\n",
        "    #     if j+1<n and s[j]==s[j+1]:\n",
        "    #         max_substr=max(max_substr,j-i+1)\n",
        "    #     while j<n and s[j] not in temp_set:\n",
        "    #         temp_set.add(s[j])\n",
        "    #         j +=1\n",
        "    #     max_substr=max(max_substr,j-i)\n",
        "    #     temp_set.clear()\n",
        "    # return max_substr\n",
        "\n",
        "    # this is my optimized approach to solve this problem--------------------------\n",
        "\n",
        "    i=0\n",
        "    for j in range(n):\n",
        "        while s[j] in temp_set:\n",
        "            temp_set.remove(s[i])\n",
        "            i +=1\n",
        "        max_substr=max(max_substr,j-i+1)\n",
        "        temp_set.add(s[j])\n",
        "    return max_substr\n",
        "\n",
        "s = \"abcda\"\n",
        "print(lengthOfLongestSubstring(s))"
      ],
      "metadata": {
        "colab": {
          "base_uri": "https://localhost:8080/"
        },
        "id": "59Y5-9VtFBCe",
        "outputId": "f686244d-7964-4ca6-f892-e1ab03b5561b"
      },
      "execution_count": null,
      "outputs": [
        {
          "output_type": "stream",
          "name": "stdout",
          "text": [
            "4\n"
          ]
        }
      ]
    },
    {
      "cell_type": "code",
      "source": [
        "# 424. Longest Repeating Character Replacement\n",
        "def characterReplacement(string,k):\n",
        "    count = [0]*26\n",
        "    max_len=0\n",
        "    i=0\n",
        "    result = 0\n",
        "\n",
        "    for j in range(len(string)):\n",
        "        index=ord(string[j])-65\n",
        "        count[index] +=1\n",
        "        result = max(result,count[index])\n",
        "        while (j-i+1) - result > k :\n",
        "            index = ord(string[i])-65\n",
        "            count[index] -=1\n",
        "            i +=1\n",
        "        max_len = max(max_len,j-i+1)\n",
        "    return max_len\n",
        "\n",
        "s = \"ABAB\"\n",
        "k = 2\n",
        "print(characterReplacement(s,k))"
      ],
      "metadata": {
        "colab": {
          "base_uri": "https://localhost:8080/"
        },
        "id": "Fp8NRYdId0gP",
        "outputId": "404a7e93-eab8-49db-ee28-d159d1592949"
      },
      "execution_count": null,
      "outputs": [
        {
          "output_type": "stream",
          "name": "stdout",
          "text": [
            "4\n"
          ]
        }
      ]
    },
    {
      "cell_type": "code",
      "source": [
        "# 209. Minimum Size Subarray Sum\n",
        "def minSubArrayLen(nums,target):\n",
        "      current_sum = 0\n",
        "      min_len=float('inf')\n",
        "      i=0\n",
        "      for j in range(len(nums)):\n",
        "          current_sum += nums[j]\n",
        "          if current_sum>=target:\n",
        "              min_len =min(min_len,j-i+1)\n",
        "          while current_sum>target:\n",
        "              current_sum -= nums[i]\n",
        "              i +=1\n",
        "              if current_sum>=target:\n",
        "                  min_len = min(min_len,j-i+1)\n",
        "      return min_len if min_len!=float('inf') else 0\n",
        "\n",
        "target = 11\n",
        "nums = [1,2,3,4,5]\n",
        "print(minSubArrayLen(nums,target))"
      ],
      "metadata": {
        "colab": {
          "base_uri": "https://localhost:8080/"
        },
        "id": "rFeo1BgK5RYC",
        "outputId": "82c6f19c-7cc6-4f0e-8cb2-de9c0b86bf2a"
      },
      "execution_count": null,
      "outputs": [
        {
          "output_type": "stream",
          "name": "stdout",
          "text": [
            "3\n"
          ]
        }
      ]
    },
    {
      "cell_type": "code",
      "source": [
        "def function(nums,k):\n",
        "    current_sum=sum(nums[:k])\n",
        "    max_sum=current_sum\n",
        "    left=0\n",
        "    right=k\n",
        "    while right<len(nums):\n",
        "        current_sum +=(nums[right]-nums[left])\n",
        "        max_sum = max(max_sum,current_sum)\n",
        "        left +=1\n",
        "        right +=1\n",
        "    return max_sum/k\n",
        "\n",
        "\n",
        "nums=[-1]\n",
        "k = 1\n",
        "print(function(nums,k))"
      ],
      "metadata": {
        "colab": {
          "base_uri": "https://localhost:8080/"
        },
        "id": "yeHpLZr0nlmK",
        "outputId": "6b3bee27-3687-48b7-9efc-20707ca5d0de"
      },
      "execution_count": null,
      "outputs": [
        {
          "output_type": "stream",
          "name": "stdout",
          "text": [
            "-1.0\n"
          ]
        }
      ]
    },
    {
      "cell_type": "code",
      "source": [
        "\n",
        "\n"
      ],
      "metadata": {
        "colab": {
          "base_uri": "https://localhost:8080/"
        },
        "id": "-zOb9O4SzVFU",
        "outputId": "02715651-cc56-4669-b5c3-49cfef95fa3f"
      },
      "execution_count": null,
      "outputs": [
        {
          "output_type": "stream",
          "name": "stdout",
          "text": [
            "True\n"
          ]
        }
      ]
    },
    {
      "cell_type": "code",
      "source": [],
      "metadata": {
        "colab": {
          "base_uri": "https://localhost:8080/"
        },
        "id": "9Gl-83ut0Jkm",
        "outputId": "692b5dd8-6afd-463a-8cdb-795e61c2a66b"
      },
      "execution_count": null,
      "outputs": [
        {
          "output_type": "stream",
          "name": "stdout",
          "text": [
            "oooll\n",
            "Counter({'o': 3, 'l': 2})\n",
            "oolle\n",
            "Counter({'o': 2, 'l': 2, 'e': 1})\n",
            "olleo\n",
            "Counter({'o': 2, 'l': 2, 'e': 1})\n",
            "lleoo\n",
            "Counter({'l': 2, 'o': 2, 'e': 1})\n",
            "leooo\n",
            "Counter({'o': 3, 'l': 1, 'e': 1})\n",
            "eoool\n",
            "Counter({'o': 3, 'e': 1, 'l': 1})\n",
            "ooole\n",
            "Counter({'o': 3, 'l': 1, 'e': 1})\n",
            "ooleh\n",
            "Counter({'o': 2, 'l': 1, 'e': 1, 'h': 1})\n",
            "False\n"
          ]
        }
      ]
    },
    {
      "cell_type": "code",
      "source": [
        "# 567. Permutation in String\n",
        "\n",
        "def checkInclusion(s1,s2):\n",
        "    s1_len = len(s1)\n",
        "    s2_len = len(s2)\n",
        "\n",
        "    if s1_len > s2_len:\n",
        "        return False\n",
        "    s1_count = [0] * 26\n",
        "    s2_count = [0] * 26\n",
        "    for i in range(s1_len):\n",
        "        s1_count[ord(s1[i]) - 97] +=1\n",
        "        s2_count[ord(s2[i]) - 97] +=1\n",
        "    if s1_count == s2_count:\n",
        "        return True\n",
        "\n",
        "    for j in range(s1_len,s2_len):\n",
        "        s2_count[ord(s2[j]) - 97] +=1\n",
        "        s2_count[ord(s2[j-s1_len]) -97] -=1\n",
        "        if s1_count == s2_count:\n",
        "            return True\n",
        "    return False\n",
        "\n",
        "s1 = \"hello\"\n",
        "s2 = \"ooolleoooleh\"\n",
        "print(checkInclusion(s1,s2))\n",
        "\n",
        "\n",
        "\n",
        "\n",
        "\n",
        "# Native code using Hash map ------------------------------\n",
        "# from collections import Counter\n",
        "\n",
        "# def function1(s1,s2):\n",
        "#       map_s1=Counter(s1)\n",
        "#       def match_function(temp_str):\n",
        "#           map_temp=Counter(temp_str)\n",
        "#           print(map_temp)\n",
        "#           for char in map_temp:\n",
        "#               if char not in map_s1 or map_temp[char] != map_s1[char]:\n",
        "#                   return False\n",
        "#           return True\n",
        "#       k=len(s1)\n",
        "#       n=len(s2)\n",
        "#       if k>n:\n",
        "#           return False\n",
        "#       left=0\n",
        "#       right=k\n",
        "#       while right<n+1:\n",
        "#           temp=s2[left:right]\n",
        "#           print(temp)\n",
        "#           if match_function(temp):\n",
        "#               return True\n",
        "#           else:\n",
        "#               left +=1\n",
        "#               right +=1\n",
        "#       return False\n",
        "# s1 = \"hello\"\n",
        "# s2 = \"ooolleoooleh\"\n",
        "# print(function1(s1,s2))\n",
        "\n",
        "\n",
        "\n",
        "\n",
        "\n",
        "\n",
        "# Native code using (backtracking ---)\n",
        "# def function(s1,s2):\n",
        "#       def backtrack(path, used, s1, s2):\n",
        "#           if len(path) == len(s2):\n",
        "#               perm = ''.join(path)\n",
        "#               return perm == s1\n",
        "\n",
        "#           for i in range(len(s2)):\n",
        "#               if used[i]:\n",
        "#                   continue\n",
        "#               path.append(s2[i])\n",
        "#               used[i] = True\n",
        "#               if backtrack(path, used, s1, s2):\n",
        "#                   return True\n",
        "#               path.pop()\n",
        "#               used[i] = False\n",
        "\n",
        "#           return False\n",
        "#       k=len(s1)\n",
        "#       n=len(s2)\n",
        "#       if k>n:\n",
        "#           return False\n",
        "#       left=0\n",
        "#       right=k\n",
        "#       while right<n+1:\n",
        "#           temp=s2[left:right]\n",
        "#           used = [False] * len(s2)\n",
        "#           if backtrack([],used,s1,temp):\n",
        "#               return True\n",
        "#           else:\n",
        "#               left +=1\n",
        "#               right +=1\n",
        "#       return False\n",
        "\n",
        "# s1 = \"abc\"\n",
        "# s2 = \"bbbca\"\n",
        "# print(function(s1,s2))"
      ],
      "metadata": {
        "colab": {
          "base_uri": "https://localhost:8080/"
        },
        "id": "86vlayOfLqNy",
        "outputId": "d217d353-4d17-44be-e7b2-a339560692d8"
      },
      "execution_count": null,
      "outputs": [
        {
          "output_type": "stream",
          "name": "stdout",
          "text": [
            "False\n"
          ]
        }
      ]
    },
    {
      "cell_type": "code",
      "source": [
        "# 30. Substring with Concatenation of All Words( sliding window )\n",
        "from collections import Counter\n",
        "from copy import deepcopy\n",
        "def substring_concatenation(s,words):\n",
        "    word_map = Counter(words)\n",
        "    word_len = len(words[0])\n",
        "    i = 0\n",
        "    j=len(words[0])*len(words)\n",
        "    result = []\n",
        "    temp = deepcopy(word_map)\n",
        "    while j < len(s)+1:\n",
        "        for k in range(i,j+1,word_len):\n",
        "            temp_str = s[k:k+word_len]\n",
        "            if temp_str in temp:\n",
        "                temp[temp_str] -=1\n",
        "                if temp[temp_str] == 0:\n",
        "                    del temp[temp_str]\n",
        "                    if len(temp) == 0:\n",
        "                        result.append(i)\n",
        "                        temp = deepcopy(word_map)\n",
        "                        break\n",
        "            else:\n",
        "                temp = deepcopy(word_map)\n",
        "                break\n",
        "        i +=1\n",
        "        j +=1\n",
        "    return result\n",
        "print(substring_concatenation(\"wordgoodgoodgoodbestword\",[\"word\",\"good\",\"best\",\"good\"]))"
      ],
      "metadata": {
        "id": "XIhNc7Y5sqYr"
      },
      "execution_count": null,
      "outputs": []
    },
    {
      "cell_type": "markdown",
      "source": [
        "1. Word-Length Stepping:\n",
        "\n",
        "- Jumps by word_len instead of single characters\n",
        "\n",
        "- Reduces iterations from O(n) to O(n/word_len)\n",
        "\n",
        "2. Early Termination:\n",
        "\n",
        "- Immediately resets when encountering a word not in the dictionary\n",
        "\n",
        "- Avoids unnecessary checks for invalid substrings\n",
        "\n",
        "3. Efficient Frequency Tracking:\n",
        "\n",
        "- Uses defaultdict for O(1) access\n",
        "\n",
        "- Only updates counts when necessary\n",
        "\n",
        "4. Sliding Window Adjustment:\n",
        "\n",
        "- Dynamically shrinks window when word counts exceed\n",
        "\n",
        "- Maintains optimal window size throughout"
      ],
      "metadata": {
        "id": "kWRGlo1ns3lJ"
      }
    },
    {
      "cell_type": "code",
      "source": [
        "# optimized code ------------------\n",
        "from collections import defaultdict\n",
        "\n",
        "def substring_concatenation(s, words):\n",
        "    if not s or not words:\n",
        "        return []\n",
        "\n",
        "    word_len = len(words[0])\n",
        "    total_len = word_len * len(words)\n",
        "    n = len(s)\n",
        "    result = []\n",
        "\n",
        "    # Create frequency map\n",
        "    word_freq = defaultdict(int)\n",
        "    for word in words:\n",
        "        word_freq[word] += 1\n",
        "\n",
        "    # Check all possible starting positions (0 to word_len-1)\n",
        "    for i in range(word_len):\n",
        "        left = i\n",
        "        count = 0\n",
        "        current_freq = defaultdict(int)\n",
        "\n",
        "        # Slide window word by word\n",
        "        for j in range(i, n - word_len + 1, word_len):\n",
        "            word = s[j:j+word_len]\n",
        "\n",
        "            if word in word_freq:\n",
        "                current_freq[word] += 1\n",
        "                count += 1\n",
        "\n",
        "                # Shrink window if word count exceeds\n",
        "                while current_freq[word] > word_freq[word]:\n",
        "                    left_word = s[left:left+word_len]\n",
        "                    current_freq[left_word] -= 1\n",
        "                    count -= 1\n",
        "                    left += word_len\n",
        "\n",
        "\n",
        "                # Found valid concatenation\n",
        "                if count == len(words):\n",
        "                    result.append(left)\n",
        "                    # Move window forward\n",
        "                    left_word = s[left:left+word_len]\n",
        "                    current_freq[left_word] -= 1\n",
        "                    count -= 1\n",
        "                    left += word_len\n",
        "\n",
        "            else:\n",
        "                # Reset window if invalid word found\n",
        "                current_freq.clear()\n",
        "                count = 0\n",
        "                left = j + word_len\n",
        "\n",
        "    return result\n",
        "print(substring_concatenation(\"wordgoodgoodgoodbestword\",[\"word\",\"good\",\"best\",\"good\"]))"
      ],
      "metadata": {
        "id": "oMQsGhmnsgoe"
      },
      "execution_count": null,
      "outputs": []
    },
    {
      "cell_type": "code",
      "source": [
        "# 26. Remove Duplicates from Sorted Array\n",
        "\n",
        "def remove_duplicates(nums):\n",
        "    k = 0\n",
        "    for i in range(len(nums)):\n",
        "        if i>0 and nums[i] == nums[i-1]:\n",
        "            continue\n",
        "        else:\n",
        "            nums[k] = nums[i]\n",
        "            k +=1\n",
        "    return k,nums\n",
        "nums = [0,0,1,1,1,2,2,3,3,4]\n",
        "print(remove_duplicates(nums))"
      ],
      "metadata": {
        "id": "WLmilFONAqZb",
        "colab": {
          "base_uri": "https://localhost:8080/"
        },
        "outputId": "01322b54-f5b2-46d1-cd87-cf9ce94991b8"
      },
      "execution_count": null,
      "outputs": [
        {
          "output_type": "stream",
          "name": "stdout",
          "text": [
            "(5, [0, 1, 2, 3, 4, 2, 2, 3, 3, 4])\n"
          ]
        }
      ]
    },
    {
      "cell_type": "code",
      "source": [
        "# 169. Majority Element\n",
        "def majority_element(nums):\n",
        "    count_duplicate = dict()\n",
        "    for num in nums:\n",
        "        if num in count_duplicate:\n",
        "            count_duplicate[num] +=1\n",
        "        else:\n",
        "            count_duplicate[num] = 1\n",
        "    count_duplicate = sorted(count_duplicate.items(),key = lambda x:x[1],reverse=True)\n",
        "    return count_duplicate[0][0]\n",
        "nums = [2,2,1,1,1,2,2]\n",
        "print(majority_element(nums))"
      ],
      "metadata": {
        "colab": {
          "base_uri": "https://localhost:8080/"
        },
        "id": "RHBFoGOz3I-D",
        "outputId": "93601cf9-f685-4fba-afc8-b4f82354089e"
      },
      "execution_count": null,
      "outputs": [
        {
          "output_type": "stream",
          "name": "stdout",
          "text": [
            "2\n",
            "2\n"
          ]
        }
      ]
    },
    {
      "cell_type": "code",
      "source": [
        "# 58. Length of Last Word\n",
        "s = \"   fly me   to   the moon  \"\n",
        "print(s.strip().split()[-1])\n",
        "\n",
        "\n",
        "#another way to solve this problem -----\n",
        "# s = s.strip()\n",
        "# count = 0\n",
        "# for i in range(len(s)-1,-1,-1):\n",
        "#     if \" \" == s[i]:\n",
        "#         break\n",
        "#     else:\n",
        "#         count +=1\n",
        "# return count"
      ],
      "metadata": {
        "colab": {
          "base_uri": "https://localhost:8080/"
        },
        "id": "rm-sGDudGQOt",
        "outputId": "446de749-020e-426c-dea9-465d7f9e2d85"
      },
      "execution_count": 3,
      "outputs": [
        {
          "output_type": "stream",
          "name": "stdout",
          "text": [
            "moon\n"
          ]
        }
      ]
    },
    {
      "cell_type": "code",
      "source": [
        "# 28. Find the Index of the First Occurrence in a String\n",
        "def first_occurence_index(haystack,needle):\n",
        "        n1= len(haystack)\n",
        "        n2= len(needle)\n",
        "        if n2>n1:\n",
        "            return -1\n",
        "\n",
        "        # one of the way to solve this problem --------\n",
        "        # i = 0\n",
        "        # j = n2\n",
        "        # while j<=n1:\n",
        "        #     if haystack[i:j] == needle:\n",
        "        #         return i\n",
        "        #     else:\n",
        "        #         i +=1\n",
        "        #         j +=1\n",
        "        # return -1\n",
        "\n",
        "        # more efficient way to solve -------\n",
        "        for i in range(n1):\n",
        "            if i+n2<=n1 and haystack[i:i+n2] == needle:\n",
        "                return i\n",
        "            else:\n",
        "                continue\n",
        "        return -1\n",
        "\n",
        "haystack = \"leetcode\"\n",
        "needle = \"leeto\"\n",
        "print(first_occurence_index(haystack,needle))"
      ],
      "metadata": {
        "colab": {
          "base_uri": "https://localhost:8080/"
        },
        "id": "DU7bk_ASN0FT",
        "outputId": "ede11aa4-ba80-488c-f2ca-e5175ae708f8"
      },
      "execution_count": 4,
      "outputs": [
        {
          "output_type": "stream",
          "name": "stdout",
          "text": [
            "-1\n"
          ]
        }
      ]
    }
  ]
}