{
  "nbformat": 4,
  "nbformat_minor": 0,
  "metadata": {
    "colab": {
      "provenance": [],
      "authorship_tag": "ABX9TyOjJDy+BoZv91+xhi/sJT+r",
      "include_colab_link": true
    },
    "kernelspec": {
      "name": "python3",
      "display_name": "Python 3"
    },
    "language_info": {
      "name": "python"
    }
  },
  "cells": [
    {
      "cell_type": "markdown",
      "metadata": {
        "id": "view-in-github",
        "colab_type": "text"
      },
      "source": [
        "<a href=\"https://colab.research.google.com/github/shuvad23/Mastering-Algorithms-and-Data-Structures-in-Python/blob/main/DSA(codesignal)_part03.ipynb\" target=\"_parent\"><img src=\"https://colab.research.google.com/assets/colab-badge.svg\" alt=\"Open In Colab\"/></a>"
      ]
    },
    {
      "cell_type": "markdown",
      "source": [
        "# Stack\n",
        "\n",
        "A stack is a linear data structure that follows the LIFO principle — Last In, First Out. This means that the last element added (pushed) to the stack will be the first one to be removed (popped).\n",
        "\n",
        "🧱 Real-Life Analogy:\n",
        "Think of a stack of plates:\n",
        "\n",
        "  1. You add a new plate on top.\n",
        "\n",
        "  2. You remove the top plate first.\n",
        "\n",
        "| Operation    | Description                                |\n",
        "| ------------ | ------------------------------------------ |\n",
        "| `push(x)`    | Add element `x` to the top                 |\n",
        "| `pop()`      | Remove and return the top element          |\n",
        "| `peek()`     | Return the top element without removing it |\n",
        "| `is_empty()` | Check if the stack is empty                |\n"
      ],
      "metadata": {
        "id": "3BkTNP40w56P"
      }
    },
    {
      "cell_type": "markdown",
      "source": [
        "### Lesson 01:\n",
        "Mastering Stacks: Concepts, Implementation, and Problem-Solving in Python."
      ],
      "metadata": {
        "id": "Gwj_3RjAzZ5-"
      }
    },
    {
      "cell_type": "code",
      "execution_count": null,
      "metadata": {
        "colab": {
          "base_uri": "https://localhost:8080/"
        },
        "id": "1Z_n809ukiY7",
        "outputId": "38fe56d1-9cb0-4e12-8992-0b673887eb29"
      },
      "outputs": [
        {
          "output_type": "stream",
          "name": "stdout",
          "text": [
            "hello world \n",
            "['', 'hello ']\n",
            "[]\n",
            "hello \n",
            "['']\n",
            "['hello world ']\n",
            "hello world \n",
            "['', 'hello ']\n",
            "[]\n",
            "hello world python \n",
            "['', 'hello ', 'hello world ']\n",
            "[]\n",
            "hello world \n",
            "['', 'hello ']\n",
            "['hello world python ']\n",
            "hello world python \n",
            "['', 'hello ', 'hello world ']\n",
            "[]\n"
          ]
        }
      ],
      "source": [
        "class Stack:\n",
        "  def __init__(self):\n",
        "    self.text=\"\"\n",
        "    self.history_check=[]\n",
        "    self.redo_check=[]\n",
        "  def push_back(self,text):\n",
        "    self.history_check.append(self.text)\n",
        "    self.text+=text\n",
        "  def pop_back(self):\n",
        "    if self.history_check:\n",
        "      self.redo_check.append(self.text)\n",
        "      self.text=self.history_check.pop()\n",
        "    else:\n",
        "      print(\"Stack is Empty\")\n",
        "  def re_back(self):\n",
        "    if self.redo_check:\n",
        "      self.history_check.append(self.text)\n",
        "      self.text=self.redo_check.pop()\n",
        "    else:\n",
        "      print(\"Stack is Empty\")\n",
        "  def display(self):\n",
        "    print(self.text)\n",
        "    print(self.history_check)\n",
        "    print(self.redo_check)\n",
        "stack=Stack()\n",
        "\n",
        "stack.push_back('hello ')\n",
        "stack.push_back('world ')\n",
        "stack.display()\n",
        "stack.pop_back()\n",
        "stack.display()\n",
        "stack.re_back()\n",
        "stack.display()\n",
        "stack.push_back('python ')\n",
        "stack.display()\n",
        "stack.pop_back()\n",
        "stack.display()\n",
        "stack.re_back()\n",
        "stack.display()"
      ]
    },
    {
      "cell_type": "code",
      "source": [
        "# assuming a stack size limit for this example\n",
        "class Stack:\n",
        "  def __init__(self):\n",
        "    self.text=\"\"\n",
        "    self.history_check=[]\n",
        "    self.redo_check=[]\n",
        "    self.maxLength=4\n",
        "  def push_back(self,text):\n",
        "    if(len(self.history_check)<self.maxLength):\n",
        "      self.history_check.append(self.text)\n",
        "      self.text+=text\n",
        "    else:\n",
        "      print(\"Stack is Full\")\n",
        "  def pop_back(self):\n",
        "    if self.history_check:\n",
        "      self.redo_check.append(self.text)\n",
        "      self.text=self.history_check.pop()\n",
        "    else:\n",
        "      print(\"Stack is Empty\")\n",
        "  def re_back(self):\n",
        "    if self.redo_check:\n",
        "      self.history_check.append(self.text)\n",
        "      self.text=self.redo_check.pop()\n",
        "    else:\n",
        "      print(\"Stack is Empty\")\n",
        "  def display(self):\n",
        "    print(self.text)\n",
        "    print(self.history_check)\n",
        "    print(self.redo_check)\n",
        "stack=Stack()\n",
        "\n",
        "stack.push_back('hello ')\n",
        "stack.push_back('world ')\n",
        "stack.display()\n",
        "stack.pop_back()\n",
        "stack.display()\n",
        "stack.re_back()\n",
        "stack.display()\n",
        "stack.push_back('python ')\n",
        "stack.display()\n",
        "stack.pop_back()\n",
        "stack.display()\n",
        "stack.re_back()\n",
        "stack.display()\n",
        "stack.push_back('Java ')\n",
        "stack.display()\n",
        "stack.push_back('C++')"
      ],
      "metadata": {
        "colab": {
          "base_uri": "https://localhost:8080/"
        },
        "id": "y7mUisdXuNAY",
        "outputId": "f5c981b5-d52a-4983-bb23-71d7dd8a9327"
      },
      "execution_count": null,
      "outputs": [
        {
          "output_type": "stream",
          "name": "stdout",
          "text": [
            "hello world \n",
            "['', 'hello ']\n",
            "[]\n",
            "hello \n",
            "['']\n",
            "['hello world ']\n",
            "hello world \n",
            "['', 'hello ']\n",
            "[]\n",
            "hello world python \n",
            "['', 'hello ', 'hello world ']\n",
            "[]\n",
            "hello world \n",
            "['', 'hello ']\n",
            "['hello world python ']\n",
            "hello world python \n",
            "['', 'hello ', 'hello world ']\n",
            "[]\n",
            "hello world python Java \n",
            "['', 'hello ', 'hello world ', 'hello world python ']\n",
            "[]\n",
            "Stack is Full\n"
          ]
        }
      ]
    },
    {
      "cell_type": "markdown",
      "source": [
        "### Lesson 02:\n",
        "Operating Stacks in Python: Practical Problem-Solving Approach."
      ],
      "metadata": {
        "id": "J-_bBomEzo45"
      }
    },
    {
      "cell_type": "code",
      "source": [
        "# Problem 1: Are Brackets Balanced?\n",
        "\n",
        "def bracket_balanced(text):\n",
        "    brackets = set([\"(\", \")\", \"[\", \"]\", \"{\", \"}\"])\n",
        "    bracket_map = {\"(\": \")\", \"[\": \"]\",  \"{\": \"}\"}\n",
        "    open_par = set([\"(\", \"[\", \"{\"])\n",
        "    stack = []\n",
        "\n",
        "    for char in text:\n",
        "      if char not in brackets:\n",
        "        continue\n",
        "      if char in open_par:\n",
        "        stack.append(char)\n",
        "      elif stack and char == bracket_map[stack[-1]]:\n",
        "        stack.pop()\n",
        "      else:\n",
        "        return False\n",
        "    return len(stack)==0\n",
        "text='{[()]}'\n",
        "print(bracket_balanced(text))\n",
        "text='{[(])}'\n",
        "print(bracket_balanced(text))\n"
      ],
      "metadata": {
        "colab": {
          "base_uri": "https://localhost:8080/"
        },
        "id": "azAbD5swzoMN",
        "outputId": "56c503aa-8c9a-4893-af93-4a5dcb27015c"
      },
      "execution_count": null,
      "outputs": [
        {
          "output_type": "stream",
          "name": "stdout",
          "text": [
            "True\n",
            "False\n"
          ]
        }
      ]
    },
    {
      "cell_type": "code",
      "source": [
        "def reverse_str(text):\n",
        "  stack=list(text)\n",
        "  reverse_string=''\n",
        "  while len(stack):\n",
        "    reverse_string+=stack.pop()\n",
        "  print(reverse_string)\n",
        "reverse_str('hello')"
      ],
      "metadata": {
        "colab": {
          "base_uri": "https://localhost:8080/"
        },
        "id": "QnKokOrf-Sl0",
        "outputId": "2d380f8d-bec6-45c4-e163-d24c64feb907"
      },
      "execution_count": null,
      "outputs": [
        {
          "output_type": "stream",
          "name": "stdout",
          "text": [
            "olleh\n"
          ]
        }
      ]
    },
    {
      "cell_type": "code",
      "source": [
        "def reverse_str(text):\n",
        "  print(text[::-1])\n",
        "reverse_str([\"h\",\"e\",\"l\",\"l\",\"o\"])"
      ],
      "metadata": {
        "colab": {
          "base_uri": "https://localhost:8080/"
        },
        "id": "zhMA1J2XA3O_",
        "outputId": "be8a79f4-eb84-4a63-a67e-49d555a850ee"
      },
      "execution_count": null,
      "outputs": [
        {
          "output_type": "stream",
          "name": "stdout",
          "text": [
            "['o', 'l', 'l', 'e', 'h']\n"
          ]
        }
      ]
    },
    {
      "cell_type": "code",
      "source": [
        "def reverse_str(text):\n",
        "  i=0\n",
        "  j=len(text)-1\n",
        "  while(i<=j):\n",
        "    text[i],text[j]=text[j],text[i]\n",
        "    i+=1\n",
        "    j-=1\n",
        "  print(text)\n",
        "reverse_str([\"h\",\"e\",\"l\",\"l\",\"o\"])"
      ],
      "metadata": {
        "colab": {
          "base_uri": "https://localhost:8080/"
        },
        "id": "48o12y_YCh2j",
        "outputId": "5b59e19d-9a8d-4971-b81a-bc63df5280e6"
      },
      "execution_count": null,
      "outputs": [
        {
          "output_type": "stream",
          "name": "stdout",
          "text": [
            "['o', 'l', 'l', 'e', 'h']\n"
          ]
        }
      ]
    },
    {
      "cell_type": "code",
      "source": [
        "def evaluate_postfix(expression):\n",
        "    stack = []\n",
        "    for element in expression.split(' '):\n",
        "        if element.isdigit():\n",
        "            stack.append(int(element))\n",
        "\n",
        "        else:\n",
        "            operand2 = stack.pop()\n",
        "            operand1 = stack.pop()\n",
        "\n",
        "            if element == '+': stack.append(operand1 + operand2)\n",
        "            elif element == '-': stack.append(operand1 - operand2)\n",
        "            elif element == '*': stack.append(operand1 * operand2)\n",
        "            elif element == '/': stack.append(operand1 / operand2)\n",
        "\n",
        "    return stack[0]\n",
        "expression='2 3 1 * + 9 -'\n",
        "print(evaluate_postfix(expression))"
      ],
      "metadata": {
        "colab": {
          "base_uri": "https://localhost:8080/"
        },
        "id": "qT3NKWkzFNJR",
        "outputId": "49893b1e-137e-498f-b682-0601a64bc772"
      },
      "execution_count": null,
      "outputs": [
        {
          "output_type": "stream",
          "name": "stdout",
          "text": [
            "-4\n"
          ]
        }
      ]
    },
    {
      "cell_type": "code",
      "source": [
        "# Problem 3: Postfix Expression Evaluation\n",
        "def evaluate_postfix2(exp):\n",
        "  stack=[]\n",
        "  for element in exp.split(' '):\n",
        "    if element.isdigit():\n",
        "      stack.append(element)\n",
        "    else:\n",
        "      operand2=stack.pop()\n",
        "      operand1=stack.pop()\n",
        "      if element=='+':\n",
        "        stack.append(str(int(operand1)+int(operand2)))\n",
        "      elif element=='-':\n",
        "        stack.append(str(int(operand1)-int(operand2)))\n",
        "      elif element=='*':\n",
        "        stack.append(str(int(operand1)*int(operand2)))\n",
        "      elif element=='/':\n",
        "        stack.append(str(int(operand1)/int(operand2)))\n",
        "  return stack[0]\n",
        "  pass\n",
        "exp='2 3 1 * + 9 -'\n",
        "print(evaluate_postfix2(exp))"
      ],
      "metadata": {
        "colab": {
          "base_uri": "https://localhost:8080/"
        },
        "id": "mcN-oFT2Fpo2",
        "outputId": "75068b4b-89ce-4f8e-9642-23fc1bb09037"
      },
      "execution_count": null,
      "outputs": [
        {
          "output_type": "stream",
          "name": "stdout",
          "text": [
            "-4\n"
          ]
        }
      ]
    },
    {
      "cell_type": "code",
      "source": [
        "def evaluate_postfix2(exp):\n",
        "  stack=[]\n",
        "  operator=['+','/','*','-']\n",
        "  for element in exp:\n",
        "    if element not in operator:\n",
        "      stack.append(int(float(element)))\n",
        "    else:\n",
        "      operand2=stack.pop()\n",
        "      operand1=stack.pop()\n",
        "      if element=='+':\n",
        "        stack.append(operand1+operand2)\n",
        "      elif element=='-':\n",
        "        stack.append(operand1-operand2)\n",
        "      elif element=='*':\n",
        "        stack.append(operand1*operand2)\n",
        "      elif element=='/':\n",
        "        stack.append(operand1//operand2) if operand1*operand2>=0 else stack.append(-(-operand1//operand2))\n",
        "  return int(stack[0])\n",
        "exp=[\"10\",\"6\",\"9\",\"3\",\"+\",\"-11\",\"*\",\"/\",\"*\",\"17\",\"+\",\"5\",\"+\"]\n",
        "print(evaluate_postfix2(exp))"
      ],
      "metadata": {
        "colab": {
          "base_uri": "https://localhost:8080/"
        },
        "id": "j02xk8N9HSAc",
        "outputId": "af3f2d0e-96d4-4f41-c258-b0af16ee8799"
      },
      "execution_count": null,
      "outputs": [
        {
          "output_type": "stream",
          "name": "stdout",
          "text": [
            "22\n"
          ]
        }
      ]
    },
    {
      "cell_type": "code",
      "source": [
        "# stock_span\n",
        "def stock_span(stock_price):\n",
        "  stack=[]\n",
        "  result=[]\n",
        "  for i in range(len(stock_price)):\n",
        "      while(len(stack) and stock_price[stack[-1]]<stock_price[i]):\n",
        "        stack.pop()\n",
        "      if stack:\n",
        "        result.append(i-stack[-1])\n",
        "        stack.append(i)\n",
        "      else:\n",
        "        result.append(i+1)\n",
        "        stack.append(i)\n",
        "  return result\n",
        "prices=[100,80,60,70,60,75,85]\n",
        "print(stock_span(prices))"
      ],
      "metadata": {
        "id": "Cu6PQ8oBIR5T",
        "colab": {
          "base_uri": "https://localhost:8080/"
        },
        "outputId": "cf96d59b-020b-49f1-9575-19979050ae8a"
      },
      "execution_count": null,
      "outputs": [
        {
          "output_type": "stream",
          "name": "stdout",
          "text": [
            "[1, 1, 1, 2, 1, 4, 6]\n"
          ]
        }
      ]
    },
    {
      "cell_type": "code",
      "source": [
        "# 901. Online Stock Span\n",
        "class StockSpanner(object):\n",
        "\n",
        "    def __init__(self):\n",
        "        self.stack = []  # Stack will store pairs: (price, span)\n",
        "        self.index=0\n",
        "    def next(self, price):\n",
        "        \"\"\"\n",
        "        :type price: int\n",
        "        :rtype: int\n",
        "        \"\"\"\n",
        "        span = 0\n",
        "        while self.stack and self.stack[-1][0] <= price:\n",
        "            self.stack.pop()\n",
        "        if self.stack:\n",
        "            span = self.index - self.stack[-1][1]\n",
        "            self.stack.append((price, self.index))\n",
        "            self.index += 1\n",
        "            return span\n",
        "        else:\n",
        "            self.stack.append((price, self.index))\n",
        "            self.index += 1\n",
        "            return self.index-span\n",
        "\n",
        "stockSpanner=StockSpanner()\n",
        "print(stockSpanner.next(31))\n",
        "print(stockSpanner.next(41))\n",
        "print(stockSpanner.next(48))\n",
        "print(stockSpanner.next(59))\n",
        "print(stockSpanner.next(79))"
      ],
      "metadata": {
        "colab": {
          "base_uri": "https://localhost:8080/"
        },
        "id": "ldkPjRrWCqbA",
        "outputId": "47e2efb9-c2f6-407e-c212-f15c5957f7a2"
      },
      "execution_count": null,
      "outputs": [
        {
          "output_type": "stream",
          "name": "stdout",
          "text": [
            "1\n",
            "2\n",
            "3\n",
            "4\n",
            "5\n"
          ]
        }
      ]
    },
    {
      "cell_type": "code",
      "source": [
        "#optimized code\n",
        "class StockSpanner(object):\n",
        "\n",
        "    def __init__(self):\n",
        "        self.stack = []  # Stack will store pairs: (price, span)\n",
        "        self.index=0\n",
        "    def next(self, price):\n",
        "        \"\"\"\n",
        "        :type price: int\n",
        "        :rtype: int\n",
        "        \"\"\"\n",
        "        span = 1\n",
        "        while self.stack and self.stack[-1][0] <= price:\n",
        "            span += self.stack.pop()[1]\n",
        "        self.stack.append((price, span))\n",
        "        return span\n",
        "\n",
        "stockSpanner=StockSpanner()\n",
        "print(stockSpanner.next(31))\n",
        "print(stockSpanner.next(41))\n",
        "print(stockSpanner.next(48))\n",
        "print(stockSpanner.next(59))\n",
        "print(stockSpanner.next(79))"
      ],
      "metadata": {
        "colab": {
          "base_uri": "https://localhost:8080/"
        },
        "id": "C2w8I7ctSmaR",
        "outputId": "d2ac34f4-743f-47fe-f51a-ee02495c1a5e"
      },
      "execution_count": null,
      "outputs": [
        {
          "output_type": "stream",
          "name": "stdout",
          "text": [
            "1\n",
            "2\n",
            "3\n",
            "4\n",
            "5\n"
          ]
        }
      ]
    },
    {
      "cell_type": "code",
      "source": [
        "# next_greater ----\n",
        "def next_greater(nums):\n",
        "  stack=[]\n",
        "  result=[]\n",
        "  for i in range(len(nums)-1,-1,-1):\n",
        "    while stack and stack[-1]<=nums[i]:\n",
        "      stack.pop()\n",
        "    if stack:\n",
        "      result.insert(0,stack[-1])\n",
        "      stack.append(nums[i])\n",
        "    else:\n",
        "      result.insert(0,-1)\n",
        "      stack.append(nums[i])\n",
        "  return result\n",
        "nums=[6,8,0,1,3]\n",
        "print(next_greater(nums))"
      ],
      "metadata": {
        "colab": {
          "base_uri": "https://localhost:8080/"
        },
        "id": "CwQX3-HvU7hz",
        "outputId": "47e1ae95-6b33-4c9b-c925-acb21f46bee3"
      },
      "execution_count": null,
      "outputs": [
        {
          "output_type": "stream",
          "name": "stdout",
          "text": [
            "[8, -1, 1, 3, -1]\n"
          ]
        }
      ]
    },
    {
      "cell_type": "code",
      "source": [
        "# next greater element-------\n",
        "def findGreater(nums):\n",
        "  result=[]\n",
        "  stack=[]\n",
        "  for i in range(len(nums)-1,-1,-1):\n",
        "    while stack and stack[-1]<=nums[i]:\n",
        "      stack.pop()\n",
        "    result.insert(0,stack[-1] if stack else -1)\n",
        "    stack.append(nums[i])\n",
        "  return result\n",
        "nums=[6,8,0,1,3]\n",
        "print(findGreater(nums))\n",
        "\n",
        "def findsmaller(nums):\n",
        "  result=[]\n",
        "  stack=[]\n",
        "  for num in nums:\n",
        "    while stack and stack[-1]>=num:\n",
        "      stack.pop()\n",
        "    result.append(stack[-1] if stack else -1)\n",
        "    stack.append(num)\n",
        "  return result\n",
        "nums=[6,8,0,1,3]\n",
        "print(findsmaller(nums))"
      ],
      "metadata": {
        "colab": {
          "base_uri": "https://localhost:8080/"
        },
        "id": "NMM--tfzcgSj",
        "outputId": "9f74fa2d-df67-4173-eff7-6218bf7ae017"
      },
      "execution_count": null,
      "outputs": [
        {
          "output_type": "stream",
          "name": "stdout",
          "text": [
            "[8, -1, 1, 3, -1]\n",
            "[-1, 6, -1, 0, 1]\n"
          ]
        }
      ]
    },
    {
      "cell_type": "code",
      "source": [
        "# 496. Next Greater Element I (brute force)\n",
        "def next_greater_1(nums1,nums2):\n",
        "  result=[]\n",
        "  for i in nums1:\n",
        "    index=nums2.index(i)\n",
        "    idx=index+1\n",
        "    while(idx<len(nums2)):\n",
        "      if(nums2[index]<nums2[idx]):\n",
        "        result.append(nums2[idx])\n",
        "        break\n",
        "      idx+=1\n",
        "    else:\n",
        "      result.append(-1)\n",
        "  return result\n",
        "a=[4,1,2,0]\n",
        "b=[3,4,2,0,1]\n",
        "print(next_greater_1(a,b))"
      ],
      "metadata": {
        "colab": {
          "base_uri": "https://localhost:8080/"
        },
        "id": "DzsKPVQSc2YU",
        "outputId": "2b8b8343-0e77-4a49-ef7e-d5f938fe1e1e"
      },
      "execution_count": null,
      "outputs": [
        {
          "output_type": "stream",
          "name": "stdout",
          "text": [
            "[-1, -1, -1, 1]\n"
          ]
        }
      ]
    },
    {
      "cell_type": "code",
      "source": [
        "# 496. Next Greater Element I (optimal)\n",
        "def next_greater_11(nums1,nums2):\n",
        "  stack=[]\n",
        "  next_greater={}\n",
        "  for i in range(len(nums2)-1,-1,-1):\n",
        "    while stack and stack[-1]<=nums2[i]:\n",
        "      stack.pop()\n",
        "    if stack:\n",
        "      next_greater[nums2[i]]=stack[-1]\n",
        "      stack.append(nums2[i])\n",
        "    else:\n",
        "      next_greater[nums2[i]]=-1\n",
        "      stack.append(nums2[i])\n",
        "\n",
        "  result=[next_greater[val] for val in nums1]\n",
        "  return result\n",
        "a=[4,1,2,0]\n",
        "b=[3,4,2,0,1]\n",
        "print(next_greater_11(a,b))"
      ],
      "metadata": {
        "colab": {
          "base_uri": "https://localhost:8080/"
        },
        "id": "5C4uSbzkIl53",
        "outputId": "2540bb65-0b71-4db4-f558-f400e1ae4022"
      },
      "execution_count": null,
      "outputs": [
        {
          "output_type": "stream",
          "name": "stdout",
          "text": [
            "[-1, -1, -1, 1]\n"
          ]
        }
      ]
    },
    {
      "cell_type": "code",
      "source": [
        "# previous smaller element------------------\n",
        "def previous_smaller_element(nums):\n",
        "    stack=[]\n",
        "    result=[]\n",
        "    for i in range(len(nums)):\n",
        "        while stack and nums[stack[-1]]>=nums[i]:\n",
        "            stack.pop()\n",
        "        if stack:\n",
        "            result.append(nums[stack[-1]])\n",
        "            stack.append(i)\n",
        "        else:\n",
        "            result.append(-1)\n",
        "            stack.append(i)\n",
        "    return result\n",
        "arr=[3,4,2,5,6]\n",
        "print(previous_smaller_element(arr))"
      ],
      "metadata": {
        "colab": {
          "base_uri": "https://localhost:8080/"
        },
        "id": "F12DXhLLkqgU",
        "outputId": "c6b4dc1f-f624-4fd3-cd8d-14392219aad5"
      },
      "execution_count": null,
      "outputs": [
        {
          "output_type": "stream",
          "name": "stdout",
          "text": [
            "[-1, 3, -1, 2, 5]\n"
          ]
        }
      ]
    },
    {
      "cell_type": "code",
      "source": [
        "# 155. Min Stack\n",
        "class MinStack(object):\n",
        "\n",
        "    def __init__(self):\n",
        "        self.stack=[]\n",
        "        self.min_value=float('inf')\n",
        "    def push(self, val):\n",
        "        \"\"\"\n",
        "        :type val: int\n",
        "        :rtype: None\n",
        "        \"\"\"\n",
        "        self.min_value=min(val,self.min_value)\n",
        "        self.stack.append((val,self.min_value))\n",
        "\n",
        "    def pop(self):\n",
        "        \"\"\"\n",
        "        :rtype: None\n",
        "        \"\"\"\n",
        "        self.stack.pop()\n",
        "        self.min_value=self.stack[-1][1] if self.stack else float('inf')\n",
        "\n",
        "    def top(self):\n",
        "        \"\"\"\n",
        "        :rtype: int\n",
        "        \"\"\"\n",
        "        return self.stack[-1][0]\n",
        "\n",
        "\n",
        "    def getMin(self):\n",
        "        \"\"\"\n",
        "        :rtype: int\n",
        "        \"\"\"\n",
        "        return self.stack[-1][1]\n",
        "    def display(self):\n",
        "      return self.stack\n",
        "# Step-by-step execution\n",
        "obj = MinStack()\n",
        "\n",
        "obj.push(2147483646)\n",
        "obj.push(2147483646)\n",
        "obj.push(2147483647)\n",
        "\n",
        "print(\"Top:\", obj.top())         # ➜ 2147483647\n",
        "obj.pop()\n",
        "\n",
        "print(\"Min:\", obj.getMin())      # ➜ 2147483646\n",
        "obj.pop()\n",
        "\n",
        "print(\"Min:\", obj.getMin())      # ➜ 2147483646\n",
        "obj.pop()\n",
        "\n",
        "obj.push(2147483647)\n",
        "print(\"Top:\", obj.top())         # ➜ 2147483647\n",
        "print(\"Min:\", obj.getMin())      # ➜ 2147483647\n",
        "\n",
        "obj.push(-2147483648)\n",
        "print(\"Top:\", obj.top())         # ➜ -2147483648\n",
        "print(\"Min:\", obj.getMin())      # ➜ -2147483648\n",
        "\n",
        "obj.pop()\n",
        "print(\"Min:\", obj.getMin())      # ➜ 2147483647\n"
      ],
      "metadata": {
        "colab": {
          "base_uri": "https://localhost:8080/"
        },
        "id": "2ZWMw0wZ-033",
        "outputId": "114d2d72-3d02-417d-bd58-5de97479298f"
      },
      "execution_count": null,
      "outputs": [
        {
          "output_type": "stream",
          "name": "stdout",
          "text": [
            "[(2147483646, 2147483646)]\n",
            "[(2147483646, 2147483646), (2147483646, 2147483646)]\n",
            "[(2147483646, 2147483646), (2147483646, 2147483646), (2147483647, 2147483646)]\n",
            "Top: 2147483647\n",
            "Min: 2147483646\n",
            "Min: 2147483646\n",
            "[(2147483647, 2147483647)]\n",
            "Top: 2147483647\n",
            "Min: 2147483647\n",
            "[(2147483647, 2147483647), (-2147483648, -2147483648)]\n",
            "Top: -2147483648\n",
            "Min: -2147483648\n",
            "Min: 2147483647\n"
          ]
        }
      ]
    },
    {
      "cell_type": "code",
      "source": [
        "# 155. Min Stack - optimal\n",
        "class MinStack(object):\n",
        "\n",
        "    def __init__(self):\n",
        "        self.stack=[]\n",
        "        self.min_stack=[]\n",
        "    def push(self, val):\n",
        "        \"\"\"\n",
        "        :type val: int\n",
        "        :rtype: None\n",
        "        \"\"\"\n",
        "        self.stack.append(val)\n",
        "        if not self.min_stack or val<=self.min_stack[-1]:\n",
        "            self.min_stack.append(val)\n",
        "\n",
        "    def pop(self):\n",
        "        \"\"\"\n",
        "        :rtype: None\n",
        "        \"\"\"\n",
        "        if self.stack:\n",
        "          if self.stack[-1]==self.min_stack[-1]:\n",
        "            self.min_stack.pop()\n",
        "            self.stack.pop()\n",
        "          else:\n",
        "            self.stack.pop()\n",
        "\n",
        "    def top(self):\n",
        "        \"\"\"\n",
        "        :rtype: int\n",
        "        \"\"\"\n",
        "        return self.stack[-1]\n",
        "\n",
        "\n",
        "    def getMin(self):\n",
        "        \"\"\"\n",
        "        :rtype: int\n",
        "        \"\"\"\n",
        "        return self.min_stack[-1]\n",
        "\n",
        "\n",
        "# Step-by-step execution\n",
        "obj = MinStack()\n",
        "\n",
        "obj.push(2147483646)\n",
        "obj.push(2147483646)\n",
        "obj.push(2147483647)\n",
        "\n",
        "print(\"Top:\", obj.top())         # ➜ 2147483647\n",
        "obj.pop()\n",
        "\n",
        "print(\"Min:\", obj.getMin())      # ➜ 2147483646\n",
        "obj.pop()\n",
        "\n",
        "print(\"Min:\", obj.getMin())      # ➜ 2147483646\n",
        "obj.pop()\n",
        "\n",
        "obj.push(2147483647)\n",
        "print(\"Top:\", obj.top())         # ➜ 2147483647\n",
        "print(\"Min:\", obj.getMin())      # ➜ 2147483647\n",
        "\n",
        "obj.push(-2147483648)\n",
        "print(\"Top:\", obj.top())         # ➜ -2147483648\n",
        "print(\"Min:\", obj.getMin())      # ➜ -2147483648\n",
        "\n",
        "obj.pop()\n",
        "print(\"Min:\", obj.getMin())      # ➜ 2147483647\n"
      ],
      "metadata": {
        "colab": {
          "base_uri": "https://localhost:8080/"
        },
        "id": "N5G_lVm6VfvA",
        "outputId": "b5c59f08-6768-4f49-e09f-d6da0189f36c"
      },
      "execution_count": null,
      "outputs": [
        {
          "output_type": "stream",
          "name": "stdout",
          "text": [
            "Top: 2147483647\n",
            "Min: 2147483646\n",
            "Min: 2147483646\n",
            "Top: 2147483647\n",
            "Min: 2147483647\n",
            "Top: -2147483648\n",
            "Min: -2147483648\n",
            "Min: 2147483647\n"
          ]
        }
      ]
    },
    {
      "cell_type": "code",
      "source": [
        "def largest_histogram(heights):\n",
        "    result=[]\n",
        "    for i in range(len(heights)):\n",
        "      count=1\n",
        "      idx=i+1\n",
        "      while(idx<len(heights) and heights[i]<=heights[idx]):\n",
        "        count+=1\n",
        "        idx+=1\n",
        "      idx=i-1\n",
        "      while(idx>=0 and heights[i]<=heights[idx]):\n",
        "        count+=1\n",
        "        idx-=1\n",
        "      result.append(heights[i]*count)\n",
        "    return max(result)\n",
        "\n",
        "heights=[2,1,5,6,2,3]\n",
        "print(largest_histogram(heights))"
      ],
      "metadata": {
        "colab": {
          "base_uri": "https://localhost:8080/"
        },
        "id": "hD4zfr4cdWo6",
        "outputId": "bc10a6aa-e11e-4174-fdad-b42ed42eeeb8"
      },
      "execution_count": null,
      "outputs": [
        {
          "output_type": "stream",
          "name": "stdout",
          "text": [
            "10\n"
          ]
        }
      ]
    },
    {
      "cell_type": "code",
      "source": [
        "def largest_histogram(nums):\n",
        "  # right smaller\n",
        "  stack=[]\n",
        "  right=[]\n",
        "  for i in range(len(nums)-1,-1,-1):\n",
        "    while stack and nums[stack[-1]]>=nums[i]:\n",
        "      stack.pop()\n",
        "    if stack:\n",
        "      right.insert(0,stack[-1])\n",
        "      stack.append(i)\n",
        "    else:\n",
        "      right.insert(0,-1)\n",
        "      stack.append(i)\n",
        "  # left smaller\n",
        "  stack=[]\n",
        "  left=[]\n",
        "  for i in range(len(nums)):\n",
        "    while stack and nums[stack[-1]]>=nums[i]:\n",
        "        stack.pop()\n",
        "    if stack:\n",
        "        left.append(stack[-1])\n",
        "        stack.append(i)\n",
        "    else:\n",
        "        left.append(-1)\n",
        "        stack.append(i)\n",
        "  result=[]\n",
        "  for i in range(len(nums)):\n",
        "    if right[i]==-1:\n",
        "      add=nums[i]*(len(nums)-left[i]-1)\n",
        "      result.append(add)\n",
        "    else:\n",
        "      add=nums[i]*(right[i]-left[i]-1)\n",
        "      result.append(add)\n",
        "  return max(result),left,right\n",
        "nums=[2,4]\n",
        "print(largest_histogram(nums))"
      ],
      "metadata": {
        "colab": {
          "base_uri": "https://localhost:8080/"
        },
        "id": "-zevAZkWkV1n",
        "outputId": "341a3547-b019-4da2-aae3-a9a4655645bd"
      },
      "execution_count": null,
      "outputs": [
        {
          "output_type": "stream",
          "name": "stdout",
          "text": [
            "(4, [-1, 0], [-1, -1])\n"
          ]
        }
      ]
    },
    {
      "cell_type": "code",
      "source": [
        "def histogram(heights):\n",
        "  stack=[]\n",
        "  max_area=0\n",
        "  n=len(heights)\n",
        "  for i,height in enumerate(heights):\n",
        "    temp_index=i\n",
        "    while stack and stack[-1][0]>height:\n",
        "      h,idx=stack.pop()\n",
        "      recantagle=h*(i-idx)\n",
        "      max_area=max(max_area,recantagle)\n",
        "      temp_index=idx\n",
        "    stack.append((height,temp_index))\n",
        "  while stack:\n",
        "      h,idx=stack.pop()\n",
        "      recantagle=h*(n-idx)\n",
        "      max_area=max(max_area,recantagle)\n",
        "  return max_area\n",
        "heights=[2,4]\n",
        "print(histogram(heights))"
      ],
      "metadata": {
        "colab": {
          "base_uri": "https://localhost:8080/"
        },
        "id": "Ro-1uPm_K9u-",
        "outputId": "3e95571f-9d96-4f5c-8440-e17c4058e251"
      },
      "execution_count": null,
      "outputs": [
        {
          "output_type": "stream",
          "name": "stdout",
          "text": [
            "4\n"
          ]
        }
      ]
    },
    {
      "cell_type": "markdown",
      "source": [
        ">>🔍 What My Code Does:\n",
        "\n",
        "  1. Finds the maximum element and starts traversal backward from there.\n",
        "\n",
        "  2. Uses a stack to track next greater elements in reverse.\n",
        "\n",
        "  3. Records answers in result as (value, index) pairs.\n",
        "\n",
        "  4. After loop, sorts results by index to restore original order.\n",
        "\n",
        "✅ Pros:\n",
        "  1. Works logically and gives correct results.\n",
        "\n",
        "  2. Avoids explicitly simulating two loops over the array.\n",
        "\n",
        "⚠️ Issues:\n",
        "1. Sorting adds O(n log n) at the end.\n",
        "\n",
        "2. Finding index of max (nums.index(max_value)) is O(n)\n",
        "\n",
        "3. Logic is not intuitively readable, and traversal is backward — less natural than forward.\n",
        "\n",
        "4. Still uses a stack of size up to n."
      ],
      "metadata": {
        "id": "wRGSE1OpDm14"
      }
    },
    {
      "cell_type": "code",
      "source": [
        "# 503. Next Greater Element II\n",
        "def next_greater_element_2(nums):\n",
        "  max_value=max(nums)\n",
        "  stack=[max_value]\n",
        "  i=nums.index(max_value)\n",
        "  result=[(-1,i)]\n",
        "  n=len(nums)\n",
        "  for _ in range(n-1):\n",
        "    idx=((i-1)%n)\n",
        "    temp=nums[idx]\n",
        "    while stack and temp>=stack[-1]:\n",
        "      stack.pop()\n",
        "    if stack:\n",
        "      result.append((stack[-1],idx))\n",
        "      stack.append(temp)\n",
        "    else:\n",
        "      result.append((-1,idx))\n",
        "      stack.append(temp)\n",
        "    i-=1\n",
        "  return [value for value ,idx in sorted(result,key=lambda x:x[1])]\n",
        "\n",
        "arr=[6,2,5,4,5,1,6]\n",
        "# arr=[3, 8, 4, 1, 2]\n",
        "print(next_greater_element_2(arr))"
      ],
      "metadata": {
        "colab": {
          "base_uri": "https://localhost:8080/"
        },
        "id": "uCXGGel84G8H",
        "outputId": "be8b88be-c9ae-43d4-8e06-39bb7a94f926"
      },
      "execution_count": null,
      "outputs": [
        {
          "output_type": "stream",
          "name": "stdout",
          "text": [
            "0\n",
            "[-1, 5, 6, 5, 6, 6, -1]\n"
          ]
        }
      ]
    },
    {
      "cell_type": "markdown",
      "source": [
        "\n",
        "🏁 Summary:\n",
        "1. my code is clever, but not time-optimal (due to sorting).\n",
        "\n",
        "2. For large inputs, the standard forward 2-pass monotonic stack approach will be faster and cleaner.\n",
        "\n"
      ],
      "metadata": {
        "id": "fQvvB1hbG1GG"
      }
    },
    {
      "cell_type": "code",
      "source": [
        "# more optimized code\n",
        "def next_greater_2(nums):\n",
        "  n=len(nums)\n",
        "  result=[-1]*n\n",
        "  stack=[]\n",
        "  for i in range(2*n):\n",
        "    current_value=nums[i%n]\n",
        "    while stack and nums[stack[-1]]<current_value:\n",
        "      result[stack.pop()]=current_value\n",
        "    if i<n:\n",
        "      stack.append(i)\n",
        "  return result\n",
        "arr=[6,2,5,4,5,1,6]\n",
        "# arr=[3, 8, 4, 1, 2]\n",
        "print(next_greater_2(arr))"
      ],
      "metadata": {
        "colab": {
          "base_uri": "https://localhost:8080/"
        },
        "id": "au8DV3K06Osi",
        "outputId": "31426599-9d10-449f-d9c3-470b21cc5ee2"
      },
      "execution_count": null,
      "outputs": [
        {
          "output_type": "stream",
          "name": "stdout",
          "text": [
            "[-1, 5, 6, 5, 6, 6, -1]\n"
          ]
        }
      ]
    },
    {
      "cell_type": "code",
      "source": [
        "# 71. simplify_path\n",
        "def simplify_path(path):\n",
        "  stack=[]\n",
        "  for path_str in path.split('/'):\n",
        "    if path_str!=\"\":\n",
        "      if stack and path_str==\"..\":\n",
        "        stack.pop()\n",
        "      elif path_str==\".\":\n",
        "        continue\n",
        "      else:\n",
        "        if path_str!=\"..\":\n",
        "          stack.append('/'+path_str)\n",
        "\n",
        "  return \"\".join(stack) if len(stack)!=0 else '/'\n",
        "path_str=\"/.../a/../b/c/../d/./\"\n",
        "print(simplify_path(path_str))"
      ],
      "metadata": {
        "colab": {
          "base_uri": "https://localhost:8080/"
        },
        "id": "90FDCxRekvbP",
        "outputId": "2922fac9-c958-4608-8c8e-781931776f78"
      },
      "execution_count": null,
      "outputs": [
        {
          "output_type": "stream",
          "name": "stdout",
          "text": [
            "/.../b/d\n"
          ]
        }
      ]
    },
    {
      "cell_type": "code",
      "source": [
        "# 224. Basic Calculator\n",
        "def basic_calculator(s):\n",
        "  stack=[]\n",
        "  number=0\n",
        "  result=0\n",
        "  sign=1\n",
        "\n",
        "  for char in s:\n",
        "    if char.isdigit():\n",
        "      number=number*10+int(char)\n",
        "    elif char == \"+\":\n",
        "      result+=number*sign\n",
        "      number=0\n",
        "      sign=1\n",
        "    elif char == \"-\":\n",
        "      result+=number*sign\n",
        "      number=0\n",
        "      sign=-1\n",
        "    elif char == \"(\":\n",
        "      stack.append(result)\n",
        "      stack.append(sign)\n",
        "      result=0\n",
        "      number=0\n",
        "      sign=1\n",
        "    elif char == \")\":\n",
        "      result+=number*sign\n",
        "      number=0\n",
        "      result*=stack.pop()\n",
        "      result+=stack.pop()\n",
        "  result+=number*sign\n",
        "  return result\n",
        "s=\"(1+(4+5+2)-3)+(6+8)\"\n",
        "print(basic_calculator(s))"
      ],
      "metadata": {
        "colab": {
          "base_uri": "https://localhost:8080/"
        },
        "id": "d323A9ynZAH8",
        "outputId": "e9d39dc8-26a3-4cd9-b62e-6b0f89b4a705"
      },
      "execution_count": null,
      "outputs": [
        {
          "output_type": "stream",
          "name": "stdout",
          "text": [
            "23\n"
          ]
        }
      ]
    },
    {
      "cell_type": "markdown",
      "source": [
        "# Queue data structure\n",
        "\n",
        "At its core, a Queue is a sequential collection of elements that follows a \"First-In, First-Out\" (FIFO) principle. It operates much like real-world queues or lines, where the first element inserted is the first one to be removed. For example, consider a line of people waiting to buy tickets at a theater. The person who arrives first gets their ticket first. In computer science, a Queue works in exactly the same way.\n",
        "\n",
        "In Python, we can implement Queues using built-in data types. Indeed, the Python list datatype comes in handy here. Python lists, however, have a significant drawback: the pop(0) method has O(n) time complexity, while we would like it to be O(1). There is another Python module named collections that offers deque, a flexible container that serves both as queue and stack implementations. We will use the deque data structure to implement the queue in this lesson."
      ],
      "metadata": {
        "id": "D-ujSsA5gy_a"
      }
    },
    {
      "cell_type": "code",
      "source": [
        "from collections import deque\n",
        "queue=deque()\n",
        "\n",
        "# add elements------\n",
        "queue.append(1)\n",
        "queue.append(2)\n",
        "queue.append(3)\n",
        "print(queue)\n",
        "\n",
        "queue.popleft()\n",
        "print(queue)"
      ],
      "metadata": {
        "colab": {
          "base_uri": "https://localhost:8080/"
        },
        "id": "apoqeVSMgxzX",
        "outputId": "244f4935-1433-48b1-801f-877924948776"
      },
      "execution_count": null,
      "outputs": [
        {
          "output_type": "stream",
          "name": "stdout",
          "text": [
            "deque([1, 2, 3])\n",
            "deque([2, 3])\n"
          ]
        }
      ]
    },
    {
      "cell_type": "code",
      "source": [
        "from collections import deque\n",
        "\n",
        "# Printer Queue\n",
        "printer_queue = deque()\n",
        "\n",
        "# Send jobs to the printer\n",
        "printer_queue.append('Document1')\n",
        "printer_queue.append('Document2')\n",
        "printer_queue.append('Picture1')\n",
        "\n",
        "# Start processing jobs\n",
        "while printer_queue:\n",
        "    job = printer_queue.popleft()\n",
        "    print(f'Currently printing: {job}')\n",
        "\n",
        "# Output:\n",
        "# Currently printing: Document1\n",
        "# Currently printing: Document2\n",
        "# Currently printing: Picture1"
      ],
      "metadata": {
        "colab": {
          "base_uri": "https://localhost:8080/"
        },
        "id": "X8xm8o_w3y4i",
        "outputId": "2f462807-5903-468d-947e-189081c0ea88"
      },
      "execution_count": null,
      "outputs": [
        {
          "output_type": "stream",
          "name": "stdout",
          "text": [
            "Currently printing: Document1\n",
            "Currently printing: Document2\n",
            "Currently printing: Picture1\n"
          ]
        }
      ]
    },
    {
      "cell_type": "markdown",
      "source": [
        "### 🔄 What is a Circular Queue?\n",
        "A circular queue is a data structure that uses a fixed-size array like a regular queue, but connects the end back to the front, forming a circle.\n",
        "\n",
        "This allows us to use the space efficiently — when the end of the array is reached, we can wrap around and use the space at the beginning, if it's free."
      ],
      "metadata": {
        "id": "tqOa-NDnfaex"
      }
    },
    {
      "cell_type": "code",
      "source": [
        "# practice code\n",
        "class CircularQueue:\n",
        "    def __init__(self, capacity):\n",
        "        self.queue = [None]*capacity\n",
        "        self.front = self.rear = -1\n",
        "        self.capacity = capacity\n",
        "    def is_full(self):\n",
        "        return (self.rear + 1)%self.capacity == self.front\n",
        "    def is_empty(self):\n",
        "        return self.front == -1\n",
        "    def enqueue(self, item):\n",
        "        if self.is_full():\n",
        "            print(\"Queue is full\")\n",
        "        else:\n",
        "            if self.front == -1:\n",
        "                self.front = 0\n",
        "            self.rear = (self.rear + 1)%self.capacity\n",
        "            self.queue[self.rear] = item\n",
        "    def dequeue(self):\n",
        "        if self.is_empty():\n",
        "            print(\"Queue is empty\")\n",
        "        else:\n",
        "            if self.front == self.rear:\n",
        "                self.front = self.rear = -1\n",
        "            else:\n",
        "                self.front = (self.front + 1)%self.capacity\n",
        "    def front_item(self):\n",
        "        if self.is_empty():\n",
        "            print(\"Queue is empty\")\n",
        "        else:\n",
        "            return self.queue[self.front]\n",
        "    def rear_item(self):\n",
        "        if self.is_empty():\n",
        "            print(\"Queue is empty\")\n",
        "        else:\n",
        "            return self.queue[self.rear]\n",
        "    def display(self):\n",
        "        if self.is_empty():\n",
        "            print(\"Queue is empty\")\n",
        "        else:\n",
        "            i = self.front\n",
        "            while i != self.rear:\n",
        "                print(self.queue[i])\n",
        "                i = (i + 1)%self.capacity\n",
        "            print(self.queue[i])\n",
        "\n",
        "circular_queue = CircularQueue(5)\n",
        "circular_queue.enqueue(1)\n",
        "circular_queue.enqueue(2)\n",
        "circular_queue.enqueue(3)\n",
        "circular_queue.enqueue(4)\n",
        "circular_queue.enqueue(5)\n",
        "circular_queue.dequeue()\n",
        "circular_queue.display()"
      ],
      "metadata": {
        "colab": {
          "base_uri": "https://localhost:8080/"
        },
        "id": "kS3-tO9tnNdl",
        "outputId": "fbb19bf8-a5c7-45f2-c661-ae597dd878ab"
      },
      "execution_count": null,
      "outputs": [
        {
          "output_type": "stream",
          "name": "stdout",
          "text": [
            "2\n",
            "3\n",
            "4\n",
            "5\n"
          ]
        }
      ]
    },
    {
      "cell_type": "code",
      "source": [
        "# Problem 1: Queue Interleaving\n",
        "from collections import deque\n",
        "result=deque()\n",
        "def interleave_queue(queue):\n",
        "    if queue:\n",
        "        mid_point=len(queue)//2\n",
        "        left_queue=deque(queue[:mid_point])\n",
        "        right_queue=deque(queue[mid_point:])\n",
        "        while left_queue or right_queue:\n",
        "            if left_queue:\n",
        "                result.append(left_queue.popleft())\n",
        "            if right_queue:\n",
        "                result.append(right_queue.popleft())\n",
        "        return result\n",
        "    else:\n",
        "        return []\n",
        "de=[1,2,3,4,5,6,7,8]\n",
        "print(interleave_queue(de))\n"
      ],
      "metadata": {
        "colab": {
          "base_uri": "https://localhost:8080/"
        },
        "id": "ZNhxf1-5pjhY",
        "outputId": "d1ad6c88-a5eb-496c-878d-3f0b452866d0"
      },
      "execution_count": null,
      "outputs": [
        {
          "output_type": "stream",
          "name": "stdout",
          "text": [
            "deque([1, 5, 2, 6, 3, 7, 4, 8])\n"
          ]
        }
      ]
    },
    {
      "cell_type": "code",
      "source": [
        "# another way to solve ------------\n",
        "def interleave_qu(queue):\n",
        "    if queue:\n",
        "        mid_point=len(queue)//2\n",
        "        first_half=deque()\n",
        "\n",
        "        for _ in range(mid_point):\n",
        "            first_half.append(queue.popleft())\n",
        "\n",
        "        while first_half:\n",
        "            queue.append(first_half.popleft())\n",
        "            print(queue)\n",
        "            if queue:\n",
        "                queue.append(queue.popleft())\n",
        "                print(queue)\n",
        "        return queue\n",
        "    else:\n",
        "        return []\n",
        "de=deque([1,2,3,4,5,6,7,8])\n",
        "print(interleave_qu(de))"
      ],
      "metadata": {
        "colab": {
          "base_uri": "https://localhost:8080/"
        },
        "id": "4oz6PasOj6IJ",
        "outputId": "82850b53-b2ce-4b95-bac3-702357c5f61b"
      },
      "execution_count": null,
      "outputs": [
        {
          "output_type": "stream",
          "name": "stdout",
          "text": [
            "deque([5, 6, 7, 8, 1])\n",
            "deque([6, 7, 8, 1, 5])\n",
            "deque([6, 7, 8, 1, 5, 2])\n",
            "deque([7, 8, 1, 5, 2, 6])\n",
            "deque([7, 8, 1, 5, 2, 6, 3])\n",
            "deque([8, 1, 5, 2, 6, 3, 7])\n",
            "deque([8, 1, 5, 2, 6, 3, 7, 4])\n",
            "deque([1, 5, 2, 6, 3, 7, 4, 8])\n",
            "deque([1, 5, 2, 6, 3, 7, 4, 8])\n"
          ]
        }
      ]
    },
    {
      "cell_type": "code",
      "source": [
        "# LeetCode: 346. Moving Average from Data Stream (premium)\n",
        "from collections import deque\n",
        "\n",
        "class MovingAverageCount:\n",
        "    def __init__(self,size):\n",
        "        self.queue=deque()\n",
        "        self.size=size\n",
        "        self.total_sum=0\n",
        "    def Calculate_average(self,val):\n",
        "        if len(self.queue)==self.size:\n",
        "            self.total_sum -= self.queue.popleft()\n",
        "        self.queue.append(val)\n",
        "        self.total_sum +=val\n",
        "        return round(self.total_sum/len(self.queue),2)\n",
        "\n",
        "move=MovingAverageCount(3)\n",
        "print(move.Calculate_average(1))\n",
        "print(move.Calculate_average(10))\n",
        "print(move.Calculate_average(3))\n",
        "print(move.Calculate_average(5))\n"
      ],
      "metadata": {
        "colab": {
          "base_uri": "https://localhost:8080/"
        },
        "id": "PyjN8Ezh8iZm",
        "outputId": "68afc52f-9125-4556-afa6-002f1c35865a"
      },
      "execution_count": null,
      "outputs": [
        {
          "output_type": "stream",
          "name": "stdout",
          "text": [
            "1.0\n",
            "5.5\n",
            "4.67\n",
            "6.0\n"
          ]
        }
      ]
    },
    {
      "cell_type": "code",
      "source": [
        "# 933. Number of Recent Calls\n",
        "from collections import deque\n",
        "class RecentCounter(object):\n",
        "\n",
        "    def __init__(self):\n",
        "        self.queue=deque()\n",
        "\n",
        "    def ping(self, t):\n",
        "        \"\"\"\n",
        "        :type t: int\n",
        "        :rtype: int\n",
        "        \"\"\"\n",
        "        self.queue.append(t)\n",
        "        while self.queue[0]<t-3000:\n",
        "            self.queue.popleft()\n",
        "        return len(self.queue)\n",
        "\n",
        "re=RecentCounter()\n",
        "print(re.ping(1))\n",
        "print(re.ping(100))\n",
        "print(re.ping(3001))\n",
        "print(re.ping(3002))\n",
        "\n"
      ],
      "metadata": {
        "colab": {
          "base_uri": "https://localhost:8080/"
        },
        "id": "wLV3qzqggJpe",
        "outputId": "f278343d-6ac4-427f-d6d3-330697621099"
      },
      "execution_count": null,
      "outputs": [
        {
          "output_type": "stream",
          "name": "stdout",
          "text": [
            "1\n",
            "2\n",
            "3\n",
            "3\n"
          ]
        }
      ]
    },
    {
      "cell_type": "code",
      "source": [
        "from collections import deque\n",
        "class MovingAverage:\n",
        "    def __init__(self, size):\n",
        "        self.queue = deque()\n",
        "        self.size = size\n",
        "        self.total = 0\n",
        "\n",
        "    def calculate_moving_average(self, word):\n",
        "        # implement this\n",
        "        if len(self.queue) == self.size:\n",
        "            self.total -= self.queue.popleft()\n",
        "        self.queue.append(len(word))\n",
        "        self.total += len(word)\n",
        "        return round(self.total / len(self.queue), 2)\n",
        "\n",
        "\n",
        "# Test samples\n",
        "ma = MovingAverage(3)\n",
        "print(ma.calculate_moving_average('one'))  # Expected: 3.0\n",
        "print(ma.calculate_moving_average('two'))  # Expected: 3.0\n",
        "print(ma.calculate_moving_average('three'))  # Expected: 3.67\n",
        "print(ma.calculate_moving_average('four'))  # Expected: 4.0\n",
        "print(ma.calculate_moving_average('five'))  # Expected: 4.33\n",
        "print(ma.calculate_moving_average('six'))  # Expected: 3.67"
      ],
      "metadata": {
        "colab": {
          "base_uri": "https://localhost:8080/"
        },
        "id": "IVdZ5-qKn2td",
        "outputId": "aa4e38a6-0f2f-4523-ce66-a02396ca2c52"
      },
      "execution_count": null,
      "outputs": [
        {
          "output_type": "stream",
          "name": "stdout",
          "text": [
            "3.0\n",
            "3.0\n",
            "3.67\n",
            "4.0\n",
            "4.33\n",
            "3.67\n"
          ]
        }
      ]
    },
    {
      "cell_type": "code",
      "source": [
        "# 387. First Unique Character in a String\n",
        "from collections import deque\n",
        "def first_unique(word):\n",
        "  queue=deque(list(word))\n",
        "  while queue:\n",
        "    char=queue.popleft()\n",
        "    if char not in queue:\n",
        "      return word.index(char)\n",
        "\n",
        "print(first_unique('level'))"
      ],
      "metadata": {
        "colab": {
          "base_uri": "https://localhost:8080/"
        },
        "id": "vMmTz6yWqRKt",
        "outputId": "6308c6e1-a935-446d-d126-4341e65a0080"
      },
      "execution_count": null,
      "outputs": [
        {
          "output_type": "stream",
          "name": "stdout",
          "text": [
            "2\n"
          ]
        }
      ]
    },
    {
      "cell_type": "code",
      "source": [
        "from collections import deque\n",
        "def function(nums,k):\n",
        "    result=[]\n",
        "    queue=deque(nums[:k])\n",
        "    for num in nums[k:]:\n",
        "        max_value=max(queue)\n",
        "        result.append(max_value)\n",
        "        queue.popleft()\n",
        "        queue.append(num)\n",
        "    result.append(max(queue))\n",
        "    return result\n",
        "nums = [1,3,-1,-3,5,3,6,7]\n",
        "k=3\n",
        "print(function(nums,k))"
      ],
      "metadata": {
        "colab": {
          "base_uri": "https://localhost:8080/"
        },
        "id": "ozJKrsKDvCgg",
        "outputId": "d46939b9-4e80-4139-9c37-70308597fdff"
      },
      "execution_count": null,
      "outputs": [
        {
          "output_type": "stream",
          "name": "stdout",
          "text": [
            "[3, 3, 5, 5, 6, 7]\n"
          ]
        }
      ]
    },
    {
      "cell_type": "code",
      "source": [
        "from collections import deque\n",
        "\n",
        "def function(nums, k):\n",
        "    result = []\n",
        "    queue = deque()  # will store indices, not values\n",
        "\n",
        "    for i in range(len(nums)):\n",
        "        # Remove from front if it's out of the window\n",
        "\n",
        "        if queue and queue[0] <= i - k:\n",
        "            queue.popleft()\n",
        "\n",
        "        # Remove smaller values from the back\n",
        "        while queue and nums[queue[-1]] < nums[i]:\n",
        "            queue.pop()\n",
        "\n",
        "        queue.append(i)\n",
        "\n",
        "        # Append result after we reach the first full window\n",
        "        if i >= k - 1:\n",
        "            result.append(nums[queue[0]])\n",
        "\n",
        "    return result\n",
        "\n",
        "# Example\n",
        "nums = [1, 3, -1, -3, 5, 3, 6, 7]\n",
        "k = 3\n",
        "print(function(nums, k))\n"
      ],
      "metadata": {
        "id": "LOOpsVXP0Dfb",
        "colab": {
          "base_uri": "https://localhost:8080/"
        },
        "outputId": "25346b1c-3c92-4e52-cb6c-821ab6ec9043"
      },
      "execution_count": null,
      "outputs": [
        {
          "output_type": "stream",
          "name": "stdout",
          "text": [
            "2\n",
            "3\n",
            "4\n",
            "5\n",
            "6\n",
            "7\n",
            "[3, 3, 5, 5, 6, 7]\n"
          ]
        }
      ]
    },
    {
      "cell_type": "code",
      "source": [
        "from collections import deque\n",
        "class SlidingWindow:\n",
        "    def __init__(self) -> None:\n",
        "        self.result=[]\n",
        "        self.queue=deque()\n",
        "    def sliding_window(self,nums,k):\n",
        "        for i in range(len(nums)):\n",
        "            if self.queue and self.queue[0]<=i-k:\n",
        "                self.queue.popleft()\n",
        "            while self.queue and nums[self.queue[-1]]<nums[i]:\n",
        "                self.queue.pop()\n",
        "            self.queue.append(i)\n",
        "\n",
        "            if i>=k-1:\n",
        "                self.result.append(nums[self.queue[0]])\n",
        "        return self.result\n",
        "slide=SlidingWindow()\n",
        "print(slide.sliding_window([1, 3, -1, -3, 5, 3, 6, 7],3))"
      ],
      "metadata": {
        "colab": {
          "base_uri": "https://localhost:8080/"
        },
        "id": "rI1Hm0q_4_b5",
        "outputId": "15cc4d28-2103-40fd-a28f-fc2e6855debd"
      },
      "execution_count": null,
      "outputs": [
        {
          "output_type": "stream",
          "name": "stdout",
          "text": [
            "[3, 3, 5, 5, 6, 7]\n"
          ]
        }
      ]
    },
    {
      "cell_type": "code",
      "source": [
        "# 134. Gas Station\n",
        "def canCompleteCircuit(gas,cost):\n",
        "    total_gas=sum(gas)\n",
        "    total_cost=sum(cost)\n",
        "    if(total_gas<total_cost):\n",
        "        return -1\n",
        "\n",
        "    start_station=0\n",
        "    current_gas=0\n",
        "    for i in range(len(gas)):\n",
        "        current_gas +=(gas[i]-cost[i])\n",
        "        if current_gas<0:\n",
        "            start_station = i+1\n",
        "            current_gas=0\n",
        "    return start_station\n",
        "\n",
        "gas = [1,2,3,4,5]\n",
        "cost = [3,4,5,1,2]\n",
        "print(canCompleteCircuit(gas,cost))"
      ],
      "metadata": {
        "colab": {
          "base_uri": "https://localhost:8080/"
        },
        "id": "2zjP4LHAjGS6",
        "outputId": "7154171f-2966-4122-db7f-debe84e1a9de"
      },
      "execution_count": null,
      "outputs": [
        {
          "output_type": "stream",
          "name": "stdout",
          "text": [
            "3\n"
          ]
        }
      ]
    },
    {
      "cell_type": "markdown",
      "source": [
        "# Linked Lists (problems)"
      ],
      "metadata": {
        "id": "XvVCxxtWR0DH"
      }
    },
    {
      "cell_type": "code",
      "source": [
        "class Node:\n",
        "    def __init__(self,data):\n",
        "        self.data=data\n",
        "        self.next=None\n",
        "class LinkedList:\n",
        "    def __init__(self):\n",
        "        self.head=None\n",
        "    # Insertion at the end-------------\n",
        "    def insert_end(self,data):\n",
        "        new_node = Node(data)\n",
        "        if self.head is None:\n",
        "            self.head = new_node\n",
        "            return\n",
        "        current = self.head\n",
        "        while current.next:\n",
        "            current = current.next\n",
        "        current.next=new_node\n",
        "\n",
        "    # Insertion at the beginning ------------\n",
        "    def insert_front(self,data):\n",
        "        new_node=Node(data)\n",
        "        new_node.next=self.head\n",
        "        self.head=new_node\n",
        "\n",
        "    # removes the first Node(head)--------------\n",
        "    def pop_front(self):\n",
        "        if self.head is None:\n",
        "            print('List is empty')\n",
        "            return\n",
        "        removed_data = self.head.data\n",
        "        self.head=self.head.next\n",
        "\n",
        "    # removes the last Node----------------------\n",
        "    def pop_end(self):\n",
        "        if self.head is None:\n",
        "            print('List is empty')\n",
        "            return\n",
        "        if self.head.next is None:\n",
        "            removed_data=self.head.data\n",
        "            self.head=None\n",
        "            return removed_data\n",
        "        current = self.head\n",
        "        while current.next.next:\n",
        "            current=current.next\n",
        "        removed_data = current.next.data\n",
        "        current.next=None\n",
        "        return removed_data\n",
        "\n",
        "    # Deletion by value------------------\n",
        "    def delete_value(self,value):\n",
        "        if self.head is None:\n",
        "            print('List is empty')\n",
        "            return\n",
        "        current =self.head\n",
        "        if current and current.data == value:\n",
        "            self.head = current.next\n",
        "            current = None\n",
        "            return\n",
        "        previous = None\n",
        "        while current and current.data != value:\n",
        "            previous = current\n",
        "            current = current.next\n",
        "        if current is None:\n",
        "            return\n",
        "        previous.next = current.next\n",
        "        current = None\n",
        "\n",
        "    # Insert at position---------------------\n",
        "    def insert_at_position(self,pos,data):\n",
        "        new_node = Node(data)\n",
        "\n",
        "        if pos<0:\n",
        "            print('Invalid position')\n",
        "            return\n",
        "        if pos==0:\n",
        "            new_node.next=self.head\n",
        "            self.head=new_node\n",
        "            return\n",
        "        current = self.head\n",
        "        current_pos = 0\n",
        "        while current and current_pos<pos-1:\n",
        "            current = current.next\n",
        "            current_pos +=1\n",
        "        if current is None:\n",
        "            print('position out of bounds')\n",
        "            return\n",
        "\n",
        "        new_node.next = current.next\n",
        "        current.next = new_node\n",
        "\n",
        "    # Print all the elements ---------\n",
        "    def print_list(self):\n",
        "        current = self.head\n",
        "        while current:\n",
        "            print(current.data, end=\" -> \")\n",
        "            current = current.next\n",
        "        print(\"None\")\n",
        "\n",
        "ll=LinkedList()\n",
        "ll.insert_end(1)\n",
        "ll.insert_end(2)\n",
        "ll.insert_front(4)\n",
        "ll.insert_front(3)\n",
        "ll.insert_front(9)\n",
        "ll.pop_front()\n",
        "ll.pop_end()\n",
        "ll.pop_end()\n",
        "ll.pop_front()\n",
        "ll.insert_end(3)\n",
        "ll.insert_end(2)\n",
        "ll.insert_end(1)\n",
        "ll.delete_value(2)\n",
        "ll.delete_value(1)\n",
        "ll.delete_value(4)\n",
        "ll.insert_at_position(0,4)\n",
        "ll.insert_at_position(1,5)\n",
        "ll.insert_at_position(2,6)\n",
        "ll.insert_at_position(3,7)\n",
        "ll.insert_at_position(4,8)\n",
        "\n",
        "ll.print_list()\n"
      ],
      "metadata": {
        "colab": {
          "base_uri": "https://localhost:8080/"
        },
        "id": "6Kx5ZC0JRzCi",
        "outputId": "74c3dcd7-5766-4b5d-c6ce-79cfde6ed44f"
      },
      "execution_count": null,
      "outputs": [
        {
          "output_type": "stream",
          "name": "stdout",
          "text": [
            "4 -> 5 -> 6 -> 7 -> 8 -> 3 -> None\n"
          ]
        }
      ]
    },
    {
      "cell_type": "code",
      "source": [
        "# for practice code --------------------------------------\n",
        "class Node:\n",
        "    def __init__(self,data):\n",
        "        self.data=data\n",
        "        self.next=None\n",
        "\n",
        "class LinkedList:\n",
        "    def __init__(self):\n",
        "        self.head=None\n",
        "    def insert_front(self,data):\n",
        "        new_node = Node(data)\n",
        "        new_node.next=self.head\n",
        "        self.head=new_node\n",
        "\n",
        "    def insert_end(self,data):\n",
        "        new_node = Node(data)\n",
        "        if self.head is None:\n",
        "            self.head = new_node\n",
        "            return\n",
        "        current = self.head\n",
        "        while current.next:\n",
        "            current = current.next\n",
        "        current.next = new_node\n",
        "\n",
        "\n",
        "    def pop_front(self):\n",
        "        if self.head is None:\n",
        "            print('List is empty')\n",
        "            return\n",
        "        removed_data = self.head.data\n",
        "        self.head = self.head.next\n",
        "        return removed_data\n",
        "\n",
        "    def pop_end(self):\n",
        "        if self.head is None:\n",
        "            print('List is empty')\n",
        "            return\n",
        "        if self.head.next is None:\n",
        "            removed_data = self.head.data\n",
        "            self.head = None\n",
        "            return removed_data\n",
        "\n",
        "        current = self.head\n",
        "        while current.next.next:\n",
        "            current = current.next\n",
        "        removed_data = current.next.data\n",
        "        current.next = None\n",
        "        return removed_data\n",
        "\n",
        "    def insert_at_position(self,pos,data):\n",
        "        if pos<0:\n",
        "            print('Invalid Position')\n",
        "            return\n",
        "        if pos==0:\n",
        "           new_node = Node(data)\n",
        "           new_node.next = self.head\n",
        "           self.head = new_node\n",
        "           return\n",
        "        current = self.head\n",
        "        current_pos = 0\n",
        "        while current and current_pos<pos-1:\n",
        "            current = current.next\n",
        "            current_pos +=1\n",
        "        if current is None:\n",
        "            print(f'Position {pos} out of bounds')\n",
        "            return\n",
        "        new_node = Node(data)\n",
        "        new_node.next = current.next\n",
        "        current.next = new_node\n",
        "\n",
        "    def delete_by_value(self,value):\n",
        "        if self.head is None:\n",
        "            print('List is empty')\n",
        "            return\n",
        "        current = self.head\n",
        "        if current and current.data == value:\n",
        "            self.head = current.next\n",
        "            current = None\n",
        "            return\n",
        "        previous = None\n",
        "        while current and current.data != value:\n",
        "            previous = current\n",
        "            current = current.next\n",
        "        if current is None:\n",
        "            print(f'Value {value} not found')\n",
        "            return\n",
        "        previous.next = current.next\n",
        "        current = None\n",
        "\n",
        "    def ReverseLinkedList(self):\n",
        "        if self.head is None:\n",
        "            print('List is empty')\n",
        "            return\n",
        "        current = self.head\n",
        "        # prev = None\n",
        "        # while current:\n",
        "        #     next_node = current.next\n",
        "        #     current.next = prev\n",
        "        #     prev = current\n",
        "        #     current = next_node\n",
        "        # self.head = prev\n",
        "\n",
        "        stack =[]\n",
        "        while current:\n",
        "            stack.append(current)\n",
        "            current = current.next\n",
        "        self.head = stack[-1]\n",
        "        current = self.head\n",
        "        while stack:\n",
        "            current.next = stack.pop()\n",
        "            current = current.next\n",
        "        current.next = None\n",
        "\n",
        "    def remove_duplicate(self):\n",
        "        if self.head is None:\n",
        "            print('List is empty')\n",
        "            return\n",
        "        current = self.head\n",
        "        while current and current.next:\n",
        "\n",
        "            if current.data == current.next.data:\n",
        "                current.next = current.next.next\n",
        "            else:\n",
        "                current = current.next\n",
        "\n",
        "    def merge_linkedlist(self,head1,head2):\n",
        "        if head1 is None:\n",
        "            return head2\n",
        "        if head2 is None:\n",
        "            return head1\n",
        "        if head1.data < head2.data:\n",
        "            head1.next = self.merge_linkedlist(head1.next,head2)\n",
        "            return head1\n",
        "        else:\n",
        "            head2.next = self.merge_linkedlist(head1,head2.next)\n",
        "            return head2\n",
        "\n",
        "\n",
        "    def insert_greatest_common_divisor(self):\n",
        "        def find_gcd(n1,n2):\n",
        "          if n2==0:\n",
        "              return n1\n",
        "          else:\n",
        "              return find_gcd(n2,n1%n2)\n",
        "        if self.head is None:\n",
        "            print('List is empty')\n",
        "            return\n",
        "        current = self.head\n",
        "        while current and current.next:\n",
        "            gcd = find_gcd(current.data,current.next.data)\n",
        "            new_node = Node(gcd)\n",
        "            new_node.next = current.next\n",
        "            current.next = new_node\n",
        "            current = current.next.next\n",
        "        return self.head\n",
        "\n",
        "    def deep_copy_LinkedList(self):\n",
        "        if self.head is None:\n",
        "            print('List is empty')\n",
        "            return\n",
        "        current = self.head\n",
        "        hash_map ={}\n",
        "\n",
        "        while current:\n",
        "            node = Node(current.data)\n",
        "            hash_map[current] = node\n",
        "            current = current.next\n",
        "\n",
        "        cur = self.head\n",
        "        while cur:\n",
        "            new_node = hash_map[cur]\n",
        "            new_node.next = hash_map[cur.next] if cur.next else None\n",
        "            cur = cur.next\n",
        "        return hash_map[self.head]\n",
        "\n",
        "    def length(self,n):\n",
        "        if self.head is None:\n",
        "            return 0\n",
        "        current = self.head\n",
        "        length_list = 0\n",
        "        while current:\n",
        "            length_list +=1\n",
        "            current = current.next\n",
        "\n",
        "        pos = length_list - n\n",
        "        if pos == 0:\n",
        "            return self.head.next\n",
        "        current = self.head\n",
        "        idx = 0\n",
        "        while current and idx<pos-1:\n",
        "            current = current.next\n",
        "            idx +=1\n",
        "        if current is None:\n",
        "            print(f'Position {pos} out of bounds')\n",
        "\n",
        "        if current and current.next:\n",
        "            current.next = current.next.next\n",
        "        return self.head\n",
        "\n",
        "    def mid_point(self):\n",
        "        if self.head is None:\n",
        "            return 0\n",
        "        current = self.head\n",
        "        length_list = 0\n",
        "        while current:\n",
        "            length_list +=1\n",
        "            current = current.next\n",
        "\n",
        "        pos = length_list // 2\n",
        "        current = self.head\n",
        "        idx = 0\n",
        "        while current and idx<pos:\n",
        "            current = current.next\n",
        "            idx +=1\n",
        "        if current:\n",
        "            print(current.data)\n",
        "        return self.head\n",
        "\n",
        "    def print_elements(self):\n",
        "        if self.head is None:\n",
        "            print('List is empty')\n",
        "            return\n",
        "        current =self.head\n",
        "        while current:\n",
        "            print(current.data,end=\" -> \")\n",
        "            current =current.next\n",
        "        print('None')\n",
        "l_list = LinkedList()\n",
        "\n",
        "\n",
        "# l_list.insert_front(1)\n",
        "# l_list.insert_front(2)\n",
        "# l_list.insert_front(3)\n",
        "# l_list.insert_front(4)\n",
        "# l_list.insert_front(5)\n",
        "# l_list.insert_end(6)\n",
        "# l_list.insert_end(7)\n",
        "# l_list.insert_end(8)\n",
        "# l_list.pop_front()\n",
        "# l_list.pop_end()\n",
        "# l_list.insert_at_position(0,9)\n",
        "# l_list.insert_at_position(7,10)\n",
        "# l_list.insert_at_position(11,11)\n",
        "# l_list.insert_at_position(-1,11)\n",
        "# l_list.insert_at_position(9,3)\n",
        "# l_list.insert_at_position(8,55)\n",
        "# l_list.delete_by_value(1)\n",
        "# l_list.delete_by_value(2)\n",
        "# l_list.delete_by_value(3)\n",
        "# l_list.delete_by_value(4)\n",
        "# l_list.print_elements()\n",
        "# l_list.ReverseLinkedList()\n",
        "\n",
        "\n",
        "\n",
        "l_list.insert_front(1)\n",
        "l_list.insert_front(1)\n",
        "l_list.insert_front(1)\n",
        "l_list.insert_front(2)\n",
        "l_list.insert_front(4)\n",
        "l_list.insert_front(6)\n",
        "l_list.insert_front(8)\n",
        "l_list.insert_front(9)\n",
        "l_list.insert_greatest_common_divisor()\n",
        "l_list.remove_duplicate()\n",
        "l_list.print_elements()\n",
        "print(l_list.length(3))\n",
        "l_list.print_elements()\n",
        "l_list.mid_point()\n",
        "l_list.print_elements()"
      ],
      "metadata": {
        "colab": {
          "base_uri": "https://localhost:8080/"
        },
        "id": "swxOLOCdRvlv",
        "outputId": "983389da-ca80-434b-8899-ff9b7fba6856"
      },
      "execution_count": null,
      "outputs": [
        {
          "output_type": "stream",
          "name": "stdout",
          "text": [
            "9 -> 1 -> 8 -> 2 -> 6 -> 2 -> 4 -> 2 -> 1 -> None\n",
            "<__main__.Node object at 0x7ee7a844fa10>\n",
            "9 -> 1 -> 8 -> 2 -> 6 -> 2 -> 2 -> 1 -> None\n",
            "6\n",
            "9 -> 1 -> 8 -> 2 -> 6 -> 2 -> 2 -> 1 -> None\n"
          ]
        }
      ]
    },
    {
      "cell_type": "code",
      "source": [
        "class Node:\n",
        "    def __init__(self,data):\n",
        "        self.data = data\n",
        "        self.next = None\n",
        "        self.pre = None\n",
        "class Doubly_LinkedList:\n",
        "    def __init__(self):\n",
        "        self.head = None\n",
        "\n",
        "    def insert_front(self,data):\n",
        "        new_node = Node(data)\n",
        "        if self.head is not None:\n",
        "            self.head.pre = new_node\n",
        "            new_node.next = self.head\n",
        "        self.head = new_node\n",
        "\n",
        "    def insert_end(self,data):\n",
        "        if self.head is None:\n",
        "            self.insert_front(data)\n",
        "            return\n",
        "        current = self.head\n",
        "        while current.next:\n",
        "            current = current.next\n",
        "        new_node = Node(data)\n",
        "        current.next = new_node\n",
        "        new_node.pre = current\n",
        "\n",
        "\n",
        "    def insert_at_position(self,pos,value):\n",
        "        if pos<0:\n",
        "            print('Invalid Position')\n",
        "            return\n",
        "        if pos == 0:\n",
        "            self.insert_front(value)\n",
        "            return\n",
        "        current = self.head\n",
        "        current_pos = 0\n",
        "        while current and current_pos<pos-1:\n",
        "            current = current.next\n",
        "            current_pos +=1\n",
        "        if current is None:\n",
        "            print(f'Position {pos} out of bounds')\n",
        "            return\n",
        "        new_node = Node(value)\n",
        "        new_node.next = current.next\n",
        "        new_node.pre = current\n",
        "        if current.next:\n",
        "            current.next.pre = new_node\n",
        "        current.next = new_node\n",
        "\n",
        "\n",
        "    def pop_front(self):\n",
        "        if self.head is None:\n",
        "            print('List is empty')\n",
        "            return\n",
        "        removed_data = self.head.data\n",
        "        if self.head.next:\n",
        "            self.head = self.head.next\n",
        "            self.head.pre = None\n",
        "        else:\n",
        "            self.head = None\n",
        "        return removed_data\n",
        "\n",
        "    def pop_end(self):\n",
        "        if self.head is None:\n",
        "            print('List is empty')\n",
        "            return\n",
        "        if self.head.next is None:\n",
        "            removed_data =self.head.data\n",
        "            self.head = None\n",
        "            return removed_data\n",
        "\n",
        "        current = self.head\n",
        "        while current.next.next:\n",
        "            current = current.next\n",
        "        removed_data = current.next.data\n",
        "        current.next = None\n",
        "        return removed_data\n",
        "\n",
        "    def delete_by_value(self,value):\n",
        "        if self.head is None:\n",
        "            print('List is empty')\n",
        "            return\n",
        "        current = self.head\n",
        "        if current and current.data == value:\n",
        "            popped_data = self.pop_front()\n",
        "            return popped_data\n",
        "\n",
        "        while current and current.data != value:\n",
        "            current = current.next\n",
        "        if current is None:\n",
        "            print('Value Not found')\n",
        "            return\n",
        "\n",
        "        current.pre.next = current.next\n",
        "        if current.next:\n",
        "            current.next.pre = current.pre\n",
        "        current = None\n",
        "\n",
        "    def delete_by_position(self,pos):\n",
        "        if pos<0:\n",
        "            print('Invalid Position')\n",
        "            return\n",
        "        if pos == 0:\n",
        "            popped_data = self.pop_front()\n",
        "            return popped_data\n",
        "\n",
        "        current = self.head\n",
        "        current_pos = 0\n",
        "        while current and current_pos<pos-1:\n",
        "            current = current.next\n",
        "            current_pos +=1\n",
        "        if current is None:\n",
        "            print(f'Position {pos} out of bounds')\n",
        "            return\n",
        "        if current.next is None:\n",
        "            popped_data = self.pop_end()\n",
        "            return popped_data\n",
        "\n",
        "        popped_data = current.next.data\n",
        "        current.next = current.next.next\n",
        "        current.next.pre = current\n",
        "        current = None\n",
        "        return popped_data\n",
        "\n",
        "\n",
        "\n",
        "    def display(self):\n",
        "        if self.head is None:\n",
        "            print('List is empty')\n",
        "            return\n",
        "        print('None<->',end='')\n",
        "        current = self.head\n",
        "        while current:\n",
        "            print(current.data,end='<->')\n",
        "            current =current.next\n",
        "        print('None')\n",
        "D_list = Doubly_LinkedList()\n",
        "D_list.insert_front(1)\n",
        "D_list.insert_front(2)\n",
        "D_list.insert_front(3)\n",
        "D_list.insert_front(4)\n",
        "D_list.insert_front(5)\n",
        "D_list.insert_end(6)\n",
        "D_list.insert_end(7)\n",
        "D_list.insert_end(8)\n",
        "D_list.insert_at_position(0,9)\n",
        "D_list.insert_at_position(7,10)\n",
        "D_list.insert_at_position(11,11)\n",
        "D_list.pop_front()\n",
        "D_list.pop_front()\n",
        "D_list.pop_end()\n",
        "D_list.pop_end()\n",
        "D_list.delete_by_value(2)\n",
        "D_list.delete_by_position(1)\n",
        "D_list.delete_by_position(2)\n",
        "D_list.display()"
      ],
      "metadata": {
        "colab": {
          "base_uri": "https://localhost:8080/"
        },
        "id": "uWj2n0IdnIfW",
        "outputId": "5de75e86-ecb8-4332-bbbc-899547e8b468"
      },
      "execution_count": null,
      "outputs": [
        {
          "output_type": "stream",
          "name": "stdout",
          "text": [
            "Position 11 out of bounds\n",
            "None<->4<->1<->10<->None\n"
          ]
        }
      ]
    },
    {
      "cell_type": "code",
      "source": [
        "# Merge Two Sorted Lists - Leetcode 21\n",
        "# Reverse Linked List - Leetcode 206\n",
        "# Remove Duplicates from Sorted List - Leetcode 83\n",
        "# 141. Linked List Cycle\n",
        "# 2807. Insert Greatest Common Divisors in Linked List\n",
        "# 19. Remove Nth Node From End of List\n",
        "# 876. Middle of the Linked List\n",
        "# 138. Copy List with Random Pointer"
      ],
      "metadata": {
        "id": "yqNfGPth2mVA"
      },
      "execution_count": null,
      "outputs": []
    },
    {
      "cell_type": "code",
      "source": [
        "\n",
        "\n",
        "\n"
      ],
      "metadata": {
        "colab": {
          "base_uri": "https://localhost:8080/"
        },
        "id": "mklYCXkdA003",
        "outputId": "2bfc4f54-646f-4e7f-d0b2-80f2d37d102e"
      },
      "execution_count": null,
      "outputs": [
        {
          "output_type": "stream",
          "name": "stdout",
          "text": [
            "6\n"
          ]
        }
      ]
    }
  ]
}