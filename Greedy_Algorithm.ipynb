{
  "nbformat": 4,
  "nbformat_minor": 0,
  "metadata": {
    "colab": {
      "provenance": [],
      "authorship_tag": "ABX9TyOMsZ2ywDLEnUKcM0edkkaD",
      "include_colab_link": true
    },
    "kernelspec": {
      "name": "python3",
      "display_name": "Python 3"
    },
    "language_info": {
      "name": "python"
    }
  },
  "cells": [
    {
      "cell_type": "markdown",
      "metadata": {
        "id": "view-in-github",
        "colab_type": "text"
      },
      "source": [
        "<a href=\"https://colab.research.google.com/github/shuvad23/Mastering-Algorithms-and-Data-Structures-in-Python/blob/main/Greedy_Algorithm.ipynb\" target=\"_parent\"><img src=\"https://colab.research.google.com/assets/colab-badge.svg\" alt=\"Open In Colab\"/></a>"
      ]
    },
    {
      "cell_type": "markdown",
      "source": [
        "- Problem: 01 - Activity Selection\n",
        "\n",
        "  >Activity Selection Problem is a Greedy Algorithm problem in computer science and operations research. It involves selecting the maximum number of non-overlapping activities that can be performed by a single person or machine, assuming that only one activity can be performed at a time."
      ],
      "metadata": {
        "id": "PKGvuTTrqebN"
      }
    },
    {
      "cell_type": "code",
      "execution_count": null,
      "metadata": {
        "id": "6l2o7jdByFQE",
        "colab": {
          "base_uri": "https://localhost:8080/"
        },
        "outputId": "0e2dec8a-3f81-49e3-a88f-13b4c5212467"
      },
      "outputs": [
        {
          "output_type": "stream",
          "name": "stdout",
          "text": [
            "4\n"
          ]
        }
      ],
      "source": [
        "# Activity Selection\n",
        "\n",
        "def activitySelection(start, finish):\n",
        "      #code here\n",
        "      sorted_arr = sorted([(a,b) for a,b in zip(start,finish)],key = lambda x: x[1])\n",
        "      end = -1\n",
        "      count = 0\n",
        "      for i in range(len(sorted_arr)):\n",
        "          if end < sorted_arr[i][0]:\n",
        "              count +=1\n",
        "              end = sorted_arr[i][1]\n",
        "      return count\n",
        "\n",
        "start = [1, 3, 0, 5, 8, 5]\n",
        "finish = [2, 4, 6, 7, 9, 9]\n",
        "print(activitySelection(start, finish))"
      ]
    },
    {
      "cell_type": "markdown",
      "source": [
        "- problem: 02 - Non-overlapping Intervals"
      ],
      "metadata": {
        "id": "aV7EsgZzB-Pl"
      }
    },
    {
      "cell_type": "code",
      "source": [
        "# 435. Non-overlapping Intervals\n",
        "def eraseOverlapIntervals(intervals):\n",
        "        \"\"\"\n",
        "        :type intervals: List[List[int]]\n",
        "        :rtype: intm\n",
        "        \"\"\"\n",
        "        intervals.sort(key=lambda x:x[1])\n",
        "        start = intervals[0][1]\n",
        "        count = 0\n",
        "        for i in range(1,len(intervals)):\n",
        "            if intervals[i][0] < start:\n",
        "                count +=1\n",
        "            else:\n",
        "                start = intervals[i][1]\n",
        "        return count\n",
        "intervals = [[1,100],[11,22],[1,11],[2,12]]\n",
        "print(eraseOverlapIntervals(intervals))"
      ],
      "metadata": {
        "colab": {
          "base_uri": "https://localhost:8080/"
        },
        "id": "xBdhkcefkTuQ",
        "outputId": "a948ad68-9418-4fbb-bba9-b6449262e5d8"
      },
      "execution_count": null,
      "outputs": [
        {
          "output_type": "stream",
          "name": "stdout",
          "text": [
            "2\n"
          ]
        }
      ]
    },
    {
      "cell_type": "code",
      "source": [
        "# 452. Minimum Number of Arrows to Burst Balloons\n",
        "def findMinArrowShots(points):\n",
        "        \"\"\"\n",
        "        :type points: List[List[int]]\n",
        "        :rtype: int\n",
        "        \"\"\"\n",
        "        points.sort(key = lambda x:x[1])\n",
        "        minimum_arrows = 1\n",
        "        end_point = points[0][1]\n",
        "        for i in range(1,len(points)):\n",
        "            if end_point >= points[i][0]:\n",
        "                continue\n",
        "            else:\n",
        "                end_point = points[i][1]\n",
        "                minimum_arrows +=1\n",
        "        return minimum_arrows\n",
        "points = [[10,16],[2,8],[1,6],[7,12]]\n",
        "print(findMinArrowShots(points))"
      ],
      "metadata": {
        "id": "l8rk4rErlKXP",
        "colab": {
          "base_uri": "https://localhost:8080/"
        },
        "outputId": "3c312873-d5b2-406a-e409-2e4cc06cbc11"
      },
      "execution_count": null,
      "outputs": [
        {
          "output_type": "stream",
          "name": "stdout",
          "text": [
            "2\n"
          ]
        }
      ]
    },
    {
      "cell_type": "code",
      "source": [
        "def jobSequencing(deadline, profit):\n",
        "    # code here\n",
        "    jobs = sorted(zip(profit,deadline),reverse=True)\n",
        "    max_deadline = max(deadline)\n",
        "    result = [-1]*max_deadline\n",
        "    max_profit = 0\n",
        "    job_count = 0\n",
        "    for profit,deadline in jobs:\n",
        "        for i in range(deadline-1,-1,-1):\n",
        "            if result[i] == -1:\n",
        "                result[i] = profit\n",
        "                max_profit += profit\n",
        "                job_count +=1\n",
        "                break\n",
        "    return [job_count,max_profit]\n",
        "deadline = [2, 1, 2, 1, 1]\n",
        "profit = [100, 19, 27, 25, 15]\n",
        "print(jobSequencing(deadline,profit))"
      ],
      "metadata": {
        "colab": {
          "base_uri": "https://localhost:8080/"
        },
        "id": "h9bLSfXnhDxg",
        "outputId": "db985dce-6839-4f75-f544-e5aa52d8c357"
      },
      "execution_count": null,
      "outputs": [
        {
          "output_type": "stream",
          "name": "stdout",
          "text": [
            "[2, 127]\n"
          ]
        }
      ]
    },
    {
      "cell_type": "code",
      "source": [
        "# 1235. Maximum Profit in Job Scheduling\n",
        "def jobScheduling(starttime, endtime, profit):\n",
        "\n",
        "    # greedy approach (for this problem greedy not work better option is dp)\n",
        "    # jobs = sorted([(a,b,c) for a,b,c in zip(starttime,endtime,profit)],key = lambda x: x[1])\n",
        "    # filtered_jobs = {}\n",
        "    # for start,end,value in zip(starttime,endtime,profit):\n",
        "    #     if start not in filtered_jobs:\n",
        "    #         filtered_jobs[start] = (start,end,value)\n",
        "    #     else:\n",
        "    #         if filtered_jobs[start][2] < value:\n",
        "    #             filtered_jobs[start] = (start,end,value)\n",
        "    # updated_jobs = list(filtered_jobs.values())\n",
        "    # updated_jobs.sort(key = lambda x: x[1])\n",
        "    # print(updated_jobs)\n",
        "    # max_profit = updated_jobs[0][2]\n",
        "    # end_point = updated_jobs[0][1]\n",
        "    # for i in range(1,len(updated_jobs)):\n",
        "    #     if updated_jobs[i][0] >= end_point:\n",
        "    #         max_profit += updated_jobs[i][2]\n",
        "    #         end_point = updated_jobs[i][1]\n",
        "    # return max_profit\n",
        "\n",
        "    # dp approach---------\n",
        "    from bisect import bisect_right\n",
        "    jobs = sorted(zip(starttime,endtime,profit),key = lambda x: x[1])\n",
        "    dp = [(0,0)]\n",
        "    for start,end,value in jobs:\n",
        "        # Binary search: latest job that ends before s -- It is a binary search function that returns the index where an item would go to keep the list sorted.\n",
        "        i = bisect_right(dp, (start, float('inf'))) - 1\n",
        "\n",
        "        if dp[i][1] + value > dp[-1][1]:\n",
        "            dp.append((end, dp[i][1] + value))\n",
        "    print(dp)\n",
        "    return dp[-1][1]\n",
        "\n",
        "\n",
        "startTime = [1,2,2,3]\n",
        "endTime = [2,5,3,4]\n",
        "profit = [3,4,1,2]\n",
        "print(jobScheduling(startTime,endTime,profit))"
      ],
      "metadata": {
        "colab": {
          "base_uri": "https://localhost:8080/"
        },
        "id": "n5DAN9pCMUMk",
        "outputId": "325c8c9a-3f0a-4ef8-9e29-7200c6601b6a"
      },
      "execution_count": 52,
      "outputs": [
        {
          "output_type": "stream",
          "name": "stdout",
          "text": [
            "[(0, 0), (2, 3), (3, 4), (4, 6), (5, 7)]\n",
            "7\n"
          ]
        }
      ]
    },
    {
      "cell_type": "code",
      "source": [],
      "metadata": {
        "id": "d8xsAlT0b9xs"
      },
      "execution_count": null,
      "outputs": []
    }
  ]
}