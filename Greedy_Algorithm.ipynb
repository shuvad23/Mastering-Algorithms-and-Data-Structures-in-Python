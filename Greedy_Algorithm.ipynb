{
  "nbformat": 4,
  "nbformat_minor": 0,
  "metadata": {
    "colab": {
      "provenance": [],
      "authorship_tag": "ABX9TyM6uSYa3ua1ttNE5bMNX8+x",
      "include_colab_link": true
    },
    "kernelspec": {
      "name": "python3",
      "display_name": "Python 3"
    },
    "language_info": {
      "name": "python"
    }
  },
  "cells": [
    {
      "cell_type": "markdown",
      "metadata": {
        "id": "view-in-github",
        "colab_type": "text"
      },
      "source": [
        "<a href=\"https://colab.research.google.com/github/shuvad23/Mastering-Algorithms-and-Data-Structures-in-Python/blob/main/Greedy_Algorithm.ipynb\" target=\"_parent\"><img src=\"https://colab.research.google.com/assets/colab-badge.svg\" alt=\"Open In Colab\"/></a>"
      ]
    },
    {
      "cell_type": "markdown",
      "source": [
        "- Problem: 01 - Activity Selection\n",
        "\n",
        "  >Activity Selection Problem is a Greedy Algorithm problem in computer science and operations research. It involves selecting the maximum number of non-overlapping activities that can be performed by a single person or machine, assuming that only one activity can be performed at a time."
      ],
      "metadata": {
        "id": "PKGvuTTrqebN"
      }
    },
    {
      "cell_type": "code",
      "execution_count": null,
      "metadata": {
        "id": "6l2o7jdByFQE",
        "colab": {
          "base_uri": "https://localhost:8080/"
        },
        "outputId": "0e2dec8a-3f81-49e3-a88f-13b4c5212467"
      },
      "outputs": [
        {
          "output_type": "stream",
          "name": "stdout",
          "text": [
            "4\n"
          ]
        }
      ],
      "source": [
        "# Activity Selection\n",
        "\n",
        "def activitySelection(start, finish):\n",
        "      #code here\n",
        "      sorted_arr = sorted([(a,b) for a,b in zip(start,finish)],key = lambda x: x[1])\n",
        "      end = -1\n",
        "      count = 0\n",
        "      for i in range(len(sorted_arr)):\n",
        "          if end < sorted_arr[i][0]:\n",
        "              count +=1\n",
        "              end = sorted_arr[i][1]\n",
        "      return count\n",
        "\n",
        "start = [1, 3, 0, 5, 8, 5]\n",
        "finish = [2, 4, 6, 7, 9, 9]\n",
        "print(activitySelection(start, finish))"
      ]
    },
    {
      "cell_type": "markdown",
      "source": [
        "- problem: 02 - Non-overlapping Intervals"
      ],
      "metadata": {
        "id": "aV7EsgZzB-Pl"
      }
    },
    {
      "cell_type": "code",
      "source": [
        "# 435. Non-overlapping Intervals\n",
        "def eraseOverlapIntervals(intervals):\n",
        "        \"\"\"\n",
        "        :type intervals: List[List[int]]\n",
        "        :rtype: intm\n",
        "        \"\"\"\n",
        "        intervals.sort(key=lambda x:x[1])\n",
        "        start = intervals[0][1]\n",
        "        count = 0\n",
        "        for i in range(1,len(intervals)):\n",
        "            if intervals[i][0] < start:\n",
        "                count +=1\n",
        "            else:\n",
        "                start = intervals[i][1]\n",
        "        return count\n",
        "intervals = [[1,100],[11,22],[1,11],[2,12]]\n",
        "print(eraseOverlapIntervals(intervals))"
      ],
      "metadata": {
        "colab": {
          "base_uri": "https://localhost:8080/"
        },
        "id": "xBdhkcefkTuQ",
        "outputId": "a948ad68-9418-4fbb-bba9-b6449262e5d8"
      },
      "execution_count": null,
      "outputs": [
        {
          "output_type": "stream",
          "name": "stdout",
          "text": [
            "2\n"
          ]
        }
      ]
    },
    {
      "cell_type": "code",
      "source": [
        "# 452. Minimum Number of Arrows to Burst Balloons\n",
        "def findMinArrowShots(points):\n",
        "        \"\"\"\n",
        "        :type points: List[List[int]]\n",
        "        :rtype: int\n",
        "        \"\"\"\n",
        "        points.sort(key = lambda x:x[1])\n",
        "        minimum_arrows = 1\n",
        "        end_point = points[0][1]\n",
        "        for i in range(1,len(points)):\n",
        "            if end_point >= points[i][0]:\n",
        "                continue\n",
        "            else:\n",
        "                end_point = points[i][1]\n",
        "                minimum_arrows +=1\n",
        "        return minimum_arrows\n",
        "points = [[10,16],[2,8],[1,6],[7,12]]\n",
        "print(findMinArrowShots(points))"
      ],
      "metadata": {
        "id": "l8rk4rErlKXP",
        "colab": {
          "base_uri": "https://localhost:8080/"
        },
        "outputId": "3c312873-d5b2-406a-e409-2e4cc06cbc11"
      },
      "execution_count": null,
      "outputs": [
        {
          "output_type": "stream",
          "name": "stdout",
          "text": [
            "2\n"
          ]
        }
      ]
    },
    {
      "cell_type": "code",
      "source": [
        "def jobSequencing(deadline, profit):\n",
        "    # code here\n",
        "    jobs = sorted(zip(profit,deadline),reverse=True)\n",
        "    max_deadline = max(deadline)\n",
        "    result = [-1]*max_deadline\n",
        "    max_profit = 0\n",
        "    job_count = 0\n",
        "    for profit,deadline in jobs:\n",
        "        for i in range(deadline-1,-1,-1):\n",
        "            if result[i] == -1:\n",
        "                result[i] = profit\n",
        "                max_profit += profit\n",
        "                job_count +=1\n",
        "                break\n",
        "    return [job_count,max_profit]\n",
        "deadline = [2, 1, 2, 1, 1]\n",
        "profit = [100, 19, 27, 25, 15]\n",
        "print(jobSequencing(deadline,profit))"
      ],
      "metadata": {
        "colab": {
          "base_uri": "https://localhost:8080/"
        },
        "id": "h9bLSfXnhDxg",
        "outputId": "db985dce-6839-4f75-f544-e5aa52d8c357"
      },
      "execution_count": null,
      "outputs": [
        {
          "output_type": "stream",
          "name": "stdout",
          "text": [
            "[2, 127]\n"
          ]
        }
      ]
    },
    {
      "cell_type": "markdown",
      "source": [
        "- Maximum Profit in Job Scheduling"
      ],
      "metadata": {
        "id": "Qr0AgyGRwNQh"
      }
    },
    {
      "cell_type": "code",
      "source": [
        "# 1235. Maximum Profit in Job Scheduling\n",
        "def jobScheduling(starttime, endtime, profit):\n",
        "\n",
        "    # greedy approach (for this problem greedy not work better option is dp)\n",
        "    # jobs = sorted([(a,b,c) for a,b,c in zip(starttime,endtime,profit)],key = lambda x: x[1])\n",
        "    # filtered_jobs = {}\n",
        "    # for start,end,value in zip(starttime,endtime,profit):\n",
        "    #     if start not in filtered_jobs:\n",
        "    #         filtered_jobs[start] = (start,end,value)\n",
        "    #     else:\n",
        "    #         if filtered_jobs[start][2] < value:\n",
        "    #             filtered_jobs[start] = (start,end,value)\n",
        "    # updated_jobs = list(filtered_jobs.values())\n",
        "    # updated_jobs.sort(key = lambda x: x[1])\n",
        "    # print(updated_jobs)\n",
        "    # max_profit = updated_jobs[0][2]\n",
        "    # end_point = updated_jobs[0][1]\n",
        "    # for i in range(1,len(updated_jobs)):\n",
        "    #     if updated_jobs[i][0] >= end_point:\n",
        "    #         max_profit += updated_jobs[i][2]\n",
        "    #         end_point = updated_jobs[i][1]\n",
        "    # return max_profit\n",
        "\n",
        "    # dp approach---------\n",
        "    from bisect import bisect_right\n",
        "    jobs = sorted(zip(starttime,endtime,profit),key = lambda x: x[1])\n",
        "    dp = [(0,0)]\n",
        "    for start,end,value in jobs:\n",
        "        # Binary search: latest job that ends before s -- It is a binary search function that returns the index where an item would go to keep the list sorted.\n",
        "        i = bisect_right(dp, (start, float('inf'))) - 1\n",
        "\n",
        "        if dp[i][1] + value > dp[-1][1]:\n",
        "            dp.append((end, dp[i][1] + value))\n",
        "    print(dp)\n",
        "    return dp[-1][1]\n",
        "\n",
        "\n",
        "startTime = [1,2,2,3]\n",
        "endTime = [2,5,3,4]\n",
        "profit = [3,4,1,2]\n",
        "print(jobScheduling(startTime,endTime,profit))"
      ],
      "metadata": {
        "colab": {
          "base_uri": "https://localhost:8080/"
        },
        "id": "n5DAN9pCMUMk",
        "outputId": "325c8c9a-3f0a-4ef8-9e29-7200c6601b6a"
      },
      "execution_count": null,
      "outputs": [
        {
          "output_type": "stream",
          "name": "stdout",
          "text": [
            "[(0, 0), (2, 3), (3, 4), (4, 6), (5, 7)]\n",
            "7\n"
          ]
        }
      ]
    },
    {
      "cell_type": "markdown",
      "source": [
        "- Assign Mice Holes(GeeksforGeeks)\n",
        ">Given, N Mice and N holes are placed in a straight line. Each hole can accommodate only 1 mouse. A mouse can stay at his position, move one step right from x to x + 1, or move one step left from x to x -1. Any of these moves consumes 1 minute. Write a program to assign mice to holes so that the time when the last mouse gets inside a hole is minimized.\n",
        "Note: Arrays M and H are the positions of the N mice and holes."
      ],
      "metadata": {
        "id": "hFhQV3bkwDCk"
      }
    },
    {
      "cell_type": "code",
      "source": [
        "# Assign Mice Holes(GeeksforGeeks)\n",
        "\n",
        "def assignMiceHoles(N , M , H):\n",
        "    M.sort()\n",
        "    H.sort()\n",
        "    max_time = 0\n",
        "    for i in range(N):\n",
        "        if max_time < abs(M[i] - H[i]):\n",
        "            max_time = abs(M[i] - H[i])\n",
        "    return max_time\n",
        "\n",
        "N = 3\n",
        "M = [4, -4, 2]\n",
        "H = [4, 0, 5]\n",
        "print(assignMiceHoles(N,M,H))"
      ],
      "metadata": {
        "id": "d8xsAlT0b9xs",
        "colab": {
          "base_uri": "https://localhost:8080/"
        },
        "outputId": "536408eb-207a-4fc1-c220-7ee567803e6f"
      },
      "execution_count": null,
      "outputs": [
        {
          "output_type": "stream",
          "name": "stdout",
          "text": [
            "4\n"
          ]
        }
      ]
    },
    {
      "cell_type": "code",
      "source": [
        "# Police and Thieves(Geeksforgeeks)\n",
        "def catchThieves(arr, k):\n",
        "    police = -1\n",
        "    thief = -1\n",
        "    n = len(arr)\n",
        "    caught = 0\n",
        "    for i in range(n):\n",
        "        if police == -1 and arr[i] == 'P': police = i\n",
        "        if thief == -1 and arr[i] == 'T': thief = i\n",
        "        if police != -1 and thief != -1:\n",
        "            break\n",
        "    if police == -1 or thief == -1: return 0\n",
        "\n",
        "    while (police < n and thief < n):\n",
        "        if abs(police-thief) <= k:\n",
        "            caught +=1\n",
        "            police +=1\n",
        "            while (police < n and arr[police] != 'P'): police +=1\n",
        "            thief +=1\n",
        "            while (thief < n and arr[thief] != 'T'): thief +=1\n",
        "        elif (police < thief):\n",
        "            police +=1\n",
        "            while (police < n and arr[police] != 'P'): police +=1\n",
        "        else:\n",
        "            thief +=1\n",
        "            while (thief < n and arr[thief] != 'T'): thief +=1\n",
        "    return caught\n",
        "arr = ['P', 'T', 'T', 'P', 'T']\n",
        "k = 1\n",
        "\n",
        "print(catchThieves(arr,k))"
      ],
      "metadata": {
        "colab": {
          "base_uri": "https://localhost:8080/"
        },
        "id": "fw7KmHjSzaMu",
        "outputId": "c8f32ff5-5be7-4a42-ada9-e6777f2d6722"
      },
      "execution_count": null,
      "outputs": [
        {
          "output_type": "stream",
          "name": "stdout",
          "text": [
            "0 1\n",
            "2\n"
          ]
        }
      ]
    },
    {
      "cell_type": "markdown",
      "source": [
        "- **Huffman Coding** is a popular lossless data compression algorithm used to reduce the size of data without losing any information. It was developed by David A. Huffman in 1952.\n",
        "\n",
        ">It assigns shorter binary codes to more frequent characters and longer codes to less frequent characters. This makes the overall size of the encoded data smaller.\n",
        "\n",
        "🧠 How It Works (Step-by-step):\n",
        "\n",
        "- Count frequencies of each character in the input data.\n",
        "\n",
        "- Create leaf nodes for each character and store them in a priority queue (min-heap) based on frequency.\n",
        "\n",
        "- Build a binary tree:\n",
        "\n",
        "  - Remove two nodes with the lowest frequency.\n",
        "\n",
        "  - Combine them into a new node (sum of frequencies).\n",
        "\n",
        "- Repeat until one node remains — this becomes the root of the tree.\n",
        "\n",
        "- Generate binary codes:\n",
        "\n",
        "  - Traverse the tree: assign 0 to the left branch and 1 to the right.\n",
        "\n",
        "  - Each character gets a unique binary code from the root to its leaf.\n",
        "\n",
        "✅ Benefits:\n",
        "- Efficient for text compression (like ZIP, JPEG, MP3 use similar concepts).\n",
        "\n",
        "- Always creates prefix-free codes (no code is a prefix of another).\n",
        "\n",
        "⚙️ Applications:\n",
        "- File compression (ZIP)\n",
        "\n",
        "- Image compression (JPEG)\n",
        "\n",
        "- Network transmission\n",
        "\n",
        "- Embedded systems"
      ],
      "metadata": {
        "id": "uVEvly-JOC5w"
      }
    },
    {
      "cell_type": "code",
      "source": [
        "import heapq\n",
        "from collections import defaultdict, Counter\n",
        "\n",
        "class Node:\n",
        "    def __init__(self, char=None, freq=0):\n",
        "        self.char = char\n",
        "        self.freq = freq\n",
        "        self.left = None\n",
        "        self.right = None\n",
        "\n",
        "    # Comparison operator for priority queue\n",
        "    def __lt__(self, other):\n",
        "        return self.freq < other.freq\n",
        "\n",
        "def build_huffman_tree(text):\n",
        "    # Step 1: Count character frequencies\n",
        "    freq_map = Counter(text)\n",
        "\n",
        "    # Step 2: Create priority queue (min-heap)\n",
        "    heap = [Node(char, freq) for char, freq in freq_map.items()]\n",
        "    heapq.heapify(heap)\n",
        "\n",
        "    # Step 3: Build the tree\n",
        "    while len(heap) > 1:\n",
        "        node1 = heapq.heappop(heap)\n",
        "        node2 = heapq.heappop(heap)\n",
        "        merged = Node(freq=node1.freq + node2.freq)\n",
        "        merged.left = node1\n",
        "        merged.right = node2\n",
        "        heapq.heappush(heap, merged)\n",
        "\n",
        "    return heap[0]  # Root of Huffman Tree\n",
        "\n",
        "def generate_codes(node, prefix=\"\", code_map=None):\n",
        "    if code_map is None:\n",
        "        code_map = dict()\n",
        "    if node:\n",
        "        if node.char is not None:  # It's a leaf node\n",
        "            code_map[node.char] = prefix\n",
        "        generate_codes(node.left, prefix + \"0\", code_map)\n",
        "        generate_codes(node.right, prefix + \"1\", code_map)\n",
        "    return code_map\n",
        "\n",
        "def huffman_encode(text):\n",
        "    root = build_huffman_tree(text)\n",
        "    codes = generate_codes(root)\n",
        "    encoded_text = ''.join(codes[char] for char in text)\n",
        "    return encoded_text, codes\n",
        "\n",
        "def huffman_decode(encoded_text, codes):\n",
        "    reverse_codes = {v: k for k, v in codes.items()}\n",
        "    current = \"\"\n",
        "    decoded = \"\"\n",
        "    for bit in encoded_text:\n",
        "        current += bit\n",
        "        if current in reverse_codes:\n",
        "            decoded += reverse_codes[current]\n",
        "            current = \"\"\n",
        "    return decoded\n",
        "\n",
        "# 🔍 Example usage\n",
        "text = \"abbccc\"\n",
        "encoded, code_map = huffman_encode(text)\n",
        "decoded = huffman_decode(encoded, code_map)\n",
        "\n",
        "print(\"Original:\", text)\n",
        "print(\"Huffman Codes:\", code_map)\n",
        "print(\"Encoded:\", encoded)\n",
        "print(\"Decoded:\", decoded)\n"
      ],
      "metadata": {
        "id": "Y8MSyBykOCfX"
      },
      "execution_count": null,
      "outputs": []
    }
  ]
}