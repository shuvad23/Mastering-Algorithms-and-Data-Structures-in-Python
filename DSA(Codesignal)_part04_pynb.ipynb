{
  "nbformat": 4,
  "nbformat_minor": 0,
  "metadata": {
    "colab": {
      "provenance": [],
      "authorship_tag": "ABX9TyPb81W2yzZ+cow3PFeDOqn5",
      "include_colab_link": true
    },
    "kernelspec": {
      "name": "python3",
      "display_name": "Python 3"
    },
    "language_info": {
      "name": "python"
    }
  },
  "cells": [
    {
      "cell_type": "markdown",
      "metadata": {
        "id": "view-in-github",
        "colab_type": "text"
      },
      "source": [
        "<a href=\"https://colab.research.google.com/github/shuvad23/Mastering-Algorithms-and-Data-Structures-in-Python/blob/main/DSA(Codesignal)_part04_pynb.ipynb\" target=\"_parent\"><img src=\"https://colab.research.google.com/assets/colab-badge.svg\" alt=\"Open In Colab\"/></a>"
      ]
    },
    {
      "cell_type": "markdown",
      "source": [
        "# Tree\n",
        "Conceptual Overview: Binary and Non-Binary Trees :\n",
        "\n",
        "> **Tree:** Starting with a brief overview, a tree in computer science is a non-linear data structure representing a hierarchical and connected arrangement of entities known as nodes.\n",
        "\n",
        ">**A binary tree** is a specific type of tree data structure where each node has, at most, two children: one left child and one right child.\n",
        "\n",
        "> On the other hand, **a non-binary tree**, also known as a multi-way tree, can have more than two children per node.\n",
        "\n",
        "\n",
        "Terminology:\n",
        "\n",
        ">Root: The topmost node in a tree.\n",
        "\n",
        ">Edge: The connection between one node to another.\n",
        "\n",
        ">Leaf: A node that doesn't have any children.\n",
        "\n",
        ">Depth of a Node: The number of edges from the node to the tree's root node.\n",
        "\n",
        ">Height of a Tree: The maximal depth of the tree nodes.\n",
        "\n",
        ">Subtree: Any node and its descendants form a subtree of the original tree.\n",
        "\n",
        "Tree properties:\n",
        "\n",
        ">Path: A sequence of nodes and edges connecting a node with a descendant.\n",
        "\n",
        ">Acyclic: Trees cannot have cycles, which are paths where the start and end points are the same.\n",
        "\n",
        ">Connected: All nodes in a tree are connected by paths.\n",
        "\n",
        ">E=V−1: For any tree, the number of edges (\n",
        "E) is always one less than the number of vertices (\n",
        "v ), illustrating the tree's connectivity without cycles."
      ],
      "metadata": {
        "id": "tMI1zkIFxp7M"
      }
    },
    {
      "cell_type": "code",
      "source": [
        "# Simple tree example--------\n",
        "class TreeNode:\n",
        "    def __init__(self,val = 0, left = None, right = None):\n",
        "        self.val = val\n",
        "        self.left = left\n",
        "        self.right = right\n",
        "    def __str__(self):\n",
        "        return str(self.val)\n",
        "A = TreeNode(1)\n",
        "B = TreeNode(2)\n",
        "C = TreeNode(3)\n",
        "D = TreeNode(4)\n",
        "E = TreeNode(5)\n",
        "\n",
        "A.left = B\n",
        "A.right = C\n",
        "B.left = D\n",
        "B.right = E\n",
        "\n",
        "print(A.left)\n",
        "print(A.right)\n",
        "print(B.left)\n",
        "print(B.right)\n",
        "print(C.left)\n",
        "print(C.right)"
      ],
      "metadata": {
        "colab": {
          "base_uri": "https://localhost:8080/"
        },
        "id": "5_LCk2l8sAP4",
        "outputId": "5d5c4ef3-1f4c-4fcc-8556-d073d3b2c003"
      },
      "execution_count": null,
      "outputs": [
        {
          "output_type": "stream",
          "name": "stdout",
          "text": [
            "2\n",
            "3\n",
            "4\n",
            "5\n",
            "None\n",
            "None\n"
          ]
        }
      ]
    },
    {
      "cell_type": "code",
      "execution_count": null,
      "metadata": {
        "id": "B4fIJh5lxTBj",
        "colab": {
          "base_uri": "https://localhost:8080/"
        },
        "outputId": "387212e9-5630-45b8-8d0f-a812a9e3578f"
      },
      "outputs": [
        {
          "output_type": "stream",
          "name": "stdout",
          "text": [
            "|_Book\n",
            " |_Python\n",
            "  |_Chapter1\n",
            "   |_Topic1\n",
            "   |_Topic2\n",
            "   |_Topic3\n",
            "  |_Chapter2\n",
            "  |_Chapter3\n",
            " |_Java\n",
            "  |_Chapter1\n",
            "   |_Topic1\n",
            "   |_Topic2\n",
            "   |_Topic3\n",
            "  |_Chapter2\n",
            "  |_Chapter3\n"
          ]
        }
      ],
      "source": [
        "# simple example of a tree\n",
        "class TreeNode1:\n",
        "    def __init__(self,name):\n",
        "        self.name = name\n",
        "        self.children = []\n",
        "    def add_child(self,child):\n",
        "        self.children.append(child)\n",
        "    def display(self,level = 0):\n",
        "        print(\" \" * level + '|_' + self.name)\n",
        "        for child in self.children:\n",
        "            child.display(level +1)\n",
        "\n",
        "# Root Node\n",
        "Book = TreeNode1(\"Book\")\n",
        "\n",
        "# Child Node (root ->Child) like - (Book -> python, java)\n",
        "python = TreeNode1(\"Python\")\n",
        "java = TreeNode1(\"Java\")\n",
        "Book.add_child(python)\n",
        "Book.add_child(java)\n",
        "\n",
        "# next child node (root -> child -> child_of_previous_node) like - (Book -> python,java -> chapter1-> topic1,topic2,topic3,chapter2,chapter3)\n",
        "Chapter1 = TreeNode1(\"Chapter1\")\n",
        "Chapter2 = TreeNode1(\"Chapter2\")\n",
        "Chapter3 = TreeNode1(\"Chapter3\")\n",
        "topic1 = TreeNode1(\"Topic1\")\n",
        "topic2 = TreeNode1(\"Topic2\")\n",
        "topic3 = TreeNode1(\"Topic3\")\n",
        "\n",
        "# chapter1 -> topic1,topic2,topic3\n",
        "Chapter1.add_child(topic1)\n",
        "Chapter1.add_child(topic2)\n",
        "Chapter1.add_child(topic3)\n",
        "\n",
        "# edges to parent and child node\n",
        "python.add_child(Chapter1)\n",
        "python.add_child(Chapter2)\n",
        "python.add_child(Chapter3)\n",
        "java.add_child(Chapter1)\n",
        "java.add_child(Chapter2)\n",
        "java.add_child(Chapter3)\n",
        "\n",
        "\n",
        "Book.display()"
      ]
    },
    {
      "cell_type": "code",
      "source": [
        "# preoder traversal ----------------`\n",
        "class TreeNode2:\n",
        "    def __init__(self,val = 0, left = None, right = None):\n",
        "        self.val = val\n",
        "        self.left = left\n",
        "        self.right = right\n",
        "    def preorder_traversal(self,Node):\n",
        "        if Node is None:\n",
        "            return\n",
        "        print(Node.val,end=\" -> \")\n",
        "        self.preorder_traversal(Node.left)\n",
        "        self.preorder_traversal(Node.right)\n",
        "\n",
        "root = TreeNode2('A')\n",
        "root.left = TreeNode2('B')\n",
        "root.right = TreeNode2('C')\n",
        "root.left.left = TreeNode2('D')\n",
        "root.left.right = TreeNode2('E')\n",
        "root.right.left = TreeNode2('F')\n",
        "root.right.right = TreeNode2('G')\n",
        "root.left.left.left = TreeNode2('H')\n",
        "root.left.left.right = TreeNode2('I')\n",
        "root.preorder_traversal(root)"
      ],
      "metadata": {
        "colab": {
          "base_uri": "https://localhost:8080/"
        },
        "id": "AV_PzIHuaHXV",
        "outputId": "74e911bb-b00b-4826-ee2b-edc71943ed54"
      },
      "execution_count": null,
      "outputs": [
        {
          "output_type": "stream",
          "name": "stdout",
          "text": [
            "A -> B -> D -> H -> I -> E -> C -> F -> G -> "
          ]
        }
      ]
    },
    {
      "cell_type": "code",
      "source": [
        "# Creating a Tree from a List (preorder traversal)\n",
        "class TreeNode3:\n",
        "    def __init__(self,val = 0, left = None, right = None):\n",
        "        self.val = val\n",
        "        self.left = left\n",
        "        self.right = right\n",
        "    def bulid_tree_from_list(self,Node,index = 0):\n",
        "        if index >= len(Node) or Node[index] is None:\n",
        "            return None\n",
        "        root = TreeNode3(Node[index])\n",
        "        root.left = self.bulid_tree_from_list(Node,2*index + 1)\n",
        "        root.right = self.bulid_tree_from_list(Node,2*index + 2)\n",
        "        return root\n",
        "\n",
        "\n",
        "    def preorder_traversal(self,Node):\n",
        "        if Node is None:\n",
        "            return\n",
        "        print(Node.val,end=' -> ')\n",
        "        self.preorder_traversal(Node.left)\n",
        "        self.preorder_traversal(Node.right)\n",
        "\n",
        "root = TreeNode3()\n",
        "Node = [1,2,3,4,5,6,7]\n",
        "root = root.bulid_tree_from_list(Node)\n",
        "root.preorder_traversal(root)\n",
        "print()\n",
        "root1 = TreeNode3()\n",
        "Node1 = ['A', 'B', 'C', 'D', 'E', None, None]\n",
        "root1 = root1.bulid_tree_from_list(Node1)\n",
        "root1.preorder_traversal(root1)"
      ],
      "metadata": {
        "colab": {
          "base_uri": "https://localhost:8080/"
        },
        "id": "sIvHj1ate5xl",
        "outputId": "af6077cc-78f3-4259-a9e1-e8973a7a06b6"
      },
      "execution_count": null,
      "outputs": [
        {
          "output_type": "stream",
          "name": "stdout",
          "text": [
            "1 -> 2 -> 4 -> 5 -> 3 -> 6 -> 7 -> \n",
            "A -> B -> D -> E -> C -> "
          ]
        }
      ]
    },
    {
      "cell_type": "code",
      "source": [
        "class TreeNode4:\n",
        "    def __init__(self,val = 0, left = None, right = None):\n",
        "        self.val = val\n",
        "        self.left = left\n",
        "        self.right = right\n",
        "    def inorder_traversal(self,Node):\n",
        "        if Node is None:\n",
        "            return None\n",
        "        self.inorder_traversal(Node.left)\n",
        "        print(Node.val,end = ' -> ')\n",
        "        self.inorder_traversal(Node.right)\n",
        "root = TreeNode4('A')\n",
        "root.left = TreeNode4('B')\n",
        "root.right = TreeNode4('C')\n",
        "root.left.left = TreeNode4('D')\n",
        "root.left.right = TreeNode4('E')\n",
        "root.right.left = TreeNode4('F')\n",
        "root.right.right = TreeNode4('G')\n",
        "root.inorder_traversal(root)"
      ],
      "metadata": {
        "colab": {
          "base_uri": "https://localhost:8080/"
        },
        "id": "OLtAk7ESptrN",
        "outputId": "1e6364e2-875a-4fa2-910b-b9a59e485cb0"
      },
      "execution_count": null,
      "outputs": [
        {
          "output_type": "stream",
          "name": "stdout",
          "text": [
            "D -> B -> E -> A -> F -> C -> G -> "
          ]
        }
      ]
    },
    {
      "cell_type": "code",
      "source": [
        "class TreeNode5:\n",
        "    def __init__(self,val = 0,left = None,right = None):\n",
        "        self.val = val\n",
        "        self.left = left\n",
        "        self.right = right\n",
        "    def postorder_traversal(self,Node):\n",
        "        if Node is None:\n",
        "            return None\n",
        "        self.postorder_traversal(Node.left)\n",
        "        self.postorder_traversal(Node.right)\n",
        "        print(Node.val,end = ' -> ')\n",
        "\n",
        "\n",
        "root = TreeNode5('A')\n",
        "root.left = TreeNode5('B')\n",
        "root.right = TreeNode5('C')\n",
        "root.left.left = TreeNode5('D')\n",
        "root.left.right = TreeNode5('E')\n",
        "root.right.left = TreeNode5('F')\n",
        "root.right.right = TreeNode5('G')\n",
        "root.postorder_traversal(root)\n"
      ],
      "metadata": {
        "colab": {
          "base_uri": "https://localhost:8080/"
        },
        "id": "Zmxlb8Rlwbox",
        "outputId": "f1f75233-56a0-42e3-b587-40d6706d49d1"
      },
      "execution_count": null,
      "outputs": [
        {
          "output_type": "stream",
          "name": "stdout",
          "text": [
            "D -> E -> B -> F -> G -> C -> A -> "
          ]
        }
      ]
    },
    {
      "cell_type": "code",
      "source": [
        "from collections import deque\n",
        "class TreeNode6:\n",
        "    def __init__(self,val = 0,left = None,right = None):\n",
        "        self.val = val\n",
        "        self.left = left\n",
        "        self.right = right\n",
        "\n",
        "    def level_order_traversal(self,Node):\n",
        "        if Node is None:\n",
        "            return None\n",
        "        queue = deque()\n",
        "        queue.append(Node)\n",
        "        while queue:\n",
        "            Node = queue.popleft()\n",
        "            print(Node.val,end = ' -> ')\n",
        "            if Node.left:\n",
        "                queue.append(Node.left)\n",
        "            if Node.right:\n",
        "                queue.append(Node.right)\n",
        "    def level_order_traversal_reverse(self,Node):\n",
        "        if Node is None:\n",
        "            return None\n",
        "        queue = deque()\n",
        "        queue.append(Node)\n",
        "        result = []\n",
        "        while queue:\n",
        "            Node = queue.popleft()\n",
        "            result.append(Node.val)\n",
        "            if Node.left:\n",
        "                queue.append(Node.left)\n",
        "            if Node.right:\n",
        "                queue.append(Node.right)\n",
        "        for val in result[::-1]:\n",
        "            print(val,end = ' -> ')\n",
        "    def level_order_traversal_reverse_using_stack(self,Node):\n",
        "        if Node is None:\n",
        "            return None\n",
        "        stack = []\n",
        "        stack.append(Node)\n",
        "        result = []\n",
        "        while stack:\n",
        "            Node = stack.pop()\n",
        "            result.append(Node.val)\n",
        "            if Node.right:\n",
        "                stack.append(Node.right)\n",
        "            if Node.left:\n",
        "                stack.append(Node.left)\n",
        "        return result\n",
        "    def print_val_line_by_line(self,Node):\n",
        "        if Node is None:\n",
        "            return None\n",
        "        queue = deque()\n",
        "        queue.append(Node)\n",
        "        queue.append(None)\n",
        "        while queue:\n",
        "            Node = queue.popleft()\n",
        "            if Node is None:\n",
        "                print()\n",
        "                if queue:\n",
        "                    queue.append(None)\n",
        "                    continue\n",
        "            if Node:\n",
        "                print(Node.val,end = ' -> ')\n",
        "                if Node.left:\n",
        "                    queue.append(Node.left)\n",
        "                if Node.right:\n",
        "                    queue.append(Node.right)\n",
        "\n",
        "root = TreeNode6('A')\n",
        "root.left = TreeNode6('B')\n",
        "root.right = TreeNode6('C')\n",
        "root.left.left = TreeNode6('D')\n",
        "root.left.right = TreeNode6('E')\n",
        "root.right.left = TreeNode6('F')\n",
        "root.right.right = TreeNode6('G')\n",
        "print('Level order traversal: ')\n",
        "root.level_order_traversal(root)\n",
        "print('\\nLevel order traversal reverse: ')\n",
        "root.level_order_traversal_reverse(root)\n",
        "print('\\nLevel order traversal reverse using stack: ')\n",
        "print(root.level_order_traversal_reverse_using_stack(root))\n",
        "print('\\nLevel order traversal print line by line: ')\n",
        "root.print_val_line_by_line(root)"
      ],
      "metadata": {
        "colab": {
          "base_uri": "https://localhost:8080/"
        },
        "id": "jbs6HQ2x10eu",
        "outputId": "2ff32850-4298-4c40-dbc6-b2c02dae2348"
      },
      "execution_count": null,
      "outputs": [
        {
          "output_type": "stream",
          "name": "stdout",
          "text": [
            "Level order traversal: \n",
            "A -> B -> C -> D -> E -> F -> G -> \n",
            "Level order traversal reverse: \n",
            "G -> F -> E -> D -> C -> B -> A -> \n",
            "Level order traversal reverse using stack: \n",
            "['A', 'B', 'D', 'E', 'C', 'F', 'G']\n",
            "\n",
            "Level order traversal print line by line: \n",
            "A -> \n",
            "B -> C -> \n",
            "D -> E -> F -> G -> \n"
          ]
        }
      ]
    },
    {
      "cell_type": "code",
      "source": [
        "# Height of a tree and count of Node ---------------------\n",
        "class TreeNode7:\n",
        "    def __init__(self,val = 0,left = None,right = None):\n",
        "        self.val = val\n",
        "        self.left = left\n",
        "        self.right = right\n",
        "    def height(self,Node):\n",
        "        if Node is None:\n",
        "            return 0\n",
        "        left_height = self.height(Node.left)\n",
        "        right_height = self.height(Node.right)\n",
        "        return max(left_height,right_height) + 1\n",
        "    def count(self,Node):\n",
        "        if Node is None:\n",
        "            return 0\n",
        "        left_count = self.count(Node.left)\n",
        "        right_count = self.count(Node.right)\n",
        "        return left_count + right_count +1\n",
        "\n",
        "    def sum_of_Node(self,Node):\n",
        "        if Node is None:\n",
        "            return 0\n",
        "        left_sum = self.sum_of_Node(Node.left)\n",
        "        right_sum = self.sum_of_Node(Node.right)\n",
        "        return left_sum + right_sum + Node.val\n",
        "\n",
        "root = TreeNode7(1)\n",
        "root.left = TreeNode7(2)\n",
        "root.right = TreeNode7(3)\n",
        "root.left.left = TreeNode7(4)\n",
        "root.left.right = TreeNode7(5)\n",
        "root.right.left = TreeNode7(6)\n",
        "root.right.right = TreeNode7(7)\n",
        "root.left.left.left = TreeNode7(8)\n",
        "root.left.left.right = TreeNode7(9)\n",
        "print(root.height(root))\n",
        "print(root.count(root))\n",
        "print(root.sum_of_Node(root))"
      ],
      "metadata": {
        "id": "44aeEGAwaST8",
        "colab": {
          "base_uri": "https://localhost:8080/"
        },
        "outputId": "6c2fb3eb-7e06-4aca-9a0e-e305b3d107ba"
      },
      "execution_count": null,
      "outputs": [
        {
          "output_type": "stream",
          "name": "stdout",
          "text": [
            "4\n",
            "9\n",
            "45\n"
          ]
        }
      ]
    },
    {
      "cell_type": "code",
      "source": [
        "# 100. Same Tree\n",
        "# Definition for a binary tree node.\n",
        "# class TreeNode(object):\n",
        "#     def __init__(self, val=0, left=None, right=None):\n",
        "#         self.val = val\n",
        "#         self.left = left\n",
        "#         self.right = right\n",
        "class Solution(object):\n",
        "    def isSameTree(self, p, q):\n",
        "        \"\"\"\n",
        "        :type p: Optional[TreeNode]\n",
        "        :type q: Optional[TreeNode]\n",
        "        :rtype: bool\n",
        "        \"\"\"\n",
        "        if p==None or q==None:\n",
        "            return p==q\n",
        "        left_side = self.isSameTree(p.left,q.left)\n",
        "        right_side = self.isSameTree(p.right,q.right)\n",
        "\n",
        "        return left_side and right_side and p.val == q.val\n"
      ],
      "metadata": {
        "id": "4Y49tw62tgWq"
      },
      "execution_count": null,
      "outputs": []
    },
    {
      "cell_type": "code",
      "source": [
        "# 572. Subtree of Another Tree\n",
        "# Definition for a binary tree node.\n",
        "# class TreeNode(object):\n",
        "#     def __init__(self, val=0, left=None, right=None):\n",
        "#         self.val = val\n",
        "#         self.left = left\n",
        "#         self.right = right\n",
        "class Solution(object):\n",
        "    def isSameTree(self,p,q):\n",
        "        if p == None or q == None:\n",
        "            return p == q\n",
        "        left_side = self.isSameTree(p.left,q.left)\n",
        "        right_side = self.isSameTree(p.right,q.right)\n",
        "        return left_side and right_side and p.val == q.val\n",
        "    def isSubtree(self, root, subRoot):\n",
        "        \"\"\"\n",
        "        :type root: Optional[TreeNode]\n",
        "        :type subRoot: Optional[TreeNode]\n",
        "        :rtype: bool\n",
        "        \"\"\"\n",
        "        if root == None or subRoot == None:\n",
        "            return root == subRoot\n",
        "        if (root.val == subRoot.val and self.isSameTree(root,subRoot)):\n",
        "            return True\n",
        "        return self.isSubtree(root.left,subRoot) or self.isSubtree(root.right,subRoot)"
      ],
      "metadata": {
        "id": "xTGMIWNfz4LR"
      },
      "execution_count": null,
      "outputs": []
    },
    {
      "cell_type": "code",
      "source": [
        "# 543. Diameter of Binary Tree\n",
        "# Definition for a binary tree node.\n",
        "# class TreeNode(object):\n",
        "#     def __init__(self, val=0, left=None, right=None):\n",
        "#         self.val = val\n",
        "#         self.left = left\n",
        "#         self.right = right\n",
        "class Solution(object):\n",
        "    def __init__(self):\n",
        "        self.ans = 0\n",
        "    def height(self,Node):\n",
        "        if Node is None:\n",
        "            return 0\n",
        "        leftheight = self.height(Node.left)\n",
        "        rightheight = self.height(Node.right)\n",
        "        self.ans = max(self.ans,leftheight + rightheight)\n",
        "        return max(leftheight,rightheight) + 1\n",
        "\n",
        "    def diameterOfBinaryTree(self, root):\n",
        "        \"\"\"\n",
        "        :type root: Optional[TreeNode]\n",
        "        :rtype: int\n",
        "        \"\"\"\n",
        "        self.height(root)\n",
        "        return self.ans"
      ],
      "metadata": {
        "id": "6ol-xNYVz9k3"
      },
      "execution_count": null,
      "outputs": []
    },
    {
      "cell_type": "markdown",
      "source": [
        "### Binary Tree Traversal\n",
        "Trees are dynamic data structures permitting several operations, such as insertion (adding a new node), deletion (removing an existing node), and traversal (accessing or visiting all nodes in a specific order).\n",
        "\n",
        "Traversal of the binary tree is a process of visiting all nodes of a tree and possibly printing their values. Since all nodes are connected via edges (links), we always start from the root (head) node. We cannot randomly access a node in a tree. There are three ways to traverse a tree:\n",
        "\n",
        ">In-order Traversal: In this method, the left subtree is visited first, then the root, and later the right subtree. We should always remember that every node may represent a subtree itself.\n",
        "\n",
        ">Pre-order Traversal: In this method, the root node is visited first, then the left subtree, and finally the right subtree.\n",
        "\n",
        ">Post-order Traversal: In this method, the root node is visited last, hence the name. We first traverse the left subtree, then the right subtree, and finally, the root node."
      ],
      "metadata": {
        "id": "iGoCWwMRi9pT"
      }
    },
    {
      "cell_type": "code",
      "source": [
        "# Tree Operations: Insertion and Deletion\n",
        "class TreeNode:\n",
        "    def __init__(self, value):\n",
        "        self.value = value\n",
        "        self.children = []\n",
        "\n",
        "    def add_child(self, child_node):\n",
        "        self.children.append(child_node)\n",
        "\n",
        "    def remove_child(self, child_node):\n",
        "        self.children = [child for child in self.children if child is not child_node]\n",
        "\n",
        "root = TreeNode(1)\n",
        "child1 = TreeNode(2)\n",
        "child2 = TreeNode(3)\n",
        "root.add_child(child1)\n",
        "root.add_child(child2)\n",
        "child1.add_child(TreeNode(4))\n",
        "child1.add_child(TreeNode(5))\n",
        "child2.add_child(TreeNode(6))\n",
        "child2.add_child(TreeNode(7))\n",
        "print(\"Root:\", root.value)\n",
        "print(\"Children:\", [child.value for child in root.children])\n",
        "print(\"Children of child1:\", [child.value for child in child1.children])\n",
        "print(\"Children of child2:\", [child.value for child in child2.children])\n",
        "root.remove_child(child1)\n",
        "print(\"Children after removing child1:\", [child.value for child in root.children])\n",
        "print(\"Children of child2 after removing child1:\", [child.value for child in child2.children])"
      ],
      "metadata": {
        "colab": {
          "base_uri": "https://localhost:8080/"
        },
        "id": "kPEUmNCEi9CJ",
        "outputId": "15418ab0-12aa-4b41-ce29-c1e2af1164c6"
      },
      "execution_count": null,
      "outputs": [
        {
          "output_type": "stream",
          "name": "stdout",
          "text": [
            "Root: 1\n",
            "Children: [2, 3]\n",
            "Children of child1: [4, 5]\n",
            "Children of child2: [6, 7]\n",
            "Children after removing child1: [3]\n",
            "Children of child2 after removing child1: [6, 7]\n"
          ]
        }
      ]
    },
    {
      "cell_type": "markdown",
      "source": [
        "Complexity Analysis: Binary and Non-Binary Trees\n",
        "For binary trees, the worst-case time complexity for searching, insertion, or deletion is\n",
        "\n",
        ">O(n), where\n",
        "n is the number of nodes. This complexity arises because, in the worst case, you might have to traverse all nodes. However, in ideal circumstances (where the tree is perfectly balanced), operations on binary trees run in\n",
        "O(logn) time.\n",
        "\n",
        ">Comparatively, for non-binary trees, searching for or deleting a node can still be\n",
        "O(n), but insertion may be more efficient —\n",
        "O(1) — if we keep track of where the next insertion should happen; if we don't, the complexity is the same as in binary tree."
      ],
      "metadata": {
        "id": "F7podJZOmmZT"
      }
    },
    {
      "cell_type": "code",
      "source": [
        "# top view:\n",
        "from collections import deque\n",
        "class TreeNode1:\n",
        "    def __init__(self, val=0, left=None, right=None):\n",
        "        self.val = val\n",
        "        self.left = left\n",
        "        self.right = right\n",
        "    def top_view(self,Node):\n",
        "        if Node is None:\n",
        "            return\n",
        "        queue = deque()\n",
        "        queue.append((Node,0))\n",
        "        result = {}\n",
        "        while queue:\n",
        "            Node,d = queue.popleft()\n",
        "            if d not in result:\n",
        "                result[d] = Node.val\n",
        "            if Node.left:\n",
        "                queue.append((Node.left,d-1))\n",
        "            if Node.right:\n",
        "                queue.append((Node.right,d+1))\n",
        "        for key,value in sorted(result.items()):\n",
        "            print(value,end = ' -> ')\n",
        "root = TreeNode1(1)\n",
        "root.left = TreeNode1(2)\n",
        "root.right = TreeNode1(3)\n",
        "root.left.left = TreeNode1(4)\n",
        "root.left.right = TreeNode1(5)\n",
        "root.right.left = TreeNode1(6)\n",
        "root.right.right = TreeNode1(7)\n",
        "root.top_view(root)"
      ],
      "metadata": {
        "colab": {
          "base_uri": "https://localhost:8080/"
        },
        "id": "zYBS3xBwDYM8",
        "outputId": "2dbc7abb-baf8-4247-f334-1c4fbfa7e170"
      },
      "execution_count": null,
      "outputs": [
        {
          "output_type": "stream",
          "name": "stdout",
          "text": [
            "4 -> 2 -> 1 -> 3 -> 7 -> "
          ]
        }
      ]
    },
    {
      "cell_type": "code",
      "source": [
        "# 199. Binary Tree Right Side View\n",
        "from collections import deque\n",
        "\n",
        "class TreeNode:\n",
        "    def __init__(self, val=0, left=None, right=None):\n",
        "        self.val = val\n",
        "        self.left = left\n",
        "        self.right = right\n",
        "\n",
        "    def right_side_view(self, root):\n",
        "        if not root:\n",
        "            return []\n",
        "\n",
        "        queue = deque([root])\n",
        "        result = []\n",
        "\n",
        "        while queue:\n",
        "            level_size = len(queue)\n",
        "            for i in range(level_size):\n",
        "                node = queue.popleft()\n",
        "                # If it's the last node in the current level, add to result\n",
        "                if i == level_size - 1:\n",
        "                    result.append(node.val)\n",
        "                if node.left:\n",
        "                    queue.append(node.left)\n",
        "                if node.right:\n",
        "                    queue.append(node.right)\n",
        "        return result\n",
        "\n",
        "# Example usage\n",
        "root = TreeNode(1)\n",
        "root.left = TreeNode(2)\n",
        "root.right = TreeNode(3)\n",
        "root.left.left = TreeNode(4)\n",
        "root.left.right = TreeNode(5)\n",
        "root.right.left = TreeNode(6)\n",
        "root.right.right = TreeNode(7)\n",
        "\n",
        "print(root.right_side_view(root))  # Output: [1, 3, 7]"
      ],
      "metadata": {
        "colab": {
          "base_uri": "https://localhost:8080/"
        },
        "id": "OYUrzMFYEkC5",
        "outputId": "8a4df275-3229-45be-ca97-976bed2c50f6"
      },
      "execution_count": 2,
      "outputs": [
        {
          "output_type": "stream",
          "name": "stdout",
          "text": [
            "deque([<__main__.TreeNode object at 0x7ede40a88290>])\n",
            "[1, 3, 7]\n"
          ]
        }
      ]
    }
  ]
}