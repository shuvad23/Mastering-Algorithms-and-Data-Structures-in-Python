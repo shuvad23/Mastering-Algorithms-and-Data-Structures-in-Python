{
  "nbformat": 4,
  "nbformat_minor": 0,
  "metadata": {
    "colab": {
      "provenance": [],
      "authorship_tag": "ABX9TyMRDADXkxsKBqLgwJixCcGH",
      "include_colab_link": true
    },
    "kernelspec": {
      "name": "python3",
      "display_name": "Python 3"
    },
    "language_info": {
      "name": "python"
    }
  },
  "cells": [
    {
      "cell_type": "markdown",
      "metadata": {
        "id": "view-in-github",
        "colab_type": "text"
      },
      "source": [
        "<a href=\"https://colab.research.google.com/github/shuvad23/Mastering-Algorithms-and-Data-Structures-in-Python/blob/main/DSA(Codesignal)_part04.ipynb\" target=\"_parent\"><img src=\"https://colab.research.google.com/assets/colab-badge.svg\" alt=\"Open In Colab\"/></a>"
      ]
    },
    {
      "cell_type": "markdown",
      "source": [
        "# Tree\n",
        "Conceptual Overview: Binary and Non-Binary Trees :\n",
        "\n",
        "> **Tree:** Starting with a brief overview, a tree in computer science is a non-linear data structure representing a hierarchical and connected arrangement of entities known as nodes.\n",
        "\n",
        ">**A binary tree** is a specific type of tree data structure where each node has, at most, two children: one left child and one right child.\n",
        "\n",
        "> On the other hand, **a non-binary tree**, also known as a multi-way tree, can have more than two children per node.\n",
        "\n",
        "\n",
        "Terminology:\n",
        "\n",
        ">Root: The topmost node in a tree.\n",
        "\n",
        ">Edge: The connection between one node to another.\n",
        "\n",
        ">Leaf: A node that doesn't have any children.\n",
        "\n",
        ">Depth of a Node: The number of edges from the node to the tree's root node.\n",
        "\n",
        ">Height of a Tree: The maximal depth of the tree nodes.\n",
        "\n",
        ">Subtree: Any node and its descendants form a subtree of the original tree.\n",
        "\n",
        "Tree properties:\n",
        "\n",
        ">Path: A sequence of nodes and edges connecting a node with a descendant.\n",
        "\n",
        ">Acyclic: Trees cannot have cycles, which are paths where the start and end points are the same.\n",
        "\n",
        ">Connected: All nodes in a tree are connected by paths.\n",
        "\n",
        ">E=V−1: For any tree, the number of edges (\n",
        "E) is always one less than the number of vertices (\n",
        "v ), illustrating the tree's connectivity without cycles."
      ],
      "metadata": {
        "id": "tMI1zkIFxp7M"
      }
    },
    {
      "cell_type": "code",
      "source": [
        "# Simple tree example--------\n",
        "class TreeNode:\n",
        "    def __init__(self,val = 0, left = None, right = None):\n",
        "        self.val = val\n",
        "        self.left = left\n",
        "        self.right = right\n",
        "    def __str__(self):\n",
        "        return str(self.val)\n",
        "A = TreeNode(1)\n",
        "B = TreeNode(2)\n",
        "C = TreeNode(3)\n",
        "D = TreeNode(4)\n",
        "E = TreeNode(5)\n",
        "\n",
        "A.left = B\n",
        "A.right = C\n",
        "B.left = D\n",
        "B.right = E\n",
        "\n",
        "print(A.left)\n",
        "print(A.right)\n",
        "print(B.left)\n",
        "print(B.right)\n",
        "print(C.left)\n",
        "print(C.right)"
      ],
      "metadata": {
        "colab": {
          "base_uri": "https://localhost:8080/"
        },
        "id": "5_LCk2l8sAP4",
        "outputId": "5d5c4ef3-1f4c-4fcc-8556-d073d3b2c003"
      },
      "execution_count": null,
      "outputs": [
        {
          "output_type": "stream",
          "name": "stdout",
          "text": [
            "2\n",
            "3\n",
            "4\n",
            "5\n",
            "None\n",
            "None\n"
          ]
        }
      ]
    },
    {
      "cell_type": "code",
      "execution_count": null,
      "metadata": {
        "id": "B4fIJh5lxTBj",
        "colab": {
          "base_uri": "https://localhost:8080/"
        },
        "outputId": "387212e9-5630-45b8-8d0f-a812a9e3578f"
      },
      "outputs": [
        {
          "output_type": "stream",
          "name": "stdout",
          "text": [
            "|_Book\n",
            " |_Python\n",
            "  |_Chapter1\n",
            "   |_Topic1\n",
            "   |_Topic2\n",
            "   |_Topic3\n",
            "  |_Chapter2\n",
            "  |_Chapter3\n",
            " |_Java\n",
            "  |_Chapter1\n",
            "   |_Topic1\n",
            "   |_Topic2\n",
            "   |_Topic3\n",
            "  |_Chapter2\n",
            "  |_Chapter3\n"
          ]
        }
      ],
      "source": [
        "# simple example of a tree\n",
        "class TreeNode1:\n",
        "    def __init__(self,name):\n",
        "        self.name = name\n",
        "        self.children = []\n",
        "    def add_child(self,child):\n",
        "        self.children.append(child)\n",
        "    def display(self,level = 0):\n",
        "        print(\" \" * level + '|_' + self.name)\n",
        "        for child in self.children:\n",
        "            child.display(level +1)\n",
        "\n",
        "# Root Node\n",
        "Book = TreeNode1(\"Book\")\n",
        "\n",
        "# Child Node (root ->Child) like - (Book -> python, java)\n",
        "python = TreeNode1(\"Python\")\n",
        "java = TreeNode1(\"Java\")\n",
        "Book.add_child(python)\n",
        "Book.add_child(java)\n",
        "\n",
        "# next child node (root -> child -> child_of_previous_node) like - (Book -> python,java -> chapter1-> topic1,topic2,topic3,chapter2,chapter3)\n",
        "Chapter1 = TreeNode1(\"Chapter1\")\n",
        "Chapter2 = TreeNode1(\"Chapter2\")\n",
        "Chapter3 = TreeNode1(\"Chapter3\")\n",
        "topic1 = TreeNode1(\"Topic1\")\n",
        "topic2 = TreeNode1(\"Topic2\")\n",
        "topic3 = TreeNode1(\"Topic3\")\n",
        "\n",
        "# chapter1 -> topic1,topic2,topic3\n",
        "Chapter1.add_child(topic1)\n",
        "Chapter1.add_child(topic2)\n",
        "Chapter1.add_child(topic3)\n",
        "\n",
        "# edges to parent and child node\n",
        "python.add_child(Chapter1)\n",
        "python.add_child(Chapter2)\n",
        "python.add_child(Chapter3)\n",
        "java.add_child(Chapter1)\n",
        "java.add_child(Chapter2)\n",
        "java.add_child(Chapter3)\n",
        "\n",
        "\n",
        "Book.display()"
      ]
    },
    {
      "cell_type": "code",
      "source": [
        "# preoder traversal ----------------`\n",
        "class TreeNode2:\n",
        "    def __init__(self,val = 0, left = None, right = None):\n",
        "        self.val = val\n",
        "        self.left = left\n",
        "        self.right = right\n",
        "    def preorder_traversal(self,Node):\n",
        "        if Node is None:\n",
        "            return\n",
        "        print(Node.val,end=\" -> \")\n",
        "        self.preorder_traversal(Node.left)\n",
        "        self.preorder_traversal(Node.right)\n",
        "\n",
        "root = TreeNode2('A')\n",
        "root.left = TreeNode2('B')\n",
        "root.right = TreeNode2('C')\n",
        "root.left.left = TreeNode2('D')\n",
        "root.left.right = TreeNode2('E')\n",
        "root.right.left = TreeNode2('F')\n",
        "root.right.right = TreeNode2('G')\n",
        "root.left.left.left = TreeNode2('H')\n",
        "root.left.left.right = TreeNode2('I')\n",
        "root.preorder_traversal(root)"
      ],
      "metadata": {
        "colab": {
          "base_uri": "https://localhost:8080/"
        },
        "id": "AV_PzIHuaHXV",
        "outputId": "74e911bb-b00b-4826-ee2b-edc71943ed54"
      },
      "execution_count": null,
      "outputs": [
        {
          "output_type": "stream",
          "name": "stdout",
          "text": [
            "A -> B -> D -> H -> I -> E -> C -> F -> G -> "
          ]
        }
      ]
    },
    {
      "cell_type": "code",
      "source": [
        "# Creating a Tree from a List (preorder traversal)\n",
        "class TreeNode3:\n",
        "    def __init__(self,val = 0, left = None, right = None):\n",
        "        self.val = val\n",
        "        self.left = left\n",
        "        self.right = right\n",
        "    def bulid_tree_from_list(self,Node,index = 0):\n",
        "        if index >= len(Node) or Node[index] is None:\n",
        "            return None\n",
        "        root = TreeNode3(Node[index])\n",
        "        root.left = self.bulid_tree_from_list(Node,2*index + 1)\n",
        "        root.right = self.bulid_tree_from_list(Node,2*index + 2)\n",
        "        return root\n",
        "\n",
        "\n",
        "    def preorder_traversal(self,Node):\n",
        "        if Node is None:\n",
        "            return\n",
        "        print(Node.val,end=' -> ')\n",
        "        self.preorder_traversal(Node.left)\n",
        "        self.preorder_traversal(Node.right)\n",
        "\n",
        "root = TreeNode3()\n",
        "Node = [1,2,3,4,5,6,7]\n",
        "root = root.bulid_tree_from_list(Node)\n",
        "root.preorder_traversal(root)\n",
        "print()\n",
        "root1 = TreeNode3()\n",
        "Node1 = ['A', 'B', 'C', 'D', 'E', None, None]\n",
        "root1 = root1.bulid_tree_from_list(Node1)\n",
        "root1.preorder_traversal(root1)"
      ],
      "metadata": {
        "colab": {
          "base_uri": "https://localhost:8080/"
        },
        "id": "sIvHj1ate5xl",
        "outputId": "af6077cc-78f3-4259-a9e1-e8973a7a06b6"
      },
      "execution_count": null,
      "outputs": [
        {
          "output_type": "stream",
          "name": "stdout",
          "text": [
            "1 -> 2 -> 4 -> 5 -> 3 -> 6 -> 7 -> \n",
            "A -> B -> D -> E -> C -> "
          ]
        }
      ]
    },
    {
      "cell_type": "code",
      "source": [
        "class TreeNode4:\n",
        "    def __init__(self,val = 0, left = None, right = None):\n",
        "        self.val = val\n",
        "        self.left = left\n",
        "        self.right = right\n",
        "    def inorder_traversal(self,Node):\n",
        "        if Node is None:\n",
        "            return None\n",
        "        self.inorder_traversal(Node.left)\n",
        "        print(Node.val,end = ' -> ')\n",
        "        self.inorder_traversal(Node.right)\n",
        "root = TreeNode4('A')\n",
        "root.left = TreeNode4('B')\n",
        "root.right = TreeNode4('C')\n",
        "root.left.left = TreeNode4('D')\n",
        "root.left.right = TreeNode4('E')\n",
        "root.right.left = TreeNode4('F')\n",
        "root.right.right = TreeNode4('G')\n",
        "root.inorder_traversal(root)"
      ],
      "metadata": {
        "colab": {
          "base_uri": "https://localhost:8080/"
        },
        "id": "OLtAk7ESptrN",
        "outputId": "1e6364e2-875a-4fa2-910b-b9a59e485cb0"
      },
      "execution_count": null,
      "outputs": [
        {
          "output_type": "stream",
          "name": "stdout",
          "text": [
            "D -> B -> E -> A -> F -> C -> G -> "
          ]
        }
      ]
    },
    {
      "cell_type": "code",
      "source": [
        "class TreeNode5:\n",
        "    def __init__(self,val = 0,left = None,right = None):\n",
        "        self.val = val\n",
        "        self.left = left\n",
        "        self.right = right\n",
        "    def postorder_traversal(self,Node):\n",
        "        if Node is None:\n",
        "            return None\n",
        "        self.postorder_traversal(Node.left)\n",
        "        self.postorder_traversal(Node.right)\n",
        "        print(Node.val,end = ' -> ')\n",
        "\n",
        "\n",
        "root = TreeNode5('A')\n",
        "root.left = TreeNode5('B')\n",
        "root.right = TreeNode5('C')\n",
        "root.left.left = TreeNode5('D')\n",
        "root.left.right = TreeNode5('E')\n",
        "root.right.left = TreeNode5('F')\n",
        "root.right.right = TreeNode5('G')\n",
        "root.postorder_traversal(root)\n"
      ],
      "metadata": {
        "colab": {
          "base_uri": "https://localhost:8080/"
        },
        "id": "Zmxlb8Rlwbox",
        "outputId": "f1f75233-56a0-42e3-b587-40d6706d49d1"
      },
      "execution_count": null,
      "outputs": [
        {
          "output_type": "stream",
          "name": "stdout",
          "text": [
            "D -> E -> B -> F -> G -> C -> A -> "
          ]
        }
      ]
    },
    {
      "cell_type": "code",
      "source": [
        "from collections import deque\n",
        "class TreeNode6:\n",
        "    def __init__(self,val = 0,left = None,right = None):\n",
        "        self.val = val\n",
        "        self.left = left\n",
        "        self.right = right\n",
        "\n",
        "    def level_order_traversal(self,Node):\n",
        "        if Node is None:\n",
        "            return None\n",
        "        queue = deque()\n",
        "        queue.append(Node)\n",
        "        while queue:\n",
        "            Node = queue.popleft()\n",
        "            print(Node.val,end = ' -> ')\n",
        "            if Node.left:\n",
        "                queue.append(Node.left)\n",
        "            if Node.right:\n",
        "                queue.append(Node.right)\n",
        "    def level_order_traversal_reverse(self,Node):\n",
        "        if Node is None:\n",
        "            return None\n",
        "        queue = deque()\n",
        "        queue.append(Node)\n",
        "        result = []\n",
        "        while queue:\n",
        "            Node = queue.popleft()\n",
        "            result.append(Node.val)\n",
        "            if Node.left:\n",
        "                queue.append(Node.left)\n",
        "            if Node.right:\n",
        "                queue.append(Node.right)\n",
        "        for val in result[::-1]:\n",
        "            print(val,end = ' -> ')\n",
        "    def level_order_traversal_reverse_using_stack(self,Node):\n",
        "        if Node is None:\n",
        "            return None\n",
        "        stack = []\n",
        "        stack.append(Node)\n",
        "        result = []\n",
        "        while stack:\n",
        "            Node = stack.pop()\n",
        "            result.append(Node.val)\n",
        "            if Node.right:\n",
        "                stack.append(Node.right)\n",
        "            if Node.left:\n",
        "                stack.append(Node.left)\n",
        "        return result\n",
        "    def print_val_line_by_line(self,Node):\n",
        "        if Node is None:\n",
        "            return None\n",
        "        queue = deque()\n",
        "        queue.append(Node)\n",
        "        queue.append(None)\n",
        "        while queue:\n",
        "            Node = queue.popleft()\n",
        "            if Node is None:\n",
        "                print()\n",
        "                if queue:\n",
        "                    queue.append(None)\n",
        "                    continue\n",
        "            if Node:\n",
        "                print(Node.val,end = ' -> ')\n",
        "                if Node.left:\n",
        "                    queue.append(Node.left)\n",
        "                if Node.right:\n",
        "                    queue.append(Node.right)\n",
        "\n",
        "root = TreeNode6('A')\n",
        "root.left = TreeNode6('B')\n",
        "root.right = TreeNode6('C')\n",
        "root.left.left = TreeNode6('D')\n",
        "root.left.right = TreeNode6('E')\n",
        "root.right.left = TreeNode6('F')\n",
        "root.right.right = TreeNode6('G')\n",
        "print('Level order traversal: ')\n",
        "root.level_order_traversal(root)\n",
        "print('\\nLevel order traversal reverse: ')\n",
        "root.level_order_traversal_reverse(root)\n",
        "print('\\nLevel order traversal reverse using stack: ')\n",
        "print(root.level_order_traversal_reverse_using_stack(root))\n",
        "print('\\nLevel order traversal print line by line: ')\n",
        "root.print_val_line_by_line(root)"
      ],
      "metadata": {
        "colab": {
          "base_uri": "https://localhost:8080/"
        },
        "id": "jbs6HQ2x10eu",
        "outputId": "2ff32850-4298-4c40-dbc6-b2c02dae2348"
      },
      "execution_count": null,
      "outputs": [
        {
          "output_type": "stream",
          "name": "stdout",
          "text": [
            "Level order traversal: \n",
            "A -> B -> C -> D -> E -> F -> G -> \n",
            "Level order traversal reverse: \n",
            "G -> F -> E -> D -> C -> B -> A -> \n",
            "Level order traversal reverse using stack: \n",
            "['A', 'B', 'D', 'E', 'C', 'F', 'G']\n",
            "\n",
            "Level order traversal print line by line: \n",
            "A -> \n",
            "B -> C -> \n",
            "D -> E -> F -> G -> \n"
          ]
        }
      ]
    },
    {
      "cell_type": "code",
      "source": [
        "# Height of a tree and count of Node ---------------------\n",
        "class TreeNode7:\n",
        "    def __init__(self,val = 0,left = None,right = None):\n",
        "        self.val = val\n",
        "        self.left = left\n",
        "        self.right = right\n",
        "    def height(self,Node):\n",
        "        if Node is None:\n",
        "            return 0\n",
        "        left_height = self.height(Node.left)\n",
        "        right_height = self.height(Node.right)\n",
        "        return max(left_height,right_height) + 1\n",
        "    def count(self,Node):\n",
        "        if Node is None:\n",
        "            return 0\n",
        "        left_count = self.count(Node.left)\n",
        "        right_count = self.count(Node.right)\n",
        "        return left_count + right_count +1\n",
        "\n",
        "    def sum_of_Node(self,Node):\n",
        "        if Node is None:\n",
        "            return 0\n",
        "        left_sum = self.sum_of_Node(Node.left)\n",
        "        right_sum = self.sum_of_Node(Node.right)\n",
        "        return left_sum + right_sum + Node.val\n",
        "\n",
        "root = TreeNode7(1)\n",
        "root.left = TreeNode7(2)\n",
        "root.right = TreeNode7(3)\n",
        "root.left.left = TreeNode7(4)\n",
        "root.left.right = TreeNode7(5)\n",
        "root.right.left = TreeNode7(6)\n",
        "root.right.right = TreeNode7(7)\n",
        "root.left.left.left = TreeNode7(8)\n",
        "root.left.left.right = TreeNode7(9)\n",
        "print(root.height(root))\n",
        "print(root.count(root))\n",
        "print(root.sum_of_Node(root))"
      ],
      "metadata": {
        "id": "44aeEGAwaST8",
        "colab": {
          "base_uri": "https://localhost:8080/"
        },
        "outputId": "6c2fb3eb-7e06-4aca-9a0e-e305b3d107ba"
      },
      "execution_count": null,
      "outputs": [
        {
          "output_type": "stream",
          "name": "stdout",
          "text": [
            "4\n",
            "9\n",
            "45\n"
          ]
        }
      ]
    },
    {
      "cell_type": "code",
      "source": [
        "# 100. Same Tree\n",
        "# Definition for a binary tree node.\n",
        "# class TreeNode(object):\n",
        "#     def __init__(self, val=0, left=None, right=None):\n",
        "#         self.val = val\n",
        "#         self.left = left\n",
        "#         self.right = right\n",
        "class Solution(object):\n",
        "    def isSameTree(self, p, q):\n",
        "        \"\"\"\n",
        "        :type p: Optional[TreeNode]\n",
        "        :type q: Optional[TreeNode]\n",
        "        :rtype: bool\n",
        "        \"\"\"\n",
        "        if p==None or q==None:\n",
        "            return p==q\n",
        "        left_side = self.isSameTree(p.left,q.left)\n",
        "        right_side = self.isSameTree(p.right,q.right)\n",
        "\n",
        "        return left_side and right_side and p.val == q.val\n"
      ],
      "metadata": {
        "id": "4Y49tw62tgWq"
      },
      "execution_count": null,
      "outputs": []
    },
    {
      "cell_type": "code",
      "source": [
        "# 572. Subtree of Another Tree\n",
        "# Definition for a binary tree node.\n",
        "# class TreeNode(object):\n",
        "#     def __init__(self, val=0, left=None, right=None):\n",
        "#         self.val = val\n",
        "#         self.left = left\n",
        "#         self.right = right\n",
        "class Solution(object):\n",
        "    def isSameTree(self,p,q):\n",
        "        if p == None or q == None:\n",
        "            return p == q\n",
        "        left_side = self.isSameTree(p.left,q.left)\n",
        "        right_side = self.isSameTree(p.right,q.right)\n",
        "        return left_side and right_side and p.val == q.val\n",
        "    def isSubtree(self, root, subRoot):\n",
        "        \"\"\"\n",
        "        :type root: Optional[TreeNode]\n",
        "        :type subRoot: Optional[TreeNode]\n",
        "        :rtype: bool\n",
        "        \"\"\"\n",
        "        if root == None or subRoot == None:\n",
        "            return root == subRoot\n",
        "        if (root.val == subRoot.val and self.isSameTree(root,subRoot)):\n",
        "            return True\n",
        "        return self.isSubtree(root.left,subRoot) or self.isSubtree(root.right,subRoot)"
      ],
      "metadata": {
        "id": "xTGMIWNfz4LR"
      },
      "execution_count": null,
      "outputs": []
    },
    {
      "cell_type": "code",
      "source": [
        "# 543. Diameter of Binary Tree\n",
        "# Definition for a binary tree node.\n",
        "# class TreeNode(object):\n",
        "#     def __init__(self, val=0, left=None, right=None):\n",
        "#         self.val = val\n",
        "#         self.left = left\n",
        "#         self.right = right\n",
        "class Solution(object):\n",
        "    def __init__(self):\n",
        "        self.ans = 0\n",
        "    def height(self,Node):\n",
        "        if Node is None:\n",
        "            return 0\n",
        "        leftheight = self.height(Node.left)\n",
        "        rightheight = self.height(Node.right)\n",
        "        self.ans = max(self.ans,leftheight + rightheight)\n",
        "        return max(leftheight,rightheight) + 1\n",
        "\n",
        "    def diameterOfBinaryTree(self, root):\n",
        "        \"\"\"\n",
        "        :type root: Optional[TreeNode]\n",
        "        :rtype: int\n",
        "        \"\"\"\n",
        "        self.height(root)\n",
        "        return self.ans"
      ],
      "metadata": {
        "id": "6ol-xNYVz9k3"
      },
      "execution_count": null,
      "outputs": []
    },
    {
      "cell_type": "markdown",
      "source": [
        "### Binary Tree Traversal\n",
        "Trees are dynamic data structures permitting several operations, such as insertion (adding a new node), deletion (removing an existing node), and traversal (accessing or visiting all nodes in a specific order).\n",
        "\n",
        "Traversal of the binary tree is a process of visiting all nodes of a tree and possibly printing their values. Since all nodes are connected via edges (links), we always start from the root (head) node. We cannot randomly access a node in a tree. There are three ways to traverse a tree:\n",
        "\n",
        ">In-order Traversal: In this method, the left subtree is visited first, then the root, and later the right subtree. We should always remember that every node may represent a subtree itself.\n",
        "\n",
        ">Pre-order Traversal: In this method, the root node is visited first, then the left subtree, and finally the right subtree.\n",
        "\n",
        ">Post-order Traversal: In this method, the root node is visited last, hence the name. We first traverse the left subtree, then the right subtree, and finally, the root node."
      ],
      "metadata": {
        "id": "iGoCWwMRi9pT"
      }
    },
    {
      "cell_type": "code",
      "source": [
        "# Tree Operations: Insertion and Deletion\n",
        "class TreeNode:\n",
        "    def __init__(self, value):\n",
        "        self.value = value\n",
        "        self.children = []\n",
        "\n",
        "    def add_child(self, child_node):\n",
        "        self.children.append(child_node)\n",
        "\n",
        "    def remove_child(self, child_node):\n",
        "        self.children = [child for child in self.children if child is not child_node]\n",
        "\n",
        "root = TreeNode(1)\n",
        "child1 = TreeNode(2)\n",
        "child2 = TreeNode(3)\n",
        "root.add_child(child1)\n",
        "root.add_child(child2)\n",
        "child1.add_child(TreeNode(4))\n",
        "child1.add_child(TreeNode(5))\n",
        "child2.add_child(TreeNode(6))\n",
        "child2.add_child(TreeNode(7))\n",
        "print(\"Root:\", root.value)\n",
        "print(\"Children:\", [child.value for child in root.children])\n",
        "print(\"Children of child1:\", [child.value for child in child1.children])\n",
        "print(\"Children of child2:\", [child.value for child in child2.children])\n",
        "root.remove_child(child1)\n",
        "print(\"Children after removing child1:\", [child.value for child in root.children])\n",
        "print(\"Children of child2 after removing child1:\", [child.value for child in child2.children])"
      ],
      "metadata": {
        "colab": {
          "base_uri": "https://localhost:8080/"
        },
        "id": "kPEUmNCEi9CJ",
        "outputId": "15418ab0-12aa-4b41-ce29-c1e2af1164c6"
      },
      "execution_count": null,
      "outputs": [
        {
          "output_type": "stream",
          "name": "stdout",
          "text": [
            "Root: 1\n",
            "Children: [2, 3]\n",
            "Children of child1: [4, 5]\n",
            "Children of child2: [6, 7]\n",
            "Children after removing child1: [3]\n",
            "Children of child2 after removing child1: [6, 7]\n"
          ]
        }
      ]
    },
    {
      "cell_type": "markdown",
      "source": [
        "Complexity Analysis: Binary and Non-Binary Trees\n",
        "For binary trees, the worst-case time complexity for searching, insertion, or deletion is\n",
        "\n",
        ">O(n), where\n",
        "n is the number of nodes. This complexity arises because, in the worst case, you might have to traverse all nodes. However, in ideal circumstances (where the tree is perfectly balanced), operations on binary trees run in\n",
        "O(logn) time.\n",
        "\n",
        ">Comparatively, for non-binary trees, searching for or deleting a node can still be\n",
        "O(n), but insertion may be more efficient —\n",
        "O(1) — if we keep track of where the next insertion should happen; if we don't, the complexity is the same as in binary tree."
      ],
      "metadata": {
        "id": "F7podJZOmmZT"
      }
    },
    {
      "cell_type": "code",
      "source": [
        "# top view:\n",
        "from collections import deque\n",
        "class TreeNode1:\n",
        "    def __init__(self, val=0, left=None, right=None):\n",
        "        self.val = val\n",
        "        self.left = left\n",
        "        self.right = right\n",
        "    def top_view(self,Node):\n",
        "        if Node is None:\n",
        "            return\n",
        "        queue = deque()\n",
        "        queue.append((Node,0))\n",
        "        result = {}\n",
        "        while queue:\n",
        "            Node,d = queue.popleft()\n",
        "            if d not in result:\n",
        "                result[d] = Node.val\n",
        "            if Node.left:\n",
        "                queue.append((Node.left,d-1))\n",
        "            if Node.right:\n",
        "                queue.append((Node.right,d+1))\n",
        "        for key,value in sorted(result.items()):\n",
        "            print(value,end = ' -> ')\n",
        "root = TreeNode1(1)\n",
        "root.left = TreeNode1(2)\n",
        "root.right = TreeNode1(3)\n",
        "root.left.left = TreeNode1(4)\n",
        "root.left.right = TreeNode1(5)\n",
        "root.right.left = TreeNode1(6)\n",
        "root.right.right = TreeNode1(7)\n",
        "root.top_view(root)"
      ],
      "metadata": {
        "colab": {
          "base_uri": "https://localhost:8080/"
        },
        "id": "zYBS3xBwDYM8",
        "outputId": "2dbc7abb-baf8-4247-f334-1c4fbfa7e170"
      },
      "execution_count": null,
      "outputs": [
        {
          "output_type": "stream",
          "name": "stdout",
          "text": [
            "4 -> 2 -> 1 -> 3 -> 7 -> "
          ]
        }
      ]
    },
    {
      "cell_type": "code",
      "source": [
        "# 199. Binary Tree Right Side View\n",
        "from collections import deque\n",
        "\n",
        "class TreeNode:\n",
        "    def __init__(self, val=0, left=None, right=None):\n",
        "        self.val = val\n",
        "        self.left = left\n",
        "        self.right = right\n",
        "\n",
        "    def right_side_view(self, root):\n",
        "        if not root:\n",
        "            return []\n",
        "\n",
        "        queue = deque([root])\n",
        "        result = []\n",
        "\n",
        "        while queue:\n",
        "            level_size = len(queue)\n",
        "            for i in range(level_size):\n",
        "                node = queue.popleft()\n",
        "                # If it's the last node in the current level, add to result\n",
        "                if i == level_size - 1:\n",
        "                    result.append(node.val)\n",
        "                if node.left:\n",
        "                    queue.append(node.left)\n",
        "                if node.right:\n",
        "                    queue.append(node.right)\n",
        "        return result\n",
        "\n",
        "# Example usage\n",
        "root = TreeNode(1)\n",
        "root.left = TreeNode(2)\n",
        "root.right = TreeNode(3)\n",
        "root.left.left = TreeNode(4)\n",
        "root.left.right = TreeNode(5)\n",
        "root.right.left = TreeNode(6)\n",
        "root.right.right = TreeNode(7)\n",
        "\n",
        "print(root.right_side_view(root))  # Output: [1, 3, 7]"
      ],
      "metadata": {
        "colab": {
          "base_uri": "https://localhost:8080/"
        },
        "id": "OYUrzMFYEkC5",
        "outputId": "8a4df275-3229-45be-ca97-976bed2c50f6"
      },
      "execution_count": null,
      "outputs": [
        {
          "output_type": "stream",
          "name": "stdout",
          "text": [
            "deque([<__main__.TreeNode object at 0x7ede40a88290>])\n",
            "[1, 3, 7]\n"
          ]
        }
      ]
    },
    {
      "cell_type": "code",
      "source": [
        "# 2583. Kth Largest Sum in a Binary Tree\n",
        "from collections import deque\n",
        "class TreeNode8:\n",
        "    def __init__(self,val = 0,left = None,right = None):\n",
        "        self.val = val\n",
        "        self.left = left\n",
        "        self.right = right\n",
        "\n",
        "    def kth_level(self,Node,k):\n",
        "        if Node is None:\n",
        "            return\n",
        "        if k == 1:\n",
        "            print(Node.val,end = '-> ')\n",
        "            return\n",
        "        self.kth_level(Node.left,k-1)\n",
        "        self.kth_level(Node.right,k-1)\n",
        "\n",
        "    def kth_largest_sum(self,node,k):\n",
        "        if node is None:\n",
        "            return\n",
        "        queue = deque([node])\n",
        "        result = []\n",
        "        while queue:\n",
        "            level_size = len(queue)\n",
        "            level_sum = 0\n",
        "            for i in range(level_size):\n",
        "                node = queue.popleft()\n",
        "                level_sum += node.val\n",
        "                if node.left:\n",
        "                    queue.append(node.left)\n",
        "                if node.right:\n",
        "                    queue.append(node.right)\n",
        "            result.append(level_sum)\n",
        "        return sorted(result)[-k]\n",
        "\n",
        "\n",
        "\n",
        "root = TreeNode8(1)\n",
        "root.left = TreeNode8(2)\n",
        "root.right = TreeNode8(3)\n",
        "root.left.left = TreeNode8(4)\n",
        "root.left.right = TreeNode8(5)\n",
        "root.right.left = TreeNode8(6)\n",
        "root.right.right = TreeNode8(7)\n",
        "k = 3\n",
        "root.kth_level(root,k)\n",
        "print()\n",
        "print(root.kth_largest_sum(root,2))"
      ],
      "metadata": {
        "colab": {
          "base_uri": "https://localhost:8080/"
        },
        "id": "lwIeri3_K9Zq",
        "outputId": "83339165-a196-4360-89c2-8e8279fdbc73"
      },
      "execution_count": null,
      "outputs": [
        {
          "output_type": "stream",
          "name": "stdout",
          "text": [
            "4-> 5-> 6-> 7-> \n",
            "5\n"
          ]
        }
      ]
    },
    {
      "cell_type": "code",
      "source": [
        "# 236. Lowest Common Ancestor of a Binary Tree\n",
        "class TreeNode8:\n",
        "    def __init__(self,val = 0,left = None,right = None):\n",
        "        self.val = val\n",
        "        self.left = left\n",
        "        self.right = right\n",
        "    def lowest_common_ancester(self,root,p,q):\n",
        "        if root is None:\n",
        "            return\n",
        "        if root.val == p or root.val == q:\n",
        "            return root.val\n",
        "        left_LCA = self.lowest_common_ancester(root.left,p,q)\n",
        "        right_LCA = self.lowest_common_ancester(root.right,p,q)\n",
        "        if left_LCA and right_LCA:\n",
        "            return root.val\n",
        "        return left_LCA if left_LCA else right_LCA\n",
        "\n",
        "root = TreeNode8(3)\n",
        "root.left = TreeNode8(5)\n",
        "root.right = TreeNode8(1)\n",
        "root.left.left = TreeNode8(6)\n",
        "root.left.right = TreeNode8(2)\n",
        "root.right.right = TreeNode8(0)\n",
        "root.right.left = TreeNode8(8)\n",
        "root.left.right.left = TreeNode8(7)\n",
        "root.left.right.right = TreeNode8(4)\n",
        "print(root.lowest_common_ancester(root,5,6))"
      ],
      "metadata": {
        "colab": {
          "base_uri": "https://localhost:8080/"
        },
        "id": "vB3K78lyO0WA",
        "outputId": "4195c7c5-c462-41e2-adf8-b1e3bd5ea3f5"
      },
      "execution_count": null,
      "outputs": [
        {
          "output_type": "stream",
          "name": "stdout",
          "text": [
            "5\n"
          ]
        }
      ]
    },
    {
      "cell_type": "code",
      "source": [
        "# 105. Construct Binary Tree from Preorder and Inorder Traversal\n",
        "# Definition for a binary tree node.\n",
        "# class TreeNode(object):\n",
        "#     def __init__(self, val=0, left=None, right=None):\n",
        "#         self.val = val\n",
        "#         self.left = left\n",
        "#         self.right = right\n",
        "class Solution(object):\n",
        "    def search(self,inorder,left,right,value):\n",
        "        for i in range(left,right+1):\n",
        "            if inorder[i]==value:\n",
        "                return i\n",
        "        return -1\n",
        "    def helper(self,preorder,inorder,left,right,preIdx):\n",
        "        if left > right:\n",
        "            return None,preIdx\n",
        "\n",
        "        node = TreeNode(preorder[preIdx[0]])\n",
        "        inIdx = self.search(inorder,left,right,preorder[preIdx[0]])\n",
        "        preIdx[0] +=1\n",
        "\n",
        "        node.left, preIdx = self.helper(preorder,inorder,left,inIdx-1,preIdx)\n",
        "        node.right, preIdx = self.helper(preorder,inorder,inIdx+1,right,preIdx)\n",
        "        return node,preIdx\n",
        "    def buildTree(self, preorder, inorder):\n",
        "        \"\"\"\n",
        "        :type preorder: List[int]\n",
        "        :type inorder: List[int]\n",
        "        :rtype: Optional[TreeNode]\n",
        "        \"\"\"\n",
        "\n",
        "        root,_= self.helper(preorder,inorder,0,len(inorder)-1,[0])\n",
        "        return root\n",
        "\n",
        "\n",
        "\n",
        "\n",
        "\n",
        "#------- Key changes made:\n",
        "\n",
        "# Changed preIdx to be a list (mutable) so it can be modified across recursive calls\n",
        "\n",
        "# Modified the helper function to return both the node and the updated preIdx\n",
        "\n",
        "# Updated how preIdx is passed and incremented in the recursive calls\n",
        "\n",
        "#-----Note-----\n",
        "# The original problem was that when you made recursive calls, the preIdx wasn't being properly shared between them. In Python,\n",
        "# integers are immutable, so when you passed preIdx and incremented it, the change wasn't reflected in the caller's scope.\n",
        "# By using a list (which is mutable), we can properly track the current position in the preorder array across all recursive calls."
      ],
      "metadata": {
        "id": "6WVbwQcDJCt8"
      },
      "execution_count": null,
      "outputs": []
    },
    {
      "cell_type": "markdown",
      "source": [
        "### The DFS Algorithm at a Glance\n",
        "A journey of a thousand miles begins with a single step. For DFS, that first step is the root node of the tree (or an arbitrary node chosen as the root when dealing with a graph). Let's closely examine the stages involved in conducting a DFS:\n",
        "\n",
        "1. The DFS algorithm starts at the root node, marking it as visited.\n",
        "2. For every child node of the starter node:\n",
        "- If the child hasn't been visited, the algorithm recursively executes from the child node.\n",
        "- If the child has already been visited, the algorithm skips this node and proceeds to the next child.\n",
        "3. The algorithm automatically finishes when all achievable nodes have been visited."
      ],
      "metadata": {
        "id": "UgMMw9kGPIeV"
      }
    },
    {
      "cell_type": "markdown",
      "source": [
        "![gbdciMpqxTYhvfkMp_Frame 10 (1).png](data:image/png;base64,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)"
      ],
      "metadata": {
        "id": "5wobCjUKWlKw"
      }
    },
    {
      "cell_type": "code",
      "source": [
        "def dfs(tree, node,visited,traversal_list):\n",
        "    traversal_list.append(node)\n",
        "    visited.add(node)\n",
        "    for child in tree[node]:\n",
        "        if child not in visited:\n",
        "            dfs(tree,child,visited,traversal_list)\n",
        "    return traversal_list\n",
        "\n",
        "tree = {\n",
        "    'A': ['B', 'C', 'D'],\n",
        "    'B': ['A', 'E', 'F'],\n",
        "    'C': ['A'],\n",
        "    'D': ['A', 'G', 'H'],\n",
        "    'E': ['B'],\n",
        "    'F': ['B', 'I', 'J'],\n",
        "    'G': ['D'],\n",
        "    'H': ['D'],\n",
        "    'I': ['F'],\n",
        "    'J': ['F'],\n",
        "}\n",
        "\n",
        "visited = set()\n",
        "traversal_list =[]\n",
        "dfs(tree,'A',visited,traversal_list)\n",
        "print(' -> '.join(traversal_list))"
      ],
      "metadata": {
        "colab": {
          "base_uri": "https://localhost:8080/"
        },
        "id": "I_Y92dGtTY_W",
        "outputId": "d34bd787-7f3a-4fb5-9578-6d0612e5158c"
      },
      "execution_count": null,
      "outputs": [
        {
          "output_type": "stream",
          "name": "stdout",
          "text": [
            "A -> B -> E -> F -> I -> J -> C -> D -> G -> H\n"
          ]
        }
      ]
    },
    {
      "cell_type": "code",
      "source": [
        "# DFS Application: Solving Complex Problems\n",
        "def dfs(tree, start,end, visited, path = []):\n",
        "    if start not in tree:\n",
        "        return None\n",
        "\n",
        "    path = path + [start]\n",
        "    visited.add(start)\n",
        "\n",
        "    if start == end:\n",
        "        return path\n",
        "\n",
        "\n",
        "    for child in tree[start]:\n",
        "        if child not in visited:\n",
        "            new_path = dfs(tree, child , end, visited,path)\n",
        "            if new_path:\n",
        "                return new_path\n",
        "    return None\n",
        "tree = {\n",
        "    'A': ['B', 'C', 'D'],\n",
        "    'B': ['A', 'E', 'F'],\n",
        "    'C': ['A'],\n",
        "    'D': ['A', 'G', 'H'],\n",
        "    'E': ['B'],\n",
        "    'F': ['B', 'I', 'J'],\n",
        "    'G': ['D'],\n",
        "    'H': ['D'],\n",
        "    'I': ['F'],\n",
        "    'J': ['F'],\n",
        "}\n",
        "\n",
        "visited = set()\n",
        "print(dfs(tree,'A','J',visited))"
      ],
      "metadata": {
        "colab": {
          "base_uri": "https://localhost:8080/"
        },
        "id": "nBhhdSQDUoTq",
        "outputId": "48221c6e-1f9d-4d24-aafd-f12366f89d1a"
      },
      "execution_count": null,
      "outputs": [
        {
          "output_type": "stream",
          "name": "stdout",
          "text": [
            "['A', 'B', 'F', 'J']\n"
          ]
        }
      ]
    },
    {
      "cell_type": "code",
      "source": [
        "# problem : 1\n",
        "class Node:\n",
        "    def __init__(self, value):\n",
        "        self.value = value\n",
        "        self.children = []\n",
        "\n",
        "def add_edges(tree, node, child_values):\n",
        "    for value in child_values:\n",
        "        node.children.append(Node(value))\n",
        "\n",
        "def dfs(node, visited=None):\n",
        "    if visited is None:\n",
        "        visited = set()\n",
        "\n",
        "    visited.add(node.value)\n",
        "    print(node.value, end=' -> ')\n",
        "\n",
        "    for child in node.children:\n",
        "        if child.value not in visited:\n",
        "            dfs(child, visited)\n",
        "\n",
        "# Constructing a tree\n",
        "root = Node('Head Office')\n",
        "add_edges(root, root, ['Marketing', 'Sales', 'R&D'])\n",
        "\n",
        "node_marketing = root.children[0]\n",
        "add_edges(root, node_marketing, ['SEO', 'Content'])\n",
        "\n",
        "node_sales = root.children[1]\n",
        "add_edges(root, node_sales, ['Domestic', 'International'])\n",
        "\n",
        "# Perform DFS traversal\n",
        "print(\"DFS Traversal:\")\n",
        "dfs(root)\n",
        "print(\"end\")"
      ],
      "metadata": {
        "colab": {
          "base_uri": "https://localhost:8080/"
        },
        "id": "Dz-FlHHwgS7K",
        "outputId": "ac7a5b6b-ea2c-4d2f-f57e-6a38aa32d2fd"
      },
      "execution_count": null,
      "outputs": [
        {
          "output_type": "stream",
          "name": "stdout",
          "text": [
            "DFS Traversal:\n",
            "Head Office -> Marketing -> SEO -> Content -> Sales -> Domestic -> International -> R&D -> end\n"
          ]
        }
      ]
    },
    {
      "cell_type": "code",
      "source": [
        "class Node:\n",
        "    def __init__(self, value):\n",
        "        self.value = value\n",
        "        self.children = []\n",
        "    def add_child(self,node,child_values):\n",
        "        for child in child_values:\n",
        "            node.children.append(Node(child))\n",
        "    def dfs(self,node,visited = None):\n",
        "        if visited is None:\n",
        "            visited = set()\n",
        "        visited.add(self.value)\n",
        "        print(node.value, end=' -> ')\n",
        "\n",
        "        for child in node.children:\n",
        "            if child.value not in visited:\n",
        "                self.dfs(child,visited)\n",
        "\n",
        "head = Node('Head Office')\n",
        "head.add_child(head,['Marketing','Sales','R&D'])\n",
        "node_marketing = head.children[0]\n",
        "node_marketing.add_child(node_marketing,['SEO','Content'])\n",
        "node_sales = head.children[1]\n",
        "node_sales.add_child(node_sales,['Domestic','International'])\n",
        "head.dfs(head)"
      ],
      "metadata": {
        "colab": {
          "base_uri": "https://localhost:8080/"
        },
        "id": "sswcI8i2g2-T",
        "outputId": "2cdaa334-4320-4879-ae41-392863308aa4"
      },
      "execution_count": null,
      "outputs": [
        {
          "output_type": "stream",
          "name": "stdout",
          "text": [
            "Head Office -> Marketing -> SEO -> Content -> Sales -> Domestic -> International -> R&D -> "
          ]
        }
      ]
    },
    {
      "cell_type": "code",
      "source": [
        "# Transform to Sum Tree( practice problem )\n",
        "class Node:\n",
        "    def __init__(self, val = 0, left = None, right = None):\n",
        "        self.val = val\n",
        "        self.left = left\n",
        "        self.right = right\n",
        "    def transform_of_sum(self,root):\n",
        "        if root is None:\n",
        "            return 0\n",
        "        left_sum = self.transform_of_sum(root.left)\n",
        "        right_sum = self.transform_of_sum(root.right)\n",
        "        root.val += left_sum + right_sum\n",
        "        return root.val\n",
        "    def print_tree(self,root):\n",
        "\n",
        "        if root is None:\n",
        "            return\n",
        "        print(root.val,end = ' -> ')\n",
        "        self.print_tree(root.left)\n",
        "        self.print_tree(root.right)\n",
        "\n",
        "root = Node(1)\n",
        "root.left = Node(2)\n",
        "root.right = Node(3)\n",
        "root.left.left = Node(4)\n",
        "root.left.right = Node(5)\n",
        "root.right.left = Node(6)\n",
        "root.right.right = Node(7)\n",
        "root.print_tree(root)\n",
        "root.transform_of_sum(root)\n",
        "print()\n",
        "root.print_tree(root)"
      ],
      "metadata": {
        "colab": {
          "base_uri": "https://localhost:8080/"
        },
        "id": "43kFnTkbSQaA",
        "outputId": "33c07517-639d-4041-f512-d0f1160239d6"
      },
      "execution_count": null,
      "outputs": [
        {
          "output_type": "stream",
          "name": "stdout",
          "text": [
            "1 -> 2 -> 4 -> 5 -> 3 -> 6 -> 7 -> \n",
            "28 -> 11 -> 4 -> 5 -> 16 -> 6 -> 7 -> "
          ]
        }
      ]
    },
    {
      "cell_type": "code",
      "source": [
        "# 257. Binary Tree Paths\n",
        "# Definition for a binary tree node.\n",
        "# class TreeNode(object):\n",
        "#     def __init__(self, val=0, left=None, right=None):\n",
        "#         self.val = val\n",
        "#         self.left = left\n",
        "#         self.right = right\n",
        "class Solution(object):\n",
        "    def helper(self,root,string_path,result):\n",
        "        if root.left == None and root.right == None:\n",
        "            result.append(string_path)\n",
        "            return\n",
        "        if root.left:\n",
        "            self.helper(root.left,string_path+'->'+str(root.left.val),result)\n",
        "        if root.right:\n",
        "            self.helper(root.right,string_path+'->'+str(root.right.val),result)\n",
        "\n",
        "    def binaryTreePaths(self, root):\n",
        "        \"\"\"\n",
        "        :type root: Optional[TreeNode]\n",
        "        :rtype: List[str]\n",
        "        \"\"\"\n",
        "        result = []\n",
        "        self.helper(root,str(root.val),result)\n",
        "        return result"
      ],
      "metadata": {
        "id": "N8CQm_TgffiY"
      },
      "execution_count": null,
      "outputs": []
    },
    {
      "cell_type": "code",
      "source": [
        "# 662. Maximum Width of Binary Tree\n",
        "from collections import deque\n",
        "class Node:\n",
        "    def __init__(self,val = 0, left = None, right = None):\n",
        "        self.val = val\n",
        "        self.left = left\n",
        "        self.right = right\n",
        "    def print_tree(self,root):\n",
        "        if root is None:\n",
        "            return\n",
        "        print(root.val,end = ' -> ')\n",
        "        self.print_tree(root.left)\n",
        "        self.print_tree(root.right)\n",
        "    def level_count(self,root):\n",
        "        if root is None:\n",
        "            return 0\n",
        "        return 1 + max(self.level_count(root.left),self.level_count(root.right))\n",
        "    def function(self,root):\n",
        "        if root is None:\n",
        "            return 0\n",
        "        queue = deque()\n",
        "        queue.append((root,0))\n",
        "        max_width = 0\n",
        "        while queue:\n",
        "            startIdx = queue[0][1]\n",
        "            endIdx = queue[-1][1]\n",
        "            max_width = max(max_width,endIdx - startIdx + 1)\n",
        "            level_size = len(queue)\n",
        "            for i in range(level_size):\n",
        "                curr,idx = queue.popleft()\n",
        "                if curr.left:\n",
        "                    queue.append((curr.left,2*idx+1))\n",
        "                if curr.right:\n",
        "                    queue.append((curr.right,2*idx+2))\n",
        "        return max_width\n",
        "root = Node(1)\n",
        "root.left = Node(2)\n",
        "root.right = Node(3)\n",
        "root.left.left = Node(4)\n",
        "root.left.right = Node(5)\n",
        "root.right.left = Node(6)\n",
        "root.right.right = Node(7)\n",
        "root.left.left.left = Node(8)\n",
        "root.left.left.right = Node(9)\n",
        "root.right.right.left = Node(10)\n",
        "root.right.right.right = Node(11)\n",
        "root.print_tree(root)\n",
        "print()\n",
        "print('Total count:', root.level_count(root))\n",
        "print()\n",
        "print('Max width : ',root.function(root))"
      ],
      "metadata": {
        "colab": {
          "base_uri": "https://localhost:8080/"
        },
        "id": "1zTN9krLqp1d",
        "outputId": "559084ed-f456-4b09-f948-65c45a3c6d6e"
      },
      "execution_count": null,
      "outputs": [
        {
          "output_type": "stream",
          "name": "stdout",
          "text": [
            "1 -> 2 -> 4 -> 8 -> 9 -> 5 -> 3 -> 6 -> 7 -> 10 -> 11 -> \n",
            "Total count: 4\n",
            "\n",
            "Max width :  8\n"
          ]
        }
      ]
    },
    {
      "cell_type": "code",
      "source": [
        "# 662. Maximum Width of Binary Tree\n",
        "\n",
        "# Definition for a binary tree node.\n",
        "# class TreeNode(object):\n",
        "#     def __init__(self, val=0, left=None, right=None):\n",
        "#         self.val = val\n",
        "#         self.left = left\n",
        "#         self.right = right\n",
        "class Solution(object):\n",
        "    def widthOfBinaryTree(self, root):\n",
        "        \"\"\"\n",
        "        :type root: Optional[TreeNode]\n",
        "        :rtype: int\n",
        "        \"\"\"\n",
        "        if root is None:\n",
        "            return\n",
        "        queue = deque()\n",
        "        queue.append((root,0))\n",
        "        max_width = 0\n",
        "        while queue:\n",
        "            startIdx = queue[0][1]\n",
        "            endIdx = queue[-1][1]\n",
        "            max_width = max(max_width, endIdx - startIdx + 1)\n",
        "            level_size = len(queue)\n",
        "            for i in range(level_size):\n",
        "                curr,idx = queue.popleft()\n",
        "                if curr.left:\n",
        "                    queue.append((curr.left,2*idx + 1))\n",
        "                if curr.right:\n",
        "                    queue.append((curr.right,2*idx + 2))\n",
        "        return max_width"
      ],
      "metadata": {
        "id": "GHCU6X-sqbDW"
      },
      "execution_count": null,
      "outputs": []
    },
    {
      "cell_type": "code",
      "source": [
        "# 94. Binary Tree Inorder Traversal (morris inorder traversal algorithms)\n",
        "class TradeNode:\n",
        "    def __init__(self,val = 0, left = None, right = None):\n",
        "        self.val = val\n",
        "        self.left = left\n",
        "        self.right = right\n",
        "    def morris_inorder_traversal(self,root):\n",
        "        result = []\n",
        "        curr = root\n",
        "        while (curr != None):\n",
        "            if curr.left == None:\n",
        "                result.append(curr.val)\n",
        "                curr = curr.right\n",
        "            else:\n",
        "                ip = curr.left # inorder predecessor - ip\n",
        "                while ip.right != None and ip.right != curr:\n",
        "                    ip = ip.right\n",
        "                if ip.right == None:\n",
        "                    ip.right = curr\n",
        "                    curr = curr.left\n",
        "                else:\n",
        "                    ip.right = None\n",
        "                    result.append(curr.val)\n",
        "                    curr = curr.right\n",
        "        return result\n",
        "\n",
        "root = TradeNode(1)\n",
        "root.left = TradeNode(2)\n",
        "root.right = TradeNode(3)\n",
        "root.left.left = TradeNode(4)\n",
        "root.left.right = TradeNode(5)\n",
        "root.right.left = TradeNode(6)\n",
        "root.right.right = TradeNode(7)\n",
        "print(root.morris_inorder_traversal(root))"
      ],
      "metadata": {
        "colab": {
          "base_uri": "https://localhost:8080/"
        },
        "id": "sICOJf1GHcHG",
        "outputId": "942830a0-0654-40ae-b0b8-323ec7855096"
      },
      "execution_count": null,
      "outputs": [
        {
          "output_type": "stream",
          "name": "stdout",
          "text": [
            "[4, 2, 5, 1, 6, 3, 7]\n"
          ]
        }
      ]
    },
    {
      "cell_type": "code",
      "source": [
        "# 114. Flatten Binary Tree to Linked List\n",
        "class TradeNode:\n",
        "    def __init__(self,val = 0, left = None, right = None):\n",
        "        self.val = val\n",
        "        self.left = left\n",
        "        self.right = right\n",
        "        self.nextright = None\n",
        "    def flatten(self,root):\n",
        "        if root is None:\n",
        "            return\n",
        "        self.flatten(root.right)\n",
        "        self.flatten(root.left)\n",
        "\n",
        "        root.right = self.nextright\n",
        "        root.left = None\n",
        "        self.nextright = root\n",
        "    def print_tree(self,root):\n",
        "        if root is None:\n",
        "            return\n",
        "        print(root.val,end = ' -> ')\n",
        "        self.print_tree(root.left)\n",
        "        self.print_tree(root.right)\n",
        "\n",
        "root = TradeNode(1)\n",
        "root.left = TradeNode(2)\n",
        "root.right = TradeNode(5)\n",
        "root.left.left = TradeNode(3)\n",
        "root.left.right = TradeNode(4)\n",
        "root.right.left = TradeNode(6)\n",
        "root.right.right = TradeNode(7)\n",
        "root.flatten(root)\n",
        "root.print_tree(root)\n",
        "print('\\nFlatten Binary tree to linked list: ')\n",
        "root.print_tree(root.nextright)\n"
      ],
      "metadata": {
        "colab": {
          "base_uri": "https://localhost:8080/"
        },
        "id": "Hs2qFOlbbMSf",
        "outputId": "90fad2c6-5622-4e21-abca-6e8b26f69672"
      },
      "execution_count": null,
      "outputs": [
        {
          "output_type": "stream",
          "name": "stdout",
          "text": [
            "1 -> 2 -> 3 -> 4 -> 5 -> 6 -> 7 -> \n",
            "Flatten Binary tree to linked list: \n",
            "1 -> 2 -> 3 -> 4 -> 5 -> 6 -> 7 -> "
          ]
        }
      ]
    },
    {
      "cell_type": "markdown",
      "source": [
        "## Lesson 3\n",
        "\n",
        "BFS\n",
        "1. Start with the root node.\n",
        "2. Visit the root node and add all its direct children to the queue.\n",
        "3. Visit each node in the queue, adding all its unvisited children to the queue. Repeat this exercise until the queue is empty."
      ],
      "metadata": {
        "id": "BhPz382mhzT1"
      }
    },
    {
      "cell_type": "code",
      "source": [
        "from collections import deque\n",
        "\n",
        "def BFS(tree, root):\n",
        "    visited = set() # Set to keep track of visited nodes\n",
        "    visit_order = [] # List to keep visited nodes in order they are visited\n",
        "    queue = deque() # A queue to add nodes for visiting\n",
        "\n",
        "    queue.append(root) # We'll start at the root\n",
        "\n",
        "    while queue: # While there are nodes to visit.\n",
        "        node = queue.popleft() # Visit the first node in the queue\n",
        "        visit_order.append(node) # Add it to the list of visited nodes\n",
        "        visited.add(node) # And mark the node as visited\n",
        "\n",
        "        # Now add all unvisited children to the queue\n",
        "        for child in tree[node]:\n",
        "            if child not in visited:\n",
        "                queue.append(child)\n",
        "\n",
        "    return visit_order # Return the order of visited nodes\n",
        "\n",
        "\n",
        "# Tree definition\n",
        "tree = {\n",
        "  'A' : ['B', 'C', 'D'],\n",
        "  'B' : ['A', 'E'],\n",
        "  'C' : ['A', 'F','G'],\n",
        "  'D' : ['A', 'H'],\n",
        "  'E' : ['B', 'I'],\n",
        "  'F' : ['C'],\n",
        "  'G' : ['C', 'J'],\n",
        "  'H' : ['D'],\n",
        "  'I' : ['E'],\n",
        "  'J' : ['G']\n",
        "}\n",
        "\n",
        "print(BFS(tree, 'A'))\n",
        "# Output: ['A', 'B', 'C', 'D', 'E', 'F', 'G', 'H', 'I', 'J']"
      ],
      "metadata": {
        "colab": {
          "base_uri": "https://localhost:8080/"
        },
        "id": "f5cplAC2hyrx",
        "outputId": "7a12bc5a-d6fe-4f03-e0af-30e3f1f98098"
      },
      "execution_count": null,
      "outputs": [
        {
          "output_type": "stream",
          "name": "stdout",
          "text": [
            "['A', 'B', 'C', 'D', 'E', 'F', 'G', 'H', 'I', 'J']\n"
          ]
        }
      ]
    },
    {
      "cell_type": "code",
      "source": [
        "from collections import deque\n",
        "\n",
        "def BFS(graph, root):\n",
        "    visited = []\n",
        "    queue = deque()\n",
        "    queue.append(root)\n",
        "\n",
        "    level = {root: 0} # TODO: initialize levels dictionary\n",
        "\n",
        "    while queue:\n",
        "        vertex = queue.popleft()\n",
        "        visited.append(vertex)\n",
        "\n",
        "        level_of_vertex = level[vertex] # TODO: set the current level of vertex\n",
        "\n",
        "        for child in graph[vertex]:\n",
        "            if child not in visited:\n",
        "                queue.append(child)\n",
        "                level[child] = level_of_vertex + 1 # TODO: set the level of the child\n",
        "\n",
        "    print(\"\\nTraversing completed!\")\n",
        "    return level\n",
        "\n",
        "graph = {\n",
        "  '1' : ['2', '3', '4'],\n",
        "  '2' : ['5', '6'],\n",
        "  '3' : ['7'],\n",
        "  '4' : ['8', '9'],\n",
        "  '5' : [],\n",
        "  '6' : ['10'],\n",
        "  '7' : ['11', '12'],\n",
        "  '8' : [],\n",
        "  '9' : [],\n",
        "  '10' : [],\n",
        "  '11' : [],\n",
        "  '12' : []\n",
        "}\n",
        "\n",
        "print(BFS(graph, '1'))"
      ],
      "metadata": {
        "id": "-FKBRvK3QRVS",
        "outputId": "9817250a-9374-4d61-fb2b-54c1ae122f7c",
        "colab": {
          "base_uri": "https://localhost:8080/"
        }
      },
      "execution_count": null,
      "outputs": [
        {
          "output_type": "stream",
          "name": "stdout",
          "text": [
            "\n",
            "Traversing completed!\n",
            "{'1': 0, '2': 1, '3': 1, '4': 1, '5': 2, '6': 2, '7': 2, '8': 2, '9': 2, '10': 3, '11': 3, '12': 3}\n"
          ]
        }
      ]
    },
    {
      "cell_type": "code",
      "source": [
        "# Binary search tree\n",
        "class TreeNode:\n",
        "    def __init__(self, val = 0, left = None, right = None):\n",
        "        self.val = val\n",
        "        self.left = left\n",
        "        self.right = right\n",
        "\n",
        "    def insert_node(self,root,val):\n",
        "        if root is None:\n",
        "            return TreeNode(val)\n",
        "        if root.val > val:\n",
        "            root.left = self.insert_node(root.left,val)\n",
        "        else:\n",
        "            root.right = self.insert_node(root.right,val)\n",
        "\n",
        "        return root\n",
        "\n",
        "    def search_node(self,root,key_val):\n",
        "        if root is None:\n",
        "            return False\n",
        "        if root.val == key_val:\n",
        "            return True\n",
        "        if root.val < key_val:\n",
        "            return self.search_node(root.right,key_val)\n",
        "        else:\n",
        "            return self.search_node(root.left,key_val)\n",
        "\n",
        "    def inordersucessor(self,root):\n",
        "        while root.left is not None and root is not None:\n",
        "            root = root.left\n",
        "        return root.val\n",
        "\n",
        "    def delete_node(self,root,key_val):\n",
        "        if root is None:\n",
        "            return root\n",
        "        if key_val < root.val:\n",
        "            root.left = self.delete_node(root.left,key_val)\n",
        "        elif key_val > root.val:\n",
        "            root.right = self.delete_node(root.right,key_val)\n",
        "        else:\n",
        "            if root.left is None:\n",
        "                temp = root.right\n",
        "                root = None\n",
        "                return temp\n",
        "            elif root.right is None:\n",
        "                temp = root.left\n",
        "                root = None\n",
        "                return temp\n",
        "            else:\n",
        "                temp = self.inordersucessor(root.right)\n",
        "                root.val = temp\n",
        "                root.right = self.delete_node(root.right,temp)\n",
        "        return root\n",
        "\n",
        "\n",
        "    def display(self,root):\n",
        "        if root is None:\n",
        "            return\n",
        "        self.display(root.left)\n",
        "        print(root.val,end =' -> ')\n",
        "        self.display(root.right)\n",
        "\n",
        "def main_function(root):\n",
        "    root.display(root) # display this BST using inorder traversal (left -> root -> right)\n",
        "    print()\n",
        "    print(root.search_node(root,5)) # search value in BST\n",
        "    print()\n",
        "    root.delete_node(root,3) # insert value in BST\n",
        "    root.display(root)\n",
        "    print()\n",
        "node_list = [3,2,1,5,6,4]\n",
        "root = TreeNode(node_list[0])\n",
        "for node in node_list[1:]:\n",
        "    root = root.insert_node(root,node)\n",
        "main_function(root)"
      ],
      "metadata": {
        "colab": {
          "base_uri": "https://localhost:8080/"
        },
        "id": "CEkCDH3WciPB",
        "outputId": "dbcc9198-963a-48b5-cdcf-5984efce369a"
      },
      "execution_count": null,
      "outputs": [
        {
          "output_type": "stream",
          "name": "stdout",
          "text": [
            "1 -> 2 -> 3 -> 4 -> 5 -> 6 -> \n",
            "True\n",
            "\n",
            "1 -> 2 -> 4 -> 5 -> 6 -> \n"
          ]
        }
      ]
    },
    {
      "cell_type": "code",
      "source": [
        "class TreeNode12:\n",
        "    def __init__(self, val = 0, left = None, right = None):\n",
        "        self.val = val\n",
        "        self.left = left\n",
        "        self.right = right\n",
        "    def insert_node(self,root,val):\n",
        "        if root is None:\n",
        "            return TreeNode12(val)\n",
        "        if root.val < val:\n",
        "            root.right = self.insert_node(root.right,val)\n",
        "        else:\n",
        "            root.left = self.insert_node(root.left,val)\n",
        "        return root\n",
        "\n",
        "    def search_node(self,root,key_val):\n",
        "        if root is None:\n",
        "            return False\n",
        "        if root.val == key_val:\n",
        "            return True\n",
        "        if root.val < key_val:\n",
        "            return self.search_node(root.right,key_val)\n",
        "        else:\n",
        "            return self.search_node(root.left,key_val)\n",
        "\n",
        "    def deleting_node(self,root,key_val):\n",
        "        if root is None:\n",
        "            return root\n",
        "        if root.val < key_val:\n",
        "            root.right = self.deleting_node(root.right,key_val)\n",
        "        elif root.val > key_val:\n",
        "            root.left = self.deleting_node(root.left,key_val)\n",
        "        else:\n",
        "            if root.left is None:\n",
        "                temp = root.right\n",
        "                root = None\n",
        "                return temp\n",
        "            elif root.right is None:\n",
        "                temp = root.left\n",
        "                root = None\n",
        "                return temp\n",
        "            else:\n",
        "                temp = root.right\n",
        "                while temp.left is not None and temp is not None:\n",
        "                    temp = temp.left\n",
        "                root.val = temp.val\n",
        "                root.right = self.deleting_node(root.right,temp.val)\n",
        "        return root\n",
        "\n",
        "    def display(self,root):\n",
        "        if root is None:\n",
        "            return\n",
        "        self.display(root.left)\n",
        "        print(root.val,end = \" -> \")\n",
        "        self.display(root.right)\n",
        "\n",
        "node_list = [3,2,1,5,6,4]\n",
        "root = TreeNode12(node_list[0])\n",
        "for node in node_list[1:]:\n",
        "    root = root.insert_node(root,node)\n",
        "\n",
        "\n",
        "print(\"Display the BFS Node: \")\n",
        "root.display(root)\n",
        "print()\n",
        "print(\"Search the Node in BST:\")\n",
        "print(root.search_node(root,6))\n",
        "print(\"Delete the Node in BST:\")\n",
        "root.deleting_node(root,3)\n",
        "root.display(root)"
      ],
      "metadata": {
        "colab": {
          "base_uri": "https://localhost:8080/"
        },
        "id": "nh_xP-uz_mpL",
        "outputId": "149186d7-ca80-44d4-e61a-8b262c15290f"
      },
      "execution_count": null,
      "outputs": [
        {
          "output_type": "stream",
          "name": "stdout",
          "text": [
            "Display the BFS Node: \n",
            "1 -> 2 -> 3 -> 4 -> 5 -> 6 -> \n",
            "Search the Node in BST:\n",
            "True\n",
            "Delete the Node in BST:\n",
            "1 -> 2 -> 4 -> 5 -> 6 -> "
          ]
        }
      ]
    },
    {
      "cell_type": "code",
      "source": [],
      "metadata": {
        "id": "tf_tfakXHpXJ"
      },
      "execution_count": null,
      "outputs": []
    }
  ]
}