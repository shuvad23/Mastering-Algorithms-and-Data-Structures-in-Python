{
  "nbformat": 4,
  "nbformat_minor": 0,
  "metadata": {
    "colab": {
      "provenance": [],
      "authorship_tag": "ABX9TyM2Q2EG842E0c1DXPtngTRL",
      "include_colab_link": true
    },
    "kernelspec": {
      "name": "python3",
      "display_name": "Python 3"
    },
    "language_info": {
      "name": "python"
    }
  },
  "cells": [
    {
      "cell_type": "markdown",
      "metadata": {
        "id": "view-in-github",
        "colab_type": "text"
      },
      "source": [
        "<a href=\"https://colab.research.google.com/github/shuvad23/Mastering-Algorithms-and-Data-Structures-in-Python/blob/main/DSA(codesignal)_part02.ipynb\" target=\"_parent\"><img src=\"https://colab.research.google.com/assets/colab-badge.svg\" alt=\"Open In Colab\"/></a>"
      ]
    },
    {
      "cell_type": "code",
      "execution_count": null,
      "metadata": {
        "colab": {
          "base_uri": "https://localhost:8080/"
        },
        "id": "HxiwNeaAFYas",
        "outputId": "80a55915-6b78-4ec6-d804-3533a1c17a1c"
      },
      "outputs": [
        {
          "output_type": "stream",
          "name": "stdout",
          "text": [
            "0.5503017902374268\n"
          ]
        }
      ],
      "source": [
        "# Problem 1: Fibonacci Sequence\n",
        "\n",
        "# Problem 1: Naive Recursion Approach\n",
        "import time\n",
        "\n",
        "def fibonacci(n):\n",
        "    if n<=1:\n",
        "      return n\n",
        "    else:\n",
        "      return fibonacci(n-1)+fibonacci(n-2)\n",
        "\n",
        "start =time.time()\n",
        "for i in range(30):\n",
        "  fibonacci(i)\n",
        "print(time.time()-start)"
      ]
    },
    {
      "cell_type": "code",
      "source": [
        "# Problem 1: Efficient Implementation\n",
        "def fibonacci(n, memo={0:0,1:1}):\n",
        "    if n in memo:\n",
        "      return memo[n]\n",
        "    else:\n",
        "      print(f\"Calculating fibonacci({memo})\")\n",
        "      memo[n]=fibonacci(n-1,memo)+fibonacci(n-2,memo)\n",
        "      print(f\"Memo: {memo}\")\n",
        "      return memo[n]\n",
        "\n",
        "start =time.time()\n",
        "for i in range(6):\n",
        "  print(fibonacci(i))\n",
        "print(time.time()-start)"
      ],
      "metadata": {
        "colab": {
          "base_uri": "https://localhost:8080/"
        },
        "id": "Y1hR19D8H1Nl",
        "outputId": "8c08ea52-72c4-4299-f577-891f4b0bba6f"
      },
      "execution_count": null,
      "outputs": [
        {
          "output_type": "stream",
          "name": "stdout",
          "text": [
            "0\n",
            "1\n",
            "Calculating fibonacci({0: 0, 1: 1})\n",
            "Memo: {0: 0, 1: 1, 2: 1}\n",
            "1\n",
            "Calculating fibonacci({0: 0, 1: 1, 2: 1})\n",
            "Memo: {0: 0, 1: 1, 2: 1, 3: 2}\n",
            "2\n",
            "Calculating fibonacci({0: 0, 1: 1, 2: 1, 3: 2})\n",
            "Memo: {0: 0, 1: 1, 2: 1, 3: 2, 4: 3}\n",
            "3\n",
            "Calculating fibonacci({0: 0, 1: 1, 2: 1, 3: 2, 4: 3})\n",
            "Memo: {0: 0, 1: 1, 2: 1, 3: 2, 4: 3, 5: 5}\n",
            "5\n",
            "0.00031447410583496094\n"
          ]
        }
      ]
    },
    {
      "cell_type": "code",
      "source": [
        "def fibonacci(n, memo={0:0,1:1}):\n",
        "  if n not in memo:\n",
        "      memo[n]=fibonacci(n-1,memo)+fibonacci(n-2,memo)\n",
        "      print(f\"Memo: {memo}\")\n",
        "  return memo[n]\n",
        "\n",
        "start =time.time()\n",
        "for i in range(6):\n",
        "  print(fibonacci(i))\n",
        "print(time.time()-start)"
      ],
      "metadata": {
        "colab": {
          "base_uri": "https://localhost:8080/"
        },
        "id": "Xt1Obbe4M96r",
        "outputId": "e2230cd0-2a43-412c-828a-315b9600332a"
      },
      "execution_count": null,
      "outputs": [
        {
          "output_type": "stream",
          "name": "stdout",
          "text": [
            "0\n",
            "1\n",
            "Memo: {0: 0, 1: 1, 2: 1}\n",
            "1\n",
            "Memo: {0: 0, 1: 1, 2: 1, 3: 2}\n",
            "2\n",
            "Memo: {0: 0, 1: 1, 2: 1, 3: 2, 4: 3}\n",
            "3\n",
            "Memo: {0: 0, 1: 1, 2: 1, 3: 2, 4: 3, 5: 5}\n",
            "5\n",
            "0.0002524852752685547\n"
          ]
        }
      ]
    },
    {
      "cell_type": "code",
      "source": [
        "# Problem 2: Summing Array Elements\n",
        "\n",
        "# # Problem 2: Naive Recursion\n",
        "def sum_array(arr):\n",
        "  if len(arr)==0:\n",
        "    return 0\n",
        "  else:\n",
        "    return arr[0]+sum_array(arr[1:])\n",
        "arr=[x for x in range(1,500)]\n",
        "start =time.time()\n",
        "print(sum_array(arr))\n",
        "print(time.time()-start)"
      ],
      "metadata": {
        "colab": {
          "base_uri": "https://localhost:8080/"
        },
        "id": "pHFNa-QMLFcN",
        "outputId": "dcc4be47-e2ca-4bd8-b7ea-fc64771d31c2"
      },
      "execution_count": null,
      "outputs": [
        {
          "output_type": "stream",
          "name": "stdout",
          "text": [
            "124750\n",
            "0.0017306804656982422\n"
          ]
        }
      ]
    },
    {
      "cell_type": "code",
      "source": [
        "# problem 2: Efficient Implementation\n",
        "def sum_array(arr,index=0):\n",
        "  if index==len(arr):\n",
        "    return 0\n",
        "  else:\n",
        "    return arr[index]+sum_array(arr,index+1)\n",
        "arr=[x for x in range(1,500)]\n",
        "start =time.time()\n",
        "print(sum_array(arr))\n",
        "print(time.time()-start)"
      ],
      "metadata": {
        "colab": {
          "base_uri": "https://localhost:8080/"
        },
        "id": "-bdAUTfGKVOy",
        "outputId": "86bc6b45-9a6c-4336-eb04-0df506d0aa0f"
      },
      "execution_count": null,
      "outputs": [
        {
          "output_type": "stream",
          "name": "stdout",
          "text": [
            "124750\n",
            "0.00042939186096191406\n"
          ]
        }
      ]
    },
    {
      "cell_type": "code",
      "source": [
        "# Problem 3: Calculating Factorial\n",
        "\n",
        "# Problem 3: Recursive Approach Explanation\n",
        "def factorial(n):\n",
        "  if n==0 or n==1:\n",
        "    return 1\n",
        "  else:\n",
        "    return n*factorial(n-1)\n",
        "start =time.time()\n",
        "print(factorial(500))\n",
        "print(time.time()-start)"
      ],
      "metadata": {
        "colab": {
          "base_uri": "https://localhost:8080/"
        },
        "id": "U2YIGSevMIcK",
        "outputId": "02ffe9f6-ba96-4617-bbfb-042ed44e95b2"
      },
      "execution_count": null,
      "outputs": [
        {
          "output_type": "stream",
          "name": "stdout",
          "text": [
            "1220136825991110068701238785423046926253574342803192842192413588385845373153881997605496447502203281863013616477148203584163378722078177200480785205159329285477907571939330603772960859086270429174547882424912726344305670173270769461062802310452644218878789465754777149863494367781037644274033827365397471386477878495438489595537537990423241061271326984327745715546309977202781014561081188373709531016356324432987029563896628911658974769572087926928871281780070265174507768410719624390394322536422605234945850129918571501248706961568141625359056693423813008856249246891564126775654481886506593847951775360894005745238940335798476363944905313062323749066445048824665075946735862074637925184200459369692981022263971952597190945217823331756934581508552332820762820023402626907898342451712006207714640979456116127629145951237229913340169552363850942885592018727433795173014586357570828355780158735432768888680120399882384702151467605445407663535984174430480128938313896881639487469658817504506926365338175055478128640000000000000000000000000000000000000000000000000000000000000000000000000000000000000000000000000000000000000000000000000000\n",
            "0.000446319580078125\n"
          ]
        }
      ]
    },
    {
      "cell_type": "markdown",
      "source": [
        "## Lesson 02: Binary Search Algorithm"
      ],
      "metadata": {
        "id": "ApvVgteib5KU"
      }
    },
    {
      "cell_type": "code",
      "source": [
        "import time\n",
        "def binary_search_interative(data,target):\n",
        "  low_index=0\n",
        "  high_index=len(data)\n",
        "  while high_index-low_index>1:\n",
        "    mid_index=(high_index+low_index)//2\n",
        "    if data[mid_index]==target:\n",
        "      return mid_index\n",
        "    elif target<data[mid_index]:\n",
        "      high_index=mid_index\n",
        "    else:\n",
        "      low_index=mid_index\n",
        "  return high_index if data[low_index]== target else None\n",
        "\n",
        "start =time.time()\n",
        "print(binary_search_interative([x for x in range(1000)],44))\n",
        "print(time.time()-start)"
      ],
      "metadata": {
        "colab": {
          "base_uri": "https://localhost:8080/"
        },
        "id": "lP8U09EocBpB",
        "outputId": "28cfa8bd-ad4c-4aff-e134-b31656d5d5d7"
      },
      "execution_count": null,
      "outputs": [
        {
          "output_type": "stream",
          "name": "stdout",
          "text": [
            "44\n",
            "0.00029349327087402344\n"
          ]
        }
      ]
    },
    {
      "cell_type": "code",
      "source": [
        "# using recursive\n",
        "def binary_search_interative_with_recursive(data,target,low,high):\n",
        "  if high-low <=1:\n",
        "    return low if data[low]==target else None\n",
        "  mid=(high+low)//2\n",
        "  if target<data[mid]:\n",
        "    return binary_search_interative_with_recursive(data,target,low,mid)\n",
        "  else:\n",
        "    return binary_search_interative_with_recursive(data,target,mid,high)\n",
        "print(binary_search_interative_with_recursive([x for x in range(1000)],44,0,1000))"
      ],
      "metadata": {
        "colab": {
          "base_uri": "https://localhost:8080/"
        },
        "id": "W_s0IPGwhi14",
        "outputId": "17929aa0-8808-4140-c34c-1ea14acb0099"
      },
      "execution_count": null,
      "outputs": [
        {
          "output_type": "stream",
          "name": "stdout",
          "text": [
            "44\n"
          ]
        }
      ]
    },
    {
      "cell_type": "code",
      "source": [
        "from binascii import hexlify\n",
        "# Binary Search to Solve an Advanced Problem\n",
        "\n",
        "def binary_search(data,target):\n",
        "  data=sorted([(value,idx) for idx,value in enumerate(data)],key=lambda x:x[0])\n",
        "  low=0\n",
        "  high=len(data)\n",
        "  while(high-low)>1:\n",
        "    mid=(high+low)//2\n",
        "    if(target==data[mid][0]):\n",
        "      return data[mid][1]\n",
        "    elif(target<data[mid][0]):\n",
        "      high=mid\n",
        "    else:\n",
        "      low=mid\n",
        "  return data[low][1] if target==data[low][0] else None\n",
        "arr=[1,2,3,4,5,6,7]\n",
        "rotated_value=4\n",
        "arr=list(reversed(arr[:rotated_value]))+arr[rotated_value:]\n",
        "print(arr)\n",
        "print(binary_search(arr,4))\n"
      ],
      "metadata": {
        "colab": {
          "base_uri": "https://localhost:8080/"
        },
        "id": "7j7yvawArnqc",
        "outputId": "c02d832a-5b51-45c6-ae51-83294d11356b"
      },
      "execution_count": null,
      "outputs": [
        {
          "output_type": "stream",
          "name": "stdout",
          "text": [
            "[4, 3, 2, 1, 5, 6, 7]\n",
            "0\n"
          ]
        }
      ]
    },
    {
      "cell_type": "code",
      "source": [
        "# another way to solve this problem\n",
        "def binary_search(data,target):\n",
        "  low=0\n",
        "  high=len(data)\n",
        "  while(high-low)>1:\n",
        "    mid=(high+low)//2\n",
        "    if(target==data[mid]):\n",
        "      return mid\n",
        "    elif(target in data[low:mid+1]):\n",
        "      high=mid\n",
        "    else:\n",
        "      low=mid\n",
        "  return low if target==data[low] else None\n",
        "arr=[1,2,3,4,5,6,7]\n",
        "rotated_value=4\n",
        "arr=list(reversed(arr[:rotated_value]))+arr[rotated_value:]\n",
        "print(arr)\n",
        "print(binary_search(arr,1))"
      ],
      "metadata": {
        "colab": {
          "base_uri": "https://localhost:8080/"
        },
        "id": "FA2NJhyjw6ef",
        "outputId": "98904665-d405-4d9c-d276-0490b5b90c61"
      },
      "execution_count": null,
      "outputs": [
        {
          "output_type": "stream",
          "name": "stdout",
          "text": [
            "[4, 3, 2, 1, 5, 6, 7]\n",
            "3\n"
          ]
        }
      ]
    },
    {
      "cell_type": "code",
      "source": [
        "# Peak Index in Mountain Array | Binary Search | Leetcode 852\n",
        "def peak_mountain(nums):\n",
        "  target=max(nums)\n",
        "  low=0\n",
        "  high=len(nums)\n",
        "  while(high-low)>1:\n",
        "    mid=(high+low)//2\n",
        "    if(target==nums[mid]):\n",
        "      return mid\n",
        "    elif(target in nums[low:mid+1]):\n",
        "      high=mid\n",
        "    else:\n",
        "      low=mid\n",
        "  return low if target==nums[low] else None\n",
        "arr=[1]\n",
        "print(peak_mountain(arr))"
      ],
      "metadata": {
        "colab": {
          "base_uri": "https://localhost:8080/"
        },
        "id": "Zvlyh3pvL6Lj",
        "outputId": "4a2231e1-3bb8-422a-c328-b2c87b2f8a74"
      },
      "execution_count": null,
      "outputs": [
        {
          "output_type": "stream",
          "name": "stdout",
          "text": [
            "0\n"
          ]
        }
      ]
    },
    {
      "cell_type": "code",
      "source": [
        "# 540. Single Element in a Sorted Array\n",
        "def peak_mountain(nums):\n",
        "  if(len(nums)==1):\n",
        "    return nums[0]\n",
        "  low=0\n",
        "  high=len(nums)\n",
        "  while(high-low)>=1:\n",
        "    mid=(high+low)//2\n",
        "    if(mid==0 and nums[0]!=nums[1]):\n",
        "      return nums[mid]\n",
        "    elif(mid==(len(nums)-1) and nums[mid]!=nums[mid-1]):\n",
        "      return nums[mid]\n",
        "    elif(nums[mid-1]!=nums[mid] and nums[mid+1]!=nums[mid]):\n",
        "      return nums[mid]\n",
        "    elif(mid%2==0):\n",
        "      if(nums[mid-1]==nums[mid]):\n",
        "        high=mid\n",
        "      else:\n",
        "        low=mid\n",
        "    else:\n",
        "      if(nums[mid-1]==nums[mid]):\n",
        "        low=mid\n",
        "      else:\n",
        "        high=mid\n",
        "arr=[2,3,3]\n",
        "print(peak_mountain(arr))"
      ],
      "metadata": {
        "colab": {
          "base_uri": "https://localhost:8080/"
        },
        "id": "SsKM-YPbfDR-",
        "outputId": "c5f8f0f7-afd9-405b-9c8a-3316ebc24102"
      },
      "execution_count": null,
      "outputs": [
        {
          "output_type": "stream",
          "name": "stdout",
          "text": [
            "2\n"
          ]
        }
      ]
    },
    {
      "cell_type": "code",
      "source": [
        "# 153. Find Minimum in Rotated Sorted Array\n",
        "def find_minimum(nums):\n",
        "  if(len(nums)==1):\n",
        "    return nums[0]\n",
        "  low=0\n",
        "  high=len(nums)-1\n",
        "  while(high-low)>1:\n",
        "    mid=(high+low)//2\n",
        "    if(mid==0 and nums[0]<nums[1]):\n",
        "      return nums[mid]\n",
        "    elif(mid==len(nums)-1 and nums[mid]<nums[mid-1]):\n",
        "      return nums[mid]\n",
        "    elif(nums[mid-1]>nums[mid] and nums[mid+1]>nums[mid]):\n",
        "      return nums[mid]\n",
        "    elif(nums[mid]>nums[high]):\n",
        "      low=mid+1\n",
        "    else:\n",
        "      high=mid-1\n",
        "  return nums[low] if nums[low]<nums[high] else nums[high]\n",
        "arr=[3,2,1,-5,-3]\n",
        "print(find_minimum(arr))"
      ],
      "metadata": {
        "colab": {
          "base_uri": "https://localhost:8080/"
        },
        "id": "ZiYiKaS9Dw1G",
        "outputId": "25401159-1a43-4105-b3ff-573a76a537cf"
      },
      "execution_count": null,
      "outputs": [
        {
          "output_type": "stream",
          "name": "stdout",
          "text": [
            "-5\n"
          ]
        }
      ]
    },
    {
      "cell_type": "code",
      "source": [
        "# Book Allocation or Allocate Books Problem | DSA Series - Binary Search\n",
        "def is_valid(arr,n,k,mid):\n",
        "  student_count=1\n",
        "  page_count=0\n",
        "  for i in range(n):\n",
        "    if(arr[i]>mid):\n",
        "      return False\n",
        "    elif(page_count+arr[i]>mid):\n",
        "      student_count+=1\n",
        "      page_count=arr[i]\n",
        "      if(student_count>k):\n",
        "        return False\n",
        "    else:\n",
        "      page_count+=arr[i]\n",
        "  return True if student_count<=k else False\n",
        "def allocate_books(arr,k):\n",
        "  if(k>len(arr)):\n",
        "    return -1\n",
        "  if(k==1):\n",
        "    return sum(arr)\n",
        "  n=len(arr)\n",
        "  low=0\n",
        "  high=sum(arr)\n",
        "  ans=-1\n",
        "  while(high-low)>1:\n",
        "    mid=low+(high-low)//2\n",
        "    if (is_valid(arr,n,k,mid)):\n",
        "      ans=mid\n",
        "      high=mid\n",
        "    else:\n",
        "      low=mid\n",
        "  return ans\n",
        "arr=[1,2,3,4,5]\n",
        "k=1\n",
        "print(allocate_books(arr,k))"
      ],
      "metadata": {
        "colab": {
          "base_uri": "https://localhost:8080/"
        },
        "id": "1ZsTrgdsQIZV",
        "outputId": "45ee167f-5959-4410-e67d-bb34577b7881"
      },
      "execution_count": null,
      "outputs": [
        {
          "output_type": "stream",
          "name": "stdout",
          "text": [
            "15\n"
          ]
        }
      ]
    },
    {
      "cell_type": "code",
      "source": [
        "# 242. Valid Anagram\n",
        "def valid_anagram(s,t):\n",
        "  if(len(s)==len(t)):\n",
        "    if ''.join(sorted(list(s))) == ''.join(sorted(list(t))):\n",
        "      return True\n",
        "    else:\n",
        "      return False\n",
        "  else:\n",
        "    return False\n",
        "s = \"anagram\"\n",
        "t = \"nagaram\"\n",
        "print(valid_anagram(s,t))"
      ],
      "metadata": {
        "colab": {
          "base_uri": "https://localhost:8080/"
        },
        "id": "EVL8jQpVPNvx",
        "outputId": "47e94d58-d76a-43cf-f565-98db8c26395b"
      },
      "execution_count": null,
      "outputs": [
        {
          "output_type": "stream",
          "name": "stdout",
          "text": [
            "True\n"
          ]
        }
      ]
    },
    {
      "cell_type": "code",
      "source": [
        "# group anagram | leetcode 49\n",
        "from collections import defaultdict\n",
        "def group_anagram(arr):\n",
        "  count_dict=defaultdict(list)\n",
        "  for word in arr:\n",
        "    sorted_word=''.join(sorted(list(word)))\n",
        "    if sorted_word in count_dict:\n",
        "      count_dict[sorted_word].append(word)\n",
        "    else:\n",
        "      count_dict[sorted_word]=[word]\n",
        "  return sorted(count_dict.values(),key=lambda x:len(x))\n",
        "strs = [\"eat\",\"tea\",\"tan\",\"ate\",\"nat\",\"bat\"]\n",
        "print(group_anagram(strs))"
      ],
      "metadata": {
        "colab": {
          "base_uri": "https://localhost:8080/"
        },
        "id": "FkmwePPaW5-X",
        "outputId": "455808a7-186f-434e-bb53-e620cdb8efb3"
      },
      "execution_count": null,
      "outputs": [
        {
          "output_type": "stream",
          "name": "stdout",
          "text": [
            "[['bat'], ['tan', 'nat'], ['eat', 'tea', 'ate']]\n"
          ]
        }
      ]
    },
    {
      "cell_type": "code",
      "source": [
        "# 347. Top K Frequent Elements\n",
        "from collections import defaultdict\n",
        "def k_frequent_element(nums,k):\n",
        "    count_dict=defaultdict(int)\n",
        "    for num in nums:\n",
        "        if num in count_dict:\n",
        "            count_dict[num]+=1\n",
        "        else:\n",
        "            count_dict[num]=1\n",
        "    frequent_descending=sorted(count_dict.items(),key=lambda x:x[1],reverse=True)\n",
        "    return list(x[0] for x in frequent_descending[:k])\n",
        "\n",
        "arr=[3,2,2,1,1,1]\n",
        "k=2\n",
        "print(k_frequent_element(arr,k))"
      ],
      "metadata": {
        "colab": {
          "base_uri": "https://localhost:8080/"
        },
        "id": "0GheU2Zmkk3J",
        "outputId": "d91863b2-d2e5-474e-e428-8c8f501ab58e"
      },
      "execution_count": null,
      "outputs": [
        {
          "output_type": "stream",
          "name": "stdout",
          "text": [
            "[1, 2]\n"
          ]
        }
      ]
    },
    {
      "cell_type": "code",
      "source": [
        "# 69. Sqrt(x)\n",
        "def sqrt_function(x):\n",
        "  if x==1 or x==2:\n",
        "    return 1\n",
        "  low=0\n",
        "  high=x\n",
        "  while(high-low)>1:\n",
        "    mid=low+(high-low)//2\n",
        "    if(mid*mid==x):\n",
        "      return mid\n",
        "    elif(x/mid<mid and x/mid>mid-1):\n",
        "      return mid-1\n",
        "    elif(x/mid>mid and x/mid<mid+1):\n",
        "      return mid\n",
        "    elif(mid*mid>x):\n",
        "      high=mid\n",
        "    else:\n",
        "      low=mid\n",
        "print(sqrt_function(500))"
      ],
      "metadata": {
        "colab": {
          "base_uri": "https://localhost:8080/"
        },
        "id": "_8XQsHP8tGg6",
        "outputId": "579dd1e7-9a34-4d13-859e-2ca1132d6a61"
      },
      "execution_count": null,
      "outputs": [
        {
          "output_type": "stream",
          "name": "stdout",
          "text": [
            "22\n"
          ]
        }
      ]
    },
    {
      "cell_type": "code",
      "source": [
        "# painter's partition problem------------\n",
        "def is_valid(boards,n,k,mid):\n",
        "  count_painter=1\n",
        "  count_board=0\n",
        "  for i in range(n):\n",
        "    if(boards[i]>mid):\n",
        "      return False\n",
        "    elif(count_board+boards[i]>mid):\n",
        "      count_painter+=1\n",
        "      count_board=boards[i]\n",
        "    else:\n",
        "      count_board+=boards[i]\n",
        "  return True if count_painter<=k else False\n",
        "\n",
        "\n",
        "def painter_partition(boards,k):\n",
        "  if k>len(boards):\n",
        "    return -1\n",
        "  if k==1:\n",
        "    return sum(boards)\n",
        "  n=len(boards)\n",
        "  low=0\n",
        "  high=sum(boards)\n",
        "  ans=-1\n",
        "  while(high-low)>1:\n",
        "    mid=low+(high-low)//2\n",
        "    if(is_valid(boards,n,k,mid)):\n",
        "      ans=mid\n",
        "      high=mid\n",
        "    else:\n",
        "      low=mid\n",
        "  return ans\n",
        "arr=[40,30,10,20]\n",
        "print(painter_partition(arr,2))"
      ],
      "metadata": {
        "colab": {
          "base_uri": "https://localhost:8080/"
        },
        "id": "D57Q6Qtc2e6X",
        "outputId": "0cfcfba9-8e77-477d-e1c2-1f2e0613ab8d"
      },
      "execution_count": null,
      "outputs": [
        {
          "output_type": "stream",
          "name": "stdout",
          "text": [
            "60\n"
          ]
        }
      ]
    },
    {
      "cell_type": "code",
      "source": [
        "# Coins And Triangle\n",
        "def coins_triangle(coins):\n",
        "  low=1\n",
        "  high=coins\n",
        "  while(high-low)>1:\n",
        "    mid=low+(high-low)//2\n",
        "    if(mid*(mid+1)//2==coins):\n",
        "      return mid\n",
        "    elif(mid*(mid+1)//2>coins):\n",
        "      high=mid\n",
        "    else:\n",
        "      low=mid\n",
        "  return low\n",
        "total_input=int(input())\n",
        "for i in range(total_input):\n",
        "  coins=int(input())\n",
        "  print(coins_triangle(coins))"
      ],
      "metadata": {
        "colab": {
          "base_uri": "https://localhost:8080/"
        },
        "id": "Evwgs975GjDt",
        "outputId": "988d63f9-35a5-4ea7-c0eb-016a236fa311"
      },
      "execution_count": null,
      "outputs": [
        {
          "output_type": "stream",
          "name": "stdout",
          "text": [
            "1\n"
          ]
        }
      ]
    },
    {
      "cell_type": "code",
      "source": [
        "# The Wave | Binary Search\n",
        "def the_wave(arr,num):\n",
        "\n",
        "  if(num>arr[-1]):\n",
        "      return 'POSITIVE'\n",
        "  low=0\n",
        "  high=len(arr)\n",
        "  while(high-low)>1:\n",
        "      mid=low+(high-low)//2\n",
        "      if(num==arr[mid]):\n",
        "          return '0'\n",
        "      if(mid>0 and num<arr[mid] and num>arr[mid-1]):\n",
        "          length=len(arr)-mid\n",
        "          if(length%2==0):\n",
        "              return 'POSITIVE'\n",
        "          else:\n",
        "              return 'NEGATIVE'\n",
        "      elif(num<arr[mid]):\n",
        "          high=mid\n",
        "      else:\n",
        "          low=mid\n",
        "  return 'POSITIVE' if num<arr[low] else 'NEGATIVE'\n",
        "\n",
        "\n",
        "\n",
        "total_arr_input,total_input=input().split()\n",
        "arr=sorted(list(map(int,input().split())))\n",
        "\n",
        "for i in range(int(total_input)):\n",
        "  nums=int(input())\n",
        "  print(the_wave(arr,nums))"
      ],
      "metadata": {
        "id": "mZZN22fsLIn0"
      },
      "execution_count": null,
      "outputs": []
    },
    {
      "cell_type": "code",
      "source": [
        "# 35. Search Insert Position\n",
        "def search_insert(nums,target):\n",
        "  if(target<nums[0]):\n",
        "    return 0\n",
        "  if(target>nums[-1]):\n",
        "    return len(nums)\n",
        "  low=0\n",
        "  high=len(nums)\n",
        "\n",
        "  while(high-low)>1:\n",
        "    mid=low+(high-low)//2\n",
        "    if(nums[mid]==target):\n",
        "      return mid\n",
        "    elif(nums[mid]<target and target<nums[mid+1]):\n",
        "      return mid+1\n",
        "    elif(nums[mid]>target and target>nums[mid-1]):\n",
        "      return mid\n",
        "    elif(nums[mid]<target):\n",
        "      low=mid\n",
        "    else:\n",
        "      high=mid\n",
        "  return low\n",
        "arr=[1,3,5,6]\n",
        "target=2\n",
        "print(search_insert(arr,target))"
      ],
      "metadata": {
        "colab": {
          "base_uri": "https://localhost:8080/"
        },
        "id": "9hSN7c0cFppz",
        "outputId": "c3c486dc-63ba-48c4-c8c2-fd01701fbeeb"
      },
      "execution_count": null,
      "outputs": [
        {
          "output_type": "stream",
          "name": "stdout",
          "text": [
            "1\n"
          ]
        }
      ]
    },
    {
      "cell_type": "code",
      "source": [
        "# 4. Median of Two Sorted Arrays | leetcode - 4\n",
        "def median_sorted_arr(nums1,nums2):\n",
        "  nums1,nums2=nums1,nums2\n",
        "  if(len(nums1)<len(nums2)):\n",
        "    nums1,nums2=nums2,nums1\n",
        "  n1=len(nums1)\n",
        "  n2=len(nums2)\n",
        "  if(n1==0):\n",
        "    if n2%2==0:\n",
        "      return (nums2[n2//2]+nums2[(n2//2)-1])/2.0\n",
        "    else:\n",
        "      return nums2[n2//2]\n",
        "  if(n2==0):\n",
        "    if n1%2==0:\n",
        "      return (nums1[n1//2]+nums1[(n1//2)-1])/2.0\n",
        "    else:\n",
        "      return nums1[n1//2]\n",
        "  total=n1+n2\n",
        "  half_len=(n1+n2)//2\n",
        "  low=0\n",
        "  high=n2\n",
        "  while(low<=high):\n",
        "    mid=low+(high-low)//2\n",
        "    count=half_len-mid\n",
        "\n",
        "    L1=nums1[count-1] if count>0 else float('-inf')\n",
        "    L2=nums2[mid-1] if mid>0 else float('-inf')\n",
        "    R1=nums1[count] if count<n1 else float('inf')\n",
        "    R2=nums2[mid] if mid<n2 else float('inf')\n",
        "\n",
        "\n",
        "    if(L1<=R2 and L2<=R1):\n",
        "      if(n1+n2)%2==0:\n",
        "        return (max(L1,L2)+min(R1,R2))/2.0\n",
        "      else:\n",
        "        return min(R1,R2)\n",
        "\n",
        "    elif(L2<R1):\n",
        "      low=mid+1\n",
        "    else:\n",
        "      high=mid-1\n",
        "\n",
        "arr1=[3,4]\n",
        "arr2=[]\n",
        "print(median_sorted_arr(arr1,arr2))"
      ],
      "metadata": {
        "colab": {
          "base_uri": "https://localhost:8080/"
        },
        "id": "9K8OwMuYRobE",
        "outputId": "66f86e5c-7bea-4cc3-9de6-3cd210762dc1"
      },
      "execution_count": null,
      "outputs": [
        {
          "output_type": "stream",
          "name": "stdout",
          "text": [
            "4\n",
            "3\n",
            "3.5\n"
          ]
        }
      ]
    },
    {
      "cell_type": "code",
      "source": [
        "# 33. Search in Rotated Sorted Array\n",
        "def rotated_sorted_arr(nums,target):\n",
        "  low=0\n",
        "  high=len(nums)\n",
        "  while(high-low)>1:\n",
        "    mid=low+(high-low)//2\n",
        "    if(nums[mid]==target):\n",
        "      return mid\n",
        "    elif(nums[mid]<nums[high-1]):\n",
        "      if(target>nums[mid] and target<=nums[high-1]):\n",
        "        low=mid\n",
        "      else:\n",
        "        high=mid\n",
        "    else:\n",
        "      if(target>=nums[low] and target<=nums[mid-1]):\n",
        "        high=mid\n",
        "      else:\n",
        "        low=mid\n",
        "  print(low)\n",
        "  return low if target==nums[low] else -1\n",
        "arr=[1,3]\n",
        "\n",
        "target=1\n",
        "print(rotated_sorted_arr(arr,target))"
      ],
      "metadata": {
        "colab": {
          "base_uri": "https://localhost:8080/"
        },
        "id": "0Rj6QbyB0AZ_",
        "outputId": "1c39f6f7-c47c-4dd0-e808-7638a1c35c81"
      },
      "execution_count": null,
      "outputs": [
        {
          "output_type": "stream",
          "name": "stdout",
          "text": [
            "0\n",
            "0\n"
          ]
        }
      ]
    },
    {
      "cell_type": "code",
      "source": [
        "def function(nums):\n",
        "  low=0\n",
        "  high=len(nums)\n",
        "  while(high-low)>1:\n",
        "    mid=low+(high-low)//2\n",
        "    a=nums[mid-1] if mid>0 else float('-inf')\n",
        "    b=nums[mid+1] if mid<len(nums)-1 else float('-inf')\n",
        "    if(a<=nums[mid] and nums[mid]>=b):\n",
        "      return mid\n",
        "    elif(nums[mid-1]<=nums[mid]):\n",
        "      low=mid\n",
        "    else:\n",
        "      high=mid\n",
        "  return low\n",
        "arr=[1,2]\n",
        "print(function(arr))"
      ],
      "metadata": {
        "colab": {
          "base_uri": "https://localhost:8080/"
        },
        "id": "5REPgdSMoCoh",
        "outputId": "c16ae323-fcbc-4d8c-aae9-3f54a85dfe19"
      },
      "execution_count": null,
      "outputs": [
        {
          "output_type": "stream",
          "name": "stdout",
          "text": [
            "1\n"
          ]
        }
      ]
    },
    {
      "cell_type": "code",
      "source": [
        "def rotated_sorted_arr(nums,target):\n",
        "  if(len(nums)==0):\n",
        "    return [-1,-1]\n",
        "  low=0\n",
        "  high=len(nums)-1\n",
        "  while(high-low)>1:\n",
        "    mid=low+(high-low)//2\n",
        "    if(nums[mid]==target):\n",
        "      if(len(nums)==1):\n",
        "        return [mid,mid]\n",
        "      else:\n",
        "        return [mid,mid+1]\n",
        "    elif(nums[mid]<nums[high-1]):\n",
        "      if(target>nums[mid] and target<=nums[high-1]):\n",
        "        low=mid+1\n",
        "      else:\n",
        "        high=mid-1\n",
        "    else:\n",
        "      if(target>=nums[low] and target<=nums[mid-1]):\n",
        "        high=mid-1\n",
        "      else:\n",
        "        low=mid+1\n",
        "  if(len(nums)==1):\n",
        "    return [low,low] if target==nums[low] else [-1,-1]\n",
        "  return [low,low+1] if target==nums[low] else [-1,-1]\n",
        "arr=[2, 4, 4, 4, 6, 8]\n",
        "\n",
        "target=4\n",
        "print(rotated_sorted_arr(arr,target))"
      ],
      "metadata": {
        "colab": {
          "base_uri": "https://localhost:8080/"
        },
        "id": "UOG0_APJuDTV",
        "outputId": "e36fef28-a389-47ff-ba17-69302d08e472"
      },
      "execution_count": null,
      "outputs": [
        {
          "output_type": "stream",
          "name": "stdout",
          "text": [
            "[2, 3]\n"
          ]
        }
      ]
    },
    {
      "cell_type": "code",
      "source": [
        "# 1552. Magnetic Force Between Two Balls\n",
        "# def is_valid(boards,n,k,mid):\n",
        "#   count_painter=1\n",
        "#   count_board=0\n",
        "#   for i in range(n):\n",
        "#     if(boards[i]>mid):\n",
        "#       return False\n",
        "#     elif(count_board+boards[i]>mid):\n",
        "#       count_painter+=1\n",
        "#       count_board=boards[i]\n",
        "#     else:\n",
        "#       count_board+=boards[i]\n",
        "#   return True if count_painter<=k else False\n",
        "\n",
        "\n",
        "# def Magnetic_Force(position,m):\n",
        "#   if m>len(position):\n",
        "#     return -1\n",
        "#   if m==1:\n",
        "#     return sum(position)\n",
        "#   n=len(position)\n",
        "#   low=1\n",
        "#   high=max(position)-min(position)\n",
        "#   ans=-1\n",
        "#   while(low<=high):\n",
        "#     mid=low+(high-low)//2\n",
        "#     if(is_valid(position,n,m,mid)):\n",
        "#       ans=mid\n",
        "#       low=mid+1\n",
        "#     else:\n",
        "#       high=mid-1\n",
        "#   return ans\n",
        "# arr=[1,2,3,4,7]\n",
        "# print(Magnetic_Force(arr,3))"
      ],
      "metadata": {
        "colab": {
          "base_uri": "https://localhost:8080/"
        },
        "id": "hshs7VqJUZWq",
        "outputId": "14957074-ef9e-411f-9cc5-0a9b3485bab0"
      },
      "execution_count": null,
      "outputs": [
        {
          "output_type": "stream",
          "name": "stdout",
          "text": [
            "-1\n"
          ]
        }
      ]
    },
    {
      "cell_type": "code",
      "source": [
        "# 238. Product of Array Except Self\n",
        "def product_arr(nums):\n",
        "  n=len(nums)\n",
        "  prefix=[0]*n\n",
        "  posfix=[0]*n\n",
        "\n",
        "  final_list=[1]*n\n",
        "  for i in range(n):\n",
        "    if(i==0):\n",
        "      prefix[i]=1\n",
        "      posfix[(n-1)-i]=1\n",
        "    else:\n",
        "      prefix[i]=nums[i-1]*prefix[i-1]\n",
        "      posfix[(n-1)-i]=nums[n-i]*posfix[n-i]\n",
        "\n",
        "      # prefix.append(1)\n",
        "      # posfix.append(1)\n",
        "      # prefix[i]=nums[i-1]*prefix[i-1]\n",
        "      # posfix[(n-1)-i]=nums[(n-1)+i]*posfix[(n-1)+i]\n",
        "      # prefix.append(nums[i-1]*prefix[i-1])\n",
        "      # posfix.insert(0,nums[(n-1)-i]*posfix[0])\n",
        "\n",
        "  for i in range(n):\n",
        "    final_list[i]=prefix[i]*posfix[i]\n",
        "  return final_list\n",
        "\n",
        "arr=[1,2,3,4]\n",
        "print(product_arr(arr))"
      ],
      "metadata": {
        "id": "hCbgxcSltyE-"
      },
      "execution_count": null,
      "outputs": []
    },
    {
      "cell_type": "code",
      "source": [
        "# 42. Trapping Rain Water\n",
        "def trapping_rain_water(height):\n",
        "  n=len(height)\n",
        "  max_height=max(height)\n",
        "  max_left=0\n",
        "  max_right=0\n",
        "  left=0\n",
        "  right=n-1\n",
        "  water=0\n",
        "  while(height[left]<max_height):\n",
        "    if(height[left]>=max_left):\n",
        "      max_left=height[left]\n",
        "      left+=1\n",
        "    else:\n",
        "      water+=max_left-height[left]\n",
        "      left+=1\n",
        "  while(left<right):\n",
        "    if(height[right]>max_right):\n",
        "      max_right=height[right]\n",
        "      right-=1\n",
        "    else:\n",
        "      water+=max_right-height[right]\n",
        "      right-=1\n",
        "  return water\n",
        "arr=[1,0,2,1,1,2,3,0,4,1,2,1,3,4]\n",
        "print(trapping_rain_water(arr))"
      ],
      "metadata": {
        "colab": {
          "base_uri": "https://localhost:8080/"
        },
        "id": "f2fQ1Td1tzyZ",
        "outputId": "049a30c5-fa4b-4aa1-84bf-54a46fa9f435"
      },
      "execution_count": null,
      "outputs": [
        {
          "output_type": "stream",
          "name": "stdout",
          "text": [
            "15\n"
          ]
        }
      ]
    },
    {
      "cell_type": "code",
      "source": [
        "# 34. Find First and Last Position of Element in Sorted Array\n",
        "def first_last_position(nums,target):\n",
        "    def last_position(nums,target):\n",
        "        left=0\n",
        "        right=len(nums)-1\n",
        "        while(left<=right):\n",
        "          mid=(right+left)//2\n",
        "          a=nums[mid+1] if mid<len(nums)-1 else float('inf')\n",
        "          # if(b<target and nums[mid]==target):\n",
        "          #   left=mid+1\n",
        "          if(a>target and nums[mid]==target):\n",
        "            return mid\n",
        "          elif(target<nums[mid]):\n",
        "            right=mid-1\n",
        "          else:\n",
        "            left=mid+1\n",
        "        return -1\n",
        "    def first_position(nums,target):\n",
        "        left=0\n",
        "        right=len(nums)-1\n",
        "        while(left<=right):\n",
        "          mid=(right+left)//2\n",
        "          b=nums[mid-1] if mid>0 else float('-inf')\n",
        "          if(b<target and nums[mid]==target):\n",
        "            return mid\n",
        "          elif(target<=nums[mid]):\n",
        "            right=mid-1\n",
        "          else:\n",
        "            left=mid+1\n",
        "        return -1\n",
        "    return [first_position(nums,target),last_position(nums,target)]\n",
        "arr=[1,2,3,3,3,3,3,3,5]\n",
        "print(first_last_position(arr,3))"
      ],
      "metadata": {
        "id": "4jld8qDI-pXq"
      },
      "execution_count": null,
      "outputs": []
    },
    {
      "cell_type": "code",
      "source": [
        "def valid_sudoku(board):\n",
        "  row=dict()\n",
        "  col=dict()\n",
        "  box=dict()\n",
        "  for i in range(9):\n",
        "    for j in range(9):\n",
        "      if(board[i][j]!=\".\"):\n",
        "        if(board[i][j] in row):\n",
        "          return False\n",
        "        else:\n",
        "          row[board[i][j]]=1\n",
        "      if(board[i+j][i]==\".\"):\n",
        "        if(board[i+j][i] in row):\n",
        "          return False\n",
        "        else:\n",
        "          row[board[i+j][i]]=1\n",
        "\n",
        "  pass\n",
        "board=[[\"8\",\"3\",\".\",\".\",\"7\",\".\",\".\",\".\",\".\"]\n",
        ",[\"6\",\".\",\".\",\"1\",\"9\",\"5\",\".\",\".\",\".\"]\n",
        ",[\".\",\"9\",\"8\",\".\",\".\",\".\",\".\",\"6\",\".\"]\n",
        ",[\"8\",\".\",\".\",\".\",\"6\",\".\",\".\",\".\",\"3\"]\n",
        ",[\"4\",\".\",\".\",\"8\",\".\",\"3\",\".\",\".\",\"1\"]\n",
        ",[\"7\",\".\",\".\",\".\",\"2\",\".\",\".\",\".\",\"6\"]\n",
        ",[\".\",\"6\",\".\",\".\",\".\",\".\",\"2\",\"8\",\".\"]\n",
        ",[\".\",\".\",\".\",\"4\",\"1\",\"9\",\".\",\".\",\"5\"]\n",
        ",[\".\",\".\",\".\",\".\",\"8\",\".\",\".\",\"7\",\"9\"]]\n",
        "print(valid_sudoku(board))"
      ],
      "metadata": {
        "id": "CHnwjb1QCkCA"
      },
      "execution_count": null,
      "outputs": []
    },
    {
      "cell_type": "markdown",
      "source": [
        "## Finding the Function Value with Binary Search\n",
        "Now, let's lay out the steps for finding a specific function value using binary search. The spirit of the methodology is similar to that of searching a discrete list, but there are some key differences:\n",
        "\n",
        "1. We define the left and right bounds of the binary search. These should be an interval [left, right) within which the function takes on our target value.\n",
        "2. We define a loop that runs until the difference between left and right is smaller than a very small number ϵ (called the precision of our search).\n",
        "3. Within that loop, we compute the midpoint: m = (left + right) / 2.\n",
        "4. We then compute the function value at m, f(m). If f(m) is less than the target value, we update left to m. Otherwise, we update right to m.\n",
        "5. The loop continues until we achieve the required precision, and the function value within the final interval [left, right) is close enough to the target that we accept it as the sought value."
      ],
      "metadata": {
        "id": "DeFx5z675kT7"
      }
    },
    {
      "cell_type": "code",
      "source": [
        "# Define the function\n",
        "def f(x):\n",
        "    return x * x - 2\n",
        "\n",
        "# Define the binary search function\n",
        "def binary_search(target, left, right, precision):\n",
        "    while right - left > precision:\n",
        "        mid = (left + right) / 2\n",
        "        if f(mid) < target: # If the midpoint value is less than the target...\n",
        "            left = mid  # ...update the left boundary to be the midpoint.\n",
        "        else:\n",
        "            right = mid  # Otherwise, update the right boundary.\n",
        "    return left # Return the left boundary of our final, narrow interval.\n",
        "\n",
        "epsilon = 1e-6\n",
        "result = binary_search(0, 1, 2, epsilon)\n",
        "print(\"x for which f(x) is approximately 0:\", result)\n",
        "\n",
        "# Outputs:\n",
        "# x for which f(x) is approximately 0: 1.4142131805419922"
      ],
      "metadata": {
        "colab": {
          "base_uri": "https://localhost:8080/"
        },
        "id": "Q0mdBR7X6FkW",
        "outputId": "984d0132-6e3f-4d9c-c0f2-88b00485e2a7"
      },
      "execution_count": null,
      "outputs": [
        {
          "output_type": "stream",
          "name": "stdout",
          "text": [
            "x for which f(x) is approximately 0: 1.4142131805419922\n"
          ]
        }
      ]
    },
    {
      "cell_type": "code",
      "source": [
        "# Python program to calculate the point at which a ball dropped from a height h reaches the ground\n",
        "# using Binary Search on the continuous function h(t) = h - (1/2) * g * t^2.\n",
        "\n",
        "import math\n",
        "\n",
        "# Define the continuous function for the height of the ball at time t\n",
        "def h(t, initial_height, g):\n",
        "    return initial_height - (0.5) * g * t**2\n",
        "\n",
        "# Define the binary search function\n",
        "def binary_search(func, initial_height, g, target, left, right, precision):\n",
        "    while right - left > precision:\n",
        "        mid = (left + right) / 2\n",
        "        if h(mid, initial_height, g) < target:\n",
        "            right = mid\n",
        "        else:\n",
        "            left = mid\n",
        "    return (left + right) / 2\n",
        "\n",
        "# Requested precision\n",
        "epsilon = 1e-6\n",
        "# Constants\n",
        "initial_height = 100  # Initial height in meters\n",
        "g = 9.81  # acceleration due to gravity\n",
        "\n",
        "# Time range\n",
        "time_range = [0, 10]\n",
        "\n",
        "# Call binary_search for h with the target being 0, indicating the hit of the ground\n",
        "result = binary_search(h, initial_height, g, 0, time_range[0], time_range[1], epsilon)\n",
        "\n",
        "print(\"Time when the ball hits the ground (seconds): \", result)"
      ],
      "metadata": {
        "colab": {
          "base_uri": "https://localhost:8080/"
        },
        "id": "94wFPBI39Mm9",
        "outputId": "082eb5dd-66a2-4003-c7ac-8208337f6ce8"
      },
      "execution_count": null,
      "outputs": [
        {
          "output_type": "stream",
          "name": "stdout",
          "text": [
            "Time when the ball hits the ground (seconds):  4.51523631811142\n"
          ]
        }
      ]
    },
    {
      "cell_type": "code",
      "source": [
        "def sqrt(x):\n",
        "  left=0\n",
        "  right=x\n",
        "  epsilon=1e-6\n",
        "  while(right-left>epsilon):\n",
        "    mid=(right+left)/2\n",
        "    if(mid*mid<x):\n",
        "      left=mid\n",
        "    else:\n",
        "      right=mid\n",
        "  return (left+right)/2\n",
        "print(sqrt(4))"
      ],
      "metadata": {
        "colab": {
          "base_uri": "https://localhost:8080/"
        },
        "id": "eFYiCP6rBjwQ",
        "outputId": "bdc39b68-4818-4d7c-9573-04021089b09a"
      },
      "execution_count": null,
      "outputs": [
        {
          "output_type": "stream",
          "name": "stdout",
          "text": [
            "1.9999995231628418\n"
          ]
        }
      ]
    },
    {
      "cell_type": "markdown",
      "source": [
        "## Problem 1: Search in a Rotated Sorted Array"
      ],
      "metadata": {
        "id": "uo_qUTwgx6uH"
      }
    },
    {
      "cell_type": "code",
      "source": [
        "def search_rotated(nums, target):\n",
        "    left, right = 0, len(nums) - 1\n",
        "    while left <= right:\n",
        "        mid = (left + right) // 2\n",
        "        if nums[mid] == target:\n",
        "            return mid\n",
        "        if nums[left] <= nums[mid] and nums[left] <= target < nums[mid]:\n",
        "            right = mid - 1\n",
        "        elif nums[mid] <= nums[right] and nums[mid] < target <= nums[right]:\n",
        "            left = mid + 1\n",
        "        elif nums[mid] > nums[right]:\n",
        "            left = mid + 1\n",
        "        else:\n",
        "            right = mid - 1\n",
        "    return -1\n",
        "arr=[5,6,7,8,1,2,3]\n",
        "print(search_rotated(arr,8))"
      ],
      "metadata": {
        "id": "Eyo9s7Wytu6M",
        "colab": {
          "base_uri": "https://localhost:8080/"
        },
        "outputId": "e84660c9-6a46-4e2f-cd9a-adf485119ffa"
      },
      "execution_count": null,
      "outputs": [
        {
          "output_type": "stream",
          "name": "stdout",
          "text": [
            "3\n"
          ]
        }
      ]
    },
    {
      "cell_type": "code",
      "source": [
        "\n",
        "def get_first_last_pos(nums, target):\n",
        "    def binary_search(left, right, find_first):\n",
        "        if left <= right:\n",
        "            mid = (left + right) // 2\n",
        "            if nums[mid] > target or (find_first and target == nums[mid]):\n",
        "                return binary_search(left, mid - 1, find_first)\n",
        "            else:\n",
        "                return binary_search(mid + 1, right, find_first)\n",
        "        return left\n",
        "\n",
        "    first = binary_search(0, len(nums) - 1, True)\n",
        "    last = binary_search(0, len(nums) - 1, False) - 1\n",
        "    if first <= last:\n",
        "        return [first, last]\n",
        "    else:\n",
        "        return [-1, -1]\n",
        "arr=[1,2]\n",
        "print(get_first_last_pos(arr,2))"
      ],
      "metadata": {
        "colab": {
          "base_uri": "https://localhost:8080/"
        },
        "id": "tuHNc0-ZzyyW",
        "outputId": "0bec4d5d-d9b6-42d0-bb6c-9f5e51b7b364"
      },
      "execution_count": null,
      "outputs": [
        {
          "output_type": "stream",
          "name": "stdout",
          "text": [
            "[1, 1]\n"
          ]
        }
      ]
    },
    {
      "cell_type": "code",
      "source": [
        "# 74. Search a 2D Matrix\n",
        "def binary_search(nums,target):\n",
        "  low=0\n",
        "  high=len(nums)-1\n",
        "  while(low<=high):\n",
        "    mid=low+(high-low)//2\n",
        "    if(nums[mid]==target):\n",
        "      return True\n",
        "    elif(nums[mid]<target):\n",
        "      low=mid+1\n",
        "    else:\n",
        "      high=mid-1\n",
        "  return False\n",
        "def search_matrix(matrix,target):\n",
        "  if(len(matrix)==0):\n",
        "    return False\n",
        "  for i in range(len(matrix)):\n",
        "    if(matrix[i][-1]>=target and matrix[i][0]<=target):\n",
        "      return binary_search(matrix[i],target)\n",
        "  return False\n",
        "\n",
        "matrix = [[1]]\n",
        "target = 31\n",
        "print(search_matrix(matrix,target))"
      ],
      "metadata": {
        "colab": {
          "base_uri": "https://localhost:8080/"
        },
        "id": "9-QtFOzCSqJB",
        "outputId": "c5178a74-26ae-4027-d4c0-84a555a93ccd"
      },
      "execution_count": null,
      "outputs": [
        {
          "output_type": "stream",
          "name": "stdout",
          "text": [
            "False\n"
          ]
        }
      ]
    },
    {
      "cell_type": "code",
      "source": [
        "# 88 merge sorted array\n",
        "def merge_func(arr,low,mid,high):\n",
        "    i=low\n",
        "    j=mid+1\n",
        "    update_merge=[]\n",
        "    while(i<=mid and j<=high):\n",
        "        if(arr[i]<=arr[j]):\n",
        "            update_merge.append(arr[i])\n",
        "            i+=1\n",
        "        else:\n",
        "            update_merge.append(arr[j])\n",
        "            j+=1\n",
        "    while(i<=mid):\n",
        "        update_merge.append(arr[i])\n",
        "        i+=1\n",
        "    while(j<=high):\n",
        "        update_merge.append(arr[j])\n",
        "        j+=1\n",
        "    arr[low:high+1]=update_merge\n",
        "    return arr\n",
        "def merge_sorted_arr(arr,low,high):\n",
        "    if(low<high):\n",
        "        mid=low+(high-low)//2\n",
        "        merge_sorted_arr(arr,low,mid)\n",
        "        merge_sorted_arr(arr,mid+1,high)\n",
        "\n",
        "        return merge_func(arr,low,mid,high)\n",
        "    return arr\n",
        "\n",
        "nums1=[1,5,3,0,0,0]\n",
        "m=3\n",
        "nums2=[2,5,6]\n",
        "n=3\n",
        "nums1[:]=nums1[:m]+nums2\n",
        "print(merge_sorted_arr(nums1,0,(m+n)-1))"
      ],
      "metadata": {
        "colab": {
          "base_uri": "https://localhost:8080/"
        },
        "id": "hVtM3ad-GLNi",
        "outputId": "5bc9f3c4-57fd-4692-a793-9d8f444e6469"
      },
      "execution_count": null,
      "outputs": [
        {
          "output_type": "stream",
          "name": "stdout",
          "text": [
            "[1, 2, 3, 5, 5, 6]\n"
          ]
        }
      ]
    },
    {
      "cell_type": "code",
      "source": [
        "def partition(arr,low,high):\n",
        "  pivot=arr[high]\n",
        "  i=low-1\n",
        "  for j in range(low,high):\n",
        "    if(arr[j]<=pivot):\n",
        "      i+=1\n",
        "      arr[i],arr[j]=arr[j],arr[i]\n",
        "  arr[i+1],arr[high]=arr[high],arr[i+1]\n",
        "  return i+1\n",
        "\n",
        "def quick_sort(arr,low,high):\n",
        "  if(low<high):\n",
        "    pivot=partition(arr,low,high)\n",
        "    quick_sort(arr,low,pivot-1)\n",
        "    quick_sort(arr,pivot+1,high)\n",
        "nums1=[1,5,3,0,0,0]\n",
        "m=3\n",
        "nums2=[2,5,6]\n",
        "n=3\n",
        "nums1[:]=nums1[:m]+nums2\n",
        "quick_sort(nums1,0,(m+n)-1)\n",
        "print(nums1)"
      ],
      "metadata": {
        "colab": {
          "base_uri": "https://localhost:8080/"
        },
        "id": "KV7NDpjnMWr5",
        "outputId": "06f01070-fc49-4664-f763-b9239025f0dd"
      },
      "execution_count": null,
      "outputs": [
        {
          "output_type": "stream",
          "name": "stdout",
          "text": [
            "[1, 2, 3, 5, 5, 6]\n"
          ]
        }
      ]
    },
    {
      "cell_type": "code",
      "source": [
        "def merge_sorted_array(arr1,arr2,mid):\n",
        "  temp_arr=[]\n",
        "  i=0\n",
        "  j=0\n",
        "  while(i<mid and j<=len(arr2)-1):\n",
        "    if(arr1[i]<=arr2[j]):\n",
        "      temp_arr.append(arr1[i])\n",
        "      i+=1\n",
        "    else:\n",
        "      temp_arr.append(arr2[j])\n",
        "      j+=1\n",
        "  while(i<mid):\n",
        "    temp_arr.append(arr1[i])\n",
        "    i+=1\n",
        "  while(j<=len(arr2)-1):\n",
        "    temp_arr.append(arr2[j])\n",
        "    j+=1\n",
        "  nums1[0:len(arr1)]=temp_arr\n",
        "  return nums1\n",
        "nums1=[1,2,3,0,0,0]\n",
        "m=3\n",
        "nums2=[2,5,6]\n",
        "n=3\n",
        "print(merge_sorted_array(nums1,nums2,m))"
      ],
      "metadata": {
        "colab": {
          "base_uri": "https://localhost:8080/"
        },
        "id": "juqLeDlxSZKy",
        "outputId": "a89f58d7-7033-4381-962b-c43c08f9ac45"
      },
      "execution_count": null,
      "outputs": [
        {
          "output_type": "stream",
          "name": "stdout",
          "text": [
            "[1, 2, 2, 3, 5, 6]\n"
          ]
        }
      ]
    },
    {
      "cell_type": "code",
      "source": [
        "# 383. Ransom Note\n",
        "# from collections import defaultdict\n",
        "def ransom_note(string1,string2):\n",
        "  note1=dict()\n",
        "  note2=dict()\n",
        "  for s in string1:\n",
        "    if s in note1:\n",
        "      note1[s]+=1\n",
        "    else:\n",
        "      note1[s]=1\n",
        "  for s in string2:\n",
        "    if s in note2:\n",
        "      note2[s]+=1\n",
        "    else:\n",
        "      note2[s]=1\n",
        "  for key,value in note1.items():\n",
        "    if key not in note2 or value > note2[key]:\n",
        "      return False\n",
        "  return True\n",
        "string1=\"aa\"\n",
        "string2=\"aab\"\n",
        "print(ransom_note(string1,string2))"
      ],
      "metadata": {
        "colab": {
          "base_uri": "https://localhost:8080/"
        },
        "id": "rM8Iv26Za94v",
        "outputId": "cf740b2e-a227-4c5c-b6de-e384d1bf8f65"
      },
      "execution_count": null,
      "outputs": [
        {
          "output_type": "stream",
          "name": "stdout",
          "text": [
            "True\n"
          ]
        }
      ]
    },
    {
      "cell_type": "code",
      "source": [
        "# 205. Isomorphic Strings\n",
        "def Isomorphic_Strings(string1,string2):\n",
        "    note1=dict()\n",
        "    note2=dict()\n",
        "    for s1,s2 in zip(string1,string2):\n",
        "        if s1 in note1:\n",
        "            if note1[s1]!=s2:\n",
        "                return False\n",
        "        elif s2 in note2:\n",
        "            if note2[s2]!=s1:\n",
        "                return False\n",
        "        else:\n",
        "            note1[s1]=s2\n",
        "            note2[s2]=s1\n",
        "    return True\n",
        "\n",
        "string1=\"badda\"\n",
        "string2=\"babba\"\n",
        "print(Isomorphic_Strings(string1,string2))"
      ],
      "metadata": {
        "colab": {
          "base_uri": "https://localhost:8080/"
        },
        "id": "TX2YETXqeAGB",
        "outputId": "767cd7c5-4c04-477e-e7f5-30b5dc3d9c67"
      },
      "execution_count": null,
      "outputs": [
        {
          "output_type": "stream",
          "name": "stdout",
          "text": [
            "False\n"
          ]
        }
      ]
    },
    {
      "cell_type": "markdown",
      "source": [
        "**Key Points:**\n",
        "\n",
        "1. Each character in the pattern must map to one unique word in s.\n",
        "\n",
        "2. Each word in s must map to one unique character in the pattern.\n",
        "\n",
        "3. The number of characters in the pattern must be equal to the number of words in the string."
      ],
      "metadata": {
        "id": "cEDGBx3kZS3n"
      }
    },
    {
      "cell_type": "code",
      "source": [
        "# 290. Word Pattern\n",
        "def word_pattern(pattern,s):\n",
        "  note1=dict()\n",
        "  note2=dict()\n",
        "  s=s.split()\n",
        "  for pat,word in zip(pattern,s):\n",
        "    if pat in note1:\n",
        "      if note1[pat]!=word:\n",
        "        return False\n",
        "      elif note2[word]!=pat:\n",
        "        return False\n",
        "    elif word in note2:\n",
        "      if note2[word]!=pat:\n",
        "        return False\n",
        "    else:\n",
        "      note1[pat]=word\n",
        "      note2[word]=pat\n",
        "  return True\n",
        "pattern=\"abc\"\n",
        "s=\"dog cat dog\"\n",
        "print(word_pattern(pattern,s))"
      ],
      "metadata": {
        "colab": {
          "base_uri": "https://localhost:8080/"
        },
        "id": "ZZ2ZjRuQY572",
        "outputId": "aacffd9d-4355-4211-91d9-f88217c945d8"
      },
      "execution_count": null,
      "outputs": [
        {
          "output_type": "stream",
          "name": "stdout",
          "text": [
            "False\n"
          ]
        }
      ]
    },
    {
      "cell_type": "code",
      "source": [
        "# 202. Happy Number\n",
        "def happy_number(num):\n",
        "  result=num\n",
        "  if(result==1):\n",
        "      return True\n",
        "  sum_of_set=set()\n",
        "  while True:\n",
        "    sum=0\n",
        "    for value in str(result):\n",
        "      sum+=int(value)**2\n",
        "    if(sum==1):\n",
        "      return True\n",
        "    if(sum in sum_of_set):\n",
        "      return False\n",
        "    sum_of_set.add(sum)\n",
        "    result=sum\n",
        "\n",
        "num=2\n",
        "print(happy_number(num))"
      ],
      "metadata": {
        "id": "9fgWHiofhtM4",
        "colab": {
          "base_uri": "https://localhost:8080/"
        },
        "outputId": "c775c334-bf1a-4a8d-80d5-d15c3aa30ea6"
      },
      "execution_count": null,
      "outputs": [
        {
          "output_type": "stream",
          "name": "stdout",
          "text": [
            "False\n"
          ]
        }
      ]
    },
    {
      "cell_type": "code",
      "source": [
        "# 128. Longest Consecutive Sequence\n",
        "def consecutive_sequence(nums):\n",
        "  nums_set=set(nums)\n",
        "  temp_set=set()\n",
        "  length=1\n",
        "  max_length=1\n",
        "  for value in sorted(nums_set):\n",
        "    if (value+1) in nums_set:\n",
        "      length+=1\n",
        "      max_length=max(max_length,length)\n",
        "      temp_set.add(value)\n",
        "    else:\n",
        "      length=1\n",
        "      if max_length>=(len(nums_set)//2):\n",
        "        return max_length\n",
        "      temp_set.clear()\n",
        "  return max_length\n",
        "arr=[100,4,200,1,3,2]\n",
        "print(consecutive_sequence(arr))\n"
      ],
      "metadata": {
        "colab": {
          "base_uri": "https://localhost:8080/"
        },
        "id": "bDTms3puhfCy",
        "outputId": "43471175-2fcb-4e40-f036-ebedec81251c"
      },
      "execution_count": null,
      "outputs": [
        {
          "output_type": "stream",
          "name": "stdout",
          "text": [
            "4\n"
          ]
        }
      ]
    },
    {
      "cell_type": "code",
      "source": [
        "# 66- plus one\n",
        "def last_number(nums):\n",
        "  number= ''.join(map(str,nums))\n",
        "  add=str(int(number)+1)\n",
        "  return list(map(int,add))\n",
        "\n",
        "nums=[1,9,9]\n",
        "print(last_number(nums))"
      ],
      "metadata": {
        "colab": {
          "base_uri": "https://localhost:8080/"
        },
        "id": "vy0-LchC93cy",
        "outputId": "6e779f3a-b060-49cb-fab6-616d4767b5fc"
      },
      "execution_count": null,
      "outputs": [
        {
          "output_type": "stream",
          "name": "stdout",
          "text": [
            "[2, 0, 0]\n"
          ]
        }
      ]
    },
    {
      "cell_type": "code",
      "source": [
        "# number of zero------\n",
        "from collections import Counter\n",
        "def factorial(nums):\n",
        "    if(nums==1 or nums==0):\n",
        "        return 1\n",
        "    return nums*factorial(nums-1)\n",
        "n=7\n",
        "print(factorial(n))\n",
        "print(Counter(str(factorial(n))))\n",
        "if '0' in Counter(str(factorial(n))):\n",
        "  print(Counter(str(factorial(n)))['0'])\n",
        "\n",
        "# 172. Factorial Trailing Zeroes\n",
        "def trailing_zeroes(num):\n",
        "  n=1\n",
        "  total_trailing_zeroes=0\n",
        "  while True:\n",
        "    result=num//pow(5,n)\n",
        "    if (result==0):\n",
        "      break\n",
        "    else:\n",
        "      total_trailing_zeroes+=result\n",
        "      n+=1\n",
        "  return total_trailing_zeroes\n",
        "n=100\n",
        "print(trailing_zeroes(n))\n",
        "\n",
        "# 🧪 Example : n = 100\n",
        "# 100 // 5 = 20\n",
        "\n",
        "# 100 // 25 = 4\n",
        "\n",
        "# 100 // 125 = 0\n",
        "\n",
        "# Total = 20 + 4 = 24 → ✅ 24 trailing zeroes"
      ],
      "metadata": {
        "colab": {
          "base_uri": "https://localhost:8080/"
        },
        "id": "tp3QGtWYM_KN",
        "outputId": "e354574a-484e-4a70-8424-a2c7eb32b4db"
      },
      "execution_count": null,
      "outputs": [
        {
          "output_type": "stream",
          "name": "stdout",
          "text": [
            "5040\n",
            "Counter({'0': 2, '5': 1, '4': 1})\n",
            "2\n",
            "24\n"
          ]
        }
      ]
    },
    {
      "cell_type": "markdown",
      "source": [
        "## Lesson: 05\n",
        "Quick Sort is generally regarded as one of the fastest and most efficient algorithms for sorting large data sets.\n",
        "The Quick Sort algorithm is notable for its approach to sorting an array — or a Python list. Quick Sort begins by selecting a pivot from the provided list, then separates the remaining elements into two groups — those less than the pivot and those greater than it, keeping their order in the initial array. This process is replicated recursively until the entire list is sorted."
      ],
      "metadata": {
        "id": "SwvIV1p55eI1"
      }
    },
    {
      "cell_type": "code",
      "source": [
        "def quick_sort(arr):\n",
        "  if(len(arr)<=1):\n",
        "    return arr\n",
        "  pivot=arr[len(arr)//2]\n",
        "  left=[x for x in arr if x<pivot]\n",
        "  middle=[x for x in arr if x==pivot]\n",
        "  right=[x for x in arr if x>pivot]\n",
        "  return quick_sort(left)+middle+quick_sort(right)\n",
        "\n",
        "print(quick_sort([9, 7, 5, 11, 12, 2, 14, 3, 10, 6]))"
      ],
      "metadata": {
        "colab": {
          "base_uri": "https://localhost:8080/"
        },
        "id": "xc4CS0sW_O54",
        "outputId": "0d8f18f4-7bf0-4ad1-ef28-c42e36bec7ef"
      },
      "execution_count": null,
      "outputs": [
        {
          "output_type": "stream",
          "name": "stdout",
          "text": [
            "[2, 3, 5, 6, 7, 9, 10, 11, 12, 14]\n"
          ]
        }
      ]
    },
    {
      "cell_type": "code",
      "source": [
        "import random\n",
        "def partition(arr,low,high):\n",
        "  pivot=arr[high]\n",
        "  i=low-1\n",
        "  for j in range(low,high):\n",
        "    if(arr[j]<=pivot):\n",
        "      i+=1\n",
        "      arr[i],arr[j]=arr[j],arr[i]\n",
        "  arr[i+1],arr[high]=arr[high],arr[i+1]\n",
        "  return i+1\n",
        "def quick_sort(arr,low,high):\n",
        "  if(low<high):\n",
        "    pi=partition(arr,low,high)\n",
        "    quick_sort(arr,low,pi-1)\n",
        "    quick_sort(arr,pi+1,high)\n",
        "# Generate a list of random numbers between 1 and 100\n",
        "random_list = random.sample(range(1, 101), 20)\n",
        "print('Unsorted list:', random_list)\n",
        "\n",
        "quick_sort(random_list, 0, len(random_list) - 1)\n",
        "print('Sorted list with Quick Sort:', random_list)\n"
      ],
      "metadata": {
        "colab": {
          "base_uri": "https://localhost:8080/"
        },
        "id": "aXQ2wLI468uG",
        "outputId": "fadb5e71-3206-40fe-9812-72374d484ba0"
      },
      "execution_count": null,
      "outputs": [
        {
          "output_type": "stream",
          "name": "stdout",
          "text": [
            "Unsorted list: [6, 96, 20, 69, 37, 89, 43, 59, 14, 9, 51, 80, 54, 64, 82, 3, 24, 91, 57, 55]\n",
            "Sorted list with Quick Sort: [3, 6, 9, 14, 20, 24, 37, 43, 51, 54, 55, 57, 59, 64, 69, 80, 82, 89, 91, 96]\n"
          ]
        }
      ]
    },
    {
      "cell_type": "code",
      "source": [
        "\n",
        "import random\n",
        "\n",
        "def partition(arr, low, high):\n",
        "    pivot = arr[low]\n",
        "    i = low + 1\n",
        "    j = high\n",
        "    done = False\n",
        "    while not done:\n",
        "        while i <= j and arr[i] <= pivot: # while i <= j and arr[i] >= pivot: for desending\n",
        "            i += 1\n",
        "        while arr[j] >= pivot and j >= i: #while arr[j] <= pivot and j >= i: for desending\n",
        "            j -= 1\n",
        "        if j < i:\n",
        "            done= True\n",
        "        else:\n",
        "            arr[i], arr[j] = arr[j], arr[i]\n",
        "    arr[low], arr[j] = arr[j], arr[low]\n",
        "    return j\n",
        "\n",
        "def quick_sort(arr, low, high):\n",
        "    if low < high:\n",
        "        split_point = partition(arr, low, high)\n",
        "        quick_sort(arr, low, split_point - 1)\n",
        "        quick_sort(arr, split_point + 1, high)\n",
        "\n",
        "# Generate a list of random numbers between 10 and 50\n",
        "random_list = [random.randint(10, 50) for i in range(15)]\n",
        "\n",
        "print(\"Original List: \", random_list)\n",
        "\n",
        "quick_sort(random_list, 0, len(random_list) - 1)\n",
        "print(\"List After Quick Sort: \", random_list)"
      ],
      "metadata": {
        "colab": {
          "base_uri": "https://localhost:8080/"
        },
        "id": "HVql-wPyIyZP",
        "outputId": "1dddb77d-9bf6-426d-b08e-6fdc32f0013d"
      },
      "execution_count": null,
      "outputs": [
        {
          "output_type": "stream",
          "name": "stdout",
          "text": [
            "Unsorted list: [60, 48, 66, 4, 75, 35, 99, 45, 95, 24, 44, 63, 26, 52, 76, 25, 89, 39, 92, 84]\n",
            "Sorted list with Quick Sort: [4, 24, 25, 26, 35, 39, 44, 45, 48, 52, 60, 63, 66, 75, 76, 84, 89, 92, 95, 99]\n"
          ]
        }
      ]
    },
    {
      "cell_type": "code",
      "source": [
        "def merge(nums,low,mid,high):\n",
        "  update_merge=[]\n",
        "  i=low\n",
        "  j=mid+1\n",
        "  while(i<=mid and j<=high):\n",
        "    if(nums[i]<=nums[j]):\n",
        "      update_merge.append(nums[i])\n",
        "      i+=1\n",
        "    else:\n",
        "      update_merge.append(nums[j])\n",
        "      j+=1\n",
        "  while(i<=mid):\n",
        "    update_merge.append(nums[i])\n",
        "    i+=1\n",
        "  while(j<=high):\n",
        "    update_merge.append(nums[j])\n",
        "    j+=1\n",
        "  nums[low:high+1]=update_merge\n",
        "  return nums\n",
        "def mergesort(nums,low,high):\n",
        "  if(low<high):\n",
        "    mid=low+(high-low)//2\n",
        "    mergesort(nums,low,mid)\n",
        "    mergesort(nums,mid+1,high)\n",
        "\n",
        "    return merge(nums,low,mid,high)\n",
        "\n",
        "arr=[]\n",
        "if(len(arr)==1 or len(arr)==0):\n",
        "  print(arr)\n",
        "else:\n",
        "  print(mergesort(arr,0,len(arr)-1))"
      ],
      "metadata": {
        "colab": {
          "base_uri": "https://localhost:8080/"
        },
        "id": "MD_V-dTESw-N",
        "outputId": "4d3db9cb-cb9c-4157-b4d7-3935a685e372"
      },
      "execution_count": null,
      "outputs": [
        {
          "output_type": "stream",
          "name": "stdout",
          "text": [
            "[]\n"
          ]
        }
      ]
    },
    {
      "cell_type": "markdown",
      "source": [
        "## Lesson: 06\n",
        "###Understanding Merge Sort:\n",
        "\n",
        "  Merge Sort is a reliable, stable algorithm that employs the Divide and Conquer strategy. It splits an unsorted list into two sublists, recursively sorts each of them, and then merges these sorted sublists to create a sorted list."
      ],
      "metadata": {
        "id": "ZodQefEJf9Lx"
      }
    },
    {
      "cell_type": "code",
      "source": [
        "#merge sort (way 1)\n",
        "import random\n",
        "def merge(left_half,right_half):\n",
        "  merged=[]\n",
        "  i=0\n",
        "  j=0\n",
        "  while(i<len(left_half) and j<len(right_half)):\n",
        "    if(left_half[i]<=right_half[j]):\n",
        "      merged.append(left_half[i])\n",
        "      i+=1\n",
        "    else:\n",
        "      merged.append(right_half[j])\n",
        "      j+=1\n",
        "  merged.extend(left_half[i:])\n",
        "  merged.extend(right_half[j:])\n",
        "  return merged\n",
        "def merge_sort(arr):\n",
        "  if(len(arr)<=1):\n",
        "    return arr\n",
        "  mid=len(arr)//2\n",
        "  left_half=merge_sort(arr[:mid])\n",
        "  right_half=merge_sort(arr[mid:])\n",
        "  return merge(left_half,right_half)\n",
        "\n",
        "arr=[random.randint(1,1000) for x in range(10)]\n",
        "print(merge_sort(arr))"
      ],
      "metadata": {
        "colab": {
          "base_uri": "https://localhost:8080/"
        },
        "id": "BUwazykMf7t2",
        "outputId": "edaabde9-0de3-4a70-8f4e-0308124ecc7e"
      },
      "execution_count": null,
      "outputs": [
        {
          "output_type": "stream",
          "name": "stdout",
          "text": [
            "[9, 66, 221, 323, 425, 515, 599, 635, 678, 712]\n"
          ]
        }
      ]
    },
    {
      "cell_type": "code",
      "source": [
        "# merge sort (way 2)\n",
        "def merge_sorted_array(arr1,arr2,mid):\n",
        "  temp_arr=[]\n",
        "  i=0\n",
        "  j=0\n",
        "  while(i<mid and j<=len(arr2)-1):\n",
        "    if(arr1[i]<=arr2[j]):\n",
        "      temp_arr.append(arr1[i])\n",
        "      i+=1\n",
        "    else:\n",
        "      temp_arr.append(arr2[j])\n",
        "      j+=1\n",
        "  while(i<mid):\n",
        "    temp_arr.append(arr1[i])\n",
        "    i+=1\n",
        "  while(j<=len(arr2)-1):\n",
        "    temp_arr.append(arr2[j])\n",
        "    j+=1\n",
        "  nums1[0:len(arr1)]=temp_arr\n",
        "  return nums1\n",
        "nums1=[1,2,3,9,0,0]\n",
        "m=4 # number of element without 0 in array 1\n",
        "nums2=[2,5]\n",
        "n=2 # number of element in array 2 and number of 0 in array 1\n",
        "print(merge_sorted_array(nums1,nums2,m))"
      ],
      "metadata": {
        "colab": {
          "base_uri": "https://localhost:8080/"
        },
        "id": "0B4Rp9SxkDm6",
        "outputId": "4585e673-cfcf-400a-fa5a-89ea14f57c5b"
      },
      "execution_count": null,
      "outputs": [
        {
          "output_type": "stream",
          "name": "stdout",
          "text": [
            "[1, 2, 2, 3, 5, 9]\n"
          ]
        }
      ]
    },
    {
      "cell_type": "code",
      "source": [
        "# Import necessary modules\n",
        "import random\n",
        "import string\n",
        "\n",
        "def merge_sort(lst):\n",
        "    # If it's a single element or an empty list, it's already sorted\n",
        "    if len(lst) <= 1:\n",
        "        return lst\n",
        "\n",
        "    # Find the middle point\n",
        "    mid = len(lst) // 2\n",
        "\n",
        "    # Recursively sort both halves\n",
        "    left_half = merge_sort(lst[:mid])\n",
        "    right_half = merge_sort(lst[mid:])\n",
        "\n",
        "    # Merge the two sorted halves\n",
        "    return merge(left_half, right_half)\n",
        "\n",
        "def merge(left, right):\n",
        "    result = []\n",
        "    i = j = 0\n",
        "\n",
        "    # Compare the smallest unused elements in both lists and append the smallest to the result\n",
        "    while i < len(left) and j < len(right):\n",
        "        if left[i] < right[j]:\n",
        "            result.append(left[i])\n",
        "            i += 1\n",
        "        else:\n",
        "            result.append(right[j])\n",
        "            j += 1\n",
        "\n",
        "    # Once we've exhausted one list, append all remaining elements from the other list to the result\n",
        "    result.extend(left[i:])\n",
        "    result.extend(right[j:])\n",
        "\n",
        "    return result\n",
        "\n",
        "# Generate a list of 20 random strings of length 5\n",
        "random_strings = [''.join(random.choices('abcdefghijklmnopqrstuvwxyz', k=5)) for i in range(20)]\n",
        "random_strings=[''.join(random.choice(string.ascii_letters + string.digits)) for _ in range(20)]\n",
        "random_strings=[''.join(random.choice(string.ascii_lowercase)) for _ in range(20)]\n",
        "random_strings=[''.join(random.choice(string.ascii_uppercase)) for _ in range(20)]\n",
        "random_strings=[''.join(random.choice(string.digits)) for _ in range(20)]\n",
        "random_strings=[''.join(random.choice(string.hexdigits)) for _ in range(20)]\n",
        "random_strings=[''.join(random.choice(string.octdigits)) for _ in range(20)]\n",
        "random_strings=[''.join(random.choice(string.punctuation)) for _ in range(20)]\n",
        "random_strings=[''.join(random.choice(string.printable)) for _ in range(20)]\n",
        "print(\"Original List of random strings: \\n\", random_strings)\n",
        "\n",
        "# Apply merge sort\n",
        "sorted_strings = merge_sort(random_strings)\n",
        "\n",
        "print(\"\\nSorted List of strings: \\n\", sorted_strings)"
      ],
      "metadata": {
        "colab": {
          "base_uri": "https://localhost:8080/"
        },
        "id": "HnOTc1gbroN_",
        "outputId": "027fbc17-c11b-4927-df51-e79a83930812"
      },
      "execution_count": null,
      "outputs": [
        {
          "output_type": "stream",
          "name": "stdout",
          "text": [
            "Original List of random strings: \n",
            " ['-', '\"', 'h', 'a', 'd', '.', 'r', ':', '*', '=', '3', '8', '9', '~', 'L', '&', '4', 'T', '3', 'e']\n",
            "\n",
            "Sorted List of strings: \n",
            " ['\"', '&', '*', '-', '.', '3', '3', '4', '8', '9', ':', '=', 'L', 'T', 'a', 'd', 'e', 'h', 'r', '~']\n"
          ]
        }
      ]
    },
    {
      "cell_type": "markdown",
      "source": [
        "### Bubble Sort :\n",
        "\n",
        "Bubble sort is a simple comparison-based sorting algorithm that repeatedly steps through a list, compares adjacent elements, and swaps them if they are in the wrong order. This process is repeated until no swaps are needed, indicating that the list is sorted.\n",
        "\n",
        "How Bubble Sort Works:\n",
        "\n",
        "1. Starting from the beginning of the list, compare the current element with the next element.\n",
        "\n",
        "2. If the current element is greater than the next element (for ascending order), swap them.\n",
        "\n",
        "3. Move to the next pair and repeat the comparison and possible swap.\n",
        "\n",
        "4. After one full pass through the list, the largest element among the unsorted elements \"bubbles up\" to its correct position at the end.\n",
        "\n",
        "5. Repeat the process for the remaining unsorted elements, each time ignoring the sorted part at the end.\n",
        "\n",
        "6. The algorithm stops when a full pass occurs with no swaps, meaning the list is sorted.\n",
        "\n",
        "\n",
        "Characteristics:\n",
        "\n",
        "1. Bubble sort is named for the way larger elements \"bubble\" to the top of the list.\n",
        "\n",
        "2. It is a stable sorting algorithm.\n",
        "\n",
        "3. It is easy to understand and implement, making it a popular educational tool.\n",
        "\n",
        "4. However, it is inefficient for large datasets because its average and worst-case time complexity is 0(n^2) where n is the number of elements."
      ],
      "metadata": {
        "id": "fWAtOx7mmACm"
      }
    },
    {
      "cell_type": "code",
      "source": [
        "# for ascending order\n",
        "def bubble_sort(arr):\n",
        "  n=len(arr)\n",
        "  for i in range(n):\n",
        "    is_swap=False\n",
        "    for j in range((n-1)-i):\n",
        "      if(arr[j]>arr[j+1]):\n",
        "        arr[j],arr[j+1]=arr[j+1],arr[j]\n",
        "        is_swap=True\n",
        "    if is_swap==False:\n",
        "      return arr\n",
        "  return arr\n",
        "arr=[3,4,2,5,8,6,9,10]\n",
        "print(bubble_sort(arr))\n",
        "\n",
        "# for desending order\n",
        "def bubble_sort(arr):\n",
        "  n=len(arr)\n",
        "  for i in range(n):\n",
        "    is_swap=False\n",
        "    for j in range((n-1)-i):\n",
        "      if(arr[j]<arr[j+1]):\n",
        "        arr[j],arr[j+1]=arr[j+1],arr[j]\n",
        "        is_swap=True\n",
        "    if is_swap==False:\n",
        "      return arr\n",
        "  return arr\n",
        "arr=[3,4,2,5,8,6,9,10]\n",
        "print(bubble_sort(arr))"
      ],
      "metadata": {
        "colab": {
          "base_uri": "https://localhost:8080/"
        },
        "id": "jAFAYS_0l_tl",
        "outputId": "fb45d409-db6e-4a9d-8287-90578fb37f97"
      },
      "execution_count": null,
      "outputs": [
        {
          "output_type": "stream",
          "name": "stdout",
          "text": [
            "[2, 3, 4, 5, 6, 8, 9, 10]\n",
            "[10, 9, 8, 6, 5, 4, 3, 2]\n"
          ]
        }
      ]
    },
    {
      "cell_type": "markdown",
      "source": [
        "### Selection Sort :\n",
        "\n",
        "Selection sort is a simple, comparison-based, in-place sorting algorithm that works by repeatedly selecting the smallest (or largest) element from the unsorted portion of the array and swapping it with the first unsorted element. This process gradually builds a sorted section at the beginning of the array until the entire list is sorted.\n",
        "\n",
        "\n",
        "How Selection Sort Works:\n",
        "\n",
        "1. The array is conceptually divided into two parts: the sorted part at the beginning and the unsorted part at the end.\n",
        "\n",
        "2. Initially, the sorted part is empty, and the unsorted part contains all elements.\n",
        "\n",
        "3. In each iteration, the algorithm scans the unsorted part to find the minimum element.\n",
        "\n",
        "4. It then swaps this minimum element with the first element of the unsorted part, effectively growing the sorted portion by one element.\n",
        "\n",
        "5. This repeats, moving the boundary between sorted and unsorted parts one element to the right each time, until the entire array is sorted.\n",
        "\n",
        "\n",
        "> **Time Complexity\tBest, Average, Worst: O(n^2)**\n",
        "\n",
        ">**Space Complexity:\tO(1) (in-place)**\n",
        "\n",
        ">**Stability\tNot stable (swapping may reorder equal elements)**\n"
      ],
      "metadata": {
        "id": "H5WPQWVOt_Qg"
      }
    },
    {
      "cell_type": "code",
      "source": [
        "# for ascending order\n",
        "def selection_sort(arr):\n",
        "  n=len(arr)\n",
        "  for i in range(n):\n",
        "    min_index=i\n",
        "    for j in range(i+1,n):\n",
        "      if(arr[j]<arr[min_index]):\n",
        "        min_index=j\n",
        "    arr[i],arr[min_index]=arr[min_index],arr[i]\n",
        "  return arr\n",
        "arr=[3,4,2,5,8,6,9,10]\n",
        "print(\"For Ascending Order: \",selection_sort(arr))\n",
        "\n",
        "# for desending order\n",
        "def selection_sort(arr):\n",
        "  n=len(arr)\n",
        "  for i in range(n):\n",
        "    min_index=i\n",
        "    for j in range(i+1,n):\n",
        "      if(arr[j]>arr[min_index]):\n",
        "        min_index=j\n",
        "    arr[i],arr[min_index]=arr[min_index],arr[i]\n",
        "  return arr\n",
        "arr=[3,4,2,5,8,6,9,10]\n",
        "print(\"For Desending Order: \",selection_sort(arr))"
      ],
      "metadata": {
        "colab": {
          "base_uri": "https://localhost:8080/"
        },
        "id": "Emr8J_Tht-9Z",
        "outputId": "5e989d2f-445b-4a19-ef5b-1f2ffb7f2ad1"
      },
      "execution_count": null,
      "outputs": [
        {
          "output_type": "stream",
          "name": "stdout",
          "text": [
            "For Ascending Order:  [2, 3, 4, 5, 6, 8, 9, 10]\n",
            "For Desending Order:  [10, 9, 8, 6, 5, 4, 3, 2]\n"
          ]
        }
      ]
    },
    {
      "cell_type": "markdown",
      "source": [
        "### Insertion Sort:\n",
        "\n",
        "Insertion sort is a straightforward, comparison-based sorting algorithm that builds the final sorted array one element at a time by inserting each new element into its correct position within an already sorted subsection of the array.\n",
        "\n",
        "\n",
        "Step-by-Step Process:\n",
        "\n",
        "1. Consider the first element as sorted.\n",
        "\n",
        "2. Pick the next element.\n",
        "\n",
        "3. Compare it with elements in the sorted sub-list.\n",
        "\n",
        "4. Shift all larger elements in the sorted sub-list one position to the right.\n",
        "\n",
        "5. Insert the picked element into the correct position.\n",
        "\n",
        "6. Repeat until all elements are processed.\n",
        "\n",
        "\n",
        ">Best Case Time: O(n) (when array is already sorted)\n",
        "\n",
        ">Average Case Time:\tO(n^2)\n",
        "\n",
        ">Worst Case Time:\tO(n^2) (when array is reverse sorted)\n",
        "\n",
        ">Space Complexity:\tO(1) (in-place sorting)\n",
        "\n",
        ">Stability:\tStable (preserves relative order of equal elements)"
      ],
      "metadata": {
        "id": "ANLIYinf4viM"
      }
    },
    {
      "cell_type": "code",
      "source": [
        "# for ascending order\n",
        "def insertion_sort(arr):\n",
        "  n=len(arr)\n",
        "  for i in range(1,n):\n",
        "    current_element=arr[i]\n",
        "    previous_index=i-1\n",
        "    while(previous_index>=0 and arr[previous_index]>current_element):\n",
        "      arr[previous_index+1]=arr[previous_index]\n",
        "      previous_index-=1\n",
        "    arr[previous_index+1]=current_element\n",
        "  return arr\n",
        "arr=[3,4,2,5,8,6,9,10]\n",
        "print(insertion_sort(arr))\n",
        "\n",
        "# for descending order\n",
        "def insertion_sort(arr):\n",
        "  n=len(arr)\n",
        "  for i in range(1,n):\n",
        "    current_element=arr[i]\n",
        "    previous_index=i-1\n",
        "    while(previous_index>=0 and arr[previous_index]<current_element):\n",
        "      arr[previous_index+1]=arr[previous_index]\n",
        "      previous_index-=1\n",
        "    arr[previous_index+1]=current_element\n",
        "  return arr\n",
        "arr=[3,4,2,5,8,6,9,10]\n",
        "print(insertion_sort(arr))"
      ],
      "metadata": {
        "colab": {
          "base_uri": "https://localhost:8080/"
        },
        "id": "Uk1xSG9D4vLc",
        "outputId": "0c84d371-e040-464d-c320-767f81eb05d6"
      },
      "execution_count": null,
      "outputs": [
        {
          "output_type": "stream",
          "name": "stdout",
          "text": [
            "[2, 3, 4, 5, 6, 8, 9, 10]\n",
            "[10, 9, 8, 6, 5, 4, 3, 2]\n"
          ]
        }
      ]
    },
    {
      "cell_type": "code",
      "source": [
        "def bubble_sort(arr):\n",
        "  n=len(arr)\n",
        "  for i in range(n):\n",
        "    is_swap=False\n",
        "    for j in range((n-1)-i):\n",
        "      if(arr[j]>arr[j+1]):\n",
        "        arr[j],arr[j+1]=arr[j+1],arr[j]\n",
        "        is_swap=True\n",
        "    if(is_swap==False):\n",
        "      return arr\n",
        "  return arr\n",
        "\n",
        "\n",
        "def selection_sort(arr):\n",
        "  n=len(arr)\n",
        "  for i in range(n):\n",
        "    min_index=i\n",
        "    for j in range(i+1,n):\n",
        "      if(arr[j]<arr[min_index]):\n",
        "        min_index=j\n",
        "    arr[i],arr[min_index]=arr[min_index],arr[i]\n",
        "  return arr\n",
        "\n",
        "def insertion_sort(arr):\n",
        "  n=len(arr)\n",
        "  for i in range(1,n):\n",
        "    curr=arr[i]\n",
        "    pre_idx=i-1\n",
        "    while(pre_idx>=0 and arr[pre_idx]>curr):\n",
        "      arr[pre_idx+1]=arr[pre_idx]\n",
        "      pre_idx-=1\n",
        "    arr[pre_idx+1]=curr\n",
        "  return arr\n",
        "arr=[3,4,2,5,8,6,9,10]\n",
        "print(\"Bubble Sort: \",bubble_sort(arr))\n",
        "print(\"Selection Sort: \",selection_sort(arr))\n",
        "print(\"Insertion Sort: \",insertion_sort(arr))"
      ],
      "metadata": {
        "colab": {
          "base_uri": "https://localhost:8080/"
        },
        "id": "c-iLZlANCwp_",
        "outputId": "4a3e5685-bf5b-470e-970f-15cc185f3792"
      },
      "execution_count": null,
      "outputs": [
        {
          "output_type": "stream",
          "name": "stdout",
          "text": [
            "Bubble Sort:  [2, 3, 4, 5, 6, 8, 9, 10]\n",
            "Selection Sort:  [2, 3, 4, 5, 6, 8, 9, 10]\n",
            "Insertion Sort:  [2, 3, 4, 5, 6, 8, 9, 10]\n"
          ]
        }
      ]
    },
    {
      "cell_type": "markdown",
      "source": [
        "### Lesson 07:\n",
        "\n",
        "Masterning sorting in python: practial problem-solving with built in functions\n"
      ],
      "metadata": {
        "id": "TROez5OVKosS"
      }
    },
    {
      "cell_type": "code",
      "source": [
        "tuples=[(2,3),(3,3),(5,3),(4,3)]\n",
        "print(sorted(tuples,key=lambda x:x[1]))\n",
        "tuples.sort(key=lambda x: (x[1],x[0]))\n",
        "print(tuples)"
      ],
      "metadata": {
        "colab": {
          "base_uri": "https://localhost:8080/"
        },
        "id": "rfd2bz_YKlkU",
        "outputId": "fd8876fd-d110-4d76-9ffa-f3b360dc7433"
      },
      "execution_count": null,
      "outputs": [
        {
          "output_type": "stream",
          "name": "stdout",
          "text": [
            "[(2, 3), (3, 3), (5, 3), (4, 3)]\n",
            "[(2, 3), (3, 3), (4, 3), (5, 3)]\n"
          ]
        }
      ]
    },
    {
      "cell_type": "markdown",
      "source": [
        "### Lesson 08:"
      ],
      "metadata": {
        "id": "VZSXrL7r0UF1"
      }
    },
    {
      "cell_type": "code",
      "source": [
        "import random\n",
        "\n",
        "def find_kth_smallest(numbers, k):\n",
        "    if numbers:\n",
        "        pos = partition(numbers, 0, len(numbers) - 1)\n",
        "        if k - 1 == pos:\n",
        "            # The pivot is the k-th element after partitioning\n",
        "            return numbers[pos]\n",
        "        elif k - 1 < pos:\n",
        "            # The pivot index after partitioning is larger than k\n",
        "            # We'll keep searching in the left part\n",
        "            return find_kth_smallest(numbers[:pos], k)\n",
        "        else:\n",
        "            # The pivot index after partitioning is smaller than k\n",
        "            # We'll keep searching in the right part\n",
        "            return find_kth_smallest(numbers[pos + 1:], k - pos-1)\n",
        "\n",
        "def partition(nums, l, r):\n",
        "    # Choosing a random index to make the algorithm less deterministic\n",
        "    rand_index = random.randint(l, r)\n",
        "    nums[l], nums[rand_index] = nums[rand_index], nums[l]\n",
        "    pivot_index = l\n",
        "    for i in range(l + 1, r + 1):\n",
        "        if nums[i] <= nums[l]:\n",
        "            pivot_index += 1\n",
        "            nums[i], nums[pivot_index] = nums[pivot_index], nums[i]\n",
        "    nums[pivot_index], nums[l] = nums[l], nums[pivot_index]\n",
        "    return pivot_index\n",
        "arr=[3,4,2,5,8,6,9,10]\n",
        "print(find_kth_smallest(arr,1))"
      ],
      "metadata": {
        "colab": {
          "base_uri": "https://localhost:8080/"
        },
        "id": "0_3vkA9e0Tzb",
        "outputId": "4cea092c-ba5a-48de-c08f-76a26300acee"
      },
      "execution_count": null,
      "outputs": [
        {
          "output_type": "stream",
          "name": "stdout",
          "text": [
            "2\n"
          ]
        }
      ]
    },
    {
      "cell_type": "code",
      "source": [
        "def count_inversions(arr):\n",
        "    # The code is very similar to the merge_sort implementation\n",
        "    # The main difference lies in the merge_count_inversions function\n",
        "    if len(arr) <= 1:\n",
        "        return arr, 0\n",
        "    else:\n",
        "        middle = int(len(arr) / 2)\n",
        "        left, a = count_inversions(arr[:middle])\n",
        "        right, b = count_inversions(arr[middle:])\n",
        "        result, c = merge_count_inversions(left, right)\n",
        "        return result, (a + b +c)\n",
        "\n",
        "def merge_count_inversions(x, y):\n",
        "    count = 0\n",
        "    i, j = 0, 0\n",
        "    merged = []\n",
        "    while i < len(x) and j < len(y):\n",
        "        if x[i] <= y[j]:\n",
        "            merged.append(x[i])\n",
        "            i += 1\n",
        "        else:\n",
        "            merged.append(y[j])\n",
        "            print(x[i],y[j])\n",
        "            j += 1\n",
        "            # Here, we update the number of inversions\n",
        "            # Every element from x[i:] and y[j] forms an inversion\n",
        "            count += (len(x) - i)\n",
        "\n",
        "    merged += x[i:]\n",
        "    merged += y[j:]\n",
        "    return merged, count\n",
        "\n",
        "arr=[3,4,2]\n",
        "print(count_inversions(arr))"
      ],
      "metadata": {
        "colab": {
          "base_uri": "https://localhost:8080/"
        },
        "id": "M0vZhZJ55IEQ",
        "outputId": "54f4d7c2-bb1d-452d-a288-64d6e9356ef8"
      },
      "execution_count": null,
      "outputs": [
        {
          "output_type": "stream",
          "name": "stdout",
          "text": [
            "4 2\n",
            "1\n",
            "3 2\n",
            "1\n",
            "([2, 3, 4], 2)\n"
          ]
        }
      ]
    },
    {
      "cell_type": "code",
      "source": [
        "import random\n",
        "\n",
        "def find_kth_smallest(numbers, k):\n",
        "    if numbers:\n",
        "        pos = partition(numbers, 0, len(numbers) - 1)\n",
        "        if k - 1 == pos:\n",
        "            # The pivot is the k-th element after partitioning\n",
        "            return numbers[pos]\n",
        "        elif k - 1 < pos:\n",
        "            # The pivot index after partitioning is larger than k\n",
        "            # We'll keep searching in the left part\n",
        "            return find_kth_smallest(numbers[:pos], k)\n",
        "        else:\n",
        "            # The pivot index after partitioning is smaller than k\n",
        "            # We'll keep searching in the right part\n",
        "            return find_kth_smallest(numbers[pos + 1:], k - pos-1)\n",
        "\n",
        "def partition(nums, l, r):\n",
        "    # Choosing a random index to make the algorithm less deterministic\n",
        "    rand_index = random.randint(l, r)\n",
        "    nums[l], nums[rand_index] = nums[rand_index], nums[l]\n",
        "    pivot_index = l\n",
        "    for i in range(l + 1, r + 1):\n",
        "        if nums[i] >= nums[l]:\n",
        "            pivot_index += 1\n",
        "            nums[i], nums[pivot_index] = nums[pivot_index], nums[i]\n",
        "    nums[pivot_index], nums[l] = nums[l], nums[pivot_index]\n",
        "    return pivot_index\n",
        "arr=[3,4,2,5,8,6,9,10]\n",
        "print(find_kth_smallest(arr,))"
      ],
      "metadata": {
        "colab": {
          "base_uri": "https://localhost:8080/"
        },
        "id": "A4BkyOOk9wr6",
        "outputId": "5ea22fe9-d00d-4666-cd37-bd98b36418c7"
      },
      "execution_count": null,
      "outputs": [
        {
          "output_type": "stream",
          "name": "stdout",
          "text": [
            "8\n"
          ]
        }
      ]
    },
    {
      "cell_type": "code",
      "source": [
        "def count_inversions(arr):\n",
        "    # The code is very similar to the merge_sort implementation\n",
        "    # The main difference lies in the merge_count_inversions function\n",
        "    if len(arr) <= 1:\n",
        "        return arr, 0\n",
        "    else:\n",
        "        middle = int(len(arr) / 2)\n",
        "        left, a = count_inversions(arr[:middle])\n",
        "        right, b = count_inversions(arr[middle:])\n",
        "        result, c = merge_count_inversions(left, right)\n",
        "        return result, (a + b +c)\n",
        "\n",
        "def merge_count_inversions(x, y):\n",
        "    count = 0\n",
        "    i, j = 0, 0\n",
        "    merged = []\n",
        "    while i < len(x) and j < len(y):\n",
        "        if x[i] <= y[j]:\n",
        "            merged.append(x[i])\n",
        "            i += 1\n",
        "            count += (len(y) - j)\n",
        "        else:\n",
        "            merged.append(y[j])\n",
        "            print(x[i],y[j])\n",
        "            j += 1\n",
        "            # Here, we update the number of inversions\n",
        "            # Every element from x[i:] and y[j] forms an inversion\n",
        "\n",
        "    merged += x[i:]\n",
        "    merged += y[j:]\n",
        "    return merged, count\n",
        "\n",
        "arr=[3,4,2]\n",
        "print(count_inversions(arr))"
      ],
      "metadata": {
        "colab": {
          "base_uri": "https://localhost:8080/"
        },
        "id": "6dH3vlra7PBr",
        "outputId": "4c2e0bd2-eba3-4dec-f49a-a6a37c7423f3"
      },
      "execution_count": null,
      "outputs": [
        {
          "output_type": "stream",
          "name": "stdout",
          "text": [
            "4 2\n",
            "3 2\n",
            "([2, 3, 4], 1)\n"
          ]
        }
      ]
    }
  ]
}