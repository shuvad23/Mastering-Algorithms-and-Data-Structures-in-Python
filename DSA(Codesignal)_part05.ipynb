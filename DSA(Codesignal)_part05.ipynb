{
  "nbformat": 4,
  "nbformat_minor": 0,
  "metadata": {
    "colab": {
      "provenance": [],
      "authorship_tag": "ABX9TyN4pVGPaOCZ5sj2B4L07Qzo",
      "include_colab_link": true
    },
    "kernelspec": {
      "name": "python3",
      "display_name": "Python 3"
    },
    "language_info": {
      "name": "python"
    }
  },
  "cells": [
    {
      "cell_type": "markdown",
      "metadata": {
        "id": "view-in-github",
        "colab_type": "text"
      },
      "source": [
        "<a href=\"https://colab.research.google.com/github/shuvad23/Mastering-Algorithms-and-Data-Structures-in-Python/blob/main/DSA(Codesignal)_part05.ipynb\" target=\"_parent\"><img src=\"https://colab.research.google.com/assets/colab-badge.svg\" alt=\"Open In Colab\"/></a>"
      ]
    },
    {
      "cell_type": "markdown",
      "source": [
        "#Graph Algorithms\n",
        "\n",
        "1. What is a Graph?\n",
        "\n",
        ">A graph is a collection of:\n",
        "- Vertices (V): nodes (points).\n",
        "- Edges (E): connections between nodes.\n",
        "- Notation: G = (V, E)\n",
        "---\n",
        "2. Types of Graphs\n",
        "\n",
        ">By Edge Direction\n",
        "- Undirected Graph → edges have no direction.\n",
        "- Directed Graph (Digraph) → edges have direction (u → v).\n",
        "\n",
        ">By Edge Weights\n",
        "- Unweighted Graph → all edges have equal weight.\n",
        "- Weighted Graph → edges have weights (costs, distances, time).\n",
        "\n",
        ">By Cycles\n",
        "- Cyclic Graph → has at least one cycle.\n",
        "- Acyclic Graph → no cycles (special case: DAG = Directed Acyclic Graph).\n",
        "\n",
        ">Special Types\n",
        "- Tree: A connected acyclic graph.\n",
        "- Complete Graph: Every vertex is connected to all others.\n",
        "- Bipartite Graph: Vertices can be divided into two disjoint sets with no edges within the same set.\n",
        "---\n",
        "\n",
        "3. Graph Representation in Code\n",
        "- Adjacency Matrix (2D array, good for dense graphs).\n",
        "- Adjacency List (vector of lists, best for sparse graphs).\n",
        "\n",
        "---\n",
        "\n",
        "4. Basic Graph Algorithms\n",
        "- Depth First Search (DFS)\n",
        "- Breadth First Search (BFS)\n",
        "\n",
        "---\n",
        "\n",
        "5. Shortest Path Algorithms\n",
        "\n",
        "- Dijkstra’s Algorithm (non-negative weights)\n",
        "- Bellman-Ford (handles negative weights)\n",
        "  - Relax edges V-1 times.\n",
        "  - Detect negative weight cycle.\n",
        "\n",
        "- Floyd-Warshall (all-pairs shortest paths)\n",
        "  - Dynamic programming approach.\n",
        "  - Time complexity: O(V³).\n",
        "\n",
        "---\n",
        "6. Minimum Spanning Tree (MST)\n",
        "- Prim’s Algorithm → Grow tree one edge at a time (greedy).\n",
        "- Kruskal’s Algorithm → Use DSU (Disjoint Set Union) to add smallest edges without cycles.\n",
        "---\n",
        "\n",
        "7. Other Important Algorithms\n",
        "\n",
        "- Topological Sort → ordering in DAG.\n",
        "  - (Applications: course scheduling, compiler dependency resolution).\n",
        "\n",
        "- Cycle Detection\n",
        "  - DFS for directed graphs.\n",
        "  - Union-Find (DSU) for undirected graphs.\n",
        "\n",
        "- Strongly Connected Components (SCC)\n",
        "  - Kosaraju’s Algorithm\n",
        "  - Tarjan’s Algorithm\n",
        "\n",
        "- Network Flow\n",
        "  - Ford-Fulkerson / Edmonds-Karp → Maximum flow in a graph.\n",
        "\n",
        "---\n",
        "\n",
        "8. Time Complexities (Quick Reference)\n",
        "- Algorithm\t  Time Complexity\n",
        "- BFS / DFS\t -  O(V + E)\n",
        "- Dijkstra (PQ)\t- O((V+E) log V)\n",
        "- Bellman-Ford\t- O(V × E)\n",
        "- Floyd-Warshall\t- O(V³)\n",
        "- Prim’s (PQ)\t- O(E log V)\n",
        "- Kruskal’s\t- O(E log E)\n",
        "- Topological Sort -\tO(V + E)\n"
      ],
      "metadata": {
        "id": "ovvJjHmFQ73R"
      }
    },
    {
      "cell_type": "code",
      "execution_count": null,
      "metadata": {
        "colab": {
          "base_uri": "https://localhost:8080/"
        },
        "id": "WTjwehSWlxP6",
        "outputId": "837e7614-bd30-4016-e79a-5964b519213b"
      },
      "outputs": [
        {
          "output_type": "stream",
          "name": "stdout",
          "text": [
            "[0, 1, 0, 0]\n",
            "[1, 0, 1, 0]\n",
            "[0, 1, 0, 0]\n",
            "[0, 0, 0, 0]\n",
            "User 0 and User 2 may know each other.\n"
          ]
        }
      ],
      "source": [
        "users = 4  # 4 users: A: 0, B: 1, C: 2, D: 3\n",
        "M = [[0] * users for _ in range(users)]\n",
        "\n",
        "# Add friendships, A-B and B-C\n",
        "M[0][1] = M[1][0] = 1\n",
        "M[1][2] = M[2][1] = 1\n",
        "\n",
        "# Print the adjacency matrix\n",
        "for row in M:\n",
        "    print(row)\n",
        "\n",
        "# Output:\n",
        "# [0, 1, 0, 0]\n",
        "# [1, 0, 1, 0]\n",
        "# [0, 1, 0, 0]\n",
        "# [0, 0, 0, 0]\n",
        "\n",
        "# Check for friend suggestions\n",
        "for i in range(users):\n",
        "    for j in range(i + 1, users):\n",
        "        # 📌 What's happening here?\n",
        "        # For every unique pair of users i and j:\n",
        "        # Skip if they're already friends: M[i][j] == 1\n",
        "        # Check if they have a mutual friend:\n",
        "        if i != j and M[i][j] == 0 and any((M[i][k] == 1 and M[k][j] == 1) for k in range(users)):\n",
        "            # This checks if user i is friends with k AND k is friends with j → meaning k is a mutual friend.\n",
        "            print(f\"User {i} and User {j} may know each other.\")\n",
        "\n",
        "# Output:\n",
        "# User 0 and User 2 may know each other.\n",
        "\n",
        "\n",
        "\n",
        "\n",
        "# ✅ Summary:\n",
        "# This code models friendships using a matrix.\n",
        "# It then checks for indirect connections (i.e., mutual friends).\n",
        "# If two users aren't friends but have a common friend, it suggests: \"You may know each other.\"\n",
        "# Like how Facebook or LinkedIn might suggest new connections."
      ]
    },
    {
      "cell_type": "code",
      "source": [
        "users = 5  # 4 users: A: 0, B: 1, C: 2, D: 3,F: 4\n",
        "M = [[0] * users for _ in range(users)]\n",
        "\n",
        "# Add friendships, A-D,D-B,C-B,B-F\n",
        "M[0][3] = M[3][0] = 1\n",
        "M[3][1] = M[1][3] = 1\n",
        "M[2][1] = M[1][2] = 1\n",
        "M[1][4] = M[4][1] = 1\n",
        "\n",
        "# Print the adjacency matrix\n",
        "for row in M:\n",
        "    print(row)\n",
        "\n",
        "# Output:\n",
        "# [0, 0, 0, 1, 0]\n",
        "# [0, 0, 1, 1, 1]\n",
        "# [0, 1, 0, 0, 0]\n",
        "# [1, 1, 0, 0, 0]\n",
        "# [0, 1, 0, 0, 0]\n",
        "\n",
        "# Check for friend suggestions\n",
        "for i in range(users):\n",
        "    # for j in range(i + 1, users):\n",
        "    for j in range(i+1, users):\n",
        "        # 📌 What's happening here?\n",
        "        # For every unique pair of users i and j:\n",
        "        # Skip if they're already friends: M[i][j] == 1\n",
        "        # Check if they have a mutual friend:\n",
        "        if i != j and M[i][j] == 0 and any((M[i][k] == 1 and M[k][j] == 1) for k in range(users)):\n",
        "            # This checks if user i is friends with k AND k is friends with j → meaning k is a mutual friend.\n",
        "            print(f\"User {i} and User {j} may know each other.\")\n",
        "\n",
        "# Output:\n",
        "# User 0 and User 1 may know each other.\n",
        "# User 2 and User 3 may know each other.\n",
        "# User 2 and User 4 may know each other.\n",
        "# User 3 and User 4 may know each other.\n",
        "\n",
        "\n",
        "# ✅ Summary:\n",
        "# This code models friendships using a matrix.\n",
        "# It then checks for indirect connections (i.e., mutual friends).\n",
        "# If two users aren't friends but have a common friend, it suggests: \"You may know each other.\"\n",
        "# Like how Facebook or LinkedIn might suggest new connections."
      ],
      "metadata": {
        "colab": {
          "base_uri": "https://localhost:8080/"
        },
        "id": "f0NoDzaYoCpj",
        "outputId": "eaa21f2b-8a48-4f6a-a43b-cabfdfe2b4f1"
      },
      "execution_count": null,
      "outputs": [
        {
          "output_type": "stream",
          "name": "stdout",
          "text": [
            "[0, 0, 0, 1, 0]\n",
            "[0, 0, 1, 1, 1]\n",
            "[0, 1, 0, 0, 0]\n",
            "[1, 1, 0, 0, 0]\n",
            "[0, 1, 0, 0, 0]\n",
            "User 0 and User 1 may know each other.\n",
            "User 2 and User 3 may know each other.\n",
            "User 2 and User 4 may know each other.\n",
            "User 3 and User 4 may know each other.\n"
          ]
        }
      ]
    },
    {
      "cell_type": "code",
      "source": [
        "# Let's consider a different graph for 5 people: A: 0, B: 1, C: 2, D: 3, E: 4\n",
        "# A is friends with B and C\n",
        "# B is friends with A, C and D\n",
        "# C is friends with A, B and E\n",
        "# D is friends with B\n",
        "# E is friends with C\n",
        "\n",
        "# Number of people\n",
        "n = 5\n",
        "users = ['A', 'B', 'C', 'D', 'E']\n",
        "\n",
        "# Initialize the adjacency matrix\n",
        "M = [[0] * n for _ in range(n)]\n",
        "\n",
        "# Map the relationships\n",
        "# A\n",
        "M[0][1] = M[0][2] = 1\n",
        "# B\n",
        "M[1][0] = M[1][2] = M[1][3] = 1\n",
        "# C\n",
        "M[2][0] = M[2][1] = M[2][4] = 1\n",
        "# D\n",
        "M[3][1] = 1\n",
        "# E\n",
        "M[4][2] = 1\n",
        "\n",
        "# Print the Graph\n",
        "for row in range(n):\n",
        "    print(M[row])\n",
        "\n",
        "# Suggest friends for each user, avoiding cases where users are suggested to be friends with themselves\n",
        "for i in range(n):\n",
        "    for j in range(n):\n",
        "        if i != j:\n",
        "            if M[i][j] == 0 and any(M[i][k] and M[k][j] for k in range(n)):\n",
        "                print(\n",
        "                    f\"Based on the mutual friends, \"\n",
        "                    f\"User {users[i]} and User {users[j]} may know each other.\"\n",
        "                )"
      ],
      "metadata": {
        "colab": {
          "base_uri": "https://localhost:8080/"
        },
        "id": "oK-y_jLyruuz",
        "outputId": "955938ed-749d-4ebe-886f-f255edf2486c"
      },
      "execution_count": null,
      "outputs": [
        {
          "output_type": "stream",
          "name": "stdout",
          "text": [
            "[0, 1, 1, 0, 0]\n",
            "[1, 0, 1, 1, 0]\n",
            "[1, 1, 0, 0, 1]\n",
            "[0, 1, 0, 0, 0]\n",
            "[0, 0, 1, 0, 0]\n",
            "Based on the mutual friends, User A and User D may know each other.\n",
            "Based on the mutual friends, User A and User E may know each other.\n",
            "Based on the mutual friends, User B and User E may know each other.\n",
            "Based on the mutual friends, User C and User D may know each other.\n",
            "Based on the mutual friends, User D and User A may know each other.\n",
            "Based on the mutual friends, User D and User C may know each other.\n",
            "Based on the mutual friends, User E and User A may know each other.\n",
            "Based on the mutual friends, User E and User B may know each other.\n"
          ]
        }
      ]
    },
    {
      "cell_type": "markdown",
      "source": [
        "📌 Definition\n",
        "\n",
        ">An adjacency list represents a graph as an array (or vector) of lists, where:\n",
        "- Each index of the array corresponds to a vertex in the graph.\n",
        "- The list at that index stores all the vertices directly connected to it by an edge.\n",
        "\n",
        "👉 It is especially efficient for sparse graphs (graphs with relatively few edges)."
      ],
      "metadata": {
        "id": "wfCEVEKhVBrL"
      }
    },
    {
      "cell_type": "code",
      "source": [],
      "metadata": {
        "id": "zurs1Bj2TmK9"
      },
      "execution_count": null,
      "outputs": []
    },
    {
      "cell_type": "markdown",
      "source": [
        "### Understanding DFS\n",
        "\n",
        ">Depth-First Search or DFS is an algorithmic solution for traversing or searching through tree data structures or graph nodes. Its strategy of diving as deep as possible into a graph's branch before backtracking inspired its nomenclature.\n",
        "\n",
        ">Let’s visualize a familiar scenario for a moment. Suppose we're playing a video game situated in a complex map, loaded with winding paths and hidden rooms. You opt for a path and continue walking until you encounter a dead end. What's the next move? You revert, select another available path, and persist with this procedure until all possible paths are traversed — that’s DFS for you!"
      ],
      "metadata": {
        "id": "rui5jIYonP2G"
      }
    },
    {
      "cell_type": "markdown",
      "source": [
        "1. Mark the current node as 'visited' and print the node.\n",
        "2. For every adjacent unvisited node of the current node:\n",
        "    - 2.1. Invoke the recursive DFS function.\n",
        "\n",
        "\n",
        ">Discussing DFS's time and space complexity is pivotal to understanding an algorithm's efficiency. The time complexity of DFS is\n",
        "O(V+E), where V indicates the number of vertices, and E represents the number of edges (connections between vertices) in the graph. The space complexity is O(V), considering the storage of the visited nodes."
      ],
      "metadata": {
        "id": "HculVaQyngoZ"
      }
    },
    {
      "cell_type": "markdown",
      "source": [
        "#### Analyzing DFS\n",
        ">DFS's versatility makes it a powerful tool with a broad spectrum of applications. On a higher level, DFS excels in problems related to the establishment of connections within graphs and the discovery of pathways between two nodes. In terms of time efficiency, DFS thrives on densely connected graphs where the probability of finding the target quickly exceeds that of BFS.\n",
        "\n",
        ">However, all tools have their limitations and nuances. DFS does not perform optimally in problems necessitating the shortest path, such as GPS routing problems, where BFS is a superior choice. Additionally, DFS requires careful management when dealing with cycles within the graph, as it could end up in an infinite loop without effective control over the visited nodes.\n",
        "\n",
        "\n",
        "#### Application of DFS to Real-life Scenarios\n",
        ">Having mastered the DFS algorithm, let's delve into its real-world applications. One significant application of DFS is in the domain of computer games. Envision a scenario where you are an explorer venturing through a mythical jungle in search of sacred artifacts scattered across a complex network of trails filled with obstacles and rewards. To ensure a unique route is chosen each time, the game could employ DFS to steer your game character through the virtual jungle.\n",
        "\n",
        ">Another intriguing application of DFS lies within the social network domain. DFS algorithms could navigate a connection web from a known user to an unknown user. Using DFS, developers can innovate a feature showcasing how two users are connected through mutual connections on the platform, similar to LinkedIn's feature that displays how a user is connected to another user through mutual connections.\n",
        "\n",
        "\n",
        "#### DFS for Cycle Detection\n",
        ">One practical use of DFS is determining whether a graph contains a cycle. If we encounter a previously visited node while executing DFS, then a cycle exists in the graph.\n",
        "\n",
        "#### DFS for Pathfinding\n",
        ">DFS can also be deployed for pathfinding. Suppose we have a maze represented as a graph, and the goal is to find a path from one corner to another. The DFS algorithm would enable exploration of paths, selecting a path, and following it to the farthest point until a dead-end is reached before reverting and attempting the next available path until the destination is reached. Each move marks the node as visited and the path taken is retained.\n",
        "\n",
        ">However, while DFS can help locate a path, it does not guarantee the most efficient or shortest path. In scenarios requiring the shortest path, we would utilize another algorithm, like BFS or Dijkstra's algorithm."
      ],
      "metadata": {
        "id": "NOPt8t-RtRur"
      }
    },
    {
      "cell_type": "code",
      "source": [
        "def dfs(graph, start, visited):\n",
        "    visited.add(start)\n",
        "    print(start, end= \" \")\n",
        "\n",
        "    for neighbor in graph[start]:\n",
        "        if neighbor not in visited:\n",
        "            dfs(graph, neighbor, visited)\n",
        "\n",
        "grahp ={\n",
        "    'A': ['B', 'C'],\n",
        "    'B': ['E','D'],\n",
        "    'C': ['H','I'],\n",
        "    'D': ['G'],\n",
        "    'E': ['F','M'],\n",
        "    'F': ['M'],\n",
        "    'M': [],\n",
        "    'G': [],\n",
        "    'H': ['J','K'],\n",
        "    'I': ['L'],\n",
        "    'J': [],\n",
        "    'K': [],\n",
        "    'L': []\n",
        "}\n",
        "\n",
        "visited = set()\n",
        "dfs(grahp, 'A', visited)\n"
      ],
      "metadata": {
        "colab": {
          "base_uri": "https://localhost:8080/"
        },
        "id": "4DxpafbNnPda",
        "outputId": "8b65a4dc-91d2-43d7-861a-8d7135286b0d"
      },
      "execution_count": null,
      "outputs": [
        {
          "output_type": "stream",
          "name": "stdout",
          "text": [
            "A B E F M D G C H J K I L "
          ]
        }
      ]
    },
    {
      "cell_type": "code",
      "source": [
        "graph = {\n",
        "    'Washington': set(['California', 'Nevada']),\n",
        "    'California': set(['Washington', 'Oregon']),\n",
        "    'Nevada': set(['Washington', 'Oregon']),\n",
        "    'Oregon': set(['California', 'Nevada'])\n",
        "}\n",
        "\n",
        "def DFS(graph, start, visited):\n",
        "    if start in visited:  # if the node has already been visited, just return the visited set\n",
        "        return\n",
        "\n",
        "    visited.add(start)\n",
        "    print(start, end= \" -> \")\n",
        "\n",
        "    for state in graph[start]:\n",
        "        if state not in visited:\n",
        "            DFS(graph, state, visited)\n",
        "\n",
        "# Call the DFS function starting with 'Washington'\n",
        "visited = set()\n",
        "DFS(graph, 'Washington', visited)  # Output: Washington Nevada Oregon California\n",
        "print('\\nVisited states:', visited)  # Print all visited states"
      ],
      "metadata": {
        "colab": {
          "base_uri": "https://localhost:8080/"
        },
        "id": "2FK1BQkuvdiH",
        "outputId": "cb617acd-c106-48b1-ff8a-c4499a238337"
      },
      "execution_count": null,
      "outputs": [
        {
          "output_type": "stream",
          "name": "stdout",
          "text": [
            "Washington -> Nevada -> Oregon -> California -> \n",
            "Visited states: {'Washington', 'California', 'Nevada', 'Oregon'}\n"
          ]
        }
      ]
    },
    {
      "cell_type": "markdown",
      "source": [
        "#### 1971. Find if Path Exists in Graph (Leetcode Problem)"
      ],
      "metadata": {
        "id": "gjkOIQ4d42IM"
      }
    },
    {
      "cell_type": "code",
      "source": [
        "# 1971. Find if Path Exists in Graph\n",
        "from collections import defaultdict\n",
        "from typing import List\n",
        "class Solution:\n",
        "    def validPath(self, n: int, edges: List[List[int]], source: int, destination: int) -> bool:\n",
        "\n",
        "        if source == destination:\n",
        "            return True\n",
        "\n",
        "        graph = defaultdict(list)\n",
        "        for u,v in edges:\n",
        "            graph[u].append(v)\n",
        "            graph[v].append(u)\n",
        "\n",
        "        seen = set()\n",
        "        seen.add(source)\n",
        "\n",
        "        def dfs(start):\n",
        "            if start == destination:\n",
        "                return True\n",
        "            for next_node in graph[start]:\n",
        "                if next_node not in seen:\n",
        "                    seen.add(next_node)\n",
        "                    if dfs(next_node):\n",
        "                        return True\n",
        "            return False\n",
        "\n",
        "        return dfs(source)\n",
        "\n",
        "n = 3\n",
        "edges = [[0,1],[1,2],[2,0]]\n",
        "source = 0\n",
        "destination = 2\n",
        "solution = Solution()\n",
        "solution.validPath(n, edges, source, destination)"
      ],
      "metadata": {
        "colab": {
          "base_uri": "https://localhost:8080/"
        },
        "id": "vc-cS4Fp4zzv",
        "outputId": "32b589ba-589c-4eed-dc27-e5fb52966406"
      },
      "execution_count": null,
      "outputs": [
        {
          "output_type": "execute_result",
          "data": {
            "text/plain": [
              "True"
            ]
          },
          "metadata": {},
          "execution_count": 9
        }
      ]
    },
    {
      "cell_type": "code",
      "source": [
        "# using dfs with stack (for more optimization)\n",
        "from typing import List\n",
        "from collections import defaultdict\n",
        "class Solution:\n",
        "    def validPath(self, n: int, edges: List[List[int]], source: int, destination: int) -> bool:\n",
        "\n",
        "        if source == destination:\n",
        "            return True\n",
        "\n",
        "        graph = defaultdict(list)\n",
        "        for u,v in edges:\n",
        "            graph[u].append(v)\n",
        "            graph[v].append(u)\n",
        "\n",
        "        seen = set()\n",
        "        seen.add(source)\n",
        "        stack = [source]\n",
        "\n",
        "        while stack:\n",
        "            node = stack.pop()\n",
        "            if node == destination:\n",
        "                return True\n",
        "            for next_node in graph[node]:\n",
        "                if next_node not in seen:\n",
        "                    seen.add(next_node)\n",
        "                    stack.append(next_node)\n",
        "        return False\n",
        "n = 3\n",
        "edges = [[0,1],[1,2],[2,0]]\n",
        "source = 0\n",
        "destination = 2\n",
        "solution = Solution()\n",
        "solution.validPath(n, edges, source, destination)"
      ],
      "metadata": {
        "colab": {
          "base_uri": "https://localhost:8080/"
        },
        "id": "zPwkFKSH6QpF",
        "outputId": "174a4818-6afd-49bc-c009-72121e90b10b"
      },
      "execution_count": null,
      "outputs": [
        {
          "output_type": "execute_result",
          "data": {
            "text/plain": [
              "True"
            ]
          },
          "metadata": {},
          "execution_count": 8
        }
      ]
    },
    {
      "cell_type": "markdown",
      "source": [
        ">Discovering Connected Components in a Graph Using Depth-First Search"
      ],
      "metadata": {
        "id": "fuoMvdMDI6B8"
      }
    },
    {
      "cell_type": "code",
      "source": [
        "def has_cycle_connected(graph):\n",
        "    visited = set()\n",
        "    # Starting DFS from the first vertex in the graph\n",
        "    return dfs(next(iter(graph)), visited, graph, None)\n",
        "\n",
        "def dfs(vertex, visited, graph, parent):\n",
        "    visited.add(vertex)\n",
        "\n",
        "    for neighbor in graph[vertex]:\n",
        "        if neighbor not in visited:\n",
        "            if dfs(neighbor, visited, graph, vertex):\n",
        "                return True\n",
        "        elif neighbor != parent:\n",
        "            return True\n",
        "\n",
        "    return False\n",
        "\n",
        "\n",
        "graph = {\n",
        "    'A': ['B', 'C'],\n",
        "    'B': ['A', 'C'],\n",
        "    'C': ['A', 'B'],\n",
        "}\n",
        "print(has_cycle_connected(graph))\n",
        "# Output: True"
      ],
      "metadata": {
        "colab": {
          "base_uri": "https://localhost:8080/"
        },
        "id": "Lx_QQKGH-hte",
        "outputId": "4e510329-ef96-4bbd-f7a7-2db3ab267417"
      },
      "execution_count": null,
      "outputs": [
        {
          "output_type": "stream",
          "name": "stdout",
          "text": [
            "True\n"
          ]
        }
      ]
    },
    {
      "cell_type": "markdown",
      "source": [
        ">Your mission is to create a function has_cycles(graph) that checks if there are any cycles in the graph. But here is the catch: not all the stars are connected with others with space routes, and there is a possibility that the given graph is disconnected. It basically means that there could be two or more vertices that have no path from one to another at all!\n",
        "Modify the cycle-detecting algorithm to handle such cases."
      ],
      "metadata": {
        "id": "hSlGs1pfIsqz"
      }
    },
    {
      "cell_type": "code",
      "source": [
        "def has_cycle(graph):\n",
        "    visited = set()\n",
        "    # implement this\n",
        "    for vertex in graph:\n",
        "        if vertex not in visited:\n",
        "            if dfs(vertex, visited, graph, None):\n",
        "                return True\n",
        "    return False\n",
        "\n",
        "def dfs(vertex, visited, graph, parent):\n",
        "    visited.add(vertex)\n",
        "\n",
        "    for neighbor in graph[vertex]:\n",
        "        # implement this\n",
        "        if neighbor not in visited:\n",
        "            if dfs(neighbor, visited, graph, vertex):\n",
        "                return True\n",
        "        elif neighbor != parent:\n",
        "            return True\n",
        "\n",
        "    return False\n",
        "\n",
        "# Test the function\n",
        "graph = {\n",
        "    'A': ['B', 'C'],\n",
        "    'B': ['A'],\n",
        "    'C': ['A', 'D'],\n",
        "    'D': ['C'],\n",
        "    'E': ['G', 'K'],\n",
        "    'K': ['G', 'E'],\n",
        "    'G': ['K', 'E']\n",
        "}\n",
        "print(has_cycle(graph))"
      ],
      "metadata": {
        "colab": {
          "base_uri": "https://localhost:8080/"
        },
        "id": "Co6kHg0KIcsv",
        "outputId": "6202484e-05c8-43bc-ce8c-59c55935dfbb"
      },
      "execution_count": null,
      "outputs": [
        {
          "output_type": "stream",
          "name": "stdout",
          "text": [
            "True\n"
          ]
        }
      ]
    },
    {
      "cell_type": "markdown",
      "source": [
        "#### 200. Number of Islands"
      ],
      "metadata": {
        "id": "4P-KiE9MHrlG"
      }
    },
    {
      "cell_type": "code",
      "source": [
        "# 200. Number of Islands\n",
        "class Solution:\n",
        "    def numIslands(self, grid: List[List[str]]) -> int:\n",
        "        rows, cols = len(grid), len(grid[0])\n",
        "\n",
        "        def dfs(r,c):\n",
        "            if r < 0 or r >=rows or c < 0 or c >= cols or grid[r][c] !='1':\n",
        "                return\n",
        "            else:\n",
        "                grid[r][c]=\"0\"\n",
        "                dfs(r+1,c)\n",
        "                dfs(r-1,c)\n",
        "                dfs(r,c+1)\n",
        "                dfs(r,c-1)\n",
        "\n",
        "        num_island = 0\n",
        "        for row in range(rows):\n",
        "            for col in range(cols):\n",
        "                if grid[row][col] == \"1\":\n",
        "                    num_island += 1\n",
        "                    dfs(row,col)\n",
        "\n",
        "        return num_island"
      ],
      "metadata": {
        "colab": {
          "base_uri": "https://localhost:8080/"
        },
        "id": "gNvWawFO_XlE",
        "outputId": "1e420406-ffe1-41e8-c8f8-c3586ac06061"
      },
      "execution_count": null,
      "outputs": [
        {
          "output_type": "stream",
          "name": "stdout",
          "text": [
            "True\n"
          ]
        }
      ]
    },
    {
      "cell_type": "markdown",
      "source": [
        ">BFS in graph means Breadth-First Search.\n",
        "\n",
        "It is a graph traversal algorithm used to explore nodes (vertices) and edges of a graph in a systematic way.\n",
        "\n",
        "🔹 Definition\n",
        "\n",
        "- BFS explores a graph level by level.\n",
        "\n",
        "- It starts from a given source node and visits all its neighbors first, then moves on to the neighbors’ neighbors, and so on.\n",
        "\n",
        "- It uses a queue (FIFO structure) to keep track of the next nodes to visit.\n",
        "\n",
        "🔹 Steps of BFS\n",
        "\n",
        "- Choose a starting node and mark it as visited.\n",
        "\n",
        "- Put the starting node in a queue.\n",
        "\n",
        "- While the queue is not empty:\n",
        "\n",
        "  - Remove a node from the queue.\n",
        "\n",
        "  - Visit all its unvisited neighbors.\n",
        "\n",
        "  - Mark them as visited and add them to the queue.\n",
        "\n",
        "\n",
        "🔹 Characteristics of BFS\n",
        "\n",
        "- Works for both directed and undirected graphs.\n",
        "\n",
        "- Finds the shortest path (minimum number of edges) between source and any other vertex in an unweighted graph.\n",
        "\n",
        "- Time Complexity: O(V + E)\n",
        "\n",
        "  - V = number of vertices\n",
        "\n",
        "  - E = number of edges"
      ],
      "metadata": {
        "id": "UsG5ZuBZN0yF"
      }
    },
    {
      "cell_type": "code",
      "source": [
        "from collections import deque\n",
        "\n",
        "def BFS(graph, start):\n",
        "    visited = set([start])   # a set to keep track of visited nodes\n",
        "    queue = deque([start])  # a deque (double-ended queue) to manage BFS operations\n",
        "\n",
        "    while queue:\n",
        "        node = queue.popleft()  # dequeue a node\n",
        "        print(node, end=\" \")  # Output the visited node\n",
        "\n",
        "        for neighbor in graph[node]:  # visit all the neighbors\n",
        "            if neighbor not in visited:  # enqueue unvisited neighbors\n",
        "                queue.append(neighbor)\n",
        "                visited.add(neighbor)  # mark the neighbor as visited\n",
        "\n",
        "# Use an adjacency list to represent the graph\n",
        "graph = {'A': ['B', 'D'], 'B': ['A', 'C', 'F'], 'C': ['B'], 'D': ['A', 'E'], 'E': ['D'], 'F': ['B']}\n",
        "BFS(graph, 'A')  # Call the BFS function\n",
        "# Output: A B D C F E"
      ],
      "metadata": {
        "colab": {
          "base_uri": "https://localhost:8080/"
        },
        "id": "Eezo-f4QNzd3",
        "outputId": "9b1681cc-1ce4-459a-892c-16c3134ffe6b"
      },
      "execution_count": 1,
      "outputs": [
        {
          "output_type": "stream",
          "name": "stdout",
          "text": [
            "A B D C F E "
          ]
        }
      ]
    },
    {
      "cell_type": "markdown",
      "source": [
        "- Graph Traversal – How BFS Can Explore the Whole Graph\n",
        ">By applying BFS, we can explore all reachable nodes from a chosen starting point. As shown in our previous example, if we start our BFS from Node A, we reach all the nodes (A -> B -> D -> C -> F -> E) in the graph.\n",
        "\n",
        ">Moreover, BFS proves useful in finding the shortest path between two nodes in an unweighted graph. This property is invaluable across a wide range of applications, from GPS navigation's shortest path issue to the issue of website ranking in internet hyperlink structure.\n",
        "\n"
      ],
      "metadata": {
        "id": "4Uw4DQV-OoEp"
      }
    },
    {
      "cell_type": "code",
      "source": [],
      "metadata": {
        "id": "SKrj0tqFOsv2"
      },
      "execution_count": null,
      "outputs": []
    }
  ]
}